{
 "cells": [
  {
   "cell_type": "code",
   "execution_count": 3,
   "metadata": {
    "colab": {
     "base_uri": "https://localhost:8080/"
    },
    "id": "a1wruXmPvYWB",
    "outputId": "efe182d1-33ec-4dfc-c2da-f42365316719"
   },
   "outputs": [
    {
     "name": "stdout",
     "output_type": "stream",
     "text": [
      "Requirement already satisfied: yfinance in /usr/local/lib/python3.10/dist-packages (0.2.38)\n",
      "Requirement already satisfied: pandas>=1.3.0 in /usr/local/lib/python3.10/dist-packages (from yfinance) (2.0.3)\n",
      "Requirement already satisfied: numpy>=1.16.5 in /usr/local/lib/python3.10/dist-packages (from yfinance) (1.25.2)\n",
      "Requirement already satisfied: requests>=2.31 in /usr/local/lib/python3.10/dist-packages (from yfinance) (2.31.0)\n",
      "Requirement already satisfied: multitasking>=0.0.7 in /usr/local/lib/python3.10/dist-packages (from yfinance) (0.0.11)\n",
      "Requirement already satisfied: lxml>=4.9.1 in /usr/local/lib/python3.10/dist-packages (from yfinance) (4.9.4)\n",
      "Requirement already satisfied: appdirs>=1.4.4 in /usr/local/lib/python3.10/dist-packages (from yfinance) (1.4.4)\n",
      "Requirement already satisfied: pytz>=2022.5 in /usr/local/lib/python3.10/dist-packages (from yfinance) (2023.4)\n",
      "Requirement already satisfied: frozendict>=2.3.4 in /usr/local/lib/python3.10/dist-packages (from yfinance) (2.4.4)\n",
      "Requirement already satisfied: peewee>=3.16.2 in /usr/local/lib/python3.10/dist-packages (from yfinance) (3.17.3)\n",
      "Requirement already satisfied: beautifulsoup4>=4.11.1 in /usr/local/lib/python3.10/dist-packages (from yfinance) (4.12.3)\n",
      "Requirement already satisfied: html5lib>=1.1 in /usr/local/lib/python3.10/dist-packages (from yfinance) (1.1)\n",
      "Requirement already satisfied: soupsieve>1.2 in /usr/local/lib/python3.10/dist-packages (from beautifulsoup4>=4.11.1->yfinance) (2.5)\n",
      "Requirement already satisfied: six>=1.9 in /usr/local/lib/python3.10/dist-packages (from html5lib>=1.1->yfinance) (1.16.0)\n",
      "Requirement already satisfied: webencodings in /usr/local/lib/python3.10/dist-packages (from html5lib>=1.1->yfinance) (0.5.1)\n",
      "Requirement already satisfied: python-dateutil>=2.8.2 in /usr/local/lib/python3.10/dist-packages (from pandas>=1.3.0->yfinance) (2.8.2)\n",
      "Requirement already satisfied: tzdata>=2022.1 in /usr/local/lib/python3.10/dist-packages (from pandas>=1.3.0->yfinance) (2024.1)\n",
      "Requirement already satisfied: charset-normalizer<4,>=2 in /usr/local/lib/python3.10/dist-packages (from requests>=2.31->yfinance) (3.3.2)\n",
      "Requirement already satisfied: idna<4,>=2.5 in /usr/local/lib/python3.10/dist-packages (from requests>=2.31->yfinance) (3.7)\n",
      "Requirement already satisfied: urllib3<3,>=1.21.1 in /usr/local/lib/python3.10/dist-packages (from requests>=2.31->yfinance) (2.0.7)\n",
      "Requirement already satisfied: certifi>=2017.4.17 in /usr/local/lib/python3.10/dist-packages (from requests>=2.31->yfinance) (2024.2.2)\n"
     ]
    }
   ],
   "source": [
    "!pip install yfinance"
   ]
  },
  {
   "cell_type": "code",
   "execution_count": 4,
   "metadata": {
    "colab": {
     "base_uri": "https://localhost:8080/"
    },
    "id": "4vPfvfETy1Z0",
    "outputId": "7e12bb64-ceb4-44df-dce5-86db7dff4720"
   },
   "outputs": [
    {
     "name": "stdout",
     "output_type": "stream",
     "text": [
      "Found existing installation: gdown 5.1.0\n",
      "Uninstalling gdown-5.1.0:\n",
      "  Successfully uninstalled gdown-5.1.0\n",
      "Collecting gdown\n",
      "  Using cached gdown-5.1.0-py3-none-any.whl (17 kB)\n",
      "Requirement already satisfied: beautifulsoup4 in /usr/local/lib/python3.10/dist-packages (from gdown) (4.12.3)\n",
      "Requirement already satisfied: filelock in /usr/local/lib/python3.10/dist-packages (from gdown) (3.14.0)\n",
      "Requirement already satisfied: requests[socks] in /usr/local/lib/python3.10/dist-packages (from gdown) (2.31.0)\n",
      "Requirement already satisfied: tqdm in /usr/local/lib/python3.10/dist-packages (from gdown) (4.66.4)\n",
      "Requirement already satisfied: soupsieve>1.2 in /usr/local/lib/python3.10/dist-packages (from beautifulsoup4->gdown) (2.5)\n",
      "Requirement already satisfied: charset-normalizer<4,>=2 in /usr/local/lib/python3.10/dist-packages (from requests[socks]->gdown) (3.3.2)\n",
      "Requirement already satisfied: idna<4,>=2.5 in /usr/local/lib/python3.10/dist-packages (from requests[socks]->gdown) (3.7)\n",
      "Requirement already satisfied: urllib3<3,>=1.21.1 in /usr/local/lib/python3.10/dist-packages (from requests[socks]->gdown) (2.0.7)\n",
      "Requirement already satisfied: certifi>=2017.4.17 in /usr/local/lib/python3.10/dist-packages (from requests[socks]->gdown) (2024.2.2)\n",
      "Requirement already satisfied: PySocks!=1.5.7,>=1.5.6 in /usr/local/lib/python3.10/dist-packages (from requests[socks]->gdown) (1.7.1)\n",
      "Installing collected packages: gdown\n",
      "Successfully installed gdown-5.1.0\n",
      "gdown 4.7.3 at /usr/local/lib/python3.10/dist-packages\n"
     ]
    }
   ],
   "source": [
    "# read files shared via google-drive-link\n",
    "# https://stackoverflow.com/questions/62759748/downloading-data-from-a-shared-google-drive-link-in-google-colab\n",
    "\n",
    "!pip uninstall gdown -y && pip install gdown\n",
    "!gdown -V"
   ]
  },
  {
   "cell_type": "code",
   "execution_count": 2,
   "metadata": {
    "id": "ge4C2c2_w7Ac"
   },
   "outputs": [],
   "source": [
    "# IMPORTS\n",
    "import numpy as np\n",
    "import pandas as pd\n",
    "\n",
    "#Fin Data Sources\n",
    "import yfinance as yf\n",
    "import pandas_datareader as pdr\n",
    "\n",
    "#Data viz\n",
    "import plotly.graph_objs as go\n",
    "import plotly.graph_objects as go\n",
    "import plotly.express as px\n",
    "\n",
    "import time\n",
    "from datetime import date\n",
    "\n",
    "# for graphs\n",
    "import matplotlib.pyplot as plt"
   ]
  },
  {
   "cell_type": "markdown",
   "metadata": {
    "id": "gX7x0Ywww_fD"
   },
   "source": [
    "# 0) Dataset for Modeling: Final Preparations"
   ]
  },
  {
   "cell_type": "markdown",
   "metadata": {
    "id": "ddC_AcGUat5w"
   },
   "source": [
    "## 0.1) Importing data from Drive & defining variable sets\n",
    "* automated version need to have a daily updated file/database entries"
   ]
  },
  {
   "cell_type": "code",
   "execution_count": 3,
   "metadata": {
    "id": "AsPVf4XT1JAZ"
   },
   "outputs": [],
   "source": [
    "# truncated\n",
    "# df = pd.read_parquet(\"/content/stocks_df_combined_trunc_2014_2023.parquet.brotli\", )\n",
    "\n",
    "# full dataset for 33 stocks\n",
    "df_full = pd.read_parquet(r\"C:\\Users\\msofy\\Downloads\\stock-markets-analytics-zoomcamp-2024\\03-modeling\\stocks_df_combined_2024_05_07.parquet.brotli\", )\n"
   ]
  },
  {
   "cell_type": "code",
   "execution_count": 4,
   "metadata": {
    "colab": {
     "base_uri": "https://localhost:8080/"
    },
    "id": "1fiZOGqG1puH",
    "outputId": "028dfec0-7b1a-4e1c-cef4-51b0bcc0b6a6"
   },
   "outputs": [
    {
     "name": "stdout",
     "output_type": "stream",
     "text": [
      "<class 'pandas.core.frame.DataFrame'>\n",
      "Index: 221142 entries, 0 to 5426\n",
      "Columns: 202 entries, Open to growth_btc_usd_365d\n",
      "dtypes: datetime64[ns](3), float64(128), int32(64), int64(5), object(2)\n",
      "memory usage: 288.5+ MB\n"
     ]
    }
   ],
   "source": [
    "df_full.info()"
   ]
  },
  {
   "cell_type": "code",
   "execution_count": 5,
   "metadata": {
    "colab": {
     "base_uri": "https://localhost:8080/"
    },
    "id": "TzFRVbklIW4q",
    "outputId": "bd287f3c-9169-475f-b557-26ae55c995e3"
   },
   "outputs": [
    {
     "data": {
      "text/plain": [
       "Index(['Open', 'High', 'Low', 'Close', 'Adj Close_x', 'Volume', 'Ticker',\n",
       "       'Year', 'Month', 'Weekday',\n",
       "       ...\n",
       "       'growth_brent_oil_7d', 'growth_brent_oil_30d', 'growth_brent_oil_90d',\n",
       "       'growth_brent_oil_365d', 'growth_btc_usd_1d', 'growth_btc_usd_3d',\n",
       "       'growth_btc_usd_7d', 'growth_btc_usd_30d', 'growth_btc_usd_90d',\n",
       "       'growth_btc_usd_365d'],\n",
       "      dtype='object', length=202)"
      ]
     },
     "execution_count": 5,
     "metadata": {},
     "output_type": "execute_result"
    }
   ],
   "source": [
    "df_full.keys()"
   ]
  },
  {
   "cell_type": "code",
   "execution_count": 6,
   "metadata": {
    "colab": {
     "base_uri": "https://localhost:8080/"
    },
    "id": "yfDKpGwtIawQ",
    "outputId": "0522211f-ee7f-4a02-c719-ef7024dc5e61"
   },
   "outputs": [
    {
     "data": {
      "text/plain": [
       "['growth_1d',\n",
       " 'growth_3d',\n",
       " 'growth_7d',\n",
       " 'growth_30d',\n",
       " 'growth_90d',\n",
       " 'growth_365d',\n",
       " 'growth_dax_1d',\n",
       " 'growth_dax_3d',\n",
       " 'growth_dax_7d',\n",
       " 'growth_dax_30d',\n",
       " 'growth_dax_90d',\n",
       " 'growth_dax_365d',\n",
       " 'growth_snp500_1d',\n",
       " 'growth_snp500_3d',\n",
       " 'growth_snp500_7d',\n",
       " 'growth_snp500_30d',\n",
       " 'growth_snp500_90d',\n",
       " 'growth_snp500_365d',\n",
       " 'growth_dji_1d',\n",
       " 'growth_dji_3d',\n",
       " 'growth_dji_7d',\n",
       " 'growth_dji_30d',\n",
       " 'growth_dji_90d',\n",
       " 'growth_dji_365d',\n",
       " 'growth_epi_1d',\n",
       " 'growth_epi_3d',\n",
       " 'growth_epi_7d',\n",
       " 'growth_epi_30d',\n",
       " 'growth_epi_90d',\n",
       " 'growth_epi_365d',\n",
       " 'growth_gold_1d',\n",
       " 'growth_gold_3d',\n",
       " 'growth_gold_7d',\n",
       " 'growth_gold_30d',\n",
       " 'growth_gold_90d',\n",
       " 'growth_gold_365d',\n",
       " 'growth_wti_oil_1d',\n",
       " 'growth_wti_oil_3d',\n",
       " 'growth_wti_oil_7d',\n",
       " 'growth_wti_oil_30d',\n",
       " 'growth_wti_oil_90d',\n",
       " 'growth_wti_oil_365d',\n",
       " 'growth_brent_oil_1d',\n",
       " 'growth_brent_oil_3d',\n",
       " 'growth_brent_oil_7d',\n",
       " 'growth_brent_oil_30d',\n",
       " 'growth_brent_oil_90d',\n",
       " 'growth_brent_oil_365d',\n",
       " 'growth_btc_usd_1d',\n",
       " 'growth_btc_usd_3d',\n",
       " 'growth_btc_usd_7d',\n",
       " 'growth_btc_usd_30d',\n",
       " 'growth_btc_usd_90d',\n",
       " 'growth_btc_usd_365d']"
      ]
     },
     "execution_count": 6,
     "metadata": {},
     "output_type": "execute_result"
    }
   ],
   "source": [
    "# growth indicators (but not future growth)\n",
    "GROWTH = [g for g in df_full.keys() if (g.find('growth_')==0)&(g.find('future')<0)]\n",
    "GROWTH"
   ]
  },
  {
   "cell_type": "code",
   "execution_count": 7,
   "metadata": {
    "id": "O28ePT2AI892"
   },
   "outputs": [],
   "source": [
    "# leaving only Volume ==> generate ln(Volume)\n",
    "OHLCV = ['Open','High','Low','Close','Adj Close_x','Volume']"
   ]
  },
  {
   "cell_type": "code",
   "execution_count": 8,
   "metadata": {
    "id": "FVcJZDyGbH2N"
   },
   "outputs": [],
   "source": [
    "CATEGORICAL = ['Month', 'Weekday', 'Ticker', 'ticker_type']"
   ]
  },
  {
   "cell_type": "code",
   "execution_count": 9,
   "metadata": {
    "colab": {
     "base_uri": "https://localhost:8080/"
    },
    "id": "G7kZrwZiIpCN",
    "outputId": "766fc7e2-91e3-49cf-a7da-b2410970997b"
   },
   "outputs": [
    {
     "data": {
      "text/plain": [
       "['growth_future_5d', 'is_positive_growth_5d_future']"
      ]
     },
     "execution_count": 9,
     "metadata": {},
     "output_type": "execute_result"
    }
   ],
   "source": [
    "TO_PREDICT = [g for g in df_full.keys() if (g.find('future')>=0)]\n",
    "TO_PREDICT"
   ]
  },
  {
   "cell_type": "code",
   "execution_count": 10,
   "metadata": {
    "colab": {
     "base_uri": "https://localhost:8080/"
    },
    "id": "5tZF13UbOXGF",
    "outputId": "4a18459a-8d10-4d64-f5f0-9d6ee2ddfa5d"
   },
   "outputs": [
    {
     "data": {
      "text/plain": [
       "['Year',\n",
       " 'Date',\n",
       " 'index_x',\n",
       " 'index_y',\n",
       " 'index',\n",
       " 'Quarter',\n",
       " 'Adj Close_y',\n",
       " 'Month',\n",
       " 'Weekday',\n",
       " 'Ticker',\n",
       " 'ticker_type',\n",
       " 'Open',\n",
       " 'High',\n",
       " 'Low',\n",
       " 'Close',\n",
       " 'Adj Close_x',\n",
       " 'Volume']"
      ]
     },
     "execution_count": 10,
     "metadata": {},
     "output_type": "execute_result"
    }
   ],
   "source": [
    "TO_DROP = ['Year','Date','index_x', 'index_y', 'index', 'Quarter','Adj Close_y'] + CATEGORICAL + OHLCV\n",
    "TO_DROP"
   ]
  },
  {
   "cell_type": "code",
   "execution_count": 11,
   "metadata": {
    "id": "VgBFjAADfXSp"
   },
   "outputs": [],
   "source": [
    "# let's define on more custom numerical features\n",
    "df_full['ln_volume'] = df_full.Volume.apply(lambda x: np.log(x))"
   ]
  },
  {
   "cell_type": "code",
   "execution_count": 12,
   "metadata": {
    "id": "lukhBLIcfW8g"
   },
   "outputs": [],
   "source": [
    "# manually defined features\n",
    "CUSTOM_NUMERICAL = ['SMA10', 'SMA20', 'growing_moving_average', 'high_minus_low_relative','volatility', 'ln_volume']"
   ]
  },
  {
   "cell_type": "code",
   "execution_count": 13,
   "metadata": {
    "id": "IpRKmVtaf6is"
   },
   "outputs": [],
   "source": [
    "# All Supported Ta-lib indicators: https://github.com/TA-Lib/ta-lib-python/blob/master/docs/funcs.md\n",
    "\n",
    "TECHNICAL_INDICATORS = ['adx', 'adxr', 'apo', 'aroon_1','aroon_2', 'aroonosc',\n",
    " 'bop', 'cci', 'cmo','dx', 'macd', 'macdsignal', 'macdhist', 'macd_ext',\n",
    " 'macdsignal_ext', 'macdhist_ext', 'macd_fix', 'macdsignal_fix',\n",
    " 'macdhist_fix', 'mfi', 'minus_di', 'mom', 'plus_di', 'dm', 'ppo',\n",
    " 'roc', 'rocp', 'rocr', 'rocr100', 'rsi', 'slowk', 'slowd', 'fastk',\n",
    " 'fastd', 'fastk_rsi', 'fastd_rsi', 'trix', 'ultosc', 'willr',\n",
    " 'ad', 'adosc', 'obv', 'atr', 'natr', 'ht_dcperiod', 'ht_dcphase',\n",
    " 'ht_phasor_inphase', 'ht_phasor_quadrature', 'ht_sine_sine', 'ht_sine_leadsine',\n",
    " 'ht_trendmod', 'avgprice', 'medprice', 'typprice', 'wclprice']"
   ]
  },
  {
   "cell_type": "code",
   "execution_count": 14,
   "metadata": {
    "colab": {
     "base_uri": "https://localhost:8080/"
    },
    "id": "ncPdBnx13ilm",
    "outputId": "2f988be7-3810-4c1b-e342-ec48a3febb69"
   },
   "outputs": [
    {
     "name": "stdout",
     "output_type": "stream",
     "text": [
      "Technical patterns count = 61, examples = ['cdl2crows', 'cdl3blackrows', 'cdl3inside', 'cdl3linestrike', 'cdl3outside']\n"
     ]
    }
   ],
   "source": [
    "TECHNICAL_PATTERNS = [g for g in df_full.keys() if g.find('cdl')>=0]\n",
    "print(f'Technical patterns count = {len(TECHNICAL_PATTERNS)}, examples = {TECHNICAL_PATTERNS[0:5]}')\n"
   ]
  },
  {
   "cell_type": "code",
   "execution_count": 15,
   "metadata": {
    "id": "SUa1pIvB4o5w"
   },
   "outputs": [],
   "source": [
    "MACRO = ['gdppot_us_yoy', 'gdppot_us_qoq', 'cpi_core_yoy', 'cpi_core_mom', 'FEDFUNDS',\n",
    " 'DGS1', 'DGS5', 'DGS10']"
   ]
  },
  {
   "cell_type": "code",
   "execution_count": 16,
   "metadata": {
    "id": "nakB0XZA1uFq"
   },
   "outputs": [],
   "source": [
    "NUMERICAL = GROWTH + TECHNICAL_INDICATORS + TECHNICAL_PATTERNS + CUSTOM_NUMERICAL + MACRO"
   ]
  },
  {
   "cell_type": "code",
   "execution_count": 17,
   "metadata": {
    "colab": {
     "base_uri": "https://localhost:8080/"
    },
    "id": "Ri9F9mIwIuVa",
    "outputId": "1a3aee8b-61e4-455f-b771-28860bb8133b"
   },
   "outputs": [
    {
     "data": {
      "text/plain": [
       "['growth_future_5d', 'is_positive_growth_5d_future']"
      ]
     },
     "execution_count": 17,
     "metadata": {},
     "output_type": "execute_result"
    }
   ],
   "source": [
    "# CHECK: NO OTHER INDICATORS LEFT\n",
    "OTHER = [k for k in df_full.keys() if k not in OHLCV + CATEGORICAL + NUMERICAL + TO_DROP]\n",
    "OTHER"
   ]
  },
  {
   "cell_type": "code",
   "execution_count": 18,
   "metadata": {
    "colab": {
     "base_uri": "https://localhost:8080/"
    },
    "id": "-zv_OOrK1ulV",
    "outputId": "f35730f6-379e-45af-8e3c-4afaff6e1546"
   },
   "outputs": [
    {
     "data": {
      "text/plain": [
       "33"
      ]
     },
     "execution_count": 18,
     "metadata": {},
     "output_type": "execute_result"
    }
   ],
   "source": [
    "df_full.Ticker.nunique()"
   ]
  },
  {
   "cell_type": "code",
   "execution_count": 19,
   "metadata": {
    "colab": {
     "base_uri": "https://localhost:8080/",
     "height": 1000
    },
    "id": "7bPKU1Z612OK",
    "outputId": "1d7be4d2-4b11-4705-b040-9b81f5b273ef"
   },
   "outputs": [
    {
     "data": {
      "text/html": [
       "<div>\n",
       "<style scoped>\n",
       "    .dataframe tbody tr th:only-of-type {\n",
       "        vertical-align: middle;\n",
       "    }\n",
       "\n",
       "    .dataframe tbody tr th {\n",
       "        vertical-align: top;\n",
       "    }\n",
       "\n",
       "    .dataframe thead th {\n",
       "        text-align: right;\n",
       "    }\n",
       "</style>\n",
       "<table border=\"1\" class=\"dataframe\">\n",
       "  <thead>\n",
       "    <tr style=\"text-align: right;\">\n",
       "      <th></th>\n",
       "      <th>min</th>\n",
       "      <th>max</th>\n",
       "      <th>count</th>\n",
       "    </tr>\n",
       "    <tr>\n",
       "      <th>Ticker</th>\n",
       "      <th></th>\n",
       "      <th></th>\n",
       "      <th></th>\n",
       "    </tr>\n",
       "  </thead>\n",
       "  <tbody>\n",
       "    <tr>\n",
       "      <th>AAPL</th>\n",
       "      <td>1980-12-12</td>\n",
       "      <td>2024-05-07</td>\n",
       "      <td>10941</td>\n",
       "    </tr>\n",
       "    <tr>\n",
       "      <th>ACN</th>\n",
       "      <td>2001-07-19</td>\n",
       "      <td>2024-05-07</td>\n",
       "      <td>5736</td>\n",
       "    </tr>\n",
       "    <tr>\n",
       "      <th>AMZN</th>\n",
       "      <td>1997-05-15</td>\n",
       "      <td>2024-05-07</td>\n",
       "      <td>6789</td>\n",
       "    </tr>\n",
       "    <tr>\n",
       "      <th>ASML</th>\n",
       "      <td>1995-03-15</td>\n",
       "      <td>2024-05-07</td>\n",
       "      <td>7338</td>\n",
       "    </tr>\n",
       "    <tr>\n",
       "      <th>AVGO</th>\n",
       "      <td>2009-08-06</td>\n",
       "      <td>2024-05-07</td>\n",
       "      <td>3713</td>\n",
       "    </tr>\n",
       "    <tr>\n",
       "      <th>BHARTIARTL.NS</th>\n",
       "      <td>2002-07-01</td>\n",
       "      <td>2024-05-07</td>\n",
       "      <td>5424</td>\n",
       "    </tr>\n",
       "    <tr>\n",
       "      <th>BRK-B</th>\n",
       "      <td>1996-05-09</td>\n",
       "      <td>2024-05-07</td>\n",
       "      <td>7046</td>\n",
       "    </tr>\n",
       "    <tr>\n",
       "      <th>CDI.PA</th>\n",
       "      <td>1992-01-27</td>\n",
       "      <td>2024-05-07</td>\n",
       "      <td>8328</td>\n",
       "    </tr>\n",
       "    <tr>\n",
       "      <th>GOOG</th>\n",
       "      <td>2004-08-19</td>\n",
       "      <td>2024-05-07</td>\n",
       "      <td>4963</td>\n",
       "    </tr>\n",
       "    <tr>\n",
       "      <th>HDB</th>\n",
       "      <td>2001-07-20</td>\n",
       "      <td>2024-05-07</td>\n",
       "      <td>5735</td>\n",
       "    </tr>\n",
       "    <tr>\n",
       "      <th>HINDUNILVR.NS</th>\n",
       "      <td>1996-01-01</td>\n",
       "      <td>2024-05-07</td>\n",
       "      <td>7122</td>\n",
       "    </tr>\n",
       "    <tr>\n",
       "      <th>IBN</th>\n",
       "      <td>2000-03-28</td>\n",
       "      <td>2024-05-07</td>\n",
       "      <td>6066</td>\n",
       "    </tr>\n",
       "    <tr>\n",
       "      <th>IDEXY</th>\n",
       "      <td>2010-01-20</td>\n",
       "      <td>2024-05-07</td>\n",
       "      <td>3599</td>\n",
       "    </tr>\n",
       "    <tr>\n",
       "      <th>INFY</th>\n",
       "      <td>1999-03-11</td>\n",
       "      <td>2024-05-07</td>\n",
       "      <td>6331</td>\n",
       "    </tr>\n",
       "    <tr>\n",
       "      <th>ITC.NS</th>\n",
       "      <td>1996-01-01</td>\n",
       "      <td>2024-05-07</td>\n",
       "      <td>7119</td>\n",
       "    </tr>\n",
       "    <tr>\n",
       "      <th>JPM</th>\n",
       "      <td>1980-03-17</td>\n",
       "      <td>2024-05-07</td>\n",
       "      <td>11129</td>\n",
       "    </tr>\n",
       "    <tr>\n",
       "      <th>LICI.NS</th>\n",
       "      <td>2022-05-17</td>\n",
       "      <td>2024-05-07</td>\n",
       "      <td>487</td>\n",
       "    </tr>\n",
       "    <tr>\n",
       "      <th>LLY</th>\n",
       "      <td>1972-06-01</td>\n",
       "      <td>2024-05-07</td>\n",
       "      <td>13095</td>\n",
       "    </tr>\n",
       "    <tr>\n",
       "      <th>LT.NS</th>\n",
       "      <td>2002-07-01</td>\n",
       "      <td>2024-05-07</td>\n",
       "      <td>5427</td>\n",
       "    </tr>\n",
       "    <tr>\n",
       "      <th>MC.PA</th>\n",
       "      <td>2000-01-03</td>\n",
       "      <td>2024-05-07</td>\n",
       "      <td>6258</td>\n",
       "    </tr>\n",
       "    <tr>\n",
       "      <th>META</th>\n",
       "      <td>2012-05-18</td>\n",
       "      <td>2024-05-07</td>\n",
       "      <td>3011</td>\n",
       "    </tr>\n",
       "    <tr>\n",
       "      <th>MSFT</th>\n",
       "      <td>1986-03-13</td>\n",
       "      <td>2024-05-07</td>\n",
       "      <td>9615</td>\n",
       "    </tr>\n",
       "    <tr>\n",
       "      <th>NVDA</th>\n",
       "      <td>1999-01-22</td>\n",
       "      <td>2024-05-07</td>\n",
       "      <td>6364</td>\n",
       "    </tr>\n",
       "    <tr>\n",
       "      <th>NVO</th>\n",
       "      <td>1981-04-30</td>\n",
       "      <td>2024-05-07</td>\n",
       "      <td>10846</td>\n",
       "    </tr>\n",
       "    <tr>\n",
       "      <th>OR.PA</th>\n",
       "      <td>2000-01-03</td>\n",
       "      <td>2024-05-07</td>\n",
       "      <td>6258</td>\n",
       "    </tr>\n",
       "    <tr>\n",
       "      <th>RELIANCE.NS</th>\n",
       "      <td>1996-01-01</td>\n",
       "      <td>2024-05-07</td>\n",
       "      <td>7119</td>\n",
       "    </tr>\n",
       "    <tr>\n",
       "      <th>RMS.PA</th>\n",
       "      <td>2000-01-03</td>\n",
       "      <td>2024-05-07</td>\n",
       "      <td>6258</td>\n",
       "    </tr>\n",
       "    <tr>\n",
       "      <th>SAP</th>\n",
       "      <td>1995-09-18</td>\n",
       "      <td>2024-05-07</td>\n",
       "      <td>7209</td>\n",
       "    </tr>\n",
       "    <tr>\n",
       "      <th>SBIN.NS</th>\n",
       "      <td>1996-01-01</td>\n",
       "      <td>2024-05-07</td>\n",
       "      <td>7120</td>\n",
       "    </tr>\n",
       "    <tr>\n",
       "      <th>SIE.DE</th>\n",
       "      <td>1996-11-08</td>\n",
       "      <td>2024-05-07</td>\n",
       "      <td>7046</td>\n",
       "    </tr>\n",
       "    <tr>\n",
       "      <th>TCS.NS</th>\n",
       "      <td>2002-08-12</td>\n",
       "      <td>2024-05-07</td>\n",
       "      <td>5395</td>\n",
       "    </tr>\n",
       "    <tr>\n",
       "      <th>TTE</th>\n",
       "      <td>1991-10-25</td>\n",
       "      <td>2024-05-07</td>\n",
       "      <td>8193</td>\n",
       "    </tr>\n",
       "    <tr>\n",
       "      <th>V</th>\n",
       "      <td>2008-03-19</td>\n",
       "      <td>2024-05-07</td>\n",
       "      <td>4062</td>\n",
       "    </tr>\n",
       "  </tbody>\n",
       "</table>\n",
       "</div>"
      ],
      "text/plain": [
       "                     min        max  count\n",
       "Ticker                                    \n",
       "AAPL          1980-12-12 2024-05-07  10941\n",
       "ACN           2001-07-19 2024-05-07   5736\n",
       "AMZN          1997-05-15 2024-05-07   6789\n",
       "ASML          1995-03-15 2024-05-07   7338\n",
       "AVGO          2009-08-06 2024-05-07   3713\n",
       "BHARTIARTL.NS 2002-07-01 2024-05-07   5424\n",
       "BRK-B         1996-05-09 2024-05-07   7046\n",
       "CDI.PA        1992-01-27 2024-05-07   8328\n",
       "GOOG          2004-08-19 2024-05-07   4963\n",
       "HDB           2001-07-20 2024-05-07   5735\n",
       "HINDUNILVR.NS 1996-01-01 2024-05-07   7122\n",
       "IBN           2000-03-28 2024-05-07   6066\n",
       "IDEXY         2010-01-20 2024-05-07   3599\n",
       "INFY          1999-03-11 2024-05-07   6331\n",
       "ITC.NS        1996-01-01 2024-05-07   7119\n",
       "JPM           1980-03-17 2024-05-07  11129\n",
       "LICI.NS       2022-05-17 2024-05-07    487\n",
       "LLY           1972-06-01 2024-05-07  13095\n",
       "LT.NS         2002-07-01 2024-05-07   5427\n",
       "MC.PA         2000-01-03 2024-05-07   6258\n",
       "META          2012-05-18 2024-05-07   3011\n",
       "MSFT          1986-03-13 2024-05-07   9615\n",
       "NVDA          1999-01-22 2024-05-07   6364\n",
       "NVO           1981-04-30 2024-05-07  10846\n",
       "OR.PA         2000-01-03 2024-05-07   6258\n",
       "RELIANCE.NS   1996-01-01 2024-05-07   7119\n",
       "RMS.PA        2000-01-03 2024-05-07   6258\n",
       "SAP           1995-09-18 2024-05-07   7209\n",
       "SBIN.NS       1996-01-01 2024-05-07   7120\n",
       "SIE.DE        1996-11-08 2024-05-07   7046\n",
       "TCS.NS        2002-08-12 2024-05-07   5395\n",
       "TTE           1991-10-25 2024-05-07   8193\n",
       "V             2008-03-19 2024-05-07   4062"
      ]
     },
     "execution_count": 19,
     "metadata": {},
     "output_type": "execute_result"
    }
   ],
   "source": [
    "# tickers, min-max date, count of daily observations\n",
    "df_full.groupby(['Ticker'])['Date'].agg(['min','max','count'])"
   ]
  },
  {
   "cell_type": "code",
   "execution_count": 20,
   "metadata": {
    "colab": {
     "base_uri": "https://localhost:8080/"
    },
    "id": "FmIpnwsJLvtI",
    "outputId": "eff90f87-3b42-4e22-ec0a-8ec75d79ebdd"
   },
   "outputs": [
    {
     "name": "stdout",
     "output_type": "stream",
     "text": [
      "<class 'pandas.core.frame.DataFrame'>\n",
      "Index: 182675 entries, 3490 to 5426\n",
      "Columns: 203 entries, Open to ln_volume\n",
      "dtypes: datetime64[ns](3), float64(129), int32(64), int64(5), object(2)\n",
      "memory usage: 239.7+ MB\n"
     ]
    }
   ],
   "source": [
    "# truncated df_full with 25 years of data (and defined growth variables)\n",
    "df = df_full[df_full.Date>='2000-01-01']\n",
    "df.info()"
   ]
  },
  {
   "cell_type": "code",
   "execution_count": 21,
   "metadata": {
    "colab": {
     "base_uri": "https://localhost:8080/"
    },
    "id": "m1idq4ieQ_ac",
    "outputId": "47659891-d9bd-457d-a146-e5797c58c154"
   },
   "outputs": [
    {
     "name": "stdout",
     "output_type": "stream",
     "text": [
      "<class 'pandas.core.frame.DataFrame'>\n",
      "Index: 182675 entries, 3490 to 5426\n",
      "Columns: 184 entries, growth_1d to DGS10\n",
      "dtypes: float64(121), int32(62), int64(1)\n",
      "memory usage: 214.6 MB\n"
     ]
    }
   ],
   "source": [
    "# let look at the features count and size:\n",
    "df[NUMERICAL].info()"
   ]
  },
  {
   "cell_type": "markdown",
   "metadata": {
    "id": "YK6TYOZIcBNU"
   },
   "source": [
    "## 0.2) [Code snippet 1] Generating dummies"
   ]
  },
  {
   "cell_type": "code",
   "execution_count": 22,
   "metadata": {
    "colab": {
     "base_uri": "https://localhost:8080/"
    },
    "id": "fjfA2dyIeCDn",
    "outputId": "69b25954-dcfa-41cf-8e6c-e821db160966"
   },
   "outputs": [
    {
     "data": {
      "text/plain": [
       "['Month', 'Weekday', 'Ticker', 'ticker_type']"
      ]
     },
     "execution_count": 22,
     "metadata": {},
     "output_type": "execute_result"
    }
   ],
   "source": [
    "# what are the categorical features?\n",
    "CATEGORICAL"
   ]
  },
  {
   "cell_type": "code",
   "execution_count": 23,
   "metadata": {
    "id": "pa-AoEDeLX4x"
   },
   "outputs": [],
   "source": [
    "# dummy variables are not generated from Date and numeric variables\n",
    "df.loc[:,'Month'] = df.Month.dt.strftime('%B')\n",
    "df.loc[:,'Weekday'] = df.Weekday.astype(str)"
   ]
  },
  {
   "cell_type": "code",
   "execution_count": 24,
   "metadata": {
    "id": "tuAlw48XKjE5"
   },
   "outputs": [],
   "source": [
    "# Generate dummy variables (no need for bool, let's have int32 instead)\n",
    "dummy_variables = pd.get_dummies(df[CATEGORICAL], dtype='int32')"
   ]
  },
  {
   "cell_type": "markdown",
   "metadata": {},
   "source": [
    "Question 1 (1 point): Dummies on Month and Week-of-Month\n",
    "\n",
    "Find the ABSOLUTE CORRELATION VALUE of the most correlated dummy <month-week_of_month> with the binary outcome variable is_positive_growth_5d_future?\n",
    "\n",
    "You saw in the correlation analysis and modeling that September and October may be important seasonal months. In this task, we'll go futher and try to generate dummies for Month and Week-of-month (starting from 1). For example, the first week of October should be coded similar to this: 'October_w1'. Once you've generated the new set of variables, find the most correlated (in absolute value) one with is_positive_growth_5d_future and round it to 3 digits after the comma.\n",
    "\n",
    "Suggested path to a solution:\n",
    "\n",
    "    [Source] Use this formula to get the week of month for the datetime variable d: (d.day-1)//7+1\n",
    "    Define a new string variable for all month-week_of_month combinations. Append it to the CATEGORICAL features set. You should have 5 variables treated as CATEGORICAL now: 'Month', 'Weekday', 'Ticker', 'ticker_type', 'month_wom'. In the end, you should get 115 dummy features, including 60 (=12*5) week_month_of_week dummies.\n",
    "    Use pandas.get_dummies() to generate dummies.\n",
    "    Use pandas.DataFrame.corr() function (also used in [Code Snippet 1]) to get correlations with is_positive_growth_5d_future, filter out only variables representing the new dummy set, and sort it by absolute values (you can define a new column \"abs_corr\" in the dataframe with correlations), and find the highest value (among the new dummies features set).\n",
    "\n",
    "NOTE: new dummies will be used as features in the next tasks, please leave them in the dataset."
   ]
  },
  {
   "cell_type": "code",
   "execution_count": 25,
   "metadata": {
    "id": "dovxcVkk-72S"
   },
   "outputs": [
    {
     "name": "stderr",
     "output_type": "stream",
     "text": [
      "C:\\TEMP\\ipykernel_52896\\1661000289.py:3: SettingWithCopyWarning: \n",
      "A value is trying to be set on a copy of a slice from a DataFrame.\n",
      "Try using .loc[row_indexer,col_indexer] = value instead\n",
      "\n",
      "See the caveats in the documentation: https://pandas.pydata.org/pandas-docs/stable/user_guide/indexing.html#returning-a-view-versus-a-copy\n",
      "  df['month'] = df['Date'].dt.strftime('%B')\n",
      "C:\\TEMP\\ipykernel_52896\\1661000289.py:4: SettingWithCopyWarning: \n",
      "A value is trying to be set on a copy of a slice from a DataFrame.\n",
      "Try using .loc[row_indexer,col_indexer] = value instead\n",
      "\n",
      "See the caveats in the documentation: https://pandas.pydata.org/pandas-docs/stable/user_guide/indexing.html#returning-a-view-versus-a-copy\n",
      "  df['week_of_month'] = ((df['Date'].dt.day - 1) // 7 + 1).astype(str)\n",
      "C:\\TEMP\\ipykernel_52896\\1661000289.py:5: SettingWithCopyWarning: \n",
      "A value is trying to be set on a copy of a slice from a DataFrame.\n",
      "Try using .loc[row_indexer,col_indexer] = value instead\n",
      "\n",
      "See the caveats in the documentation: https://pandas.pydata.org/pandas-docs/stable/user_guide/indexing.html#returning-a-view-versus-a-copy\n",
      "  df['month_wom'] = df['month'] + '_w' + df['week_of_month']\n"
     ]
    }
   ],
   "source": [
    "# TODO 1: define more categorical features, e.g. all combinations for <September+weekday>  (you'll see that September is actually an important dummy in one of the models)\n",
    "\n",
    "df['month'] = df['Date'].dt.strftime('%B')\n",
    "df['week_of_month'] = ((df['Date'].dt.day - 1) // 7 + 1).astype(str)\n",
    "df['month_wom'] = df['month'] + '_w' + df['week_of_month']\n",
    "df['month_wom'] \n",
    "\n",
    "# Append 'month_wom' to the categorical features set\n",
    "CATEGORICAL.append('month_wom')"
   ]
  },
  {
   "cell_type": "code",
   "execution_count": 26,
   "metadata": {},
   "outputs": [
    {
     "data": {
      "text/plain": [
       "3490    January_w1\n",
       "3491    January_w1\n",
       "3492    January_w1\n",
       "3493    January_w1\n",
       "3494    January_w1\n",
       "           ...    \n",
       "5422      April_w5\n",
       "5423        May_w1\n",
       "5424        May_w1\n",
       "5425        May_w1\n",
       "5426        May_w1\n",
       "Name: month_wom, Length: 182675, dtype: object"
      ]
     },
     "execution_count": 26,
     "metadata": {},
     "output_type": "execute_result"
    }
   ],
   "source": [
    "month_wom = df['month_wom']\n",
    "month_wom"
   ]
  },
  {
   "cell_type": "code",
   "execution_count": 27,
   "metadata": {},
   "outputs": [
    {
     "data": {
      "text/plain": [
       "April_w1       -0.004023\n",
       "April_w2       -0.000227\n",
       "April_w3        0.009226\n",
       "April_w4       -0.001560\n",
       "April_w5       -0.008793\n",
       "August_w1      -0.011796\n",
       "August_w2      -0.010177\n",
       "August_w3      -0.005565\n",
       "August_w4       0.006878\n",
       "August_w5       0.002611\n",
       "December_w1    -0.002635\n",
       "December_w2    -0.008006\n",
       "December_w3     0.018295\n",
       "December_w4     0.019270\n",
       "December_w5    -0.004641\n",
       "February_w1    -0.000059\n",
       "February_w2     0.011074\n",
       "February_w3    -0.024578\n",
       "February_w4    -0.005811\n",
       "February_w5    -0.001533\n",
       "January_w1     -0.006406\n",
       "January_w2     -0.012696\n",
       "January_w3     -0.007901\n",
       "January_w4      0.003551\n",
       "January_w5     -0.001005\n",
       "July_w1         0.003738\n",
       "July_w2         0.012207\n",
       "July_w3         0.001343\n",
       "July_w4        -0.001563\n",
       "July_w5        -0.004213\n",
       "June_w1        -0.017471\n",
       "June_w2        -0.005349\n",
       "June_w3        -0.019754\n",
       "June_w4         0.013450\n",
       "June_w5         0.007163\n",
       "March_w1       -0.009195\n",
       "March_w2        0.000036\n",
       "March_w3       -0.001615\n",
       "March_w4        0.026058\n",
       "March_w5        0.013572\n",
       "May_w1         -0.022040\n",
       "May_w2         -0.005864\n",
       "May_w3          0.001092\n",
       "May_w4          0.022264\n",
       "May_w5         -0.000293\n",
       "November_w1     0.000033\n",
       "November_w2    -0.003670\n",
       "November_w3     0.013850\n",
       "November_w4     0.014794\n",
       "November_w5     0.010740\n",
       "October_w1      0.000225\n",
       "October_w2      0.013996\n",
       "October_w3     -0.005732\n",
       "October_w4      0.016331\n",
       "October_w5      0.026023\n",
       "September_w1    0.004489\n",
       "September_w2    0.000453\n",
       "September_w3   -0.034537\n",
       "September_w4   -0.010090\n",
       "September_w5    0.004122\n",
       "dtype: float64"
      ]
     },
     "execution_count": 27,
     "metadata": {},
     "output_type": "execute_result"
    }
   ],
   "source": [
    "month_wom_dummy = pd.get_dummies(month_wom)\n",
    "correlations = month_wom_dummy.corrwith(df[\"is_positive_growth_5d_future\"])\n",
    "correlations"
   ]
  },
  {
   "cell_type": "code",
   "execution_count": 28,
   "metadata": {},
   "outputs": [
    {
     "data": {
      "text/plain": [
       "September_w3   -0.034537\n",
       "dtype: float64"
      ]
     },
     "execution_count": 28,
     "metadata": {},
     "output_type": "execute_result"
    }
   ],
   "source": [
    "correlations[[correlations.abs().idxmax()]]"
   ]
  },
  {
   "cell_type": "code",
   "execution_count": 29,
   "metadata": {},
   "outputs": [
    {
     "data": {
      "text/plain": [
       "<bound method DataFrame.info of       Month_April  Month_August  Month_December  Month_February  \\\n",
       "3490            0             0               0               0   \n",
       "3491            0             0               0               0   \n",
       "3492            0             0               0               0   \n",
       "3493            0             0               0               0   \n",
       "3494            0             0               0               0   \n",
       "...           ...           ...             ...             ...   \n",
       "5422            1             0               0               0   \n",
       "5423            0             0               0               0   \n",
       "5424            0             0               0               0   \n",
       "5425            0             0               0               0   \n",
       "5426            0             0               0               0   \n",
       "\n",
       "      Month_January  Month_July  Month_June  Month_March  Month_May  \\\n",
       "3490              1           0           0            0          0   \n",
       "3491              1           0           0            0          0   \n",
       "3492              1           0           0            0          0   \n",
       "3493              1           0           0            0          0   \n",
       "3494              1           0           0            0          0   \n",
       "...             ...         ...         ...          ...        ...   \n",
       "5422              0           0           0            0          0   \n",
       "5423              0           0           0            0          1   \n",
       "5424              0           0           0            0          1   \n",
       "5425              0           0           0            0          1   \n",
       "5426              0           0           0            0          1   \n",
       "\n",
       "      Month_November  ...  October_w1  October_w2  October_w3  October_w4  \\\n",
       "3490               0  ...           0           0           0           0   \n",
       "3491               0  ...           0           0           0           0   \n",
       "3492               0  ...           0           0           0           0   \n",
       "3493               0  ...           0           0           0           0   \n",
       "3494               0  ...           0           0           0           0   \n",
       "...              ...  ...         ...         ...         ...         ...   \n",
       "5422               0  ...           0           0           0           0   \n",
       "5423               0  ...           0           0           0           0   \n",
       "5424               0  ...           0           0           0           0   \n",
       "5425               0  ...           0           0           0           0   \n",
       "5426               0  ...           0           0           0           0   \n",
       "\n",
       "      October_w5  September_w1  September_w2  September_w3  September_w4  \\\n",
       "3490           0             0             0             0             0   \n",
       "3491           0             0             0             0             0   \n",
       "3492           0             0             0             0             0   \n",
       "3493           0             0             0             0             0   \n",
       "3494           0             0             0             0             0   \n",
       "...          ...           ...           ...           ...           ...   \n",
       "5422           0             0             0             0             0   \n",
       "5423           0             0             0             0             0   \n",
       "5424           0             0             0             0             0   \n",
       "5425           0             0             0             0             0   \n",
       "5426           0             0             0             0             0   \n",
       "\n",
       "      September_w5  \n",
       "3490             0  \n",
       "3491             0  \n",
       "3492             0  \n",
       "3493             0  \n",
       "3494             0  \n",
       "...            ...  \n",
       "5422             0  \n",
       "5423             0  \n",
       "5424             0  \n",
       "5425             0  \n",
       "5426             0  \n",
       "\n",
       "[182675 rows x 115 columns]>"
      ]
     },
     "execution_count": 29,
     "metadata": {},
     "output_type": "execute_result"
    }
   ],
   "source": [
    "dummy_variables = pd.concat([dummy_variables, month_wom_dummy.astype(int)], axis=1)\n",
    "dummy_variables.info"
   ]
  },
  {
   "cell_type": "code",
   "execution_count": 30,
   "metadata": {},
   "outputs": [
    {
     "name": "stdout",
     "output_type": "stream",
     "text": [
      "We have 115 dummy\n"
     ]
    }
   ],
   "source": [
    "print(f'We have {len(dummy_variables.columns)} dummy')"
   ]
  },
  {
   "cell_type": "code",
   "execution_count": 31,
   "metadata": {
    "id": "sxLHnVE3RaaU"
   },
   "outputs": [],
   "source": [
    "# get dummies names in a list\n",
    "DUMMIES = dummy_variables.keys().to_list()"
   ]
  },
  {
   "cell_type": "code",
   "execution_count": 32,
   "metadata": {
    "id": "j0e65F71Kl15"
   },
   "outputs": [],
   "source": [
    "# Concatenate the dummy variables with the original DataFrame\n",
    "df_with_dummies = pd.concat([df, dummy_variables], axis=1)"
   ]
  },
  {
   "cell_type": "code",
   "execution_count": 33,
   "metadata": {
    "colab": {
     "base_uri": "https://localhost:8080/"
    },
    "id": "4Qim1MIwUWE9",
    "outputId": "ced7556a-1de9-4cbf-abbd-4e79b8235501"
   },
   "outputs": [
    {
     "name": "stdout",
     "output_type": "stream",
     "text": [
      "<class 'pandas.core.frame.DataFrame'>\n",
      "Index: 182675 entries, 3490 to 5426\n",
      "Columns: 299 entries, growth_1d to September_w5\n",
      "dtypes: float64(121), int32(177), int64(1)\n",
      "memory usage: 294.8 MB\n"
     ]
    }
   ],
   "source": [
    "df_with_dummies[NUMERICAL+DUMMIES].info()"
   ]
  },
  {
   "cell_type": "markdown",
   "metadata": {
    "id": "aDcUuE1atTM8"
   },
   "source": [
    "## 0.4) [Code snippet 3] Temporal split of ~25 years of data (by date)"
   ]
  },
  {
   "cell_type": "code",
   "execution_count": 34,
   "metadata": {
    "id": "loo6ktrtvKrn"
   },
   "outputs": [],
   "source": [
    "def temporal_split(df, min_date, max_date, train_prop=0.7, val_prop=0.15, test_prop=0.15):\n",
    "    \"\"\"\n",
    "    Splits a DataFrame into three buckets based on the temporal order of the 'Date' column.\n",
    "\n",
    "    Args:\n",
    "        df (DataFrame): The DataFrame to split.\n",
    "        min_date (str or Timestamp): Minimum date in the DataFrame.\n",
    "        max_date (str or Timestamp): Maximum date in the DataFrame.\n",
    "        train_prop (float): Proportion of data for training set (default: 0.6).\n",
    "        val_prop (float): Proportion of data for validation set (default: 0.2).\n",
    "        test_prop (float): Proportion of data for test set (default: 0.2).\n",
    "\n",
    "    Returns:\n",
    "        DataFrame: The input DataFrame with a new column 'split' indicating the split for each row.\n",
    "    \"\"\"\n",
    "    # Define the date intervals\n",
    "    train_end = min_date + pd.Timedelta(days=(max_date - min_date).days * train_prop)\n",
    "    val_end = train_end + pd.Timedelta(days=(max_date - min_date).days * val_prop)\n",
    "\n",
    "    # Assign split labels based on date ranges\n",
    "    split_labels = []\n",
    "    for date in df['Date']:\n",
    "        if date <= train_end:\n",
    "            split_labels.append('train')\n",
    "        elif date <= val_end:\n",
    "            split_labels.append('validation')\n",
    "        else:\n",
    "            split_labels.append('test')\n",
    "\n",
    "    # Add 'split' column to the DataFrame\n",
    "    df['split'] = split_labels\n",
    "\n",
    "    return df"
   ]
  },
  {
   "cell_type": "code",
   "execution_count": 35,
   "metadata": {
    "id": "G0gVQMUEyNIc"
   },
   "outputs": [],
   "source": [
    "min_date_df = df_with_dummies.Date.min()\n",
    "max_date_df = df_with_dummies.Date.max()\n",
    "\n",
    "df_with_dummies = temporal_split(df_with_dummies,\n",
    "                                 min_date = min_date_df,\n",
    "                                 max_date = max_date_df)"
   ]
  },
  {
   "cell_type": "code",
   "execution_count": 36,
   "metadata": {
    "colab": {
     "base_uri": "https://localhost:8080/"
    },
    "id": "X-aPYFprylhp",
    "outputId": "ab801650-817c-4845-c240-617d027cccdb"
   },
   "outputs": [
    {
     "data": {
      "text/plain": [
       "split\n",
       "train         0.675834\n",
       "test          0.163290\n",
       "validation    0.160876\n",
       "Name: count, dtype: float64"
      ]
     },
     "execution_count": 36,
     "metadata": {},
     "output_type": "execute_result"
    }
   ],
   "source": [
    "df_with_dummies['split'].value_counts()/len(df_with_dummies)"
   ]
  },
  {
   "cell_type": "code",
   "execution_count": 37,
   "metadata": {
    "id": "CPoJV5bnUnKr"
   },
   "outputs": [],
   "source": [
    "# remove the \"segmentation\" problem (warning message on df performance after many joins and data transformations)\n",
    "new_df = df_with_dummies.copy()"
   ]
  },
  {
   "cell_type": "code",
   "execution_count": 38,
   "metadata": {
    "colab": {
     "base_uri": "https://localhost:8080/",
     "height": 175
    },
    "id": "W8FJKGTxTeRF",
    "outputId": "567c2fc3-89e7-4fa3-d014-7f0bae17387f"
   },
   "outputs": [
    {
     "data": {
      "text/html": [
       "<div>\n",
       "<style scoped>\n",
       "    .dataframe tbody tr th:only-of-type {\n",
       "        vertical-align: middle;\n",
       "    }\n",
       "\n",
       "    .dataframe tbody tr th {\n",
       "        vertical-align: top;\n",
       "    }\n",
       "\n",
       "    .dataframe thead th {\n",
       "        text-align: right;\n",
       "    }\n",
       "</style>\n",
       "<table border=\"1\" class=\"dataframe\">\n",
       "  <thead>\n",
       "    <tr style=\"text-align: right;\">\n",
       "      <th></th>\n",
       "      <th>count</th>\n",
       "      <th>mean</th>\n",
       "      <th>std</th>\n",
       "      <th>min</th>\n",
       "      <th>25%</th>\n",
       "      <th>50%</th>\n",
       "      <th>75%</th>\n",
       "      <th>max</th>\n",
       "    </tr>\n",
       "    <tr>\n",
       "      <th>split</th>\n",
       "      <th></th>\n",
       "      <th></th>\n",
       "      <th></th>\n",
       "      <th></th>\n",
       "      <th></th>\n",
       "      <th></th>\n",
       "      <th></th>\n",
       "      <th></th>\n",
       "    </tr>\n",
       "  </thead>\n",
       "  <tbody>\n",
       "    <tr>\n",
       "      <th>test</th>\n",
       "      <td>29664.0</td>\n",
       "      <td>1.005015</td>\n",
       "      <td>0.040835</td>\n",
       "      <td>0.690219</td>\n",
       "      <td>0.981994</td>\n",
       "      <td>1.004731</td>\n",
       "      <td>1.027028</td>\n",
       "      <td>1.393477</td>\n",
       "    </tr>\n",
       "    <tr>\n",
       "      <th>train</th>\n",
       "      <td>123458.0</td>\n",
       "      <td>1.003965</td>\n",
       "      <td>0.053826</td>\n",
       "      <td>0.412383</td>\n",
       "      <td>0.978474</td>\n",
       "      <td>1.003197</td>\n",
       "      <td>1.028354</td>\n",
       "      <td>3.018887</td>\n",
       "    </tr>\n",
       "    <tr>\n",
       "      <th>validation</th>\n",
       "      <td>29388.0</td>\n",
       "      <td>1.004417</td>\n",
       "      <td>0.040642</td>\n",
       "      <td>0.668581</td>\n",
       "      <td>0.985343</td>\n",
       "      <td>1.005120</td>\n",
       "      <td>1.023999</td>\n",
       "      <td>1.459217</td>\n",
       "    </tr>\n",
       "  </tbody>\n",
       "</table>\n",
       "</div>"
      ],
      "text/plain": [
       "               count      mean       std       min       25%       50%  \\\n",
       "split                                                                    \n",
       "test         29664.0  1.005015  0.040835  0.690219  0.981994  1.004731   \n",
       "train       123458.0  1.003965  0.053826  0.412383  0.978474  1.003197   \n",
       "validation   29388.0  1.004417  0.040642  0.668581  0.985343  1.005120   \n",
       "\n",
       "                 75%       max  \n",
       "split                           \n",
       "test        1.027028  1.393477  \n",
       "train       1.028354  3.018887  \n",
       "validation  1.023999  1.459217  "
      ]
     },
     "execution_count": 38,
     "metadata": {},
     "output_type": "execute_result"
    }
   ],
   "source": [
    "new_df.groupby(by='split')['growth_future_5d'].describe()"
   ]
  },
  {
   "cell_type": "markdown",
   "metadata": {
    "id": "fcaqMnIMPssp"
   },
   "source": [
    "# 1) Modeling: \"rule of thumb\" or hand-predictions"
   ]
  },
  {
   "cell_type": "markdown",
   "metadata": {
    "id": "RF5tSoLNrpE_"
   },
   "source": [
    "## 1.1) Review all the inputs again"
   ]
  },
  {
   "cell_type": "code",
   "execution_count": 39,
   "metadata": {
    "id": "c2qCynDQBMpV"
   },
   "outputs": [],
   "source": [
    "# remove the \"segmentation\" problem (warning message on df performance after many joins and data transformations)\n",
    "new_df = df_with_dummies.copy()"
   ]
  },
  {
   "cell_type": "code",
   "execution_count": 40,
   "metadata": {
    "colab": {
     "base_uri": "https://localhost:8080/"
    },
    "id": "SZtHf2IDPf_8",
    "outputId": "0667fd51-75a3-46ab-af5d-336d3a46d1bb"
   },
   "outputs": [
    {
     "name": "stdout",
     "output_type": "stream",
     "text": [
      "<class 'pandas.core.frame.DataFrame'>\n",
      "Index: 182675 entries, 3490 to 5426\n",
      "Columns: 322 entries, Open to split\n",
      "dtypes: datetime64[ns](2), float64(129), int32(178), int64(5), object(8)\n",
      "memory usage: 326.1+ MB\n"
     ]
    }
   ],
   "source": [
    "# Full dataframe (transformed and truncated to 25 years)\n",
    "new_df.info()"
   ]
  },
  {
   "cell_type": "code",
   "execution_count": 41,
   "metadata": {
    "colab": {
     "base_uri": "https://localhost:8080/",
     "height": 147
    },
    "id": "tRAp67SPiyW4",
    "outputId": "6cf610f1-e55e-40ba-88af-6e2522a67a9e"
   },
   "outputs": [
    {
     "data": {
      "text/html": [
       "<div>\n",
       "<style scoped>\n",
       "    .dataframe tbody tr th:only-of-type {\n",
       "        vertical-align: middle;\n",
       "    }\n",
       "\n",
       "    .dataframe tbody tr th {\n",
       "        vertical-align: top;\n",
       "    }\n",
       "\n",
       "    .dataframe thead th {\n",
       "        text-align: right;\n",
       "    }\n",
       "</style>\n",
       "<table border=\"1\" class=\"dataframe\">\n",
       "  <thead>\n",
       "    <tr style=\"text-align: right;\">\n",
       "      <th></th>\n",
       "      <th>Open</th>\n",
       "      <th>High</th>\n",
       "      <th>Low</th>\n",
       "      <th>Close</th>\n",
       "      <th>Adj Close_x</th>\n",
       "      <th>Volume</th>\n",
       "      <th>Ticker</th>\n",
       "      <th>Year</th>\n",
       "      <th>Month</th>\n",
       "      <th>Weekday</th>\n",
       "      <th>...</th>\n",
       "      <th>October_w2</th>\n",
       "      <th>October_w3</th>\n",
       "      <th>October_w4</th>\n",
       "      <th>October_w5</th>\n",
       "      <th>September_w1</th>\n",
       "      <th>September_w2</th>\n",
       "      <th>September_w3</th>\n",
       "      <th>September_w4</th>\n",
       "      <th>September_w5</th>\n",
       "      <th>split</th>\n",
       "    </tr>\n",
       "  </thead>\n",
       "  <tbody>\n",
       "    <tr>\n",
       "      <th>3490</th>\n",
       "      <td>58.6875</td>\n",
       "      <td>59.3125</td>\n",
       "      <td>56.0</td>\n",
       "      <td>58.28125</td>\n",
       "      <td>36.065567</td>\n",
       "      <td>53228400.0</td>\n",
       "      <td>MSFT</td>\n",
       "      <td>2000</td>\n",
       "      <td>January</td>\n",
       "      <td>0</td>\n",
       "      <td>...</td>\n",
       "      <td>0</td>\n",
       "      <td>0</td>\n",
       "      <td>0</td>\n",
       "      <td>0</td>\n",
       "      <td>0</td>\n",
       "      <td>0</td>\n",
       "      <td>0</td>\n",
       "      <td>0</td>\n",
       "      <td>0</td>\n",
       "      <td>train</td>\n",
       "    </tr>\n",
       "  </tbody>\n",
       "</table>\n",
       "<p>1 rows × 322 columns</p>\n",
       "</div>"
      ],
      "text/plain": [
       "         Open     High   Low     Close  Adj Close_x      Volume Ticker  Year  \\\n",
       "3490  58.6875  59.3125  56.0  58.28125    36.065567  53228400.0   MSFT  2000   \n",
       "\n",
       "        Month Weekday  ... October_w2  October_w3  October_w4  October_w5  \\\n",
       "3490  January       0  ...          0           0           0           0   \n",
       "\n",
       "      September_w1  September_w2  September_w3  September_w4  September_w5  \\\n",
       "3490             0             0             0             0             0   \n",
       "\n",
       "      split  \n",
       "3490  train  \n",
       "\n",
       "[1 rows x 322 columns]"
      ]
     },
     "execution_count": 41,
     "metadata": {},
     "output_type": "execute_result"
    }
   ],
   "source": [
    "# check one record: it has abs. values, text, and numbers\n",
    "new_df.head(1)"
   ]
  },
  {
   "cell_type": "code",
   "execution_count": 42,
   "metadata": {
    "colab": {
     "base_uri": "https://localhost:8080/",
     "height": 175
    },
    "id": "_zvzkXNgjF1O",
    "outputId": "a0e3625c-43dd-483b-a7de-39fb561dfa2e"
   },
   "outputs": [
    {
     "data": {
      "text/html": [
       "<div>\n",
       "<style scoped>\n",
       "    .dataframe tbody tr th:only-of-type {\n",
       "        vertical-align: middle;\n",
       "    }\n",
       "\n",
       "    .dataframe tbody tr th {\n",
       "        vertical-align: top;\n",
       "    }\n",
       "\n",
       "    .dataframe thead th {\n",
       "        text-align: right;\n",
       "    }\n",
       "</style>\n",
       "<table border=\"1\" class=\"dataframe\">\n",
       "  <thead>\n",
       "    <tr style=\"text-align: right;\">\n",
       "      <th></th>\n",
       "      <th>count</th>\n",
       "      <th>min</th>\n",
       "      <th>max</th>\n",
       "    </tr>\n",
       "    <tr>\n",
       "      <th>split</th>\n",
       "      <th></th>\n",
       "      <th></th>\n",
       "      <th></th>\n",
       "    </tr>\n",
       "  </thead>\n",
       "  <tbody>\n",
       "    <tr>\n",
       "      <th>test</th>\n",
       "      <td>29829</td>\n",
       "      <td>2020-09-14</td>\n",
       "      <td>2024-05-07</td>\n",
       "    </tr>\n",
       "    <tr>\n",
       "      <th>train</th>\n",
       "      <td>123458</td>\n",
       "      <td>2000-01-03</td>\n",
       "      <td>2017-01-16</td>\n",
       "    </tr>\n",
       "    <tr>\n",
       "      <th>validation</th>\n",
       "      <td>29388</td>\n",
       "      <td>2017-01-17</td>\n",
       "      <td>2020-09-11</td>\n",
       "    </tr>\n",
       "  </tbody>\n",
       "</table>\n",
       "</div>"
      ],
      "text/plain": [
       "             count        min        max\n",
       "split                                   \n",
       "test         29829 2020-09-14 2024-05-07\n",
       "train       123458 2000-01-03 2017-01-16\n",
       "validation   29388 2017-01-17 2020-09-11"
      ]
     },
     "execution_count": 42,
     "metadata": {},
     "output_type": "execute_result"
    }
   ],
   "source": [
    "# time split on train/validation/test: FIXED dates of split, approx. 70%, 15%, 15% split\n",
    "new_df.groupby(['split'])['Date'].agg({'min','max','count'})"
   ]
  },
  {
   "cell_type": "code",
   "execution_count": 43,
   "metadata": {
    "colab": {
     "base_uri": "https://localhost:8080/",
     "height": 81
    },
    "id": "QQtiyAyIqfsZ",
    "outputId": "68687507-71dd-4431-9e91-8ec322554899"
   },
   "outputs": [
    {
     "data": {
      "text/html": [
       "<div>\n",
       "<style scoped>\n",
       "    .dataframe tbody tr th:only-of-type {\n",
       "        vertical-align: middle;\n",
       "    }\n",
       "\n",
       "    .dataframe tbody tr th {\n",
       "        vertical-align: top;\n",
       "    }\n",
       "\n",
       "    .dataframe thead th {\n",
       "        text-align: right;\n",
       "    }\n",
       "</style>\n",
       "<table border=\"1\" class=\"dataframe\">\n",
       "  <thead>\n",
       "    <tr style=\"text-align: right;\">\n",
       "      <th></th>\n",
       "      <th>growth_future_5d</th>\n",
       "      <th>is_positive_growth_5d_future</th>\n",
       "    </tr>\n",
       "  </thead>\n",
       "  <tbody>\n",
       "    <tr>\n",
       "      <th>3490</th>\n",
       "      <td>0.963003</td>\n",
       "      <td>0</td>\n",
       "    </tr>\n",
       "  </tbody>\n",
       "</table>\n",
       "</div>"
      ],
      "text/plain": [
       "      growth_future_5d  is_positive_growth_5d_future\n",
       "3490          0.963003                             0"
      ]
     },
     "execution_count": 43,
     "metadata": {},
     "output_type": "execute_result"
    }
   ],
   "source": [
    "# what we try to predict\n",
    "new_df[TO_PREDICT].head(1)"
   ]
  },
  {
   "cell_type": "code",
   "execution_count": 44,
   "metadata": {
    "colab": {
     "base_uri": "https://localhost:8080/",
     "height": 130
    },
    "id": "L8fQBotSi0CQ",
    "outputId": "f12c7381-4e37-4c6c-de06-5129d44bfe2c"
   },
   "outputs": [
    {
     "data": {
      "text/html": [
       "<div>\n",
       "<style scoped>\n",
       "    .dataframe tbody tr th:only-of-type {\n",
       "        vertical-align: middle;\n",
       "    }\n",
       "\n",
       "    .dataframe tbody tr th {\n",
       "        vertical-align: top;\n",
       "    }\n",
       "\n",
       "    .dataframe thead th {\n",
       "        text-align: right;\n",
       "    }\n",
       "</style>\n",
       "<table border=\"1\" class=\"dataframe\">\n",
       "  <thead>\n",
       "    <tr style=\"text-align: right;\">\n",
       "      <th></th>\n",
       "      <th>growth_1d</th>\n",
       "      <th>growth_3d</th>\n",
       "      <th>growth_7d</th>\n",
       "      <th>growth_30d</th>\n",
       "      <th>growth_90d</th>\n",
       "      <th>growth_365d</th>\n",
       "      <th>growth_dax_1d</th>\n",
       "      <th>growth_dax_3d</th>\n",
       "      <th>growth_dax_7d</th>\n",
       "      <th>growth_dax_30d</th>\n",
       "      <th>...</th>\n",
       "      <th>October_w1</th>\n",
       "      <th>October_w2</th>\n",
       "      <th>October_w3</th>\n",
       "      <th>October_w4</th>\n",
       "      <th>October_w5</th>\n",
       "      <th>September_w1</th>\n",
       "      <th>September_w2</th>\n",
       "      <th>September_w3</th>\n",
       "      <th>September_w4</th>\n",
       "      <th>September_w5</th>\n",
       "    </tr>\n",
       "  </thead>\n",
       "  <tbody>\n",
       "    <tr>\n",
       "      <th>3490</th>\n",
       "      <td>0.998394</td>\n",
       "      <td>0.988341</td>\n",
       "      <td>0.991494</td>\n",
       "      <td>1.372333</td>\n",
       "      <td>1.222951</td>\n",
       "      <td>2.063053</td>\n",
       "      <td>0.970196</td>\n",
       "      <td>0.983855</td>\n",
       "      <td>1.051736</td>\n",
       "      <td>1.134572</td>\n",
       "      <td>...</td>\n",
       "      <td>0</td>\n",
       "      <td>0</td>\n",
       "      <td>0</td>\n",
       "      <td>0</td>\n",
       "      <td>0</td>\n",
       "      <td>0</td>\n",
       "      <td>0</td>\n",
       "      <td>0</td>\n",
       "      <td>0</td>\n",
       "      <td>0</td>\n",
       "    </tr>\n",
       "  </tbody>\n",
       "</table>\n",
       "<p>1 rows × 299 columns</p>\n",
       "</div>"
      ],
      "text/plain": [
       "      growth_1d  growth_3d  growth_7d  growth_30d  growth_90d  growth_365d  \\\n",
       "3490   0.998394   0.988341   0.991494    1.372333    1.222951     2.063053   \n",
       "\n",
       "      growth_dax_1d  growth_dax_3d  growth_dax_7d  growth_dax_30d  ...  \\\n",
       "3490       0.970196       0.983855       1.051736        1.134572  ...   \n",
       "\n",
       "      October_w1  October_w2  October_w3  October_w4  October_w5  \\\n",
       "3490           0           0           0           0           0   \n",
       "\n",
       "      September_w1  September_w2  September_w3  September_w4  September_w5  \n",
       "3490             0             0             0             0             0  \n",
       "\n",
       "[1 rows x 299 columns]"
      ]
     },
     "execution_count": 44,
     "metadata": {},
     "output_type": "execute_result"
    }
   ],
   "source": [
    "# to be used as features\n",
    "new_df[NUMERICAL+DUMMIES].head(1)"
   ]
  },
  {
   "cell_type": "markdown",
   "metadata": {
    "id": "-N012tLusJNx"
   },
   "source": [
    "## 1.2) [Code Snippet 3] Manual \"hand rule\" predictions\n",
    "* CCI (binary, on technical indicator CCI)\n",
    "* growth_1d>0\n",
    "* growth_1d>0 & growth_snp500_1d>0"
   ]
  },
  {
   "cell_type": "code",
   "execution_count": 45,
   "metadata": {
    "colab": {
     "base_uri": "https://localhost:8080/"
    },
    "id": "1mx1uWgl9Az2",
    "outputId": "909f85f5-8121-42aa-f2f1-9f770d30f75a"
   },
   "outputs": [
    {
     "data": {
      "text/plain": [
       "3490    False\n",
       "3491    False\n",
       "3492    False\n",
       "3493    False\n",
       "3494    False\n",
       "        ...  \n",
       "5422    False\n",
       "5423    False\n",
       "5424    False\n",
       "5425    False\n",
       "5426    False\n",
       "Name: cci, Length: 182675, dtype: bool"
      ]
     },
     "execution_count": 45,
     "metadata": {},
     "output_type": "execute_result"
    }
   ],
   "source": [
    "# why does it work?\n",
    "# compare a vector (pandas.core.series.Series) with scalar 200 ==> element_wise comparison with the number\n",
    "new_df.cci>200"
   ]
  },
  {
   "cell_type": "code",
   "execution_count": 46,
   "metadata": {
    "id": "Ujwk8Rpxi5jQ"
   },
   "outputs": [],
   "source": [
    "# generate manual predictions\n",
    "# Let's label all prediction features with prefix \"pred\"\n",
    "new_df['pred0_manual_cci'] = (new_df.cci>200).astype(int)\n",
    "new_df['pred1_manual_prev_g1'] = (new_df.growth_1d>1).astype(int)\n",
    "new_df['pred2_manual_prev_g1_and_snp'] = ((new_df['growth_1d'] > 1) & (new_df['growth_snp500_1d'] > 1)).astype(int)"
   ]
  },
  {
   "cell_type": "markdown",
   "metadata": {},
   "source": [
    "Question 2 (2 points): Define new \"hand\" rules on macro and technical indicators variables\n",
    "\n",
    "What is the precision score for the best of the NEW predictions (pred3 or pred4), rounded to 3 digits after the comma?\n",
    "\n",
    "Let's utilize the knowledge from the visualised tree (clf10) (Code Snippet 5: 1.4.4 Visualisation):\n",
    "\n",
    "    You're asked to define two new 'hand' rules (leading to 'positive' subtrees):\n",
    "        pred3_manual_gdp_fastd: (gdppot_us_yoy <= 0.027) & (fastd >= 0.251)\n",
    "        pred4_manual_gdp_wti_oil: (gdppot_us_yoy >= 0.027) & (growth_wti_oil_30d <= 1.005)\n",
    "\n",
    "    Extend the Code Snippet 3 (Manual \"hand rule\" predictions): Calculate and add new rules (pred3 and pred4) to the dataframe.You should notice that one of the predictions doesn't have any positive predictions on TEST dataset (while it has many on TRAIN+VALIDATION).\n",
    "\n",
    "    Debug: check in the new_df and the original dataset/data generation process that we didn't make any mistakes during the data transformation step.\n",
    "\n",
    "    Explain why this can happen even if there are no errors in the data features.\n",
    "\n",
    "    As a result, write down the precision score for the remaining predictor (round to three decimal points). E.g. if you have 0.57897, your answer should be 0.579."
   ]
  },
  {
   "cell_type": "code",
   "execution_count": 48,
   "metadata": {
    "id": "bPkWi2Mp-hJ_"
   },
   "outputs": [
    {
     "data": {
      "text/html": [
       "<div>\n",
       "<style scoped>\n",
       "    .dataframe tbody tr th:only-of-type {\n",
       "        vertical-align: middle;\n",
       "    }\n",
       "\n",
       "    .dataframe tbody tr th {\n",
       "        vertical-align: top;\n",
       "    }\n",
       "\n",
       "    .dataframe thead th {\n",
       "        text-align: right;\n",
       "    }\n",
       "</style>\n",
       "<table border=\"1\" class=\"dataframe\">\n",
       "  <thead>\n",
       "    <tr style=\"text-align: right;\">\n",
       "      <th></th>\n",
       "      <th>gdppot_us_yoy</th>\n",
       "      <th>fastd</th>\n",
       "      <th>growth_wti_oil_30d</th>\n",
       "      <th>pred3_manual_gdp_fastd</th>\n",
       "      <th>pred4_manual_gdp_wti_oil</th>\n",
       "    </tr>\n",
       "  </thead>\n",
       "  <tbody>\n",
       "    <tr>\n",
       "      <th>3490</th>\n",
       "      <td>0.044886</td>\n",
       "      <td>37.739340</td>\n",
       "      <td>NaN</td>\n",
       "      <td>0</td>\n",
       "      <td>0</td>\n",
       "    </tr>\n",
       "    <tr>\n",
       "      <th>3491</th>\n",
       "      <td>0.044886</td>\n",
       "      <td>27.249258</td>\n",
       "      <td>NaN</td>\n",
       "      <td>0</td>\n",
       "      <td>0</td>\n",
       "    </tr>\n",
       "    <tr>\n",
       "      <th>3492</th>\n",
       "      <td>0.044886</td>\n",
       "      <td>35.788722</td>\n",
       "      <td>NaN</td>\n",
       "      <td>0</td>\n",
       "      <td>0</td>\n",
       "    </tr>\n",
       "    <tr>\n",
       "      <th>3493</th>\n",
       "      <td>0.044886</td>\n",
       "      <td>21.913170</td>\n",
       "      <td>NaN</td>\n",
       "      <td>0</td>\n",
       "      <td>0</td>\n",
       "    </tr>\n",
       "    <tr>\n",
       "      <th>3494</th>\n",
       "      <td>0.044886</td>\n",
       "      <td>31.443194</td>\n",
       "      <td>NaN</td>\n",
       "      <td>0</td>\n",
       "      <td>0</td>\n",
       "    </tr>\n",
       "  </tbody>\n",
       "</table>\n",
       "</div>"
      ],
      "text/plain": [
       "      gdppot_us_yoy      fastd  growth_wti_oil_30d  pred3_manual_gdp_fastd  \\\n",
       "3490       0.044886  37.739340                 NaN                       0   \n",
       "3491       0.044886  27.249258                 NaN                       0   \n",
       "3492       0.044886  35.788722                 NaN                       0   \n",
       "3493       0.044886  21.913170                 NaN                       0   \n",
       "3494       0.044886  31.443194                 NaN                       0   \n",
       "\n",
       "      pred4_manual_gdp_wti_oil  \n",
       "3490                         0  \n",
       "3491                         0  \n",
       "3492                         0  \n",
       "3493                         0  \n",
       "3494                         0  "
      ]
     },
     "execution_count": 48,
     "metadata": {},
     "output_type": "execute_result"
    }
   ],
   "source": [
    "# TODO 2: find more \"hand rules\" - can get it from decision trees important factors, or randomly build on other most popular macro/tech indicators/ manual_features\n",
    "\n",
    "# Define new 'hand' rules based on the visualized tree (clf10)\n",
    "new_df['pred3_manual_gdp_fastd'] = ((new_df['gdppot_us_yoy'] <= 0.027) & (new_df['fastd'] >= 0.251)).astype(int)\n",
    "new_df['pred4_manual_gdp_wti_oil'] = ((new_df['gdppot_us_yoy'] >= 0.027) & (new_df['growth_wti_oil_30d'] <= 1.005)).astype(int)\n",
    "\n",
    "# Check the new_df to ensure the columns are added correctly\n",
    "new_df[['gdppot_us_yoy', 'fastd', 'growth_wti_oil_30d', 'pred3_manual_gdp_fastd', 'pred4_manual_gdp_wti_oil']].head()\n"
   ]
  },
  {
   "cell_type": "code",
   "execution_count": 53,
   "metadata": {},
   "outputs": [],
   "source": [
    "# Define new rules\n",
    "new_df['pred3_manual_gdp_fastd'] = ((new_df['gdppot_us_yoy'] <= 0.027) & (new_df['fastd'] >= 0.251)).astype(int)\n",
    "new_df['pred4_manual_gdp_wti_oil'] = ((new_df['gdppot_us_yoy'] >= 0.027) & (new_df['growth_wti_oil_30d'] <= 1.005)).astype(int)"
   ]
  },
  {
   "cell_type": "code",
   "execution_count": 54,
   "metadata": {},
   "outputs": [
    {
     "name": "stdout",
     "output_type": "stream",
     "text": [
      "Precision for pred3_manual_gdp_fastd: 0.555\n",
      "Precision for pred4_manual_gdp_wti_oil: 0.000\n"
     ]
    },
    {
     "name": "stderr",
     "output_type": "stream",
     "text": [
      "C:\\Users\\msofy\\AppData\\Local\\Programs\\Python\\Python310\\lib\\site-packages\\sklearn\\metrics\\_classification.py:1509: UndefinedMetricWarning: Precision is ill-defined and being set to 0.0 due to no predicted samples. Use `zero_division` parameter to control this behavior.\n",
      "  _warn_prf(average, modifier, f\"{metric.capitalize()} is\", len(result))\n"
     ]
    }
   ],
   "source": [
    "from sklearn.metrics import precision_score\n",
    "\n",
    "# Filter the TEST dataset\n",
    "test_filter = new_df['split'] == 'test'\n",
    "\n",
    "# Calculate precision for pred3_manual_gdp_fastd\n",
    "precision_pred3 = precision_score(new_df[test_filter]['is_positive_growth_5d_future'], new_df[test_filter]['pred3_manual_gdp_fastd'])\n",
    "\n",
    "# Calculate precision for pred4_manual_gdp_wti_oil\n",
    "precision_pred4 = precision_score(new_df[test_filter]['is_positive_growth_5d_future'], new_df[test_filter]['pred4_manual_gdp_wti_oil'])\n",
    "\n",
    "print(f'Precision for pred3_manual_gdp_fastd: {precision_pred3:.3f}')\n",
    "print(f'Precision for pred4_manual_gdp_wti_oil: {precision_pred4:.3f}')"
   ]
  },
  {
   "cell_type": "code",
   "execution_count": 55,
   "metadata": {},
   "outputs": [
    {
     "name": "stdout",
     "output_type": "stream",
     "text": [
      "Best precision score: 0.555\n"
     ]
    }
   ],
   "source": [
    "best_precision = max(precision_pred3, precision_pred4)\n",
    "print(f'Best precision score: {best_precision:.3f}')"
   ]
  },
  {
   "cell_type": "code",
   "execution_count": 56,
   "metadata": {
    "colab": {
     "base_uri": "https://localhost:8080/",
     "height": 424
    },
    "id": "G-p0SvKtxU0m",
    "outputId": "c868303d-30e8-44ac-fd59-0e2270ccce35"
   },
   "outputs": [
    {
     "data": {
      "text/html": [
       "<div>\n",
       "<style scoped>\n",
       "    .dataframe tbody tr th:only-of-type {\n",
       "        vertical-align: middle;\n",
       "    }\n",
       "\n",
       "    .dataframe tbody tr th {\n",
       "        vertical-align: top;\n",
       "    }\n",
       "\n",
       "    .dataframe thead th {\n",
       "        text-align: right;\n",
       "    }\n",
       "</style>\n",
       "<table border=\"1\" class=\"dataframe\">\n",
       "  <thead>\n",
       "    <tr style=\"text-align: right;\">\n",
       "      <th></th>\n",
       "      <th>cci</th>\n",
       "      <th>growth_1d</th>\n",
       "      <th>growth_snp500_1d</th>\n",
       "      <th>pred0_manual_cci</th>\n",
       "      <th>pred1_manual_prev_g1</th>\n",
       "      <th>pred2_manual_prev_g1_and_snp</th>\n",
       "      <th>is_positive_growth_5d_future</th>\n",
       "    </tr>\n",
       "  </thead>\n",
       "  <tbody>\n",
       "    <tr>\n",
       "      <th>3490</th>\n",
       "      <td>26.847237</td>\n",
       "      <td>0.998394</td>\n",
       "      <td>0.990451</td>\n",
       "      <td>0</td>\n",
       "      <td>0</td>\n",
       "      <td>0</td>\n",
       "      <td>0</td>\n",
       "    </tr>\n",
       "    <tr>\n",
       "      <th>3491</th>\n",
       "      <td>-34.319663</td>\n",
       "      <td>0.966220</td>\n",
       "      <td>0.961655</td>\n",
       "      <td>0</td>\n",
       "      <td>0</td>\n",
       "      <td>0</td>\n",
       "      <td>0</td>\n",
       "    </tr>\n",
       "    <tr>\n",
       "      <th>3492</th>\n",
       "      <td>-97.318008</td>\n",
       "      <td>1.010544</td>\n",
       "      <td>1.001922</td>\n",
       "      <td>0</td>\n",
       "      <td>1</td>\n",
       "      <td>1</td>\n",
       "      <td>0</td>\n",
       "    </tr>\n",
       "    <tr>\n",
       "      <th>3493</th>\n",
       "      <td>-169.947507</td>\n",
       "      <td>0.966502</td>\n",
       "      <td>1.000956</td>\n",
       "      <td>0</td>\n",
       "      <td>0</td>\n",
       "      <td>0</td>\n",
       "      <td>0</td>\n",
       "    </tr>\n",
       "    <tr>\n",
       "      <th>3494</th>\n",
       "      <td>-142.142685</td>\n",
       "      <td>1.013068</td>\n",
       "      <td>1.027090</td>\n",
       "      <td>0</td>\n",
       "      <td>1</td>\n",
       "      <td>1</td>\n",
       "      <td>1</td>\n",
       "    </tr>\n",
       "    <tr>\n",
       "      <th>...</th>\n",
       "      <td>...</td>\n",
       "      <td>...</td>\n",
       "      <td>...</td>\n",
       "      <td>...</td>\n",
       "      <td>...</td>\n",
       "      <td>...</td>\n",
       "      <td>...</td>\n",
       "    </tr>\n",
       "    <tr>\n",
       "      <th>5422</th>\n",
       "      <td>-29.424989</td>\n",
       "      <td>0.988994</td>\n",
       "      <td>0.984269</td>\n",
       "      <td>0</td>\n",
       "      <td>0</td>\n",
       "      <td>0</td>\n",
       "      <td>0</td>\n",
       "    </tr>\n",
       "    <tr>\n",
       "      <th>5423</th>\n",
       "      <td>-26.657181</td>\n",
       "      <td>1.001447</td>\n",
       "      <td>1.009128</td>\n",
       "      <td>0</td>\n",
       "      <td>1</td>\n",
       "      <td>1</td>\n",
       "      <td>0</td>\n",
       "    </tr>\n",
       "    <tr>\n",
       "      <th>5424</th>\n",
       "      <td>-123.785473</td>\n",
       "      <td>0.972302</td>\n",
       "      <td>1.012557</td>\n",
       "      <td>0</td>\n",
       "      <td>0</td>\n",
       "      <td>0</td>\n",
       "      <td>0</td>\n",
       "    </tr>\n",
       "    <tr>\n",
       "      <th>5425</th>\n",
       "      <td>-181.986224</td>\n",
       "      <td>0.989571</td>\n",
       "      <td>1.010326</td>\n",
       "      <td>0</td>\n",
       "      <td>0</td>\n",
       "      <td>0</td>\n",
       "      <td>0</td>\n",
       "    </tr>\n",
       "    <tr>\n",
       "      <th>5426</th>\n",
       "      <td>-169.406977</td>\n",
       "      <td>0.989735</td>\n",
       "      <td>1.001343</td>\n",
       "      <td>0</td>\n",
       "      <td>0</td>\n",
       "      <td>0</td>\n",
       "      <td>0</td>\n",
       "    </tr>\n",
       "  </tbody>\n",
       "</table>\n",
       "<p>182675 rows × 7 columns</p>\n",
       "</div>"
      ],
      "text/plain": [
       "             cci  growth_1d  growth_snp500_1d  pred0_manual_cci  \\\n",
       "3490   26.847237   0.998394          0.990451                 0   \n",
       "3491  -34.319663   0.966220          0.961655                 0   \n",
       "3492  -97.318008   1.010544          1.001922                 0   \n",
       "3493 -169.947507   0.966502          1.000956                 0   \n",
       "3494 -142.142685   1.013068          1.027090                 0   \n",
       "...          ...        ...               ...               ...   \n",
       "5422  -29.424989   0.988994          0.984269                 0   \n",
       "5423  -26.657181   1.001447          1.009128                 0   \n",
       "5424 -123.785473   0.972302          1.012557                 0   \n",
       "5425 -181.986224   0.989571          1.010326                 0   \n",
       "5426 -169.406977   0.989735          1.001343                 0   \n",
       "\n",
       "      pred1_manual_prev_g1  pred2_manual_prev_g1_and_snp  \\\n",
       "3490                     0                             0   \n",
       "3491                     0                             0   \n",
       "3492                     1                             1   \n",
       "3493                     0                             0   \n",
       "3494                     1                             1   \n",
       "...                    ...                           ...   \n",
       "5422                     0                             0   \n",
       "5423                     1                             1   \n",
       "5424                     0                             0   \n",
       "5425                     0                             0   \n",
       "5426                     0                             0   \n",
       "\n",
       "      is_positive_growth_5d_future  \n",
       "3490                             0  \n",
       "3491                             0  \n",
       "3492                             0  \n",
       "3493                             0  \n",
       "3494                             1  \n",
       "...                            ...  \n",
       "5422                             0  \n",
       "5423                             0  \n",
       "5424                             0  \n",
       "5425                             0  \n",
       "5426                             0  \n",
       "\n",
       "[182675 rows x 7 columns]"
      ]
     },
     "execution_count": 56,
     "metadata": {},
     "output_type": "execute_result"
    }
   ],
   "source": [
    "new_df[['cci','growth_1d','growth_snp500_1d','pred0_manual_cci','pred1_manual_prev_g1','pred2_manual_prev_g1_and_snp','is_positive_growth_5d_future']]"
   ]
  },
  {
   "cell_type": "code",
   "execution_count": 57,
   "metadata": {
    "colab": {
     "base_uri": "https://localhost:8080/"
    },
    "id": "QqYgFqGLA-Ar",
    "outputId": "beacf464-19eb-4d69-82c6-7173aaa3273f"
   },
   "outputs": [
    {
     "data": {
      "text/plain": [
       "['pred0_manual_cci',\n",
       " 'pred1_manual_prev_g1',\n",
       " 'pred2_manual_prev_g1_and_snp',\n",
       " 'pred3_manual_gdp_fastd',\n",
       " 'pred4_manual_gdp_wti_oil']"
      ]
     },
     "execution_count": 57,
     "metadata": {},
     "output_type": "execute_result"
    }
   ],
   "source": [
    "PREDICTIONS = [k for k in new_df.keys() if k.startswith('pred')]\n",
    "PREDICTIONS"
   ]
  },
  {
   "cell_type": "code",
   "execution_count": 58,
   "metadata": {
    "colab": {
     "base_uri": "https://localhost:8080/"
    },
    "id": "BpnYWgiTBd48",
    "outputId": "cbaecf46-5fc2-4194-8327-c1a128b08e11"
   },
   "outputs": [
    {
     "name": "stdout",
     "output_type": "stream",
     "text": [
      "Full column name: pred0_manual_cci, only first part: pred0\n"
     ]
    }
   ],
   "source": [
    "p = PREDICTIONS[0]\n",
    "part1 = p.split('_')[0] # first prefix before '_'\n",
    "print(f'Full column name: {p}, only first part: {part1}')"
   ]
  },
  {
   "cell_type": "code",
   "execution_count": 59,
   "metadata": {
    "id": "kcy-ZKcEx315"
   },
   "outputs": [],
   "source": [
    "# One prediction: do we predict correctly?\n",
    "new_df['is_correct_prediction'] = (new_df.pred0_manual_cci == new_df.is_positive_growth_5d_future)"
   ]
  },
  {
   "cell_type": "code",
   "execution_count": 60,
   "metadata": {
    "colab": {
     "base_uri": "https://localhost:8080/",
     "height": 424
    },
    "id": "5sCpxLbtEYOG",
    "outputId": "953783b1-676b-4fe7-ff22-fde044df4328"
   },
   "outputs": [
    {
     "data": {
      "text/html": [
       "<div>\n",
       "<style scoped>\n",
       "    .dataframe tbody tr th:only-of-type {\n",
       "        vertical-align: middle;\n",
       "    }\n",
       "\n",
       "    .dataframe tbody tr th {\n",
       "        vertical-align: top;\n",
       "    }\n",
       "\n",
       "    .dataframe thead th {\n",
       "        text-align: right;\n",
       "    }\n",
       "</style>\n",
       "<table border=\"1\" class=\"dataframe\">\n",
       "  <thead>\n",
       "    <tr style=\"text-align: right;\">\n",
       "      <th></th>\n",
       "      <th>cci</th>\n",
       "      <th>pred0_manual_cci</th>\n",
       "      <th>is_positive_growth_5d_future</th>\n",
       "      <th>is_correct_prediction</th>\n",
       "    </tr>\n",
       "  </thead>\n",
       "  <tbody>\n",
       "    <tr>\n",
       "      <th>3490</th>\n",
       "      <td>26.847237</td>\n",
       "      <td>0</td>\n",
       "      <td>0</td>\n",
       "      <td>True</td>\n",
       "    </tr>\n",
       "    <tr>\n",
       "      <th>3491</th>\n",
       "      <td>-34.319663</td>\n",
       "      <td>0</td>\n",
       "      <td>0</td>\n",
       "      <td>True</td>\n",
       "    </tr>\n",
       "    <tr>\n",
       "      <th>3492</th>\n",
       "      <td>-97.318008</td>\n",
       "      <td>0</td>\n",
       "      <td>0</td>\n",
       "      <td>True</td>\n",
       "    </tr>\n",
       "    <tr>\n",
       "      <th>3493</th>\n",
       "      <td>-169.947507</td>\n",
       "      <td>0</td>\n",
       "      <td>0</td>\n",
       "      <td>True</td>\n",
       "    </tr>\n",
       "    <tr>\n",
       "      <th>3494</th>\n",
       "      <td>-142.142685</td>\n",
       "      <td>0</td>\n",
       "      <td>1</td>\n",
       "      <td>False</td>\n",
       "    </tr>\n",
       "    <tr>\n",
       "      <th>...</th>\n",
       "      <td>...</td>\n",
       "      <td>...</td>\n",
       "      <td>...</td>\n",
       "      <td>...</td>\n",
       "    </tr>\n",
       "    <tr>\n",
       "      <th>5422</th>\n",
       "      <td>-29.424989</td>\n",
       "      <td>0</td>\n",
       "      <td>0</td>\n",
       "      <td>True</td>\n",
       "    </tr>\n",
       "    <tr>\n",
       "      <th>5423</th>\n",
       "      <td>-26.657181</td>\n",
       "      <td>0</td>\n",
       "      <td>0</td>\n",
       "      <td>True</td>\n",
       "    </tr>\n",
       "    <tr>\n",
       "      <th>5424</th>\n",
       "      <td>-123.785473</td>\n",
       "      <td>0</td>\n",
       "      <td>0</td>\n",
       "      <td>True</td>\n",
       "    </tr>\n",
       "    <tr>\n",
       "      <th>5425</th>\n",
       "      <td>-181.986224</td>\n",
       "      <td>0</td>\n",
       "      <td>0</td>\n",
       "      <td>True</td>\n",
       "    </tr>\n",
       "    <tr>\n",
       "      <th>5426</th>\n",
       "      <td>-169.406977</td>\n",
       "      <td>0</td>\n",
       "      <td>0</td>\n",
       "      <td>True</td>\n",
       "    </tr>\n",
       "  </tbody>\n",
       "</table>\n",
       "<p>182675 rows × 4 columns</p>\n",
       "</div>"
      ],
      "text/plain": [
       "             cci  pred0_manual_cci  is_positive_growth_5d_future  \\\n",
       "3490   26.847237                 0                             0   \n",
       "3491  -34.319663                 0                             0   \n",
       "3492  -97.318008                 0                             0   \n",
       "3493 -169.947507                 0                             0   \n",
       "3494 -142.142685                 0                             1   \n",
       "...          ...               ...                           ...   \n",
       "5422  -29.424989                 0                             0   \n",
       "5423  -26.657181                 0                             0   \n",
       "5424 -123.785473                 0                             0   \n",
       "5425 -181.986224                 0                             0   \n",
       "5426 -169.406977                 0                             0   \n",
       "\n",
       "      is_correct_prediction  \n",
       "3490                   True  \n",
       "3491                   True  \n",
       "3492                   True  \n",
       "3493                   True  \n",
       "3494                  False  \n",
       "...                     ...  \n",
       "5422                   True  \n",
       "5423                   True  \n",
       "5424                   True  \n",
       "5425                   True  \n",
       "5426                   True  \n",
       "\n",
       "[182675 rows x 4 columns]"
      ]
     },
     "execution_count": 60,
     "metadata": {},
     "output_type": "execute_result"
    }
   ],
   "source": [
    "new_df[['cci','pred0_manual_cci','is_positive_growth_5d_future','is_correct_prediction']]"
   ]
  },
  {
   "cell_type": "code",
   "execution_count": 61,
   "metadata": {
    "colab": {
     "base_uri": "https://localhost:8080/"
    },
    "id": "znAWepdQE4vg",
    "outputId": "3481a58c-b1c7-4e17-b65b-4ea74f99768d"
   },
   "outputs": [
    {
     "data": {
      "text/plain": [
       "is_correct_prediction\n",
       "True     455\n",
       "False    344\n",
       "Name: count, dtype: int64"
      ]
     },
     "execution_count": 61,
     "metadata": {},
     "output_type": "execute_result"
    }
   ],
   "source": [
    "# check \"Precision\" : the percentage of \"correct\" predictions , WHEN we predict \"1\" (POSITIVE future growth)\n",
    "filter = (new_df.split=='test') & (new_df.pred0_manual_cci==1)\n",
    "new_df[filter].is_correct_prediction.value_counts()\n"
   ]
  },
  {
   "cell_type": "code",
   "execution_count": 62,
   "metadata": {
    "colab": {
     "base_uri": "https://localhost:8080/"
    },
    "id": "8z4mWTnfFDlc",
    "outputId": "38c60b2f-7b28-44e8-d34a-7cdde714602c"
   },
   "outputs": [
    {
     "data": {
      "text/plain": [
       "is_correct_prediction\n",
       "True     0.569462\n",
       "False    0.430538\n",
       "Name: count, dtype: float64"
      ]
     },
     "execution_count": 62,
     "metadata": {},
     "output_type": "execute_result"
    }
   ],
   "source": [
    "# %% of correct predictions : 54%\n",
    "new_df[filter].is_correct_prediction.value_counts() / len(new_df[filter])"
   ]
  },
  {
   "cell_type": "code",
   "execution_count": 63,
   "metadata": {
    "id": "RVBAcObrGZzl"
   },
   "outputs": [],
   "source": [
    "# delete this column\n",
    "del new_df[\"is_correct_prediction\"]"
   ]
  },
  {
   "cell_type": "code",
   "execution_count": 64,
   "metadata": {
    "id": "-hh7Gd_H_AU3"
   },
   "outputs": [],
   "source": [
    "# generate columns is_correct_\n",
    "for pred in PREDICTIONS:\n",
    "  part1 = pred.split('_')[0] # first prefix before '_'\n",
    "  new_df[f'is_correct_{part1}'] =  (new_df[pred] == new_df.is_positive_growth_5d_future).astype(int)"
   ]
  },
  {
   "cell_type": "code",
   "execution_count": 65,
   "metadata": {
    "colab": {
     "base_uri": "https://localhost:8080/"
    },
    "id": "elm6SLsVCX8L",
    "outputId": "8abe47b6-454d-43ef-a57d-d11adc4bc54f"
   },
   "outputs": [
    {
     "data": {
      "text/plain": [
       "['is_correct_pred0',\n",
       " 'is_correct_pred1',\n",
       " 'is_correct_pred2',\n",
       " 'is_correct_pred3',\n",
       " 'is_correct_pred4']"
      ]
     },
     "execution_count": 65,
     "metadata": {},
     "output_type": "execute_result"
    }
   ],
   "source": [
    "# IS_CORRECT dataset\n",
    "IS_CORRECT =  [k for k in new_df.keys() if k.startswith('is_correct_')]\n",
    "IS_CORRECT"
   ]
  },
  {
   "cell_type": "code",
   "execution_count": 66,
   "metadata": {
    "colab": {
     "base_uri": "https://localhost:8080/",
     "height": 424
    },
    "id": "hhxTefjEC0Mi",
    "outputId": "d43e797c-8141-44fe-e8e1-473904cac596"
   },
   "outputs": [
    {
     "data": {
      "text/html": [
       "<div>\n",
       "<style scoped>\n",
       "    .dataframe tbody tr th:only-of-type {\n",
       "        vertical-align: middle;\n",
       "    }\n",
       "\n",
       "    .dataframe tbody tr th {\n",
       "        vertical-align: top;\n",
       "    }\n",
       "\n",
       "    .dataframe thead th {\n",
       "        text-align: right;\n",
       "    }\n",
       "</style>\n",
       "<table border=\"1\" class=\"dataframe\">\n",
       "  <thead>\n",
       "    <tr style=\"text-align: right;\">\n",
       "      <th></th>\n",
       "      <th>pred0_manual_cci</th>\n",
       "      <th>pred1_manual_prev_g1</th>\n",
       "      <th>pred2_manual_prev_g1_and_snp</th>\n",
       "      <th>pred3_manual_gdp_fastd</th>\n",
       "      <th>pred4_manual_gdp_wti_oil</th>\n",
       "      <th>is_correct_pred0</th>\n",
       "      <th>is_correct_pred1</th>\n",
       "      <th>is_correct_pred2</th>\n",
       "      <th>is_correct_pred3</th>\n",
       "      <th>is_correct_pred4</th>\n",
       "      <th>is_positive_growth_5d_future</th>\n",
       "    </tr>\n",
       "  </thead>\n",
       "  <tbody>\n",
       "    <tr>\n",
       "      <th>3490</th>\n",
       "      <td>0</td>\n",
       "      <td>0</td>\n",
       "      <td>0</td>\n",
       "      <td>0</td>\n",
       "      <td>0</td>\n",
       "      <td>1</td>\n",
       "      <td>1</td>\n",
       "      <td>1</td>\n",
       "      <td>1</td>\n",
       "      <td>1</td>\n",
       "      <td>0</td>\n",
       "    </tr>\n",
       "    <tr>\n",
       "      <th>3491</th>\n",
       "      <td>0</td>\n",
       "      <td>0</td>\n",
       "      <td>0</td>\n",
       "      <td>0</td>\n",
       "      <td>0</td>\n",
       "      <td>1</td>\n",
       "      <td>1</td>\n",
       "      <td>1</td>\n",
       "      <td>1</td>\n",
       "      <td>1</td>\n",
       "      <td>0</td>\n",
       "    </tr>\n",
       "    <tr>\n",
       "      <th>3492</th>\n",
       "      <td>0</td>\n",
       "      <td>1</td>\n",
       "      <td>1</td>\n",
       "      <td>0</td>\n",
       "      <td>0</td>\n",
       "      <td>1</td>\n",
       "      <td>0</td>\n",
       "      <td>0</td>\n",
       "      <td>1</td>\n",
       "      <td>1</td>\n",
       "      <td>0</td>\n",
       "    </tr>\n",
       "    <tr>\n",
       "      <th>3493</th>\n",
       "      <td>0</td>\n",
       "      <td>0</td>\n",
       "      <td>0</td>\n",
       "      <td>0</td>\n",
       "      <td>0</td>\n",
       "      <td>1</td>\n",
       "      <td>1</td>\n",
       "      <td>1</td>\n",
       "      <td>1</td>\n",
       "      <td>1</td>\n",
       "      <td>0</td>\n",
       "    </tr>\n",
       "    <tr>\n",
       "      <th>3494</th>\n",
       "      <td>0</td>\n",
       "      <td>1</td>\n",
       "      <td>1</td>\n",
       "      <td>0</td>\n",
       "      <td>0</td>\n",
       "      <td>0</td>\n",
       "      <td>1</td>\n",
       "      <td>1</td>\n",
       "      <td>0</td>\n",
       "      <td>0</td>\n",
       "      <td>1</td>\n",
       "    </tr>\n",
       "    <tr>\n",
       "      <th>...</th>\n",
       "      <td>...</td>\n",
       "      <td>...</td>\n",
       "      <td>...</td>\n",
       "      <td>...</td>\n",
       "      <td>...</td>\n",
       "      <td>...</td>\n",
       "      <td>...</td>\n",
       "      <td>...</td>\n",
       "      <td>...</td>\n",
       "      <td>...</td>\n",
       "      <td>...</td>\n",
       "    </tr>\n",
       "    <tr>\n",
       "      <th>5422</th>\n",
       "      <td>0</td>\n",
       "      <td>0</td>\n",
       "      <td>0</td>\n",
       "      <td>1</td>\n",
       "      <td>0</td>\n",
       "      <td>1</td>\n",
       "      <td>1</td>\n",
       "      <td>1</td>\n",
       "      <td>0</td>\n",
       "      <td>1</td>\n",
       "      <td>0</td>\n",
       "    </tr>\n",
       "    <tr>\n",
       "      <th>5423</th>\n",
       "      <td>0</td>\n",
       "      <td>1</td>\n",
       "      <td>1</td>\n",
       "      <td>1</td>\n",
       "      <td>0</td>\n",
       "      <td>1</td>\n",
       "      <td>0</td>\n",
       "      <td>0</td>\n",
       "      <td>0</td>\n",
       "      <td>1</td>\n",
       "      <td>0</td>\n",
       "    </tr>\n",
       "    <tr>\n",
       "      <th>5424</th>\n",
       "      <td>0</td>\n",
       "      <td>0</td>\n",
       "      <td>0</td>\n",
       "      <td>1</td>\n",
       "      <td>0</td>\n",
       "      <td>1</td>\n",
       "      <td>1</td>\n",
       "      <td>1</td>\n",
       "      <td>0</td>\n",
       "      <td>1</td>\n",
       "      <td>0</td>\n",
       "    </tr>\n",
       "    <tr>\n",
       "      <th>5425</th>\n",
       "      <td>0</td>\n",
       "      <td>0</td>\n",
       "      <td>0</td>\n",
       "      <td>1</td>\n",
       "      <td>0</td>\n",
       "      <td>1</td>\n",
       "      <td>1</td>\n",
       "      <td>1</td>\n",
       "      <td>0</td>\n",
       "      <td>1</td>\n",
       "      <td>0</td>\n",
       "    </tr>\n",
       "    <tr>\n",
       "      <th>5426</th>\n",
       "      <td>0</td>\n",
       "      <td>0</td>\n",
       "      <td>0</td>\n",
       "      <td>1</td>\n",
       "      <td>0</td>\n",
       "      <td>1</td>\n",
       "      <td>1</td>\n",
       "      <td>1</td>\n",
       "      <td>0</td>\n",
       "      <td>1</td>\n",
       "      <td>0</td>\n",
       "    </tr>\n",
       "  </tbody>\n",
       "</table>\n",
       "<p>182675 rows × 11 columns</p>\n",
       "</div>"
      ],
      "text/plain": [
       "      pred0_manual_cci  pred1_manual_prev_g1  pred2_manual_prev_g1_and_snp  \\\n",
       "3490                 0                     0                             0   \n",
       "3491                 0                     0                             0   \n",
       "3492                 0                     1                             1   \n",
       "3493                 0                     0                             0   \n",
       "3494                 0                     1                             1   \n",
       "...                ...                   ...                           ...   \n",
       "5422                 0                     0                             0   \n",
       "5423                 0                     1                             1   \n",
       "5424                 0                     0                             0   \n",
       "5425                 0                     0                             0   \n",
       "5426                 0                     0                             0   \n",
       "\n",
       "      pred3_manual_gdp_fastd  pred4_manual_gdp_wti_oil  is_correct_pred0  \\\n",
       "3490                       0                         0                 1   \n",
       "3491                       0                         0                 1   \n",
       "3492                       0                         0                 1   \n",
       "3493                       0                         0                 1   \n",
       "3494                       0                         0                 0   \n",
       "...                      ...                       ...               ...   \n",
       "5422                       1                         0                 1   \n",
       "5423                       1                         0                 1   \n",
       "5424                       1                         0                 1   \n",
       "5425                       1                         0                 1   \n",
       "5426                       1                         0                 1   \n",
       "\n",
       "      is_correct_pred1  is_correct_pred2  is_correct_pred3  is_correct_pred4  \\\n",
       "3490                 1                 1                 1                 1   \n",
       "3491                 1                 1                 1                 1   \n",
       "3492                 0                 0                 1                 1   \n",
       "3493                 1                 1                 1                 1   \n",
       "3494                 1                 1                 0                 0   \n",
       "...                ...               ...               ...               ...   \n",
       "5422                 1                 1                 0                 1   \n",
       "5423                 0                 0                 0                 1   \n",
       "5424                 1                 1                 0                 1   \n",
       "5425                 1                 1                 0                 1   \n",
       "5426                 1                 1                 0                 1   \n",
       "\n",
       "      is_positive_growth_5d_future  \n",
       "3490                             0  \n",
       "3491                             0  \n",
       "3492                             0  \n",
       "3493                             0  \n",
       "3494                             1  \n",
       "...                            ...  \n",
       "5422                             0  \n",
       "5423                             0  \n",
       "5424                             0  \n",
       "5425                             0  \n",
       "5426                             0  \n",
       "\n",
       "[182675 rows x 11 columns]"
      ]
     },
     "execution_count": 66,
     "metadata": {},
     "output_type": "execute_result"
    }
   ],
   "source": [
    "new_df[PREDICTIONS+IS_CORRECT+['is_positive_growth_5d_future']]"
   ]
  },
  {
   "cell_type": "code",
   "execution_count": 67,
   "metadata": {
    "colab": {
     "base_uri": "https://localhost:8080/"
    },
    "id": "qeKyzptN_hoA",
    "outputId": "247997d0-fc4b-44bb-baa3-55023385d2e5"
   },
   "outputs": [
    {
     "data": {
      "text/plain": [
       "29829"
      ]
     },
     "execution_count": 67,
     "metadata": {},
     "output_type": "execute_result"
    }
   ],
   "source": [
    "len(new_df[new_df.split=='test'])"
   ]
  },
  {
   "cell_type": "code",
   "execution_count": 68,
   "metadata": {
    "colab": {
     "base_uri": "https://localhost:8080/"
    },
    "id": "1b8gV4iXC9HV",
    "outputId": "adaa154c-1075-40de-956c-46808446363f"
   },
   "outputs": [
    {
     "name": "stdout",
     "output_type": "stream",
     "text": [
      "Prediction column:pred0_manual_cci , is_correct_column: is_correct_pred0\n",
      "is_correct_pred0\n",
      "1    455\n",
      "0    344\n",
      "Name: count, dtype: int64\n",
      "is_correct_pred0\n",
      "1    0.569462\n",
      "0    0.430538\n",
      "Name: count, dtype: float64\n",
      "---------\n",
      "Prediction column:pred1_manual_prev_g1 , is_correct_column: is_correct_pred1\n",
      "is_correct_pred1\n",
      "1    8621\n",
      "0    6980\n",
      "Name: count, dtype: int64\n",
      "is_correct_pred1\n",
      "1    0.552593\n",
      "0    0.447407\n",
      "Name: count, dtype: float64\n",
      "---------\n",
      "Prediction column:pred2_manual_prev_g1_and_snp , is_correct_column: is_correct_pred2\n",
      "is_correct_pred2\n",
      "1    5726\n",
      "0    4729\n",
      "Name: count, dtype: int64\n",
      "is_correct_pred2\n",
      "1    0.547681\n",
      "0    0.452319\n",
      "Name: count, dtype: float64\n",
      "---------\n",
      "Prediction column:pred3_manual_gdp_fastd , is_correct_column: is_correct_pred3\n",
      "is_correct_pred3\n",
      "1    16560\n",
      "0    13262\n",
      "Name: count, dtype: int64\n",
      "is_correct_pred3\n",
      "1    0.555295\n",
      "0    0.444705\n",
      "Name: count, dtype: float64\n",
      "---------\n",
      "Prediction column:pred4_manual_gdp_wti_oil , is_correct_column: is_correct_pred4\n",
      "Series([], Name: count, dtype: int64)\n",
      "Series([], Name: count, dtype: float64)\n",
      "---------\n"
     ]
    }
   ],
   "source": [
    "# define \"Precision\" for ALL predictions on a Test dataset (~4 last years of trading)\n",
    "for i,column in enumerate(IS_CORRECT):\n",
    "  prediction_column = PREDICTIONS[i]\n",
    "  is_correct_column = column\n",
    "  filter = (new_df.split=='test') & (new_df[prediction_column]==1)\n",
    "  print(f'Prediction column:{prediction_column} , is_correct_column: {is_correct_column}')\n",
    "  print(new_df[filter][is_correct_column].value_counts())\n",
    "  print(new_df[filter][is_correct_column].value_counts()/len(new_df[filter]))\n",
    "\n",
    "  print('---------')"
   ]
  },
  {
   "cell_type": "markdown",
   "metadata": {
    "id": "CjHY1B-1Bvtf"
   },
   "source": [
    "## 1.4) [Code Snippet 5] Binary Decision Tree"
   ]
  },
  {
   "cell_type": "code",
   "execution_count": 69,
   "metadata": {
    "id": "lMHrM1sdLdYc"
   },
   "outputs": [],
   "source": [
    "from sklearn.impute import SimpleImputer\n",
    "from sklearn.tree import DecisionTreeClassifier\n",
    "from sklearn.metrics import accuracy_score\n",
    "from sklearn.metrics import precision_score"
   ]
  },
  {
   "cell_type": "markdown",
   "metadata": {
    "id": "0oYKW8lodlM7"
   },
   "source": [
    "### 1.4.1) Define dataframes AND perform data cleaning\n",
    "* define X_train (dataframe), X_test (dataframe), y_train (series), y_test (series)\n",
    "* replace +-inf. with 0\n",
    "* fill NaNs with 0 (you can drop it too, but will loose a lot of data in our case\n",
    "* remove 1-2% outliers (in each dimension, or only in variable to_predict :: we won't use it for a Decision Tree"
   ]
  },
  {
   "cell_type": "code",
   "execution_count": 70,
   "metadata": {
    "id": "nNjsv3RtNjCu"
   },
   "outputs": [],
   "source": [
    "# Decision Tree doesn't like too large and inf. values\n",
    "import numpy as np\n",
    "\n",
    "def remove_infinite_values(X):\n",
    "    \"\"\"\n",
    "    Remove infinite values from the input array.\n",
    "\n",
    "    Parameters:\n",
    "    - X: Input array (NumPy array or array-like)\n",
    "\n",
    "    Returns:\n",
    "    - Array with infinite values removed\n",
    "    \"\"\"\n",
    "    return X[np.isfinite(X).all(axis=1)]\n",
    "\n",
    "# Example usage:\n",
    "# Assuming X is your input data\n",
    "# filtered_X = remove_infinite_values(X)"
   ]
  },
  {
   "cell_type": "code",
   "execution_count": 71,
   "metadata": {
    "colab": {
     "base_uri": "https://localhost:8080/"
    },
    "id": "NoiZYkfhQa_g",
    "outputId": "e45ab692-4426-4162-d32c-3c71b743051c"
   },
   "outputs": [
    {
     "name": "stdout",
     "output_type": "stream",
     "text": [
      "length: X_train (152846, 302),  X_test (29829, 302)\n"
     ]
    }
   ],
   "source": [
    "# Split the data into training and testing sets based on the split date\n",
    "features_list = NUMERICAL+DUMMIES\n",
    "to_predict = 'is_positive_growth_5d_future'\n",
    "\n",
    "train_df = new_df[new_df.split.isin(['train','validation'])].copy(deep=True)\n",
    "test_df = new_df[new_df.split.isin(['test'])].copy(deep=True)\n",
    "\n",
    "# ONLY numerical Separate features and target variable for training and testing sets\n",
    "# need Date and Ticker later when merging predictions to the dataset\n",
    "X_train = train_df[features_list+[to_predict,'Date','Ticker']]\n",
    "X_test = test_df[features_list+[to_predict,'Date','Ticker']]\n",
    "\n",
    "print(f'length: X_train {X_train.shape},  X_test {X_test.shape}')\n"
   ]
  },
  {
   "cell_type": "code",
   "execution_count": 72,
   "metadata": {
    "colab": {
     "base_uri": "https://localhost:8080/"
    },
    "id": "46GYMy7KRUB3",
    "outputId": "74d00099-fba8-4417-e778-6e16e0241c2e"
   },
   "outputs": [
    {
     "name": "stdout",
     "output_type": "stream",
     "text": [
      "length: X_train_imputed (152846, 302),  X_test_imputed (29829, 302)\n"
     ]
    }
   ],
   "source": [
    "# Can't have +-inf values . E.g. ln(volume)=-inf when volume==0 => substitute with 0\n",
    "\n",
    "# Disable SettingWithCopyWarning\n",
    "pd.options.mode.chained_assignment = None  # default='warn'\n",
    "\n",
    "X_train.replace([np.inf, -np.inf], np.nan, inplace=True)\n",
    "X_test.replace([np.inf, -np.inf], np.nan, inplace=True)\n",
    "\n",
    "# Need to fill NaNs somehow\n",
    "X_train.fillna(0, inplace=True)\n",
    "X_test.fillna(0, inplace=True)\n",
    "\n",
    "print(f'length: X_train_imputed {X_train.shape},  X_test_imputed {X_test.shape}')"
   ]
  },
  {
   "cell_type": "code",
   "execution_count": 73,
   "metadata": {
    "id": "GiJKy6vPWB19"
   },
   "outputs": [],
   "source": [
    "# you may want to remove 1-2% outliers based on percentile ==> not used here in Decision Trees\n",
    "def remove_outliers_percentile(X, lower_percentile=1, upper_percentile=99):\n",
    "    \"\"\"\n",
    "    Remove outliers from the input array based on percentiles.\n",
    "\n",
    "    Parameters:\n",
    "    - X: Input array (NumPy array or array-like)\n",
    "    - lower_percentile: Lower percentile threshold (float, default=1)\n",
    "    - upper_percentile: Upper percentile threshold (float, default=99)\n",
    "\n",
    "    Returns:\n",
    "    - Array with outliers removed\n",
    "    \"\"\"\n",
    "    lower_bound = np.percentile(X, lower_percentile, axis=0)\n",
    "    upper_bound = np.percentile(X, upper_percentile, axis=0)\n",
    "    mask = np.logical_and(np.all(X >= lower_bound, axis=1), np.all(X <= upper_bound, axis=1))\n",
    "    return X[mask]\n",
    "\n",
    "# Example usage:\n",
    "# Assuming X is your input data\n",
    "# filtered_X = remove_outliers_percentile(X, lower_percentile=1, upper_percentile=99)"
   ]
  },
  {
   "cell_type": "code",
   "execution_count": 74,
   "metadata": {
    "id": "8-NNrhAKWXr8"
   },
   "outputs": [],
   "source": [
    "X_train_imputed = X_train # we won't use outliers removal to save more data to train: remove_outliers_percentile(X_train)\n",
    "X_test_imputed = X_test # we won't use outliers removal to save more data to test: remove_outliers_percentile(X_test)"
   ]
  },
  {
   "cell_type": "code",
   "execution_count": 75,
   "metadata": {
    "colab": {
     "base_uri": "https://localhost:8080/"
    },
    "id": "FBXvMVKWWgSc",
    "outputId": "5424a261-b9af-4f9d-d5d9-c38753440ef3"
   },
   "outputs": [
    {
     "name": "stdout",
     "output_type": "stream",
     "text": [
      "length: X_train_imputed (152846, 302),  X_test_imputed (29829, 302)\n"
     ]
    }
   ],
   "source": [
    "# same shape\n",
    "print(f'length: X_train_imputed {X_train_imputed.shape},  X_test_imputed {X_test_imputed.shape}')"
   ]
  },
  {
   "cell_type": "code",
   "execution_count": 76,
   "metadata": {
    "id": "E6A_zhDLW0aC"
   },
   "outputs": [],
   "source": [
    "y_train = X_train_imputed[to_predict]\n",
    "y_test = X_test_imputed[to_predict]\n",
    "\n",
    "# remove y_train, y_test from X_ dataframes\n",
    "del X_train_imputed[to_predict]\n",
    "del X_test_imputed[to_predict]"
   ]
  },
  {
   "cell_type": "markdown",
   "metadata": {
    "id": "wUGSkY7yeO5F"
   },
   "source": [
    "### 1.4.2 Estimation of a Decision Tree model"
   ]
  },
  {
   "cell_type": "code",
   "execution_count": 78,
   "metadata": {
    "id": "tsSxJEireSeW"
   },
   "outputs": [],
   "source": [
    "# INPUTS:\n",
    "# X_train_imputed : CLEAN dataFrame with only numerical features (train+validation periods)\n",
    "# X_test_imputed : CLEAN dataFrame with only numerical features (test periods)\n",
    "\n",
    "# y_train : true values for the train period\n",
    "# y_test  : true values for the test period"
   ]
  },
  {
   "cell_type": "code",
   "execution_count": 119,
   "metadata": {
    "id": "QcJAw5w9R7pA"
   },
   "outputs": [],
   "source": [
    "# estimation/fit function (using dataframe of features X and what to predict y) --> optimising total accuracy\n",
    "# max_depth is hyperParameter\n",
    "def fit_decision_tree(X, y, max_depth=20):\n",
    "# Initialize the Decision Tree Classifier\n",
    "  clf = DecisionTreeClassifier(max_depth=max_depth)\n",
    "\n",
    "  # Fit the classifier to the training data\n",
    "  clf.fit(X, y)\n",
    "  return clf, X.columns"
   ]
  },
  {
   "cell_type": "code",
   "execution_count": 120,
   "metadata": {
    "colab": {
     "base_uri": "https://localhost:8080/"
    },
    "id": "ES96NQpefU2z",
    "outputId": "a9598b39-9d0a-4ec8-a1a8-756ae69f2667"
   },
   "outputs": [
    {
     "name": "stdout",
     "output_type": "stream",
     "text": [
      "CPU times: total: 21.5 s\n",
      "Wall time: 38.7 s\n"
     ]
    }
   ],
   "source": [
    "%%time\n",
    "# drop 2 columns before fitting the tree, but we need those columns later for joins\n",
    "clf_20, train_columns = fit_decision_tree(X=X_train_imputed.drop(['Date','Ticker'],axis=1),\n",
    "                           y=y_train,\n",
    "                           max_depth=20)"
   ]
  },
  {
   "cell_type": "code",
   "execution_count": 121,
   "metadata": {
    "colab": {
     "base_uri": "https://localhost:8080/"
    },
    "id": "ClqSfId-gbMW",
    "outputId": "3fb41805-a03f-479d-94ed-b3262402c261"
   },
   "outputs": [
    {
     "name": "stdout",
     "output_type": "stream",
     "text": [
      "CPU times: total: 12 s\n",
      "Wall time: 21.1 s\n"
     ]
    }
   ],
   "source": [
    "%%time\n",
    "clf_10, train_columns = fit_decision_tree(X=X_train_imputed.drop(['Date','Ticker'],axis=1),\n",
    "                           y=y_train,\n",
    "                           max_depth=10)"
   ]
  },
  {
   "cell_type": "code",
   "execution_count": 122,
   "metadata": {
    "id": "x74N7Brb-IAm"
   },
   "outputs": [],
   "source": [
    "# TODO 3: TRAIN only on train dataset, experiment with trees with depth 1..20 --> find the best one on VALID dataset\n",
    "#       for the \"best\" tree model: find precision on the TEST set"
   ]
  },
  {
   "cell_type": "markdown",
   "metadata": {
    "id": "3QbUrS7Ygm2G"
   },
   "source": [
    "### 1.4.3 Inference for a Decision Tree"
   ]
  },
  {
   "cell_type": "code",
   "execution_count": 123,
   "metadata": {
    "id": "csUq1CWISRCe"
   },
   "outputs": [],
   "source": [
    "def predict_decision_tree(clf:DecisionTreeClassifier, df_X:pd.DataFrame, y_true: pd.Series):\n",
    "  # Predict the target variable on the test data\n",
    "  y_pred = clf.predict(df_X)\n",
    "\n",
    "  max_depth = clf.tree_.max_depth\n",
    "  # Print the maximum depth\n",
    "  print(\"Maximum depth of the decision tree:\", max_depth)\n",
    "\n",
    "  # Calculate the accuracy/precision of the model\n",
    "  accuracy = accuracy_score(y_test, y_pred)\n",
    "  precision = precision_score(y_test, y_pred)\n",
    "  print(f'Accuracy ={accuracy}, precision = {precision}')\n",
    "\n",
    "  # resulting df\n",
    "  result_df = pd.concat([df_X, y_true, pd.Series(y_pred, index=df_X.index, name='pred_')], axis=1)\n",
    "\n",
    "  return result_df"
   ]
  },
  {
   "cell_type": "code",
   "execution_count": 124,
   "metadata": {
    "colab": {
     "base_uri": "https://localhost:8080/"
    },
    "id": "HQ72IOAaTE7N",
    "outputId": "5c41080f-dae9-4879-fda1-42eeb6efcade"
   },
   "outputs": [
    {
     "name": "stdout",
     "output_type": "stream",
     "text": [
      "Maximum depth of the decision tree: 20\n",
      "Accuracy =0.5217070635958295, precision = 0.5642649036306588\n"
     ]
    }
   ],
   "source": [
    "pred20 = predict_decision_tree(clf_20, X_test_imputed.drop(['Date','Ticker'],axis=1), y_test)"
   ]
  },
  {
   "cell_type": "code",
   "execution_count": 125,
   "metadata": {
    "colab": {
     "base_uri": "https://localhost:8080/"
    },
    "id": "dpPj5Zxqhm5x",
    "outputId": "1d8bc1d7-3bef-429e-87fb-31c1d307b4fa"
   },
   "outputs": [
    {
     "data": {
      "text/plain": [
       "pred_\n",
       "1    17848\n",
       "0    11981\n",
       "Name: count, dtype: int64"
      ]
     },
     "execution_count": 125,
     "metadata": {},
     "output_type": "execute_result"
    }
   ],
   "source": [
    "# Predictions of a decision tree of depth \"20\"\n",
    "pred20.pred_.value_counts()"
   ]
  },
  {
   "cell_type": "code",
   "execution_count": 126,
   "metadata": {
    "colab": {
     "base_uri": "https://localhost:8080/"
    },
    "id": "37DPFof2h-Cy",
    "outputId": "60c3c3dd-e991-4174-fcd8-6713c0ccdd25"
   },
   "outputs": [
    {
     "name": "stdout",
     "output_type": "stream",
     "text": [
      "Maximum depth of the decision tree: 10\n",
      "Accuracy =0.5567736095745751, precision = 0.5651936289818863\n"
     ]
    }
   ],
   "source": [
    "pred10 = predict_decision_tree(clf_10, X_test_imputed.drop(['Date','Ticker'],axis=1), y_test)"
   ]
  },
  {
   "cell_type": "code",
   "execution_count": 127,
   "metadata": {
    "colab": {
     "base_uri": "https://localhost:8080/",
     "height": 256
    },
    "id": "ZFmjznLr8tbH",
    "outputId": "831be672-f98a-42fe-e889-f12876764cc8"
   },
   "outputs": [
    {
     "data": {
      "text/html": [
       "<div>\n",
       "<style scoped>\n",
       "    .dataframe tbody tr th:only-of-type {\n",
       "        vertical-align: middle;\n",
       "    }\n",
       "\n",
       "    .dataframe tbody tr th {\n",
       "        vertical-align: top;\n",
       "    }\n",
       "\n",
       "    .dataframe thead th {\n",
       "        text-align: right;\n",
       "    }\n",
       "</style>\n",
       "<table border=\"1\" class=\"dataframe\">\n",
       "  <thead>\n",
       "    <tr style=\"text-align: right;\">\n",
       "      <th></th>\n",
       "      <th>growth_1d</th>\n",
       "      <th>growth_3d</th>\n",
       "      <th>growth_7d</th>\n",
       "      <th>growth_30d</th>\n",
       "      <th>growth_90d</th>\n",
       "      <th>growth_365d</th>\n",
       "      <th>growth_dax_1d</th>\n",
       "      <th>growth_dax_3d</th>\n",
       "      <th>growth_dax_7d</th>\n",
       "      <th>growth_dax_30d</th>\n",
       "      <th>...</th>\n",
       "      <th>October_w3</th>\n",
       "      <th>October_w4</th>\n",
       "      <th>October_w5</th>\n",
       "      <th>September_w1</th>\n",
       "      <th>September_w2</th>\n",
       "      <th>September_w3</th>\n",
       "      <th>September_w4</th>\n",
       "      <th>September_w5</th>\n",
       "      <th>is_positive_growth_5d_future</th>\n",
       "      <th>pred_</th>\n",
       "    </tr>\n",
       "  </thead>\n",
       "  <tbody>\n",
       "    <tr>\n",
       "      <th>5422</th>\n",
       "      <td>0.988994</td>\n",
       "      <td>0.984120</td>\n",
       "      <td>1.021587</td>\n",
       "      <td>1.015755</td>\n",
       "      <td>1.046955</td>\n",
       "      <td>1.793402</td>\n",
       "      <td>0.989726</td>\n",
       "      <td>1.000831</td>\n",
       "      <td>1.010983</td>\n",
       "      <td>0.999750</td>\n",
       "      <td>...</td>\n",
       "      <td>0</td>\n",
       "      <td>0</td>\n",
       "      <td>0</td>\n",
       "      <td>0</td>\n",
       "      <td>0</td>\n",
       "      <td>0</td>\n",
       "      <td>0</td>\n",
       "      <td>0</td>\n",
       "      <td>0</td>\n",
       "      <td>1</td>\n",
       "    </tr>\n",
       "    <tr>\n",
       "      <th>5423</th>\n",
       "      <td>1.001447</td>\n",
       "      <td>0.998419</td>\n",
       "      <td>0.996346</td>\n",
       "      <td>0.997589</td>\n",
       "      <td>1.031967</td>\n",
       "      <td>1.790292</td>\n",
       "      <td>0.998011</td>\n",
       "      <td>0.985435</td>\n",
       "      <td>1.001999</td>\n",
       "      <td>0.997982</td>\n",
       "      <td>...</td>\n",
       "      <td>0</td>\n",
       "      <td>0</td>\n",
       "      <td>0</td>\n",
       "      <td>0</td>\n",
       "      <td>0</td>\n",
       "      <td>0</td>\n",
       "      <td>0</td>\n",
       "      <td>0</td>\n",
       "      <td>0</td>\n",
       "      <td>1</td>\n",
       "    </tr>\n",
       "    <tr>\n",
       "      <th>5424</th>\n",
       "      <td>0.972302</td>\n",
       "      <td>0.962991</td>\n",
       "      <td>0.969433</td>\n",
       "      <td>0.989441</td>\n",
       "      <td>1.002348</td>\n",
       "      <td>1.738504</td>\n",
       "      <td>1.005873</td>\n",
       "      <td>0.993558</td>\n",
       "      <td>0.992499</td>\n",
       "      <td>1.000784</td>\n",
       "      <td>...</td>\n",
       "      <td>0</td>\n",
       "      <td>0</td>\n",
       "      <td>0</td>\n",
       "      <td>0</td>\n",
       "      <td>0</td>\n",
       "      <td>0</td>\n",
       "      <td>0</td>\n",
       "      <td>0</td>\n",
       "      <td>0</td>\n",
       "      <td>1</td>\n",
       "    </tr>\n",
       "    <tr>\n",
       "      <th>5425</th>\n",
       "      <td>0.989571</td>\n",
       "      <td>0.963553</td>\n",
       "      <td>0.952804</td>\n",
       "      <td>0.972509</td>\n",
       "      <td>0.989811</td>\n",
       "      <td>1.732523</td>\n",
       "      <td>1.009644</td>\n",
       "      <td>1.013553</td>\n",
       "      <td>1.004783</td>\n",
       "      <td>1.008886</td>\n",
       "      <td>...</td>\n",
       "      <td>0</td>\n",
       "      <td>0</td>\n",
       "      <td>0</td>\n",
       "      <td>0</td>\n",
       "      <td>0</td>\n",
       "      <td>0</td>\n",
       "      <td>0</td>\n",
       "      <td>0</td>\n",
       "      <td>0</td>\n",
       "      <td>1</td>\n",
       "    </tr>\n",
       "    <tr>\n",
       "      <th>5426</th>\n",
       "      <td>0.989735</td>\n",
       "      <td>0.952285</td>\n",
       "      <td>0.938518</td>\n",
       "      <td>0.978882</td>\n",
       "      <td>1.002706</td>\n",
       "      <td>1.737153</td>\n",
       "      <td>1.014021</td>\n",
       "      <td>1.029813</td>\n",
       "      <td>1.028619</td>\n",
       "      <td>1.013796</td>\n",
       "      <td>...</td>\n",
       "      <td>0</td>\n",
       "      <td>0</td>\n",
       "      <td>0</td>\n",
       "      <td>0</td>\n",
       "      <td>0</td>\n",
       "      <td>0</td>\n",
       "      <td>0</td>\n",
       "      <td>0</td>\n",
       "      <td>0</td>\n",
       "      <td>1</td>\n",
       "    </tr>\n",
       "  </tbody>\n",
       "</table>\n",
       "<p>5 rows × 301 columns</p>\n",
       "</div>"
      ],
      "text/plain": [
       "      growth_1d  growth_3d  growth_7d  growth_30d  growth_90d  growth_365d  \\\n",
       "5422   0.988994   0.984120   1.021587    1.015755    1.046955     1.793402   \n",
       "5423   1.001447   0.998419   0.996346    0.997589    1.031967     1.790292   \n",
       "5424   0.972302   0.962991   0.969433    0.989441    1.002348     1.738504   \n",
       "5425   0.989571   0.963553   0.952804    0.972509    0.989811     1.732523   \n",
       "5426   0.989735   0.952285   0.938518    0.978882    1.002706     1.737153   \n",
       "\n",
       "      growth_dax_1d  growth_dax_3d  growth_dax_7d  growth_dax_30d  ...  \\\n",
       "5422       0.989726       1.000831       1.010983        0.999750  ...   \n",
       "5423       0.998011       0.985435       1.001999        0.997982  ...   \n",
       "5424       1.005873       0.993558       0.992499        1.000784  ...   \n",
       "5425       1.009644       1.013553       1.004783        1.008886  ...   \n",
       "5426       1.014021       1.029813       1.028619        1.013796  ...   \n",
       "\n",
       "      October_w3  October_w4  October_w5  September_w1  September_w2  \\\n",
       "5422           0           0           0             0             0   \n",
       "5423           0           0           0             0             0   \n",
       "5424           0           0           0             0             0   \n",
       "5425           0           0           0             0             0   \n",
       "5426           0           0           0             0             0   \n",
       "\n",
       "      September_w3  September_w4  September_w5  is_positive_growth_5d_future  \\\n",
       "5422             0             0             0                             0   \n",
       "5423             0             0             0                             0   \n",
       "5424             0             0             0                             0   \n",
       "5425             0             0             0                             0   \n",
       "5426             0             0             0                             0   \n",
       "\n",
       "      pred_  \n",
       "5422      1  \n",
       "5423      1  \n",
       "5424      1  \n",
       "5425      1  \n",
       "5426      1  \n",
       "\n",
       "[5 rows x 301 columns]"
      ]
     },
     "execution_count": 127,
     "metadata": {},
     "output_type": "execute_result"
    }
   ],
   "source": [
    "pred10.tail()"
   ]
  },
  {
   "cell_type": "code",
   "execution_count": 128,
   "metadata": {
    "colab": {
     "base_uri": "https://localhost:8080/",
     "height": 342
    },
    "id": "NYuaQ7k-8eSu",
    "outputId": "25ff379c-0834-4b55-9523-a857ad675e61"
   },
   "outputs": [
    {
     "data": {
      "text/html": [
       "<div>\n",
       "<style scoped>\n",
       "    .dataframe tbody tr th:only-of-type {\n",
       "        vertical-align: middle;\n",
       "    }\n",
       "\n",
       "    .dataframe tbody tr th {\n",
       "        vertical-align: top;\n",
       "    }\n",
       "\n",
       "    .dataframe thead th {\n",
       "        text-align: right;\n",
       "    }\n",
       "</style>\n",
       "<table border=\"1\" class=\"dataframe\">\n",
       "  <thead>\n",
       "    <tr style=\"text-align: right;\">\n",
       "      <th></th>\n",
       "      <th>growth_1d</th>\n",
       "      <th>growth_3d</th>\n",
       "      <th>growth_7d</th>\n",
       "      <th>growth_30d</th>\n",
       "      <th>growth_90d</th>\n",
       "      <th>growth_365d</th>\n",
       "      <th>growth_dax_1d</th>\n",
       "      <th>growth_dax_3d</th>\n",
       "      <th>growth_dax_7d</th>\n",
       "      <th>growth_dax_30d</th>\n",
       "      <th>...</th>\n",
       "      <th>October_w4</th>\n",
       "      <th>October_w5</th>\n",
       "      <th>September_w1</th>\n",
       "      <th>September_w2</th>\n",
       "      <th>September_w3</th>\n",
       "      <th>September_w4</th>\n",
       "      <th>September_w5</th>\n",
       "      <th>Date</th>\n",
       "      <th>Ticker</th>\n",
       "      <th>pred_</th>\n",
       "    </tr>\n",
       "  </thead>\n",
       "  <tbody>\n",
       "    <tr>\n",
       "      <th>0</th>\n",
       "      <td>0.000000</td>\n",
       "      <td>0.000000</td>\n",
       "      <td>0.0</td>\n",
       "      <td>0.0</td>\n",
       "      <td>0.0</td>\n",
       "      <td>0.0</td>\n",
       "      <td>1.015866</td>\n",
       "      <td>1.032483</td>\n",
       "      <td>1.037417</td>\n",
       "      <td>0.981965</td>\n",
       "      <td>...</td>\n",
       "      <td>0</td>\n",
       "      <td>0</td>\n",
       "      <td>0</td>\n",
       "      <td>0</td>\n",
       "      <td>0</td>\n",
       "      <td>0</td>\n",
       "      <td>0</td>\n",
       "      <td>2022-05-17</td>\n",
       "      <td>LICI.NS</td>\n",
       "      <td>1</td>\n",
       "    </tr>\n",
       "    <tr>\n",
       "      <th>1</th>\n",
       "      <td>1.001257</td>\n",
       "      <td>0.000000</td>\n",
       "      <td>0.0</td>\n",
       "      <td>0.0</td>\n",
       "      <td>0.0</td>\n",
       "      <td>0.0</td>\n",
       "      <td>0.987440</td>\n",
       "      <td>0.998562</td>\n",
       "      <td>1.046865</td>\n",
       "      <td>0.964844</td>\n",
       "      <td>...</td>\n",
       "      <td>0</td>\n",
       "      <td>0</td>\n",
       "      <td>0</td>\n",
       "      <td>0</td>\n",
       "      <td>0</td>\n",
       "      <td>0</td>\n",
       "      <td>0</td>\n",
       "      <td>2022-05-18</td>\n",
       "      <td>LICI.NS</td>\n",
       "      <td>1</td>\n",
       "    </tr>\n",
       "    <tr>\n",
       "      <th>2</th>\n",
       "      <td>0.959491</td>\n",
       "      <td>0.000000</td>\n",
       "      <td>0.0</td>\n",
       "      <td>0.0</td>\n",
       "      <td>0.0</td>\n",
       "      <td>0.0</td>\n",
       "      <td>0.991044</td>\n",
       "      <td>0.994122</td>\n",
       "      <td>1.025679</td>\n",
       "      <td>0.962420</td>\n",
       "      <td>...</td>\n",
       "      <td>0</td>\n",
       "      <td>0</td>\n",
       "      <td>0</td>\n",
       "      <td>0</td>\n",
       "      <td>0</td>\n",
       "      <td>0</td>\n",
       "      <td>0</td>\n",
       "      <td>2022-05-19</td>\n",
       "      <td>LICI.NS</td>\n",
       "      <td>0</td>\n",
       "    </tr>\n",
       "    <tr>\n",
       "      <th>3</th>\n",
       "      <td>0.982518</td>\n",
       "      <td>0.943902</td>\n",
       "      <td>0.0</td>\n",
       "      <td>0.0</td>\n",
       "      <td>0.0</td>\n",
       "      <td>0.0</td>\n",
       "      <td>1.007175</td>\n",
       "      <td>0.985617</td>\n",
       "      <td>1.011084</td>\n",
       "      <td>0.988003</td>\n",
       "      <td>...</td>\n",
       "      <td>0</td>\n",
       "      <td>0</td>\n",
       "      <td>0</td>\n",
       "      <td>0</td>\n",
       "      <td>0</td>\n",
       "      <td>0</td>\n",
       "      <td>0</td>\n",
       "      <td>2022-05-20</td>\n",
       "      <td>LICI.NS</td>\n",
       "      <td>1</td>\n",
       "    </tr>\n",
       "    <tr>\n",
       "      <th>4</th>\n",
       "      <td>0.988743</td>\n",
       "      <td>0.932105</td>\n",
       "      <td>0.0</td>\n",
       "      <td>0.0</td>\n",
       "      <td>0.0</td>\n",
       "      <td>0.0</td>\n",
       "      <td>1.013839</td>\n",
       "      <td>1.011968</td>\n",
       "      <td>1.031716</td>\n",
       "      <td>1.006908</td>\n",
       "      <td>...</td>\n",
       "      <td>0</td>\n",
       "      <td>0</td>\n",
       "      <td>0</td>\n",
       "      <td>0</td>\n",
       "      <td>0</td>\n",
       "      <td>0</td>\n",
       "      <td>0</td>\n",
       "      <td>2022-05-23</td>\n",
       "      <td>LICI.NS</td>\n",
       "      <td>1</td>\n",
       "    </tr>\n",
       "  </tbody>\n",
       "</table>\n",
       "<p>5 rows × 302 columns</p>\n",
       "</div>"
      ],
      "text/plain": [
       "   growth_1d  growth_3d  growth_7d  growth_30d  growth_90d  growth_365d  \\\n",
       "0   0.000000   0.000000        0.0         0.0         0.0          0.0   \n",
       "1   1.001257   0.000000        0.0         0.0         0.0          0.0   \n",
       "2   0.959491   0.000000        0.0         0.0         0.0          0.0   \n",
       "3   0.982518   0.943902        0.0         0.0         0.0          0.0   \n",
       "4   0.988743   0.932105        0.0         0.0         0.0          0.0   \n",
       "\n",
       "   growth_dax_1d  growth_dax_3d  growth_dax_7d  growth_dax_30d  ...  \\\n",
       "0       1.015866       1.032483       1.037417        0.981965  ...   \n",
       "1       0.987440       0.998562       1.046865        0.964844  ...   \n",
       "2       0.991044       0.994122       1.025679        0.962420  ...   \n",
       "3       1.007175       0.985617       1.011084        0.988003  ...   \n",
       "4       1.013839       1.011968       1.031716        1.006908  ...   \n",
       "\n",
       "   October_w4  October_w5  September_w1  September_w2  September_w3  \\\n",
       "0           0           0             0             0             0   \n",
       "1           0           0             0             0             0   \n",
       "2           0           0             0             0             0   \n",
       "3           0           0             0             0             0   \n",
       "4           0           0             0             0             0   \n",
       "\n",
       "   September_w4  September_w5       Date   Ticker  pred_  \n",
       "0             0             0 2022-05-17  LICI.NS      1  \n",
       "1             0             0 2022-05-18  LICI.NS      1  \n",
       "2             0             0 2022-05-19  LICI.NS      0  \n",
       "3             0             0 2022-05-20  LICI.NS      1  \n",
       "4             0             0 2022-05-23  LICI.NS      1  \n",
       "\n",
       "[5 rows x 302 columns]"
      ]
     },
     "execution_count": 128,
     "metadata": {},
     "output_type": "execute_result"
    }
   ],
   "source": [
    "X_test_imputed.join(pred10['pred_']).head()"
   ]
  },
  {
   "cell_type": "code",
   "execution_count": 129,
   "metadata": {
    "colab": {
     "base_uri": "https://localhost:8080/"
    },
    "id": "x01xCtd9iLif",
    "outputId": "69bdf1a8-5019-42eb-90c6-fa90b8cab72b"
   },
   "outputs": [
    {
     "data": {
      "text/plain": [
       "pred_\n",
       "1    25616\n",
       "0     4213\n",
       "Name: count, dtype: int64"
      ]
     },
     "execution_count": 129,
     "metadata": {},
     "output_type": "execute_result"
    }
   ],
   "source": [
    "# Predictions of a decision tree of depth \"10\" : many more \"positive\" predictions\n",
    "pred10.pred_.value_counts()"
   ]
  },
  {
   "cell_type": "code",
   "execution_count": 130,
   "metadata": {
    "colab": {
     "base_uri": "https://localhost:8080/",
     "height": 81
    },
    "id": "_pgIZ95bmLD3",
    "outputId": "ff92db65-9b66-46c1-b437-1552db109e50"
   },
   "outputs": [
    {
     "data": {
      "text/html": [
       "<div>\n",
       "<style scoped>\n",
       "    .dataframe tbody tr th:only-of-type {\n",
       "        vertical-align: middle;\n",
       "    }\n",
       "\n",
       "    .dataframe tbody tr th {\n",
       "        vertical-align: top;\n",
       "    }\n",
       "\n",
       "    .dataframe thead th {\n",
       "        text-align: right;\n",
       "    }\n",
       "</style>\n",
       "<table border=\"1\" class=\"dataframe\">\n",
       "  <thead>\n",
       "    <tr style=\"text-align: right;\">\n",
       "      <th></th>\n",
       "      <th>pred_tree_clf20</th>\n",
       "    </tr>\n",
       "  </thead>\n",
       "  <tbody>\n",
       "    <tr>\n",
       "      <th>8697</th>\n",
       "      <td>0</td>\n",
       "    </tr>\n",
       "  </tbody>\n",
       "</table>\n",
       "</div>"
      ],
      "text/plain": [
       "      pred_tree_clf20\n",
       "8697                0"
      ]
     },
     "execution_count": 130,
     "metadata": {},
     "output_type": "execute_result"
    }
   ],
   "source": [
    "# define a new DF with the SAME index (used for joins)\n",
    "pred20_df = pred20[['pred_']].rename(columns={'pred_': 'pred_tree_clf20'})\n",
    "pred20_df.head(1)"
   ]
  },
  {
   "cell_type": "code",
   "execution_count": 131,
   "metadata": {
    "colab": {
     "base_uri": "https://localhost:8080/",
     "height": 81
    },
    "id": "4iA7XdbPlyQ3",
    "outputId": "f9a5e5ed-3cdf-415f-e94e-fb596d4fb947"
   },
   "outputs": [
    {
     "data": {
      "text/html": [
       "<div>\n",
       "<style scoped>\n",
       "    .dataframe tbody tr th:only-of-type {\n",
       "        vertical-align: middle;\n",
       "    }\n",
       "\n",
       "    .dataframe tbody tr th {\n",
       "        vertical-align: top;\n",
       "    }\n",
       "\n",
       "    .dataframe thead th {\n",
       "        text-align: right;\n",
       "    }\n",
       "</style>\n",
       "<table border=\"1\" class=\"dataframe\">\n",
       "  <thead>\n",
       "    <tr style=\"text-align: right;\">\n",
       "      <th></th>\n",
       "      <th>pred_tree_clf10</th>\n",
       "    </tr>\n",
       "  </thead>\n",
       "  <tbody>\n",
       "    <tr>\n",
       "      <th>8697</th>\n",
       "      <td>1</td>\n",
       "    </tr>\n",
       "  </tbody>\n",
       "</table>\n",
       "</div>"
      ],
      "text/plain": [
       "      pred_tree_clf10\n",
       "8697                1"
      ]
     },
     "execution_count": 131,
     "metadata": {},
     "output_type": "execute_result"
    }
   ],
   "source": [
    "# define a new DF with the SAME index (used for joins)\n",
    "pred10_df = pred10[['pred_']].rename(columns={'pred_': 'pred_tree_clf10'})\n",
    "pred10_df.head(1)"
   ]
  },
  {
   "cell_type": "markdown",
   "metadata": {
    "id": "U75FIcVJwlEg"
   },
   "source": [
    "### 1.4.4 Features Importance and Tree Visualisation of top levels (for clf10)"
   ]
  },
  {
   "cell_type": "code",
   "execution_count": 96,
   "metadata": {
    "id": "84F-Mk1P2sGb"
   },
   "outputs": [],
   "source": [
    "# Feautures importance function to predict future returns (based on the classifier)\n",
    "# get feature importance from 'clf' (classifier) and 'train_columns' (column names)\n",
    "\n",
    "def get_importances(clf, train_columns):\n",
    "  # Assuming clf is your trained DecisionTreeClassifier\n",
    "  feature_importance = clf.feature_importances_\n",
    "\n",
    "  # Assuming X_train is your training features\n",
    "  feature_names = train_columns\n",
    "\n",
    "  # Create a DataFrame to store feature importance\n",
    "  feature_importance_df = pd.DataFrame({'Feature': feature_names, 'Importance': feature_importance})\n",
    "\n",
    "  # Sort the DataFrame by importance in descending order\n",
    "  feature_importance_df = feature_importance_df.sort_values(by='Importance', ascending=False)\n",
    "\n",
    "  # Print or display the feature importance DataFrame\n",
    "  # print(feature_importance_df)\n",
    "  return feature_importance_df"
   ]
  },
  {
   "cell_type": "code",
   "execution_count": 132,
   "metadata": {
    "colab": {
     "base_uri": "https://localhost:8080/",
     "height": 363
    },
    "id": "kvOEn1v_2uHM",
    "outputId": "2b492ef7-5371-48da-d6ba-9b8242e112e0"
   },
   "outputs": [
    {
     "data": {
      "text/html": [
       "<div>\n",
       "<style scoped>\n",
       "    .dataframe tbody tr th:only-of-type {\n",
       "        vertical-align: middle;\n",
       "    }\n",
       "\n",
       "    .dataframe tbody tr th {\n",
       "        vertical-align: top;\n",
       "    }\n",
       "\n",
       "    .dataframe thead th {\n",
       "        text-align: right;\n",
       "    }\n",
       "</style>\n",
       "<table border=\"1\" class=\"dataframe\">\n",
       "  <thead>\n",
       "    <tr style=\"text-align: right;\">\n",
       "      <th></th>\n",
       "      <th>Feature</th>\n",
       "      <th>Importance</th>\n",
       "    </tr>\n",
       "  </thead>\n",
       "  <tbody>\n",
       "    <tr>\n",
       "      <th>41</th>\n",
       "      <td>growth_wti_oil_365d</td>\n",
       "      <td>0.059356</td>\n",
       "    </tr>\n",
       "    <tr>\n",
       "      <th>35</th>\n",
       "      <td>growth_gold_365d</td>\n",
       "      <td>0.049690</td>\n",
       "    </tr>\n",
       "    <tr>\n",
       "      <th>178</th>\n",
       "      <td>cpi_core_yoy</td>\n",
       "      <td>0.037471</td>\n",
       "    </tr>\n",
       "    <tr>\n",
       "      <th>183</th>\n",
       "      <td>DGS10</td>\n",
       "      <td>0.036060</td>\n",
       "    </tr>\n",
       "    <tr>\n",
       "      <th>22</th>\n",
       "      <td>growth_dji_90d</td>\n",
       "      <td>0.035342</td>\n",
       "    </tr>\n",
       "    <tr>\n",
       "      <th>17</th>\n",
       "      <td>growth_snp500_365d</td>\n",
       "      <td>0.034703</td>\n",
       "    </tr>\n",
       "    <tr>\n",
       "      <th>39</th>\n",
       "      <td>growth_wti_oil_30d</td>\n",
       "      <td>0.025679</td>\n",
       "    </tr>\n",
       "    <tr>\n",
       "      <th>177</th>\n",
       "      <td>gdppot_us_qoq</td>\n",
       "      <td>0.025175</td>\n",
       "    </tr>\n",
       "    <tr>\n",
       "      <th>33</th>\n",
       "      <td>growth_gold_30d</td>\n",
       "      <td>0.025114</td>\n",
       "    </tr>\n",
       "    <tr>\n",
       "      <th>292</th>\n",
       "      <td>October_w4</td>\n",
       "      <td>0.023880</td>\n",
       "    </tr>\n",
       "  </tbody>\n",
       "</table>\n",
       "</div>"
      ],
      "text/plain": [
       "                 Feature  Importance\n",
       "41   growth_wti_oil_365d    0.059356\n",
       "35      growth_gold_365d    0.049690\n",
       "178         cpi_core_yoy    0.037471\n",
       "183                DGS10    0.036060\n",
       "22        growth_dji_90d    0.035342\n",
       "17    growth_snp500_365d    0.034703\n",
       "39    growth_wti_oil_30d    0.025679\n",
       "177        gdppot_us_qoq    0.025175\n",
       "33       growth_gold_30d    0.025114\n",
       "292           October_w4    0.023880"
      ]
     },
     "execution_count": 132,
     "metadata": {},
     "output_type": "execute_result"
    }
   ],
   "source": [
    "get_importances(clf_10, train_columns).head(10)"
   ]
  },
  {
   "cell_type": "code",
   "execution_count": 133,
   "metadata": {
    "colab": {
     "base_uri": "https://localhost:8080/",
     "height": 363
    },
    "id": "abAwJp8R27gN",
    "outputId": "5475263f-e21d-4461-bd97-9a8b75c07d53"
   },
   "outputs": [
    {
     "data": {
      "text/html": [
       "<div>\n",
       "<style scoped>\n",
       "    .dataframe tbody tr th:only-of-type {\n",
       "        vertical-align: middle;\n",
       "    }\n",
       "\n",
       "    .dataframe tbody tr th {\n",
       "        vertical-align: top;\n",
       "    }\n",
       "\n",
       "    .dataframe thead th {\n",
       "        text-align: right;\n",
       "    }\n",
       "</style>\n",
       "<table border=\"1\" class=\"dataframe\">\n",
       "  <thead>\n",
       "    <tr style=\"text-align: right;\">\n",
       "      <th></th>\n",
       "      <th>Feature</th>\n",
       "      <th>Importance</th>\n",
       "    </tr>\n",
       "  </thead>\n",
       "  <tbody>\n",
       "    <tr>\n",
       "      <th>35</th>\n",
       "      <td>growth_gold_365d</td>\n",
       "      <td>0.021256</td>\n",
       "    </tr>\n",
       "    <tr>\n",
       "      <th>5</th>\n",
       "      <td>growth_365d</td>\n",
       "      <td>0.020509</td>\n",
       "    </tr>\n",
       "    <tr>\n",
       "      <th>97</th>\n",
       "      <td>natr</td>\n",
       "      <td>0.019369</td>\n",
       "    </tr>\n",
       "    <tr>\n",
       "      <th>41</th>\n",
       "      <td>growth_wti_oil_365d</td>\n",
       "      <td>0.018171</td>\n",
       "    </tr>\n",
       "    <tr>\n",
       "      <th>95</th>\n",
       "      <td>obv</td>\n",
       "      <td>0.016472</td>\n",
       "    </tr>\n",
       "    <tr>\n",
       "      <th>39</th>\n",
       "      <td>growth_wti_oil_30d</td>\n",
       "      <td>0.016265</td>\n",
       "    </tr>\n",
       "    <tr>\n",
       "      <th>98</th>\n",
       "      <td>ht_dcperiod</td>\n",
       "      <td>0.016137</td>\n",
       "    </tr>\n",
       "    <tr>\n",
       "      <th>55</th>\n",
       "      <td>adxr</td>\n",
       "      <td>0.015950</td>\n",
       "    </tr>\n",
       "    <tr>\n",
       "      <th>178</th>\n",
       "      <td>cpi_core_yoy</td>\n",
       "      <td>0.015799</td>\n",
       "    </tr>\n",
       "    <tr>\n",
       "      <th>90</th>\n",
       "      <td>trix</td>\n",
       "      <td>0.015667</td>\n",
       "    </tr>\n",
       "  </tbody>\n",
       "</table>\n",
       "</div>"
      ],
      "text/plain": [
       "                 Feature  Importance\n",
       "35      growth_gold_365d    0.021256\n",
       "5            growth_365d    0.020509\n",
       "97                  natr    0.019369\n",
       "41   growth_wti_oil_365d    0.018171\n",
       "95                   obv    0.016472\n",
       "39    growth_wti_oil_30d    0.016265\n",
       "98           ht_dcperiod    0.016137\n",
       "55                  adxr    0.015950\n",
       "178         cpi_core_yoy    0.015799\n",
       "90                  trix    0.015667"
      ]
     },
     "execution_count": 133,
     "metadata": {},
     "output_type": "execute_result"
    }
   ],
   "source": [
    "get_importances(clf_20, train_columns).head(10)"
   ]
  },
  {
   "cell_type": "markdown",
   "metadata": {
    "id": "GM3yxUwxmYpI"
   },
   "source": [
    "### 1.4.5 Merge with the original df for predictions (only when predicted on test dataset)"
   ]
  },
  {
   "cell_type": "code",
   "execution_count": 134,
   "metadata": {
    "colab": {
     "base_uri": "https://localhost:8080/"
    },
    "id": "9WgTBvWxidv0",
    "outputId": "20378414-7607-4e39-f6d5-1065c95f9bba"
   },
   "outputs": [
    {
     "data": {
      "text/plain": [
       "['pred0_manual_cci',\n",
       " 'pred1_manual_prev_g1',\n",
       " 'pred2_manual_prev_g1_and_snp',\n",
       " 'pred3_manual_gdp_fastd',\n",
       " 'pred4_manual_gdp_wti_oil']"
      ]
     },
     "execution_count": 134,
     "metadata": {},
     "output_type": "execute_result"
    }
   ],
   "source": [
    "# current predictions from MANUAL\n",
    "PREDICTIONS"
   ]
  },
  {
   "cell_type": "code",
   "execution_count": 135,
   "metadata": {
    "colab": {
     "base_uri": "https://localhost:8080/",
     "height": 273
    },
    "id": "5-Ew-Mpxi7O3",
    "outputId": "ddd07483-9148-4cc3-af37-1f367af5e978"
   },
   "outputs": [
    {
     "data": {
      "text/html": [
       "<div>\n",
       "<style scoped>\n",
       "    .dataframe tbody tr th:only-of-type {\n",
       "        vertical-align: middle;\n",
       "    }\n",
       "\n",
       "    .dataframe tbody tr th {\n",
       "        vertical-align: top;\n",
       "    }\n",
       "\n",
       "    .dataframe thead th {\n",
       "        text-align: right;\n",
       "    }\n",
       "</style>\n",
       "<table border=\"1\" class=\"dataframe\">\n",
       "  <thead>\n",
       "    <tr style=\"text-align: right;\">\n",
       "      <th></th>\n",
       "      <th>Open</th>\n",
       "      <th>High</th>\n",
       "      <th>Low</th>\n",
       "      <th>Close</th>\n",
       "      <th>Adj Close_x</th>\n",
       "      <th>Volume</th>\n",
       "      <th>Ticker</th>\n",
       "      <th>Year</th>\n",
       "      <th>Month</th>\n",
       "      <th>Weekday</th>\n",
       "      <th>...</th>\n",
       "      <th>pred0_manual_cci</th>\n",
       "      <th>pred1_manual_prev_g1</th>\n",
       "      <th>pred2_manual_prev_g1_and_snp</th>\n",
       "      <th>pred3_manual_gdp_fastd</th>\n",
       "      <th>pred4_manual_gdp_wti_oil</th>\n",
       "      <th>is_correct_pred0</th>\n",
       "      <th>is_correct_pred1</th>\n",
       "      <th>is_correct_pred2</th>\n",
       "      <th>is_correct_pred3</th>\n",
       "      <th>is_correct_pred4</th>\n",
       "    </tr>\n",
       "  </thead>\n",
       "  <tbody>\n",
       "    <tr>\n",
       "      <th>3490</th>\n",
       "      <td>58.68750</td>\n",
       "      <td>59.3125</td>\n",
       "      <td>56.00000</td>\n",
       "      <td>58.28125</td>\n",
       "      <td>36.065567</td>\n",
       "      <td>53228400.0</td>\n",
       "      <td>MSFT</td>\n",
       "      <td>2000</td>\n",
       "      <td>January</td>\n",
       "      <td>0</td>\n",
       "      <td>...</td>\n",
       "      <td>0</td>\n",
       "      <td>0</td>\n",
       "      <td>0</td>\n",
       "      <td>0</td>\n",
       "      <td>0</td>\n",
       "      <td>1</td>\n",
       "      <td>1</td>\n",
       "      <td>1</td>\n",
       "      <td>1</td>\n",
       "      <td>1</td>\n",
       "    </tr>\n",
       "    <tr>\n",
       "      <th>3491</th>\n",
       "      <td>56.78125</td>\n",
       "      <td>58.5625</td>\n",
       "      <td>56.12500</td>\n",
       "      <td>56.31250</td>\n",
       "      <td>34.847271</td>\n",
       "      <td>54119000.0</td>\n",
       "      <td>MSFT</td>\n",
       "      <td>2000</td>\n",
       "      <td>January</td>\n",
       "      <td>1</td>\n",
       "      <td>...</td>\n",
       "      <td>0</td>\n",
       "      <td>0</td>\n",
       "      <td>0</td>\n",
       "      <td>0</td>\n",
       "      <td>0</td>\n",
       "      <td>1</td>\n",
       "      <td>1</td>\n",
       "      <td>1</td>\n",
       "      <td>1</td>\n",
       "      <td>1</td>\n",
       "    </tr>\n",
       "    <tr>\n",
       "      <th>3492</th>\n",
       "      <td>55.56250</td>\n",
       "      <td>58.1875</td>\n",
       "      <td>54.68750</td>\n",
       "      <td>56.90625</td>\n",
       "      <td>35.214706</td>\n",
       "      <td>64059600.0</td>\n",
       "      <td>MSFT</td>\n",
       "      <td>2000</td>\n",
       "      <td>January</td>\n",
       "      <td>2</td>\n",
       "      <td>...</td>\n",
       "      <td>0</td>\n",
       "      <td>1</td>\n",
       "      <td>1</td>\n",
       "      <td>0</td>\n",
       "      <td>0</td>\n",
       "      <td>1</td>\n",
       "      <td>0</td>\n",
       "      <td>0</td>\n",
       "      <td>1</td>\n",
       "      <td>1</td>\n",
       "    </tr>\n",
       "    <tr>\n",
       "      <th>3493</th>\n",
       "      <td>56.09375</td>\n",
       "      <td>56.9375</td>\n",
       "      <td>54.18750</td>\n",
       "      <td>55.00000</td>\n",
       "      <td>34.035072</td>\n",
       "      <td>54976600.0</td>\n",
       "      <td>MSFT</td>\n",
       "      <td>2000</td>\n",
       "      <td>January</td>\n",
       "      <td>3</td>\n",
       "      <td>...</td>\n",
       "      <td>0</td>\n",
       "      <td>0</td>\n",
       "      <td>0</td>\n",
       "      <td>0</td>\n",
       "      <td>0</td>\n",
       "      <td>1</td>\n",
       "      <td>1</td>\n",
       "      <td>1</td>\n",
       "      <td>1</td>\n",
       "      <td>1</td>\n",
       "    </tr>\n",
       "    <tr>\n",
       "      <th>3494</th>\n",
       "      <td>54.31250</td>\n",
       "      <td>56.1250</td>\n",
       "      <td>53.65625</td>\n",
       "      <td>55.71875</td>\n",
       "      <td>34.479843</td>\n",
       "      <td>62013600.0</td>\n",
       "      <td>MSFT</td>\n",
       "      <td>2000</td>\n",
       "      <td>January</td>\n",
       "      <td>4</td>\n",
       "      <td>...</td>\n",
       "      <td>0</td>\n",
       "      <td>1</td>\n",
       "      <td>1</td>\n",
       "      <td>0</td>\n",
       "      <td>0</td>\n",
       "      <td>0</td>\n",
       "      <td>1</td>\n",
       "      <td>1</td>\n",
       "      <td>0</td>\n",
       "      <td>0</td>\n",
       "    </tr>\n",
       "  </tbody>\n",
       "</table>\n",
       "<p>5 rows × 332 columns</p>\n",
       "</div>"
      ],
      "text/plain": [
       "          Open     High       Low     Close  Adj Close_x      Volume Ticker  \\\n",
       "3490  58.68750  59.3125  56.00000  58.28125    36.065567  53228400.0   MSFT   \n",
       "3491  56.78125  58.5625  56.12500  56.31250    34.847271  54119000.0   MSFT   \n",
       "3492  55.56250  58.1875  54.68750  56.90625    35.214706  64059600.0   MSFT   \n",
       "3493  56.09375  56.9375  54.18750  55.00000    34.035072  54976600.0   MSFT   \n",
       "3494  54.31250  56.1250  53.65625  55.71875    34.479843  62013600.0   MSFT   \n",
       "\n",
       "      Year    Month Weekday  ... pred0_manual_cci  pred1_manual_prev_g1  \\\n",
       "3490  2000  January       0  ...                0                     0   \n",
       "3491  2000  January       1  ...                0                     0   \n",
       "3492  2000  January       2  ...                0                     1   \n",
       "3493  2000  January       3  ...                0                     0   \n",
       "3494  2000  January       4  ...                0                     1   \n",
       "\n",
       "      pred2_manual_prev_g1_and_snp  pred3_manual_gdp_fastd  \\\n",
       "3490                             0                       0   \n",
       "3491                             0                       0   \n",
       "3492                             1                       0   \n",
       "3493                             0                       0   \n",
       "3494                             1                       0   \n",
       "\n",
       "      pred4_manual_gdp_wti_oil  is_correct_pred0  is_correct_pred1  \\\n",
       "3490                         0                 1                 1   \n",
       "3491                         0                 1                 1   \n",
       "3492                         0                 1                 0   \n",
       "3493                         0                 1                 1   \n",
       "3494                         0                 0                 1   \n",
       "\n",
       "      is_correct_pred2  is_correct_pred3  is_correct_pred4  \n",
       "3490                 1                 1                 1  \n",
       "3491                 1                 1                 1  \n",
       "3492                 0                 1                 1  \n",
       "3493                 1                 1                 1  \n",
       "3494                 1                 0                 0  \n",
       "\n",
       "[5 rows x 332 columns]"
      ]
     },
     "execution_count": 135,
     "metadata": {},
     "output_type": "execute_result"
    }
   ],
   "source": [
    "new_df.head()"
   ]
  },
  {
   "cell_type": "code",
   "execution_count": 136,
   "metadata": {
    "colab": {
     "base_uri": "https://localhost:8080/"
    },
    "id": "wjlrnD3h9htb",
    "outputId": "6feb7caf-c13f-422f-ef5b-b4522144a5e5"
   },
   "outputs": [
    {
     "data": {
      "text/plain": [
       "array([ 1,  1,  1, ..., 27, 27, 27], dtype=int64)"
      ]
     },
     "execution_count": 136,
     "metadata": {},
     "output_type": "execute_result"
    }
   ],
   "source": [
    "# index in df is not unique\n",
    "np.sort(new_df.groupby(new_df.index).split.count())"
   ]
  },
  {
   "cell_type": "code",
   "execution_count": 137,
   "metadata": {
    "colab": {
     "base_uri": "https://localhost:8080/",
     "height": 206
    },
    "id": "NSFV3LEC5a7y",
    "outputId": "4439ba63-6321-49f7-da47-c773c7e278bd"
   },
   "outputs": [
    {
     "data": {
      "text/html": [
       "<div>\n",
       "<style scoped>\n",
       "    .dataframe tbody tr th:only-of-type {\n",
       "        vertical-align: middle;\n",
       "    }\n",
       "\n",
       "    .dataframe tbody tr th {\n",
       "        vertical-align: top;\n",
       "    }\n",
       "\n",
       "    .dataframe thead th {\n",
       "        text-align: right;\n",
       "    }\n",
       "</style>\n",
       "<table border=\"1\" class=\"dataframe\">\n",
       "  <thead>\n",
       "    <tr style=\"text-align: right;\">\n",
       "      <th></th>\n",
       "      <th>pred_tree_clf10</th>\n",
       "    </tr>\n",
       "  </thead>\n",
       "  <tbody>\n",
       "    <tr>\n",
       "      <th>8697</th>\n",
       "      <td>1</td>\n",
       "    </tr>\n",
       "    <tr>\n",
       "      <th>8698</th>\n",
       "      <td>1</td>\n",
       "    </tr>\n",
       "    <tr>\n",
       "      <th>8699</th>\n",
       "      <td>1</td>\n",
       "    </tr>\n",
       "    <tr>\n",
       "      <th>8700</th>\n",
       "      <td>1</td>\n",
       "    </tr>\n",
       "    <tr>\n",
       "      <th>8701</th>\n",
       "      <td>1</td>\n",
       "    </tr>\n",
       "  </tbody>\n",
       "</table>\n",
       "</div>"
      ],
      "text/plain": [
       "      pred_tree_clf10\n",
       "8697                1\n",
       "8698                1\n",
       "8699                1\n",
       "8700                1\n",
       "8701                1"
      ]
     },
     "execution_count": 137,
     "metadata": {},
     "output_type": "execute_result"
    }
   ],
   "source": [
    "# it's hard to join with pred10_df - as index is totally different\n",
    "pred10_df.head()"
   ]
  },
  {
   "cell_type": "markdown",
   "metadata": {},
   "source": [
    "Question 3 (1 point): Unique correct predictions from a 10-levels deep Decision Tree Classifier (pred5_clf_10)\n",
    "\n",
    "What is the total number of records in the TEST dataset when the new prediction pred5_clf_10 is better than all 'hand' rules (pred0..pred4)?\n",
    "\n",
    "NOTE: please include random_state=42 to Decision Tree Classifier init function (line clf = DecisionTreeClassifier(max_depth=max_depth, random_state=42)) to ensure everyone gets the same results.\n",
    "\n",
    "Suggested solution:\n",
    "\n",
    "    Step1: Rewrite the '1.4.3 Inference for a decision tree' piece for the Decision Tree Classifier with max_depth=10 (clf_10), so that you fit the model on TRAIN+VALIDATION sets (unchanged from the lecture), but predict on the whole set X_all (to be able to define a new column 'pred5_clf_10' in the dataframe new_df). Here is the link with explanation. It will solve the problem in 1.4.5 when predictions were made only for Test dataset and couldn't be easily joined with the full dataset.\n",
    "\n",
    "    Step2: Once you have it, define a new column 'only_pred5_is_correct' similar to 'hand' prediction rules with several conditions: is_positive_growth_5d_future AND is_correct_pred5 should be equal 1, while all other predictions is_correct_pred0..is_correct_pred4 should be equal to 0.\n",
    "\n",
    "    Step3: Convert 'only_pred5_is_correct' column from bool to int, and find how many times it is equal to 1 in the TEST set. Write down this as an answer.\n",
    "\n",
    "ADVANCED: define a function that can be applied to the whole row of predictions (a few examples of pandas-apply-row-functions) and can find whether some prediction 'predX' (where X is one of the predictions) is uniquely correct. It should work even if there are 100 predictions available, so that you don't define manually the condition for 'predX'."
   ]
  },
  {
   "cell_type": "code",
   "execution_count": 139,
   "metadata": {},
   "outputs": [
    {
     "name": "stdout",
     "output_type": "stream",
     "text": [
      "Total number of records where pred5_clf_10 is better than all \"hand\" rules: 1\n"
     ]
    }
   ],
   "source": [
    "# Make predictions on the TEST dataset using clf_10\n",
    "test_predictions = clf_10.predict(X_test_imputed.drop(['Date', 'Ticker'], axis=1))\n",
    "pred_series = pd.Series(test_predictions, dtype=int)\n",
    "\n",
    "# Create a mask for the TEST dataset\n",
    "test_mask = new_df[\"split\"] == \"test\"\n",
    "\n",
    "# Add the new predictions to new_df\n",
    "new_df.loc[test_mask, \"pred5_clf_10\"] = pred_series\n",
    "\n",
    "# Extract columns for pred0 to pred4 for comparison\n",
    "pred0_to_4 = new_df.loc[test_mask, new_df.columns.str.contains(r\"^pred[0-4]\")]\n",
    "\n",
    "# Identify where all 'hand' rules fail\n",
    "manual_all_fail = (pred0_to_4.values != new_df.loc[test_mask, to_predict].values[:, np.newaxis]).all(axis=1)\n",
    "\n",
    "# Identify where pred5_clf_10 is correct\n",
    "pred5_correct = new_df.loc[test_mask, to_predict].values == new_df.loc[test_mask, \"pred5_clf_10\"].values\n",
    "\n",
    "# Count the records where all 'hand' rules fail but pred5_clf_10 is correct\n",
    "better_pred5_count = (manual_all_fail & pred5_correct).sum()\n",
    "\n",
    "print(f'Total number of records where pred5_clf_10 is better than all \"hand\" rules: {better_pred5_count}')\n"
   ]
  },
  {
   "cell_type": "code",
   "execution_count": 134,
   "metadata": {
    "id": "z3scA_5KnLbZ"
   },
   "outputs": [],
   "source": [
    "# TODO 4: JOIN predictions with the original dataframe (define a new column):\n",
    "#  so, that there are columns pred_tree_clf10 AND pred_tree_clf20"
   ]
  },
  {
   "cell_type": "markdown",
   "metadata": {},
   "source": [
    "Question 4: (2 points) Hyperparameter tuning for a Decision Tree\n",
    "\n",
    "What is the optimal tree depth (from 1 to 20) for a DecisionTreeClassifier?\n",
    "\n",
    "NOTE: please include random_state=42 to Decision Tree Classifier init function (line clf = DecisionTreeClassifier(max_depth=max_depth, random_state=42)) to ensure consistency in results.\n",
    "\n",
    "Follow these steps to find the optimal max_depth:\n",
    "\n",
    "    Iterate through max_depth values from 1 to 20.\n",
    "    Train the Decision Tree Classifier with the current max_depth parameter.\n",
    "    Optionally, visualize how the 'head' of each fitted tree changes with more advanced (=deep) trees. You can use the sklearn.tree.plot_tree() function, or the compact way with the export_text() functionality (Stack Overflow example):\n",
    "\n",
    "    from sklearn.tree import export_text\n",
    "    tree_rules = export_text(model, feature_names=list(X_train), max_depth=3)\n",
    "    print(tree_rules)\n",
    "\n",
    "    Calculate the precision score (you can use the function sklearn.metrics.precision_score()) on the TEST dataset for each of the fitted trees. You can also compare it with the precision score on a VALIDATION dataset, which is included to the training phase (to have more data to train on). You should see that the precision score on a VALIDATION set starts to grow with the complexity of a tree (overfit), which isn't seen on the precision score on TEST.\n",
    "    Identify the optimal max_depth, where the precision score is the highest on the TEST dataset. Record this value as best_max_depth and submit as an answer.\n",
    "    Make predictions on all records (TRAIN+VALIDATION+TEST) and add the new prediction pred6_clf_best to the dataframe new_df.\n",
    "\n",
    "Additionally, compare the precision score of the tuned decision tree with previous predictions. You should observe an improvement (>0.58, or more than 58% precision), indicating that the tuned tree outperforms previous manual \"hand\" rules and Decision Tree predictions.\n",
    "\n",
    "ADVANCED: Read more about different aspects of scikit-learn Decision Trees. Draw a line of precision/accuracy vs. max_depth and note whether there's a saturation point of precision/accuracy as max_depth increases. In theory, there should be a trade-off between better fitting (=more complex trees) and generalization."
   ]
  },
  {
   "cell_type": "code",
   "execution_count": 147,
   "metadata": {},
   "outputs": [
    {
     "name": "stdout",
     "output_type": "stream",
     "text": [
      "Evaluating max_depth=1\n",
      "Accuracy: 0.555\t Precision: 0.555\n",
      "Evaluating max_depth=2\n",
      "Accuracy: 0.555\t Precision: 0.555\n",
      "Evaluating max_depth=3\n",
      "Accuracy: 0.555\t Precision: 0.555\n",
      "Evaluating max_depth=4\n",
      "Accuracy: 0.555\t Precision: 0.555\n",
      "Evaluating max_depth=5\n",
      "Accuracy: 0.556\t Precision: 0.555\n",
      "Evaluating max_depth=6\n",
      "Accuracy: 0.568\t Precision: 0.571\n",
      "Evaluating max_depth=7\n",
      "Accuracy: 0.565\t Precision: 0.568\n",
      "Evaluating max_depth=8\n",
      "Accuracy: 0.565\t Precision: 0.568\n",
      "Evaluating max_depth=9\n",
      "Accuracy: 0.567\t Precision: 0.570\n",
      "Evaluating max_depth=10\n",
      "Accuracy: 0.557\t Precision: 0.565\n",
      "Evaluating max_depth=11\n",
      "Accuracy: 0.552\t Precision: 0.567\n",
      "Evaluating max_depth=12\n",
      "Accuracy: 0.547\t Precision: 0.572\n",
      "Evaluating max_depth=13\n",
      "Accuracy: 0.549\t Precision: 0.571\n",
      "Evaluating max_depth=14\n",
      "Accuracy: 0.547\t Precision: 0.584\n",
      "Evaluating max_depth=15\n",
      "Accuracy: 0.560\t Precision: 0.586\n",
      "Evaluating max_depth=16\n",
      "Accuracy: 0.540\t Precision: 0.572\n",
      "Evaluating max_depth=17\n",
      "Accuracy: 0.537\t Precision: 0.577\n",
      "Evaluating max_depth=18\n",
      "Accuracy: 0.532\t Precision: 0.568\n",
      "Evaluating max_depth=19\n",
      "Accuracy: 0.527\t Precision: 0.564\n",
      "Evaluating max_depth=20\n",
      "Accuracy: 0.528\t Precision: 0.573\n"
     ]
    },
    {
     "data": {
      "text/plain": [
       "(array([0.55519796, 0.55536558, 0.55519796, 0.55526501, 0.55560025,\n",
       "        0.56776962, 0.56502062, 0.56502062, 0.56699856, 0.5570418 ,\n",
       "        0.5516779 , 0.54658219, 0.54859365, 0.54705153, 0.55972376,\n",
       "        0.54024607, 0.5368601 , 0.53169734, 0.52650106, 0.52797613]),\n",
       " array([0.55519796, 0.55529475, 0.55519796, 0.55523519, 0.55546233,\n",
       "        0.57117355, 0.56839335, 0.56839335, 0.56999117, 0.56527843,\n",
       "        0.56703676, 0.57185459, 0.57073015, 0.5844969 , 0.58644341,\n",
       "        0.5720942 , 0.57668677, 0.56821053, 0.56379247, 0.57304363]),\n",
       " 15)"
      ]
     },
     "execution_count": 147,
     "metadata": {},
     "output_type": "execute_result"
    }
   ],
   "source": [
    "# Extract only numerical features and the target variable for training and testing sets\n",
    "X_train = new_df.loc[new_df[\"split\"].isin(['train','validation']), features_list]\n",
    "y_train = new_df.loc[new_df[\"split\"].isin(['train','validation']), to_predict]\n",
    "X_test = new_df.loc[new_df[\"split\"] == \"test\", features_list]\n",
    "y_test = new_df.loc[new_df[\"split\"] == \"test\", to_predict]\n",
    "\n",
    "# Handling infinite values and NaNs\n",
    "X_train.replace([np.inf, -np.inf], np.nan, inplace=True)\n",
    "X_test.replace([np.inf, -np.inf], np.nan, inplace=True)\n",
    "X_train.fillna(0, inplace=True)\n",
    "X_test.fillna(0, inplace=True)\n",
    "\n",
    "# Initialize arrays to store accuracies and precisions for different max_depth values\n",
    "accuracy = np.zeros((20, ))\n",
    "precision = np.zeros((20, ))\n",
    "\n",
    "# Iterate through max_depth values from 1 to 20\n",
    "for i, max_depth in enumerate(range(1, 21)):\n",
    "    print(f\"Evaluating max_depth={max_depth}\")\n",
    "    \n",
    "    # Train the Decision Tree Classifier with the current max_depth parameter\n",
    "    clf = DecisionTreeClassifier(max_depth=max_depth, random_state=42)\n",
    "    clf.fit(X_train, y_train)\n",
    "    \n",
    "    # Make predictions on the test dataset\n",
    "    y_pred = clf.predict(X_test)\n",
    "    \n",
    "    # Calculate accuracy and precision scores\n",
    "    accuracy[i] = accuracy_score(y_test, y_pred)\n",
    "    precision[i] = precision_score(y_test, y_pred)\n",
    "    \n",
    "    # Print accuracy and precision scores for analysis\n",
    "    print(f\"Accuracy: {accuracy[i]:.3f}\\t Precision: {precision[i]:.3f}\")\n",
    "\n",
    "# Return accuracies, precisions, and the optimal max_depth\n",
    "accuracy, precision, range(1, 21)[precision.argmax()]\n"
   ]
  },
  {
   "cell_type": "markdown",
   "metadata": {},
   "source": [
    "[EXPLORATORY] Question 5: What data is missing?\n",
    "\n",
    "Now that you have some insights from the correlation analysis and the Decision Trees regarding the most influential variables, suggest new indicators you would like to include in the dataset and explain why.\n",
    "\n",
    "You can also propose something entirely different based on your intuition, but it should be relevant to the shared dataset of the largest Indian, EU, and US stocks. If you choose this approach, please specify the data source as well."
   ]
  }
 ],
 "metadata": {
  "colab": {
   "provenance": []
  },
  "kernelspec": {
   "display_name": "Python 3 (ipykernel)",
   "language": "python",
   "name": "python3"
  },
  "language_info": {
   "codemirror_mode": {
    "name": "ipython",
    "version": 3
   },
   "file_extension": ".py",
   "mimetype": "text/x-python",
   "name": "python",
   "nbconvert_exporter": "python",
   "pygments_lexer": "ipython3",
   "version": "3.10.11"
  }
 },
 "nbformat": 4,
 "nbformat_minor": 4
}
