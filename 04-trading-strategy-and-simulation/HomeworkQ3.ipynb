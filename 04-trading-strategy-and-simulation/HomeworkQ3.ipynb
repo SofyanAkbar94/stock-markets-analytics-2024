{
 "cells": [
  {
   "cell_type": "markdown",
   "metadata": {
    "id": "NgeNPyTWVVPj"
   },
   "source": [
    "# Imports and Installs"
   ]
  },
  {
   "cell_type": "code",
   "execution_count": 1,
   "metadata": {
    "colab": {
     "base_uri": "https://localhost:8080/"
    },
    "id": "ClEckHA-VPaj",
    "outputId": "59458897-4919-47e4-8e6a-a36e701ba4a9"
   },
   "outputs": [
    {
     "name": "stdout",
     "output_type": "stream",
     "text": [
      "Requirement already satisfied: yfinance in /usr/local/lib/python3.10/dist-packages (0.2.40)\n",
      "Requirement already satisfied: pandas>=1.3.0 in /usr/local/lib/python3.10/dist-packages (from yfinance) (2.0.3)\n",
      "Requirement already satisfied: numpy>=1.16.5 in /usr/local/lib/python3.10/dist-packages (from yfinance) (1.25.2)\n",
      "Requirement already satisfied: requests>=2.31 in /usr/local/lib/python3.10/dist-packages (from yfinance) (2.31.0)\n",
      "Requirement already satisfied: multitasking>=0.0.7 in /usr/local/lib/python3.10/dist-packages (from yfinance) (0.0.11)\n",
      "Requirement already satisfied: lxml>=4.9.1 in /usr/local/lib/python3.10/dist-packages (from yfinance) (4.9.4)\n",
      "Requirement already satisfied: platformdirs>=2.0.0 in /usr/local/lib/python3.10/dist-packages (from yfinance) (4.2.2)\n",
      "Requirement already satisfied: pytz>=2022.5 in /usr/local/lib/python3.10/dist-packages (from yfinance) (2023.4)\n",
      "Requirement already satisfied: frozendict>=2.3.4 in /usr/local/lib/python3.10/dist-packages (from yfinance) (2.4.4)\n",
      "Requirement already satisfied: peewee>=3.16.2 in /usr/local/lib/python3.10/dist-packages (from yfinance) (3.17.5)\n",
      "Requirement already satisfied: beautifulsoup4>=4.11.1 in /usr/local/lib/python3.10/dist-packages (from yfinance) (4.12.3)\n",
      "Requirement already satisfied: html5lib>=1.1 in /usr/local/lib/python3.10/dist-packages (from yfinance) (1.1)\n",
      "Requirement already satisfied: soupsieve>1.2 in /usr/local/lib/python3.10/dist-packages (from beautifulsoup4>=4.11.1->yfinance) (2.5)\n",
      "Requirement already satisfied: six>=1.9 in /usr/local/lib/python3.10/dist-packages (from html5lib>=1.1->yfinance) (1.16.0)\n",
      "Requirement already satisfied: webencodings in /usr/local/lib/python3.10/dist-packages (from html5lib>=1.1->yfinance) (0.5.1)\n",
      "Requirement already satisfied: python-dateutil>=2.8.2 in /usr/local/lib/python3.10/dist-packages (from pandas>=1.3.0->yfinance) (2.8.2)\n",
      "Requirement already satisfied: tzdata>=2022.1 in /usr/local/lib/python3.10/dist-packages (from pandas>=1.3.0->yfinance) (2024.1)\n",
      "Requirement already satisfied: charset-normalizer<4,>=2 in /usr/local/lib/python3.10/dist-packages (from requests>=2.31->yfinance) (3.3.2)\n",
      "Requirement already satisfied: idna<4,>=2.5 in /usr/local/lib/python3.10/dist-packages (from requests>=2.31->yfinance) (3.7)\n",
      "Requirement already satisfied: urllib3<3,>=1.21.1 in /usr/local/lib/python3.10/dist-packages (from requests>=2.31->yfinance) (2.0.7)\n",
      "Requirement already satisfied: certifi>=2017.4.17 in /usr/local/lib/python3.10/dist-packages (from requests>=2.31->yfinance) (2024.2.2)\n"
     ]
    }
   ],
   "source": [
    "!pip install yfinance"
   ]
  },
  {
   "cell_type": "code",
   "execution_count": 2,
   "metadata": {
    "colab": {
     "base_uri": "https://localhost:8080/"
    },
    "id": "vX1S1BHdVXyc",
    "outputId": "1e714852-0a8b-4ee0-9367-d3f604ebaca8"
   },
   "outputs": [
    {
     "name": "stdout",
     "output_type": "stream",
     "text": [
      "Found existing installation: gdown 5.1.0\n",
      "Uninstalling gdown-5.1.0:\n",
      "  Successfully uninstalled gdown-5.1.0\n",
      "Collecting gdown\n",
      "  Downloading gdown-5.2.0-py3-none-any.whl (18 kB)\n",
      "Requirement already satisfied: beautifulsoup4 in /usr/local/lib/python3.10/dist-packages (from gdown) (4.12.3)\n",
      "Requirement already satisfied: filelock in /usr/local/lib/python3.10/dist-packages (from gdown) (3.14.0)\n",
      "Requirement already satisfied: requests[socks] in /usr/local/lib/python3.10/dist-packages (from gdown) (2.31.0)\n",
      "Requirement already satisfied: tqdm in /usr/local/lib/python3.10/dist-packages (from gdown) (4.66.4)\n",
      "Requirement already satisfied: soupsieve>1.2 in /usr/local/lib/python3.10/dist-packages (from beautifulsoup4->gdown) (2.5)\n",
      "Requirement already satisfied: charset-normalizer<4,>=2 in /usr/local/lib/python3.10/dist-packages (from requests[socks]->gdown) (3.3.2)\n",
      "Requirement already satisfied: idna<4,>=2.5 in /usr/local/lib/python3.10/dist-packages (from requests[socks]->gdown) (3.7)\n",
      "Requirement already satisfied: urllib3<3,>=1.21.1 in /usr/local/lib/python3.10/dist-packages (from requests[socks]->gdown) (2.0.7)\n",
      "Requirement already satisfied: certifi>=2017.4.17 in /usr/local/lib/python3.10/dist-packages (from requests[socks]->gdown) (2024.2.2)\n",
      "Requirement already satisfied: PySocks!=1.5.7,>=1.5.6 in /usr/local/lib/python3.10/dist-packages (from requests[socks]->gdown) (1.7.1)\n",
      "Installing collected packages: gdown\n",
      "Successfully installed gdown-5.2.0\n",
      "gdown 5.2.0 at /usr/local/lib/python3.10/dist-packages\n"
     ]
    }
   ],
   "source": [
    "# read files shared via google-drive-link\n",
    "# https://stackoverflow.com/questions/62759748/downloading-data-from-a-shared-google-drive-link-in-google-colab\n",
    "\n",
    "!pip uninstall gdown -y && pip install gdown\n",
    "!gdown -V"
   ]
  },
  {
   "cell_type": "code",
   "execution_count": 1,
   "metadata": {
    "id": "ZqeDMHR9VamL"
   },
   "outputs": [],
   "source": [
    "# IMPORTS\n",
    "import numpy as np\n",
    "import pandas as pd\n",
    "\n",
    "#Fin Data Sources\n",
    "import yfinance as yf\n",
    "import pandas_datareader as pdr\n",
    "\n",
    "#Data viz\n",
    "import plotly.graph_objs as go\n",
    "import plotly.graph_objects as go\n",
    "import plotly.express as px\n",
    "import matplotlib.pyplot as plt\n",
    "import seaborn as sns\n",
    "\n",
    "# measure time for ML HyperParams search\n",
    "import time\n",
    "from datetime import date\n",
    "\n",
    "# ML models and utils\n",
    "from sklearn.tree import DecisionTreeClassifier\n",
    "from sklearn.ensemble import RandomForestClassifier\n",
    "from sklearn.metrics import accuracy_score\n",
    "from sklearn.metrics import precision_score\n",
    "\n",
    "# Disable SettingWithCopyWarning\n",
    "pd.options.mode.chained_assignment = None  # default='warn'"
   ]
  },
  {
   "cell_type": "markdown",
   "metadata": {
    "id": "Z3wOUBm4V0D_"
   },
   "source": [
    "# 0) One DataFrame with Dummies\n",
    "* including newly defined \"month-week_of_month\""
   ]
  },
  {
   "cell_type": "markdown",
   "metadata": {
    "id": "hdTaoVoPV35S"
   },
   "source": [
    "## 0.1) Read and truncate data (last 25 years from 2000), define variable sets\n"
   ]
  },
  {
   "cell_type": "code",
   "execution_count": 4,
   "metadata": {
    "colab": {
     "base_uri": "https://localhost:8080/"
    },
    "id": "saQHmUeAV1Dk",
    "outputId": "10028eb9-dd82-4cf6-d3ed-a07324794ef2"
   },
   "outputs": [
    {
     "name": "stdout",
     "output_type": "stream",
     "text": [
      "Downloading...\n",
      "From (original): https://drive.google.com/uc?id=1kNWWPi49td0EZhmi6LzNCa2ssC5IUxHP\n",
      "From (redirected): https://drive.google.com/uc?id=1kNWWPi49td0EZhmi6LzNCa2ssC5IUxHP&confirm=t&uuid=38f2d696-f86b-4624-9473-ae7251538b98\n",
      "To: /content/stocks_df_combined_2024_05_07.parquet.brotli\n",
      "100% 119M/119M [00:00<00:00, 122MB/s]\n"
     ]
    }
   ],
   "source": [
    "# https://stackoverflow.com/questions/62759748/downloading-data-from-a-shared-google-drive-link-in-google-colab\n",
    "# truncated data from Module 2: https://drive.google.com/file/d/1m3Qisfs2XfWk6Sw_Uk5kHLWqwQ0q8SKb/view?usp=sharing\n",
    "!gdown https://drive.google.com/file/d/1kNWWPi49td0EZhmi6LzNCa2ssC5IUxHP/view?usp=sharing --fuzzy -O /content/"
   ]
  },
  {
   "cell_type": "code",
   "execution_count": 2,
   "metadata": {
    "id": "wO4EVPkTV5ze"
   },
   "outputs": [],
   "source": [
    "# truncated\n",
    "# df = pd.read_parquet(\"/content/stocks_df_combined_trunc_2014_2023.parquet.brotli\", )\n",
    "\n",
    "# full dataset for 33 stocks\n",
    "df_full = pd.read_parquet(r\"C:\\Users\\msofy\\Downloads\\stock-markets-analytics-zoomcamp-2024\\04-trading-system\\stocks_df_combined_2024_05_07.parquet.brotli\", )"
   ]
  },
  {
   "cell_type": "code",
   "execution_count": 3,
   "metadata": {
    "colab": {
     "base_uri": "https://localhost:8080/"
    },
    "id": "535cuVR8V-DS",
    "outputId": "bd81218f-9c32-452a-ea4a-1dc6ed809f0e"
   },
   "outputs": [
    {
     "name": "stdout",
     "output_type": "stream",
     "text": [
      "<class 'pandas.core.frame.DataFrame'>\n",
      "Index: 221142 entries, 0 to 5426\n",
      "Columns: 202 entries, Open to growth_btc_usd_365d\n",
      "dtypes: datetime64[ns](3), float64(128), int32(64), int64(5), object(2)\n",
      "memory usage: 288.5+ MB\n"
     ]
    }
   ],
   "source": [
    "df_full.info()"
   ]
  },
  {
   "cell_type": "code",
   "execution_count": 4,
   "metadata": {
    "colab": {
     "base_uri": "https://localhost:8080/"
    },
    "id": "dslxEREBV-RU",
    "outputId": "1ea53777-6c66-4db6-d8d5-e9c9e5164c3a"
   },
   "outputs": [
    {
     "data": {
      "text/plain": [
       "['growth_1d',\n",
       " 'growth_3d',\n",
       " 'growth_7d',\n",
       " 'growth_30d',\n",
       " 'growth_90d',\n",
       " 'growth_365d',\n",
       " 'growth_dax_1d',\n",
       " 'growth_dax_3d',\n",
       " 'growth_dax_7d',\n",
       " 'growth_dax_30d',\n",
       " 'growth_dax_90d',\n",
       " 'growth_dax_365d',\n",
       " 'growth_snp500_1d',\n",
       " 'growth_snp500_3d',\n",
       " 'growth_snp500_7d',\n",
       " 'growth_snp500_30d',\n",
       " 'growth_snp500_90d',\n",
       " 'growth_snp500_365d',\n",
       " 'growth_dji_1d',\n",
       " 'growth_dji_3d',\n",
       " 'growth_dji_7d',\n",
       " 'growth_dji_30d',\n",
       " 'growth_dji_90d',\n",
       " 'growth_dji_365d',\n",
       " 'growth_epi_1d',\n",
       " 'growth_epi_3d',\n",
       " 'growth_epi_7d',\n",
       " 'growth_epi_30d',\n",
       " 'growth_epi_90d',\n",
       " 'growth_epi_365d',\n",
       " 'growth_gold_1d',\n",
       " 'growth_gold_3d',\n",
       " 'growth_gold_7d',\n",
       " 'growth_gold_30d',\n",
       " 'growth_gold_90d',\n",
       " 'growth_gold_365d',\n",
       " 'growth_wti_oil_1d',\n",
       " 'growth_wti_oil_3d',\n",
       " 'growth_wti_oil_7d',\n",
       " 'growth_wti_oil_30d',\n",
       " 'growth_wti_oil_90d',\n",
       " 'growth_wti_oil_365d',\n",
       " 'growth_brent_oil_1d',\n",
       " 'growth_brent_oil_3d',\n",
       " 'growth_brent_oil_7d',\n",
       " 'growth_brent_oil_30d',\n",
       " 'growth_brent_oil_90d',\n",
       " 'growth_brent_oil_365d',\n",
       " 'growth_btc_usd_1d',\n",
       " 'growth_btc_usd_3d',\n",
       " 'growth_btc_usd_7d',\n",
       " 'growth_btc_usd_30d',\n",
       " 'growth_btc_usd_90d',\n",
       " 'growth_btc_usd_365d']"
      ]
     },
     "execution_count": 4,
     "metadata": {},
     "output_type": "execute_result"
    }
   ],
   "source": [
    "# growth indicators (but not future growth)\n",
    "GROWTH = [g for g in df_full.keys() if (g.find('growth_')==0)&(g.find('future')<0)]\n",
    "GROWTH"
   ]
  },
  {
   "cell_type": "code",
   "execution_count": 5,
   "metadata": {
    "id": "OhBqWGM6WAfs"
   },
   "outputs": [],
   "source": [
    "# leaving only Volume ==> generate ln(Volume)\n",
    "OHLCV = ['Open','High','Low','Close','Adj Close_x','Volume']"
   ]
  },
  {
   "cell_type": "code",
   "execution_count": 6,
   "metadata": {
    "id": "_ip2ve25WCvM"
   },
   "outputs": [],
   "source": [
    "CATEGORICAL = ['Month', 'Weekday', 'Ticker', 'ticker_type']"
   ]
  },
  {
   "cell_type": "code",
   "execution_count": 7,
   "metadata": {
    "colab": {
     "base_uri": "https://localhost:8080/"
    },
    "id": "pPn7cWXvi4SB",
    "outputId": "64c916e2-0b8e-48c6-beba-b1f8131567a4"
   },
   "outputs": [
    {
     "data": {
      "text/plain": [
       "count    220977.000000\n",
       "mean          1.004630\n",
       "std           0.051592\n",
       "min           0.412383\n",
       "25%           0.979594\n",
       "50%           1.003802\n",
       "75%           1.028273\n",
       "max           3.018887\n",
       "Name: growth_future_5d, dtype: float64"
      ]
     },
     "execution_count": 7,
     "metadata": {},
     "output_type": "execute_result"
    }
   ],
   "source": [
    "df_full.growth_future_5d.describe()"
   ]
  },
  {
   "cell_type": "code",
   "execution_count": 8,
   "metadata": {
    "colab": {
     "base_uri": "https://localhost:8080/"
    },
    "id": "SLUhJQ79jlse",
    "outputId": "f4a9e9fa-33fa-47c2-f464-48f7a85d2a2e"
   },
   "outputs": [
    {
     "data": {
      "text/plain": [
       "0.5411319423718697"
      ]
     },
     "execution_count": 8,
     "metadata": {},
     "output_type": "execute_result"
    }
   ],
   "source": [
    "# 54% of data records have positive future growth>0\n",
    "df_full.is_positive_growth_5d_future.mean()"
   ]
  },
  {
   "cell_type": "code",
   "execution_count": 9,
   "metadata": {
    "colab": {
     "base_uri": "https://localhost:8080/"
    },
    "id": "Mf_eMiRVjGHE",
    "outputId": "95663827-0d82-4c05-8a4e-2b83b8cf3f1c"
   },
   "outputs": [
    {
     "data": {
      "text/plain": [
       "1.0202201074172228"
      ]
     },
     "execution_count": 9,
     "metadata": {},
     "output_type": "execute_result"
    }
   ],
   "source": [
    "# moving to strong growth (54% -> ~ 32%)\n",
    "df_full.growth_future_5d.quantile(0.68)"
   ]
  },
  {
   "cell_type": "code",
   "execution_count": 297,
   "metadata": {
    "id": "8imLlR6JdwTE"
   },
   "outputs": [],
   "source": [
    "# TODO HA4 Q3: Define a new variable 'is_strong_positive_growth_5d_future' according to the task\n",
    "#  it will be automatically added the the list TO_PREDICT\n",
    "df_full['is_strong_positive_growth_5d_future'] = (df_full.growth_future_5d > 1.02).astype(int)"
   ]
  },
  {
   "cell_type": "code",
   "execution_count": 298,
   "metadata": {
    "colab": {
     "base_uri": "https://localhost:8080/"
    },
    "id": "bbXsoQBRWDp8",
    "outputId": "0332fc33-8608-404c-e3c6-10ea02eb3e29"
   },
   "outputs": [
    {
     "data": {
      "text/plain": [
       "['growth_future_5d',\n",
       " 'is_positive_growth_5d_future',\n",
       " 'is_strong_positive_growth_5d_future']"
      ]
     },
     "execution_count": 298,
     "metadata": {},
     "output_type": "execute_result"
    }
   ],
   "source": [
    "TO_PREDICT = [g for g in df_full.keys() if (g.find('future')>=0)]\n",
    "TO_PREDICT"
   ]
  },
  {
   "cell_type": "code",
   "execution_count": 299,
   "metadata": {
    "colab": {
     "base_uri": "https://localhost:8080/"
    },
    "id": "7CbNbrJdWFQc",
    "outputId": "93dec84c-95b8-4337-bcbb-e78f7f0ca522"
   },
   "outputs": [
    {
     "data": {
      "text/plain": [
       "['Year',\n",
       " 'Date',\n",
       " 'index_x',\n",
       " 'index_y',\n",
       " 'index',\n",
       " 'Quarter',\n",
       " 'Adj Close_y',\n",
       " 'Month',\n",
       " 'Weekday',\n",
       " 'Ticker',\n",
       " 'ticker_type',\n",
       " 'month_wom',\n",
       " 'month_wom',\n",
       " 'Open',\n",
       " 'High',\n",
       " 'Low',\n",
       " 'Close',\n",
       " 'Adj Close_x',\n",
       " 'Volume']"
      ]
     },
     "execution_count": 299,
     "metadata": {},
     "output_type": "execute_result"
    }
   ],
   "source": [
    "TO_DROP = ['Year','Date','index_x', 'index_y', 'index', 'Quarter','Adj Close_y'] + CATEGORICAL + OHLCV\n",
    "TO_DROP"
   ]
  },
  {
   "cell_type": "code",
   "execution_count": 300,
   "metadata": {
    "id": "CNc5uwyFWG3M"
   },
   "outputs": [],
   "source": [
    "# let's define on more custom numerical features\n",
    "df_full['ln_volume'] = df_full.Volume.apply(lambda x: np.log(x))"
   ]
  },
  {
   "cell_type": "code",
   "execution_count": 301,
   "metadata": {
    "id": "XC4T9xLmWJa7"
   },
   "outputs": [],
   "source": [
    "# manually defined features\n",
    "CUSTOM_NUMERICAL = ['SMA10', 'SMA20', 'growing_moving_average', 'high_minus_low_relative','volatility', 'ln_volume']"
   ]
  },
  {
   "cell_type": "code",
   "execution_count": 302,
   "metadata": {
    "id": "C41u7lvzWLJE"
   },
   "outputs": [],
   "source": [
    "# All Supported Ta-lib indicators: https://github.com/TA-Lib/ta-lib-python/blob/master/docs/funcs.md\n",
    "\n",
    "TECHNICAL_INDICATORS = ['adx', 'adxr', 'apo', 'aroon_1','aroon_2', 'aroonosc',\n",
    " 'bop', 'cci', 'cmo','dx', 'macd', 'macdsignal', 'macdhist', 'macd_ext',\n",
    " 'macdsignal_ext', 'macdhist_ext', 'macd_fix', 'macdsignal_fix',\n",
    " 'macdhist_fix', 'mfi', 'minus_di', 'mom', 'plus_di', 'dm', 'ppo',\n",
    " 'roc', 'rocp', 'rocr', 'rocr100', 'rsi', 'slowk', 'slowd', 'fastk',\n",
    " 'fastd', 'fastk_rsi', 'fastd_rsi', 'trix', 'ultosc', 'willr',\n",
    " 'ad', 'adosc', 'obv', 'atr', 'natr', 'ht_dcperiod', 'ht_dcphase',\n",
    " 'ht_phasor_inphase', 'ht_phasor_quadrature', 'ht_sine_sine', 'ht_sine_leadsine',\n",
    " 'ht_trendmod', 'avgprice', 'medprice', 'typprice', 'wclprice']"
   ]
  },
  {
   "cell_type": "code",
   "execution_count": 303,
   "metadata": {
    "colab": {
     "base_uri": "https://localhost:8080/"
    },
    "id": "9sNnG3eIWM9r",
    "outputId": "93a35c64-ba05-41de-e3b4-5918d07b6180"
   },
   "outputs": [
    {
     "name": "stdout",
     "output_type": "stream",
     "text": [
      "Technical patterns count = 61, examples = ['cdl2crows', 'cdl3blackrows', 'cdl3inside', 'cdl3linestrike', 'cdl3outside']\n"
     ]
    }
   ],
   "source": [
    "TECHNICAL_PATTERNS = [g for g in df_full.keys() if g.find('cdl')>=0]\n",
    "print(f'Technical patterns count = {len(TECHNICAL_PATTERNS)}, examples = {TECHNICAL_PATTERNS[0:5]}')"
   ]
  },
  {
   "cell_type": "code",
   "execution_count": 304,
   "metadata": {
    "id": "6rBloicrWOYL"
   },
   "outputs": [],
   "source": [
    "MACRO = ['gdppot_us_yoy', 'gdppot_us_qoq', 'cpi_core_yoy', 'cpi_core_mom', 'FEDFUNDS',\n",
    " 'DGS1', 'DGS5', 'DGS10']"
   ]
  },
  {
   "cell_type": "code",
   "execution_count": 305,
   "metadata": {
    "id": "t_e3W8kRWQRr"
   },
   "outputs": [],
   "source": [
    "NUMERICAL = GROWTH + TECHNICAL_INDICATORS + TECHNICAL_PATTERNS + CUSTOM_NUMERICAL + MACRO"
   ]
  },
  {
   "cell_type": "code",
   "execution_count": 306,
   "metadata": {
    "colab": {
     "base_uri": "https://localhost:8080/"
    },
    "id": "QAK0EbpDWRK7",
    "outputId": "532b2fc5-1e71-4d3a-d20d-90e4ebab2986"
   },
   "outputs": [
    {
     "data": {
      "text/plain": [
       "[]"
      ]
     },
     "execution_count": 306,
     "metadata": {},
     "output_type": "execute_result"
    }
   ],
   "source": [
    "# CHECK: NO OTHER INDICATORS LEFT\n",
    "OTHER = [k for k in df_full.keys() if k not in OHLCV + CATEGORICAL + NUMERICAL + TO_DROP + TO_PREDICT]\n",
    "OTHER"
   ]
  },
  {
   "cell_type": "code",
   "execution_count": 307,
   "metadata": {
    "colab": {
     "base_uri": "https://localhost:8080/"
    },
    "id": "x-WWdNqjWSY7",
    "outputId": "3a05ccca-f4df-47e7-c283-9ccfaed1eddc"
   },
   "outputs": [
    {
     "data": {
      "text/plain": [
       "33"
      ]
     },
     "execution_count": 307,
     "metadata": {},
     "output_type": "execute_result"
    }
   ],
   "source": [
    "df_full.Ticker.nunique()"
   ]
  },
  {
   "cell_type": "code",
   "execution_count": 308,
   "metadata": {
    "colab": {
     "base_uri": "https://localhost:8080/"
    },
    "id": "_44ozBryWTmD",
    "outputId": "5ac2f0a1-dd39-4f13-9325-7ff296022222"
   },
   "outputs": [
    {
     "name": "stdout",
     "output_type": "stream",
     "text": [
      "<class 'pandas.core.frame.DataFrame'>\n",
      "Index: 182675 entries, 3490 to 5426\n",
      "Columns: 204 entries, Open to ln_volume\n",
      "dtypes: datetime64[ns](3), float64(129), int32(65), int64(5), object(2)\n",
      "memory usage: 240.4+ MB\n"
     ]
    }
   ],
   "source": [
    "# truncated df_full with 25 years of data (and defined growth variables)\n",
    "df = df_full[df_full.Date>='2000-01-01']\n",
    "df.info()"
   ]
  },
  {
   "cell_type": "markdown",
   "metadata": {
    "id": "pDASl99NXU5e"
   },
   "source": [
    "## 0.2) Dummies"
   ]
  },
  {
   "cell_type": "code",
   "execution_count": 309,
   "metadata": {
    "id": "CaRSY88HWU-D"
   },
   "outputs": [],
   "source": [
    "# dummy variables can't be generated from Date and numeric variables ==> convert to STRING (to define groups for Dummies)\n",
    "df.loc[:,'Month'] = df.Month.dt.strftime('%B')\n",
    "df.loc[:,'Weekday'] = df.Weekday.astype(str)"
   ]
  },
  {
   "cell_type": "markdown",
   "metadata": {
    "id": "qSRpQdx8Y97_"
   },
   "source": [
    "### 0.2.1) Create a new string column 'month_wom' (month_week_of_month)"
   ]
  },
  {
   "cell_type": "code",
   "execution_count": 310,
   "metadata": {
    "id": "6DQAmZvUXXLe"
   },
   "outputs": [],
   "source": [
    "# define week of month\n",
    "df.loc[:,'wom'] = df.Date.apply(lambda d: (d.day-1)//7 + 1)\n",
    "# convert to string\n",
    "df.loc[:,'wom'] = df.loc[:,'wom'].astype(str)"
   ]
  },
  {
   "cell_type": "code",
   "execution_count": 311,
   "metadata": {
    "colab": {
     "base_uri": "https://localhost:8080/"
    },
    "id": "C5FL1MRVXjgr",
    "outputId": "68c640ee-cbbe-40c0-e2fb-56c470b1d7b0"
   },
   "outputs": [
    {
     "data": {
      "text/plain": [
       "wom\n",
       "2    42817\n",
       "3    42007\n",
       "4    41715\n",
       "1    41490\n",
       "5    14646\n",
       "Name: count, dtype: int64"
      ]
     },
     "execution_count": 311,
     "metadata": {},
     "output_type": "execute_result"
    }
   ],
   "source": [
    "# check values for week-of-month (should be between 1 and 5)\n",
    "df.wom.value_counts()"
   ]
  },
  {
   "cell_type": "code",
   "execution_count": 312,
   "metadata": {
    "id": "EugKIiAwXkqN"
   },
   "outputs": [],
   "source": [
    "df.loc[:,'month_wom'] = df.Month + '_w' + df.wom"
   ]
  },
  {
   "cell_type": "code",
   "execution_count": 313,
   "metadata": {
    "colab": {
     "base_uri": "https://localhost:8080/"
    },
    "id": "31WAyGcEXmHt",
    "outputId": "d9b0d918-26f8-426f-eb35-f8af47cd4f85"
   },
   "outputs": [
    {
     "data": {
      "text/plain": [
       "month_wom\n",
       "February_w1    3705\n",
       "January_w2     3686\n",
       "Name: count, dtype: int64"
      ]
     },
     "execution_count": 313,
     "metadata": {},
     "output_type": "execute_result"
    }
   ],
   "source": [
    "# examples of encoding\n",
    "df.month_wom.value_counts()[0:2]"
   ]
  },
  {
   "cell_type": "code",
   "execution_count": 314,
   "metadata": {
    "id": "Yu8tCw_lXnXd"
   },
   "outputs": [],
   "source": [
    "# del wom temp variable\n",
    "del df['wom']"
   ]
  },
  {
   "cell_type": "markdown",
   "metadata": {
    "id": "-oaBtlVfZBhV"
   },
   "source": [
    "### 0.2.2) Generate all dummies"
   ]
  },
  {
   "cell_type": "code",
   "execution_count": 315,
   "metadata": {
    "colab": {
     "base_uri": "https://localhost:8080/"
    },
    "id": "69ep2F0mXpN8",
    "outputId": "bc6982dd-5009-443b-a616-57613d22f321"
   },
   "outputs": [
    {
     "data": {
      "text/plain": [
       "['Month',\n",
       " 'Weekday',\n",
       " 'Ticker',\n",
       " 'ticker_type',\n",
       " 'month_wom',\n",
       " 'month_wom',\n",
       " 'month_wom']"
      ]
     },
     "execution_count": 315,
     "metadata": {},
     "output_type": "execute_result"
    }
   ],
   "source": [
    "# what are the categorical features?\n",
    "CATEGORICAL.append('month_wom')\n",
    "CATEGORICAL"
   ]
  },
  {
   "cell_type": "code",
   "execution_count": 316,
   "metadata": {
    "id": "vmC3oav8ZGHJ"
   },
   "outputs": [],
   "source": [
    "# Generate dummy variables (no need for bool, let's have int32 instead)\n",
    "dummy_variables = pd.get_dummies(df[CATEGORICAL], dtype='int32')"
   ]
  },
  {
   "cell_type": "code",
   "execution_count": 317,
   "metadata": {
    "colab": {
     "base_uri": "https://localhost:8080/"
    },
    "id": "oY0lIQZhZHOU",
    "outputId": "cfb1f8b7-1205-460f-a078-9f28c53db3bb"
   },
   "outputs": [
    {
     "name": "stdout",
     "output_type": "stream",
     "text": [
      "<class 'pandas.core.frame.DataFrame'>\n",
      "Index: 182675 entries, 3490 to 5426\n",
      "Columns: 235 entries, Month_April to month_wom_September_w5\n",
      "dtypes: int32(235)\n",
      "memory usage: 165.2 MB\n"
     ]
    }
   ],
   "source": [
    "dummy_variables.info()"
   ]
  },
  {
   "cell_type": "code",
   "execution_count": 318,
   "metadata": {
    "colab": {
     "base_uri": "https://localhost:8080/"
    },
    "id": "oLhfvOTSZIok",
    "outputId": "456761dd-b227-4bef-99ae-a6bc843cc7e4"
   },
   "outputs": [
    {
     "data": {
      "text/plain": [
       "['Month_April',\n",
       " 'Month_August',\n",
       " 'Month_December',\n",
       " 'Month_February',\n",
       " 'Month_January',\n",
       " 'Month_July',\n",
       " 'Month_June',\n",
       " 'Month_March',\n",
       " 'Month_May',\n",
       " 'Month_November',\n",
       " 'Month_October',\n",
       " 'Month_September',\n",
       " 'Weekday_0',\n",
       " 'Weekday_1',\n",
       " 'Weekday_2',\n",
       " 'Weekday_3',\n",
       " 'Weekday_4',\n",
       " 'Weekday_5',\n",
       " 'Weekday_6',\n",
       " 'Ticker_AAPL',\n",
       " 'Ticker_ACN',\n",
       " 'Ticker_AMZN',\n",
       " 'Ticker_ASML',\n",
       " 'Ticker_AVGO',\n",
       " 'Ticker_BHARTIARTL.NS',\n",
       " 'Ticker_BRK-B',\n",
       " 'Ticker_CDI.PA',\n",
       " 'Ticker_GOOG',\n",
       " 'Ticker_HDB',\n",
       " 'Ticker_HINDUNILVR.NS',\n",
       " 'Ticker_IBN',\n",
       " 'Ticker_IDEXY',\n",
       " 'Ticker_INFY',\n",
       " 'Ticker_ITC.NS',\n",
       " 'Ticker_JPM',\n",
       " 'Ticker_LICI.NS',\n",
       " 'Ticker_LLY',\n",
       " 'Ticker_LT.NS',\n",
       " 'Ticker_MC.PA',\n",
       " 'Ticker_META',\n",
       " 'Ticker_MSFT',\n",
       " 'Ticker_NVDA',\n",
       " 'Ticker_NVO',\n",
       " 'Ticker_OR.PA',\n",
       " 'Ticker_RELIANCE.NS',\n",
       " 'Ticker_RMS.PA',\n",
       " 'Ticker_SAP',\n",
       " 'Ticker_SBIN.NS',\n",
       " 'Ticker_SIE.DE',\n",
       " 'Ticker_TCS.NS',\n",
       " 'Ticker_TTE',\n",
       " 'Ticker_V',\n",
       " 'ticker_type_EU',\n",
       " 'ticker_type_INDIA',\n",
       " 'ticker_type_US',\n",
       " 'month_wom_April_w1',\n",
       " 'month_wom_April_w2',\n",
       " 'month_wom_April_w3',\n",
       " 'month_wom_April_w4',\n",
       " 'month_wom_April_w5',\n",
       " 'month_wom_August_w1',\n",
       " 'month_wom_August_w2',\n",
       " 'month_wom_August_w3',\n",
       " 'month_wom_August_w4',\n",
       " 'month_wom_August_w5',\n",
       " 'month_wom_December_w1',\n",
       " 'month_wom_December_w2',\n",
       " 'month_wom_December_w3',\n",
       " 'month_wom_December_w4',\n",
       " 'month_wom_December_w5',\n",
       " 'month_wom_February_w1',\n",
       " 'month_wom_February_w2',\n",
       " 'month_wom_February_w3',\n",
       " 'month_wom_February_w4',\n",
       " 'month_wom_February_w5',\n",
       " 'month_wom_January_w1',\n",
       " 'month_wom_January_w2',\n",
       " 'month_wom_January_w3',\n",
       " 'month_wom_January_w4',\n",
       " 'month_wom_January_w5',\n",
       " 'month_wom_July_w1',\n",
       " 'month_wom_July_w2',\n",
       " 'month_wom_July_w3',\n",
       " 'month_wom_July_w4',\n",
       " 'month_wom_July_w5',\n",
       " 'month_wom_June_w1',\n",
       " 'month_wom_June_w2',\n",
       " 'month_wom_June_w3',\n",
       " 'month_wom_June_w4',\n",
       " 'month_wom_June_w5',\n",
       " 'month_wom_March_w1',\n",
       " 'month_wom_March_w2',\n",
       " 'month_wom_March_w3',\n",
       " 'month_wom_March_w4',\n",
       " 'month_wom_March_w5',\n",
       " 'month_wom_May_w1',\n",
       " 'month_wom_May_w2',\n",
       " 'month_wom_May_w3',\n",
       " 'month_wom_May_w4',\n",
       " 'month_wom_May_w5',\n",
       " 'month_wom_November_w1',\n",
       " 'month_wom_November_w2',\n",
       " 'month_wom_November_w3',\n",
       " 'month_wom_November_w4',\n",
       " 'month_wom_November_w5',\n",
       " 'month_wom_October_w1',\n",
       " 'month_wom_October_w2',\n",
       " 'month_wom_October_w3',\n",
       " 'month_wom_October_w4',\n",
       " 'month_wom_October_w5',\n",
       " 'month_wom_September_w1',\n",
       " 'month_wom_September_w2',\n",
       " 'month_wom_September_w3',\n",
       " 'month_wom_September_w4',\n",
       " 'month_wom_September_w5',\n",
       " 'month_wom_April_w1',\n",
       " 'month_wom_April_w2',\n",
       " 'month_wom_April_w3',\n",
       " 'month_wom_April_w4',\n",
       " 'month_wom_April_w5',\n",
       " 'month_wom_August_w1',\n",
       " 'month_wom_August_w2',\n",
       " 'month_wom_August_w3',\n",
       " 'month_wom_August_w4',\n",
       " 'month_wom_August_w5',\n",
       " 'month_wom_December_w1',\n",
       " 'month_wom_December_w2',\n",
       " 'month_wom_December_w3',\n",
       " 'month_wom_December_w4',\n",
       " 'month_wom_December_w5',\n",
       " 'month_wom_February_w1',\n",
       " 'month_wom_February_w2',\n",
       " 'month_wom_February_w3',\n",
       " 'month_wom_February_w4',\n",
       " 'month_wom_February_w5',\n",
       " 'month_wom_January_w1',\n",
       " 'month_wom_January_w2',\n",
       " 'month_wom_January_w3',\n",
       " 'month_wom_January_w4',\n",
       " 'month_wom_January_w5',\n",
       " 'month_wom_July_w1',\n",
       " 'month_wom_July_w2',\n",
       " 'month_wom_July_w3',\n",
       " 'month_wom_July_w4',\n",
       " 'month_wom_July_w5',\n",
       " 'month_wom_June_w1',\n",
       " 'month_wom_June_w2',\n",
       " 'month_wom_June_w3',\n",
       " 'month_wom_June_w4',\n",
       " 'month_wom_June_w5',\n",
       " 'month_wom_March_w1',\n",
       " 'month_wom_March_w2',\n",
       " 'month_wom_March_w3',\n",
       " 'month_wom_March_w4',\n",
       " 'month_wom_March_w5',\n",
       " 'month_wom_May_w1',\n",
       " 'month_wom_May_w2',\n",
       " 'month_wom_May_w3',\n",
       " 'month_wom_May_w4',\n",
       " 'month_wom_May_w5',\n",
       " 'month_wom_November_w1',\n",
       " 'month_wom_November_w2',\n",
       " 'month_wom_November_w3',\n",
       " 'month_wom_November_w4',\n",
       " 'month_wom_November_w5',\n",
       " 'month_wom_October_w1',\n",
       " 'month_wom_October_w2',\n",
       " 'month_wom_October_w3',\n",
       " 'month_wom_October_w4',\n",
       " 'month_wom_October_w5',\n",
       " 'month_wom_September_w1',\n",
       " 'month_wom_September_w2',\n",
       " 'month_wom_September_w3',\n",
       " 'month_wom_September_w4',\n",
       " 'month_wom_September_w5',\n",
       " 'month_wom_April_w1',\n",
       " 'month_wom_April_w2',\n",
       " 'month_wom_April_w3',\n",
       " 'month_wom_April_w4',\n",
       " 'month_wom_April_w5',\n",
       " 'month_wom_August_w1',\n",
       " 'month_wom_August_w2',\n",
       " 'month_wom_August_w3',\n",
       " 'month_wom_August_w4',\n",
       " 'month_wom_August_w5',\n",
       " 'month_wom_December_w1',\n",
       " 'month_wom_December_w2',\n",
       " 'month_wom_December_w3',\n",
       " 'month_wom_December_w4',\n",
       " 'month_wom_December_w5',\n",
       " 'month_wom_February_w1',\n",
       " 'month_wom_February_w2',\n",
       " 'month_wom_February_w3',\n",
       " 'month_wom_February_w4',\n",
       " 'month_wom_February_w5',\n",
       " 'month_wom_January_w1',\n",
       " 'month_wom_January_w2',\n",
       " 'month_wom_January_w3',\n",
       " 'month_wom_January_w4',\n",
       " 'month_wom_January_w5',\n",
       " 'month_wom_July_w1',\n",
       " 'month_wom_July_w2',\n",
       " 'month_wom_July_w3',\n",
       " 'month_wom_July_w4',\n",
       " 'month_wom_July_w5',\n",
       " 'month_wom_June_w1',\n",
       " 'month_wom_June_w2',\n",
       " 'month_wom_June_w3',\n",
       " 'month_wom_June_w4',\n",
       " 'month_wom_June_w5',\n",
       " 'month_wom_March_w1',\n",
       " 'month_wom_March_w2',\n",
       " 'month_wom_March_w3',\n",
       " 'month_wom_March_w4',\n",
       " 'month_wom_March_w5',\n",
       " 'month_wom_May_w1',\n",
       " 'month_wom_May_w2',\n",
       " 'month_wom_May_w3',\n",
       " 'month_wom_May_w4',\n",
       " 'month_wom_May_w5',\n",
       " 'month_wom_November_w1',\n",
       " 'month_wom_November_w2',\n",
       " 'month_wom_November_w3',\n",
       " 'month_wom_November_w4',\n",
       " 'month_wom_November_w5',\n",
       " 'month_wom_October_w1',\n",
       " 'month_wom_October_w2',\n",
       " 'month_wom_October_w3',\n",
       " 'month_wom_October_w4',\n",
       " 'month_wom_October_w5',\n",
       " 'month_wom_September_w1',\n",
       " 'month_wom_September_w2',\n",
       " 'month_wom_September_w3',\n",
       " 'month_wom_September_w4',\n",
       " 'month_wom_September_w5']"
      ]
     },
     "execution_count": 318,
     "metadata": {},
     "output_type": "execute_result"
    }
   ],
   "source": [
    "# get dummies names in a list\n",
    "DUMMIES = dummy_variables.keys().to_list()\n",
    "DUMMIES"
   ]
  },
  {
   "cell_type": "code",
   "execution_count": 319,
   "metadata": {
    "colab": {
     "base_uri": "https://localhost:8080/"
    },
    "id": "6tOjmWbYZ4-R",
    "outputId": "799f5ea2-6479-4e82-e4fd-71448d49aba0"
   },
   "outputs": [
    {
     "data": {
      "text/plain": [
       "235"
      ]
     },
     "execution_count": 319,
     "metadata": {},
     "output_type": "execute_result"
    }
   ],
   "source": [
    "len(DUMMIES)"
   ]
  },
  {
   "cell_type": "code",
   "execution_count": 320,
   "metadata": {
    "id": "ue-ErnKBZ6XZ"
   },
   "outputs": [],
   "source": [
    "# Concatenate the dummy variables with the original DataFrame\n",
    "df_with_dummies = pd.concat([df, dummy_variables], axis=1)"
   ]
  },
  {
   "cell_type": "code",
   "execution_count": 321,
   "metadata": {
    "colab": {
     "base_uri": "https://localhost:8080/"
    },
    "id": "eSYdvRh_Z8Kq",
    "outputId": "be79b4cc-fb78-497a-8d31-7acebcbd2e89"
   },
   "outputs": [
    {
     "name": "stdout",
     "output_type": "stream",
     "text": [
      "<class 'pandas.core.frame.DataFrame'>\n",
      "Index: 182675 entries, 3490 to 5426\n",
      "Columns: 779 entries, growth_1d to month_wom_September_w5\n",
      "dtypes: float64(121), int32(657), int64(1)\n",
      "memory usage: 629.3 MB\n"
     ]
    }
   ],
   "source": [
    "df_with_dummies[NUMERICAL+DUMMIES].info()"
   ]
  },
  {
   "cell_type": "markdown",
   "metadata": {
    "id": "P5Yx6gCfZP0A"
   },
   "source": [
    "### 0.2.3 Define \"DUMMIES_SHORT\""
   ]
  },
  {
   "cell_type": "code",
   "execution_count": 322,
   "metadata": {
    "id": "csXwAWouZWJE"
   },
   "outputs": [],
   "source": [
    "# TODO HA4 Q2: Define DUMMIES_SHORT from DUMMIES -- all elements: without month_* and Ticker_*\n",
    "DUMMIES_SHORT=[]"
   ]
  },
  {
   "cell_type": "code",
   "execution_count": 323,
   "metadata": {
    "colab": {
     "base_uri": "https://localhost:8080/"
    },
    "id": "lVK6iJMcdAQX",
    "outputId": "21e0e48a-5fbb-4698-c04a-2e229d32061d"
   },
   "outputs": [
    {
     "name": "stdout",
     "output_type": "stream",
     "text": [
      "<class 'pandas.core.frame.DataFrame'>\n",
      "Index: 182675 entries, 3490 to 5426\n",
      "Columns: 184 entries, growth_1d to DGS10\n",
      "dtypes: float64(121), int32(62), int64(1)\n",
      "memory usage: 214.6 MB\n"
     ]
    }
   ],
   "source": [
    "# now check the size of the dataset\n",
    "df_with_dummies[NUMERICAL+DUMMIES_SHORT].info()"
   ]
  },
  {
   "cell_type": "markdown",
   "metadata": {
    "id": "4PlNTgNRZqKE"
   },
   "source": [
    "### 0.2.4) Temporal split"
   ]
  },
  {
   "cell_type": "code",
   "execution_count": 324,
   "metadata": {
    "id": "JgKjTey_Ztao"
   },
   "outputs": [],
   "source": [
    "def temporal_split(df, min_date, max_date, train_prop=0.7, val_prop=0.15, test_prop=0.15):\n",
    "    \"\"\"\n",
    "    Splits a DataFrame into three buckets based on the temporal order of the 'Date' column.\n",
    "\n",
    "    Args:\n",
    "        df (DataFrame): The DataFrame to split.\n",
    "        min_date (str or Timestamp): Minimum date in the DataFrame.\n",
    "        max_date (str or Timestamp): Maximum date in the DataFrame.\n",
    "        train_prop (float): Proportion of data for training set (default: 0.7).\n",
    "        val_prop (float): Proportion of data for validation set (default: 0.15).\n",
    "        test_prop (float): Proportion of data for test set (default: 0.15).\n",
    "\n",
    "    Returns:\n",
    "        DataFrame: The input DataFrame with a new column 'split' indicating the split for each row.\n",
    "    \"\"\"\n",
    "    # Define the date intervals\n",
    "    train_end = min_date + pd.Timedelta(days=(max_date - min_date).days * train_prop)\n",
    "    val_end = train_end + pd.Timedelta(days=(max_date - min_date).days * val_prop)\n",
    "\n",
    "    # Assign split labels based on date ranges\n",
    "    split_labels = []\n",
    "    for date in df['Date']:\n",
    "        if date <= train_end:\n",
    "            split_labels.append('train')\n",
    "        elif date <= val_end:\n",
    "            split_labels.append('validation')\n",
    "        else:\n",
    "            split_labels.append('test')\n",
    "\n",
    "    # Add 'split' column to the DataFrame\n",
    "    df['split'] = split_labels\n",
    "\n",
    "    return df"
   ]
  },
  {
   "cell_type": "code",
   "execution_count": 325,
   "metadata": {
    "id": "uxEHgYXSZyQr"
   },
   "outputs": [],
   "source": [
    "min_date_df = df_with_dummies.Date.min()\n",
    "max_date_df = df_with_dummies.Date.max()\n",
    "\n",
    "df_with_dummies = temporal_split(df_with_dummies,\n",
    "                                 min_date = min_date_df,\n",
    "                                 max_date = max_date_df)"
   ]
  },
  {
   "cell_type": "code",
   "execution_count": 326,
   "metadata": {
    "colab": {
     "base_uri": "https://localhost:8080/"
    },
    "id": "Tr-hylcUcxrp",
    "outputId": "d6db5212-71ea-4810-80cd-d63fc42eb0ce"
   },
   "outputs": [
    {
     "data": {
      "text/plain": [
       "split\n",
       "train         0.675834\n",
       "test          0.163290\n",
       "validation    0.160876\n",
       "Name: count, dtype: float64"
      ]
     },
     "execution_count": 326,
     "metadata": {},
     "output_type": "execute_result"
    }
   ],
   "source": [
    "# the split is approximate!\n",
    "  # as tickers can have a different history\n",
    "df_with_dummies['split'].value_counts()/len(df_with_dummies)"
   ]
  },
  {
   "cell_type": "code",
   "execution_count": 327,
   "metadata": {
    "id": "Y4cIgjawcx5J"
   },
   "outputs": [],
   "source": [
    "# remove the \"segmentation\" problem (warning message on df performance after many joins and data transformations)\n",
    "new_df = df_with_dummies.copy()"
   ]
  },
  {
   "cell_type": "code",
   "execution_count": 328,
   "metadata": {
    "colab": {
     "base_uri": "https://localhost:8080/",
     "height": 175
    },
    "id": "0Q7X54t2dXAY",
    "outputId": "55ec6541-37f6-4bcd-b774-43dd000f29ca"
   },
   "outputs": [
    {
     "data": {
      "text/html": [
       "<div>\n",
       "<style scoped>\n",
       "    .dataframe tbody tr th:only-of-type {\n",
       "        vertical-align: middle;\n",
       "    }\n",
       "\n",
       "    .dataframe tbody tr th {\n",
       "        vertical-align: top;\n",
       "    }\n",
       "\n",
       "    .dataframe thead th {\n",
       "        text-align: right;\n",
       "    }\n",
       "</style>\n",
       "<table border=\"1\" class=\"dataframe\">\n",
       "  <thead>\n",
       "    <tr style=\"text-align: right;\">\n",
       "      <th></th>\n",
       "      <th>min</th>\n",
       "      <th>count</th>\n",
       "      <th>max</th>\n",
       "    </tr>\n",
       "    <tr>\n",
       "      <th>split</th>\n",
       "      <th></th>\n",
       "      <th></th>\n",
       "      <th></th>\n",
       "    </tr>\n",
       "  </thead>\n",
       "  <tbody>\n",
       "    <tr>\n",
       "      <th>test</th>\n",
       "      <td>2020-09-14</td>\n",
       "      <td>29829</td>\n",
       "      <td>2024-05-07</td>\n",
       "    </tr>\n",
       "    <tr>\n",
       "      <th>train</th>\n",
       "      <td>2000-01-03</td>\n",
       "      <td>123458</td>\n",
       "      <td>2017-01-16</td>\n",
       "    </tr>\n",
       "    <tr>\n",
       "      <th>validation</th>\n",
       "      <td>2017-01-17</td>\n",
       "      <td>29388</td>\n",
       "      <td>2020-09-11</td>\n",
       "    </tr>\n",
       "  </tbody>\n",
       "</table>\n",
       "</div>"
      ],
      "text/plain": [
       "                  min   count        max\n",
       "split                                   \n",
       "test       2020-09-14   29829 2024-05-07\n",
       "train      2000-01-03  123458 2017-01-16\n",
       "validation 2017-01-17   29388 2020-09-11"
      ]
     },
     "execution_count": 328,
     "metadata": {},
     "output_type": "execute_result"
    }
   ],
   "source": [
    "# EXACT DATES for the split:\n",
    "# time split on train/validation/test: FIXED dates of split, approx. 70%, 15%, 15% split\n",
    "new_df.groupby(['split'])['Date'].agg({'min','max','count'})"
   ]
  },
  {
   "cell_type": "code",
   "execution_count": 329,
   "metadata": {
    "colab": {
     "base_uri": "https://localhost:8080/"
    },
    "id": "p4i13Gt6fRxn",
    "outputId": "27372f12-424f-4ff6-8d54-587d77e2216c"
   },
   "outputs": [
    {
     "name": "stdout",
     "output_type": "stream",
     "text": [
      "<class 'pandas.core.frame.DataFrame'>\n",
      "Index: 182675 entries, 3490 to 5426\n",
      "Columns: 441 entries, Open to split\n",
      "dtypes: datetime64[ns](2), float64(129), int32(299), int64(5), object(6)\n",
      "memory usage: 407.7+ MB\n"
     ]
    }
   ],
   "source": [
    "# Full dataframe (transformed and truncated to 25 years)\n",
    "new_df.info()"
   ]
  },
  {
   "cell_type": "code",
   "execution_count": 330,
   "metadata": {
    "colab": {
     "base_uri": "https://localhost:8080/",
     "height": 147
    },
    "id": "iJDIOFfNfVlx",
    "outputId": "e72a101b-28a1-4f3d-ac2c-606121b1a506"
   },
   "outputs": [
    {
     "data": {
      "text/html": [
       "<div>\n",
       "<style scoped>\n",
       "    .dataframe tbody tr th:only-of-type {\n",
       "        vertical-align: middle;\n",
       "    }\n",
       "\n",
       "    .dataframe tbody tr th {\n",
       "        vertical-align: top;\n",
       "    }\n",
       "\n",
       "    .dataframe thead th {\n",
       "        text-align: right;\n",
       "    }\n",
       "</style>\n",
       "<table border=\"1\" class=\"dataframe\">\n",
       "  <thead>\n",
       "    <tr style=\"text-align: right;\">\n",
       "      <th></th>\n",
       "      <th>Open</th>\n",
       "      <th>High</th>\n",
       "      <th>Low</th>\n",
       "      <th>Close</th>\n",
       "      <th>Adj Close_x</th>\n",
       "      <th>Volume</th>\n",
       "      <th>Ticker</th>\n",
       "      <th>Year</th>\n",
       "      <th>Month</th>\n",
       "      <th>Weekday</th>\n",
       "      <th>...</th>\n",
       "      <th>month_wom_October_w2</th>\n",
       "      <th>month_wom_October_w3</th>\n",
       "      <th>month_wom_October_w4</th>\n",
       "      <th>month_wom_October_w5</th>\n",
       "      <th>month_wom_September_w1</th>\n",
       "      <th>month_wom_September_w2</th>\n",
       "      <th>month_wom_September_w3</th>\n",
       "      <th>month_wom_September_w4</th>\n",
       "      <th>month_wom_September_w5</th>\n",
       "      <th>split</th>\n",
       "    </tr>\n",
       "  </thead>\n",
       "  <tbody>\n",
       "    <tr>\n",
       "      <th>3490</th>\n",
       "      <td>58.6875</td>\n",
       "      <td>59.3125</td>\n",
       "      <td>56.0</td>\n",
       "      <td>58.28125</td>\n",
       "      <td>36.065567</td>\n",
       "      <td>53228400.0</td>\n",
       "      <td>MSFT</td>\n",
       "      <td>2000</td>\n",
       "      <td>January</td>\n",
       "      <td>0</td>\n",
       "      <td>...</td>\n",
       "      <td>0</td>\n",
       "      <td>0</td>\n",
       "      <td>0</td>\n",
       "      <td>0</td>\n",
       "      <td>0</td>\n",
       "      <td>0</td>\n",
       "      <td>0</td>\n",
       "      <td>0</td>\n",
       "      <td>0</td>\n",
       "      <td>train</td>\n",
       "    </tr>\n",
       "  </tbody>\n",
       "</table>\n",
       "<p>1 rows × 441 columns</p>\n",
       "</div>"
      ],
      "text/plain": [
       "         Open     High   Low     Close  Adj Close_x      Volume Ticker  Year  \\\n",
       "3490  58.6875  59.3125  56.0  58.28125    36.065567  53228400.0   MSFT  2000   \n",
       "\n",
       "        Month Weekday  ... month_wom_October_w2  month_wom_October_w3  \\\n",
       "3490  January       0  ...                    0                     0   \n",
       "\n",
       "      month_wom_October_w4  month_wom_October_w5  month_wom_September_w1  \\\n",
       "3490                     0                     0                       0   \n",
       "\n",
       "      month_wom_September_w2  month_wom_September_w3  month_wom_September_w4  \\\n",
       "3490                       0                       0                       0   \n",
       "\n",
       "      month_wom_September_w5  split  \n",
       "3490                       0  train  \n",
       "\n",
       "[1 rows x 441 columns]"
      ]
     },
     "execution_count": 330,
     "metadata": {},
     "output_type": "execute_result"
    }
   ],
   "source": [
    "# check one record: it has abs. values, text, and numbers\n",
    "new_df.head(1)"
   ]
  },
  {
   "cell_type": "code",
   "execution_count": 331,
   "metadata": {
    "colab": {
     "base_uri": "https://localhost:8080/",
     "height": 81
    },
    "id": "DxhUdHUgfY11",
    "outputId": "94f4c62f-64d8-480c-d125-ca35abc65048"
   },
   "outputs": [
    {
     "data": {
      "text/html": [
       "<div>\n",
       "<style scoped>\n",
       "    .dataframe tbody tr th:only-of-type {\n",
       "        vertical-align: middle;\n",
       "    }\n",
       "\n",
       "    .dataframe tbody tr th {\n",
       "        vertical-align: top;\n",
       "    }\n",
       "\n",
       "    .dataframe thead th {\n",
       "        text-align: right;\n",
       "    }\n",
       "</style>\n",
       "<table border=\"1\" class=\"dataframe\">\n",
       "  <thead>\n",
       "    <tr style=\"text-align: right;\">\n",
       "      <th></th>\n",
       "      <th>growth_future_5d</th>\n",
       "      <th>is_positive_growth_5d_future</th>\n",
       "      <th>is_strong_positive_growth_5d_future</th>\n",
       "    </tr>\n",
       "  </thead>\n",
       "  <tbody>\n",
       "    <tr>\n",
       "      <th>3490</th>\n",
       "      <td>0.963003</td>\n",
       "      <td>0</td>\n",
       "      <td>0</td>\n",
       "    </tr>\n",
       "  </tbody>\n",
       "</table>\n",
       "</div>"
      ],
      "text/plain": [
       "      growth_future_5d  is_positive_growth_5d_future  \\\n",
       "3490          0.963003                             0   \n",
       "\n",
       "      is_strong_positive_growth_5d_future  \n",
       "3490                                    0  "
      ]
     },
     "execution_count": 331,
     "metadata": {},
     "output_type": "execute_result"
    }
   ],
   "source": [
    "# what do we try to predict\n",
    "new_df[TO_PREDICT].head(1)"
   ]
  },
  {
   "cell_type": "markdown",
   "metadata": {
    "id": "iCOKbMCweoCo"
   },
   "source": [
    "### 0.2.5 Define dataframes for Modeling (ML) and cleane them"
   ]
  },
  {
   "cell_type": "code",
   "execution_count": 332,
   "metadata": {
    "colab": {
     "base_uri": "https://localhost:8080/"
    },
    "id": "ORY8KtcrNS0K",
    "outputId": "23d7118d-ed06-4677-d117-3ae7169bf584"
   },
   "outputs": [
    {
     "name": "stdout",
     "output_type": "stream",
     "text": [
      "length: X_train (123458, 780),  X_validation (29388, 780), X_test (29829, 780), X_train_valid = (152846, 780),  all combined: X_all (182675, 780)\n"
     ]
    }
   ],
   "source": [
    "# Features to be used in predictions (incl. new dummies)\n",
    "\n",
    "# TODO HA4 Q2: use correct dummies here : DUMMIES_SHOR\n",
    "\n",
    "features_list = NUMERICAL+DUMMIES\n",
    "\n",
    "# What we're trying to predict?\n",
    "\n",
    "# TODO HA4 Q3: use correct feature to predict 'is_strong_positive_growth_5d_future'\n",
    "\n",
    "to_predict = 'is_strong_positive_growth_5d_future'\n",
    "\n",
    "train_df = new_df[new_df.split.isin(['train'])].copy(deep=True)\n",
    "valid_df = new_df[new_df.split.isin(['validation'])].copy(deep=True)\n",
    "train_valid_df = new_df[new_df.split.isin(['train','validation'])].copy(deep=True)\n",
    "\n",
    "test_df =  new_df[new_df.split.isin(['test'])].copy(deep=True)\n",
    "\n",
    "# ONLY numerical Separate features and target variable for training and testing sets\n",
    "X_train = train_df[features_list+[to_predict]]\n",
    "X_valid = valid_df[features_list+[to_predict]]\n",
    "\n",
    "X_train_valid = train_valid_df[features_list+[to_predict]]\n",
    "\n",
    "X_test = test_df[features_list+[to_predict]]\n",
    "\n",
    "# this to be used for predictions and join to the original dataframe new_df\n",
    "X_all =  new_df[features_list+[to_predict]].copy(deep=True)\n",
    "\n",
    "print(f'length: X_train {X_train.shape},  X_validation {X_valid.shape}, X_test {X_test.shape}, X_train_valid = {X_train_valid.shape},  all combined: X_all {X_all.shape}')"
   ]
  },
  {
   "cell_type": "code",
   "execution_count": 333,
   "metadata": {
    "id": "VhpEOSemftan"
   },
   "outputs": [],
   "source": [
    "# Prepare a dataframe for ML:\n",
    "  # +-inf to NaN, all NaNs to 0s\n",
    "def clean_dataframe_from_inf_and_nan(df:pd.DataFrame):\n",
    "  df.replace([np.inf, -np.inf], np.nan, inplace=True)\n",
    "  df.fillna(0, inplace=True)\n",
    "  return df"
   ]
  },
  {
   "cell_type": "code",
   "execution_count": 334,
   "metadata": {
    "id": "V1l1jTnWf5BR"
   },
   "outputs": [],
   "source": [
    "# Clean from +-inf and NaNs:\n",
    "\n",
    "X_train = clean_dataframe_from_inf_and_nan(X_train)\n",
    "X_valid = clean_dataframe_from_inf_and_nan(X_valid)\n",
    "X_train_valid = clean_dataframe_from_inf_and_nan(X_train_valid)\n",
    "X_test = clean_dataframe_from_inf_and_nan(X_test)\n",
    "X_all = clean_dataframe_from_inf_and_nan(X_all)"
   ]
  },
  {
   "cell_type": "code",
   "execution_count": 335,
   "metadata": {
    "id": "Gyise-_BgGIr"
   },
   "outputs": [],
   "source": [
    "y_train = X_train[to_predict]\n",
    "\n",
    "y_valid = X_valid[to_predict]\n",
    "\n",
    "y_train_valid = X_train_valid[to_predict]\n",
    "y_test = X_test[to_predict]\n",
    "y_all =  X_all[to_predict]\n",
    "\n",
    "# remove y_train, y_test from X_ dataframes\n",
    "del X_train[to_predict]\n",
    "del X_valid[to_predict]\n",
    "del X_train_valid[to_predict]\n",
    "\n",
    "del X_test[to_predict]\n",
    "\n",
    "del X_all[to_predict]"
   ]
  },
  {
   "cell_type": "markdown",
   "metadata": {
    "id": "kkKt7sJYdNF2"
   },
   "source": [
    "# 1) Modeling"
   ]
  },
  {
   "cell_type": "markdown",
   "metadata": {
    "id": "Dlhxz3d4djgT"
   },
   "source": [
    "## 1.1) Manual 'rule of thumb' predictions\n",
    "* (pred0) CCI>200 (binary, on technical indicator CCI)\n",
    "* (pred1) growth_1d>1\n",
    "* (pred2) (growth_1d>1) & (growth_snp500_1d>1)\n",
    "* (pred3) (gdppot_us_yoy <= 0.027) & (fastd >= 0.251)\n",
    "* (pred4) (gdppot_us_yoy >= 0.027) & (growth_wti_oil_30d <= 1.005)"
   ]
  },
  {
   "cell_type": "code",
   "execution_count": 336,
   "metadata": {
    "id": "PQrCT7xldUdf"
   },
   "outputs": [],
   "source": [
    "# generate manual predictions\n",
    "# Let's label all prediction features with prefix \"pred\"\n",
    "new_df['pred0_manual_cci'] = (new_df.cci>200).astype(int)\n",
    "new_df['pred1_manual_prev_g1'] = (new_df.growth_1d>1).astype(int)\n",
    "new_df['pred2_manual_prev_g1_and_snp'] = ((new_df['growth_1d'] > 1) & (new_df['growth_snp500_1d'] > 1)).astype(int)\n",
    "new_df['pred3_manual_gdp_and_fastd'] = ((new_df['gdppot_us_yoy'] <= 0.027) & (new_df['fastd'] >=0.251)).astype(int)\n",
    "new_df['pred4_manual_gdp_and_wti30d'] = ((new_df['gdppot_us_yoy'] >= 0.027) & (new_df['growth_wti_oil_30d'] <= 1.005)).astype(int)"
   ]
  },
  {
   "cell_type": "code",
   "execution_count": 337,
   "metadata": {
    "colab": {
     "base_uri": "https://localhost:8080/",
     "height": 444
    },
    "id": "3tD9asrDkC3m",
    "outputId": "83446863-9f45-4dc6-b053-d4c03430b42c"
   },
   "outputs": [
    {
     "data": {
      "text/html": [
       "<div>\n",
       "<style scoped>\n",
       "    .dataframe tbody tr th:only-of-type {\n",
       "        vertical-align: middle;\n",
       "    }\n",
       "\n",
       "    .dataframe tbody tr th {\n",
       "        vertical-align: top;\n",
       "    }\n",
       "\n",
       "    .dataframe thead th {\n",
       "        text-align: right;\n",
       "    }\n",
       "</style>\n",
       "<table border=\"1\" class=\"dataframe\">\n",
       "  <thead>\n",
       "    <tr style=\"text-align: right;\">\n",
       "      <th></th>\n",
       "      <th>cci</th>\n",
       "      <th>growth_1d</th>\n",
       "      <th>growth_snp500_1d</th>\n",
       "      <th>pred0_manual_cci</th>\n",
       "      <th>pred1_manual_prev_g1</th>\n",
       "      <th>pred2_manual_prev_g1_and_snp</th>\n",
       "      <th>pred3_manual_gdp_and_fastd</th>\n",
       "      <th>pred4_manual_gdp_and_wti30d</th>\n",
       "      <th>is_strong_positive_growth_5d_future</th>\n",
       "    </tr>\n",
       "  </thead>\n",
       "  <tbody>\n",
       "    <tr>\n",
       "      <th>3490</th>\n",
       "      <td>26.847237</td>\n",
       "      <td>0.998394</td>\n",
       "      <td>0.990451</td>\n",
       "      <td>0</td>\n",
       "      <td>0</td>\n",
       "      <td>0</td>\n",
       "      <td>0</td>\n",
       "      <td>0</td>\n",
       "      <td>0</td>\n",
       "    </tr>\n",
       "    <tr>\n",
       "      <th>3491</th>\n",
       "      <td>-34.319663</td>\n",
       "      <td>0.966220</td>\n",
       "      <td>0.961655</td>\n",
       "      <td>0</td>\n",
       "      <td>0</td>\n",
       "      <td>0</td>\n",
       "      <td>0</td>\n",
       "      <td>0</td>\n",
       "      <td>0</td>\n",
       "    </tr>\n",
       "    <tr>\n",
       "      <th>3492</th>\n",
       "      <td>-97.318008</td>\n",
       "      <td>1.010544</td>\n",
       "      <td>1.001922</td>\n",
       "      <td>0</td>\n",
       "      <td>1</td>\n",
       "      <td>1</td>\n",
       "      <td>0</td>\n",
       "      <td>0</td>\n",
       "      <td>0</td>\n",
       "    </tr>\n",
       "    <tr>\n",
       "      <th>3493</th>\n",
       "      <td>-169.947507</td>\n",
       "      <td>0.966502</td>\n",
       "      <td>1.000956</td>\n",
       "      <td>0</td>\n",
       "      <td>0</td>\n",
       "      <td>0</td>\n",
       "      <td>0</td>\n",
       "      <td>0</td>\n",
       "      <td>0</td>\n",
       "    </tr>\n",
       "    <tr>\n",
       "      <th>3494</th>\n",
       "      <td>-142.142685</td>\n",
       "      <td>1.013068</td>\n",
       "      <td>1.027090</td>\n",
       "      <td>0</td>\n",
       "      <td>1</td>\n",
       "      <td>1</td>\n",
       "      <td>0</td>\n",
       "      <td>0</td>\n",
       "      <td>0</td>\n",
       "    </tr>\n",
       "    <tr>\n",
       "      <th>...</th>\n",
       "      <td>...</td>\n",
       "      <td>...</td>\n",
       "      <td>...</td>\n",
       "      <td>...</td>\n",
       "      <td>...</td>\n",
       "      <td>...</td>\n",
       "      <td>...</td>\n",
       "      <td>...</td>\n",
       "      <td>...</td>\n",
       "    </tr>\n",
       "    <tr>\n",
       "      <th>5422</th>\n",
       "      <td>-29.424989</td>\n",
       "      <td>0.988994</td>\n",
       "      <td>0.984269</td>\n",
       "      <td>0</td>\n",
       "      <td>0</td>\n",
       "      <td>0</td>\n",
       "      <td>1</td>\n",
       "      <td>0</td>\n",
       "      <td>0</td>\n",
       "    </tr>\n",
       "    <tr>\n",
       "      <th>5423</th>\n",
       "      <td>-26.657181</td>\n",
       "      <td>1.001447</td>\n",
       "      <td>1.009128</td>\n",
       "      <td>0</td>\n",
       "      <td>1</td>\n",
       "      <td>1</td>\n",
       "      <td>1</td>\n",
       "      <td>0</td>\n",
       "      <td>0</td>\n",
       "    </tr>\n",
       "    <tr>\n",
       "      <th>5424</th>\n",
       "      <td>-123.785473</td>\n",
       "      <td>0.972302</td>\n",
       "      <td>1.012557</td>\n",
       "      <td>0</td>\n",
       "      <td>0</td>\n",
       "      <td>0</td>\n",
       "      <td>1</td>\n",
       "      <td>0</td>\n",
       "      <td>0</td>\n",
       "    </tr>\n",
       "    <tr>\n",
       "      <th>5425</th>\n",
       "      <td>-181.986224</td>\n",
       "      <td>0.989571</td>\n",
       "      <td>1.010326</td>\n",
       "      <td>0</td>\n",
       "      <td>0</td>\n",
       "      <td>0</td>\n",
       "      <td>1</td>\n",
       "      <td>0</td>\n",
       "      <td>0</td>\n",
       "    </tr>\n",
       "    <tr>\n",
       "      <th>5426</th>\n",
       "      <td>-169.406977</td>\n",
       "      <td>0.989735</td>\n",
       "      <td>1.001343</td>\n",
       "      <td>0</td>\n",
       "      <td>0</td>\n",
       "      <td>0</td>\n",
       "      <td>1</td>\n",
       "      <td>0</td>\n",
       "      <td>0</td>\n",
       "    </tr>\n",
       "  </tbody>\n",
       "</table>\n",
       "<p>182675 rows × 9 columns</p>\n",
       "</div>"
      ],
      "text/plain": [
       "             cci  growth_1d  growth_snp500_1d  pred0_manual_cci  \\\n",
       "3490   26.847237   0.998394          0.990451                 0   \n",
       "3491  -34.319663   0.966220          0.961655                 0   \n",
       "3492  -97.318008   1.010544          1.001922                 0   \n",
       "3493 -169.947507   0.966502          1.000956                 0   \n",
       "3494 -142.142685   1.013068          1.027090                 0   \n",
       "...          ...        ...               ...               ...   \n",
       "5422  -29.424989   0.988994          0.984269                 0   \n",
       "5423  -26.657181   1.001447          1.009128                 0   \n",
       "5424 -123.785473   0.972302          1.012557                 0   \n",
       "5425 -181.986224   0.989571          1.010326                 0   \n",
       "5426 -169.406977   0.989735          1.001343                 0   \n",
       "\n",
       "      pred1_manual_prev_g1  pred2_manual_prev_g1_and_snp  \\\n",
       "3490                     0                             0   \n",
       "3491                     0                             0   \n",
       "3492                     1                             1   \n",
       "3493                     0                             0   \n",
       "3494                     1                             1   \n",
       "...                    ...                           ...   \n",
       "5422                     0                             0   \n",
       "5423                     1                             1   \n",
       "5424                     0                             0   \n",
       "5425                     0                             0   \n",
       "5426                     0                             0   \n",
       "\n",
       "      pred3_manual_gdp_and_fastd  pred4_manual_gdp_and_wti30d  \\\n",
       "3490                           0                            0   \n",
       "3491                           0                            0   \n",
       "3492                           0                            0   \n",
       "3493                           0                            0   \n",
       "3494                           0                            0   \n",
       "...                          ...                          ...   \n",
       "5422                           1                            0   \n",
       "5423                           1                            0   \n",
       "5424                           1                            0   \n",
       "5425                           1                            0   \n",
       "5426                           1                            0   \n",
       "\n",
       "      is_strong_positive_growth_5d_future  \n",
       "3490                                    0  \n",
       "3491                                    0  \n",
       "3492                                    0  \n",
       "3493                                    0  \n",
       "3494                                    0  \n",
       "...                                   ...  \n",
       "5422                                    0  \n",
       "5423                                    0  \n",
       "5424                                    0  \n",
       "5425                                    0  \n",
       "5426                                    0  \n",
       "\n",
       "[182675 rows x 9 columns]"
      ]
     },
     "execution_count": 337,
     "metadata": {},
     "output_type": "execute_result"
    }
   ],
   "source": [
    "# example output manual predictions:\n",
    "new_df[['cci','growth_1d','growth_snp500_1d','pred0_manual_cci','pred1_manual_prev_g1','pred2_manual_prev_g1_and_snp','pred3_manual_gdp_and_fastd','pred4_manual_gdp_and_wti30d', to_predict]]"
   ]
  },
  {
   "cell_type": "code",
   "execution_count": 338,
   "metadata": {
    "id": "tn-AvNGVkIku"
   },
   "outputs": [],
   "source": [
    "# Function to find all predictions (starting from 'pred'), generate is_correct (correctness of each prediction)\n",
    "# and precision on TEST dataset (assuming there is df[\"split\"] column with values 'train','validation','test'\n",
    "\n",
    "# returns 2 lists of features: PREDICTIONS and IS_CORRECT\n",
    "\n",
    "def get_predictions_correctness(df:pd.DataFrame, to_predict:str):\n",
    "  PREDICTIONS = [k for k in df.keys() if k.startswith('pred')]\n",
    "  print(f'Prediction columns founded: {PREDICTIONS}')\n",
    "\n",
    "  # add columns is_correct_\n",
    "  for pred in PREDICTIONS:\n",
    "    part1 = pred.split('_')[0] # first prefix before '_'\n",
    "    df[f'is_correct_{part1}'] =  (new_df[pred] == new_df[to_predict]).astype(int)\n",
    "\n",
    "  # IS_CORRECT features set\n",
    "  IS_CORRECT =  [k for k in df.keys() if k.startswith('is_correct_')]\n",
    "  print(f'Created columns is_correct: {IS_CORRECT}')\n",
    "\n",
    "  print('Precision on TEST set for each prediction:')\n",
    "  # define \"Precision\" for ALL predictions on a Test dataset (~4 last years of trading)\n",
    "  for i,column in enumerate(IS_CORRECT):\n",
    "    prediction_column = PREDICTIONS[i]\n",
    "    is_correct_column = column\n",
    "    filter = (new_df.split=='test') & (new_df[prediction_column]==1)\n",
    "    print(f'Prediction column:{prediction_column} , is_correct_column: {is_correct_column}')\n",
    "    print(new_df[filter][is_correct_column].value_counts())\n",
    "    print(new_df[filter][is_correct_column].value_counts()/len(new_df[filter]))\n",
    "    print('---------')\n",
    "\n",
    "  return PREDICTIONS, IS_CORRECT"
   ]
  },
  {
   "cell_type": "code",
   "execution_count": 339,
   "metadata": {
    "colab": {
     "base_uri": "https://localhost:8080/"
    },
    "id": "nUW-bTFrkM_2",
    "outputId": "1c453436-38f6-4347-af9a-0c2c0bd63281"
   },
   "outputs": [
    {
     "name": "stdout",
     "output_type": "stream",
     "text": [
      "Prediction columns founded: ['pred0_manual_cci', 'pred1_manual_prev_g1', 'pred2_manual_prev_g1_and_snp', 'pred3_manual_gdp_and_fastd', 'pred4_manual_gdp_and_wti30d']\n",
      "Created columns is_correct: ['is_correct_pred0', 'is_correct_pred1', 'is_correct_pred2', 'is_correct_pred3', 'is_correct_pred4']\n",
      "Precision on TEST set for each prediction:\n",
      "Prediction column:pred0_manual_cci , is_correct_column: is_correct_pred0\n",
      "is_correct_pred0\n",
      "0    565\n",
      "1    234\n",
      "Name: count, dtype: int64\n",
      "is_correct_pred0\n",
      "0    0.707134\n",
      "1    0.292866\n",
      "Name: count, dtype: float64\n",
      "---------\n",
      "Prediction column:pred1_manual_prev_g1 , is_correct_column: is_correct_pred1\n",
      "is_correct_pred1\n",
      "0    10751\n",
      "1     4850\n",
      "Name: count, dtype: int64\n",
      "is_correct_pred1\n",
      "0    0.689122\n",
      "1    0.310878\n",
      "Name: count, dtype: float64\n",
      "---------\n",
      "Prediction column:pred2_manual_prev_g1_and_snp , is_correct_column: is_correct_pred2\n",
      "is_correct_pred2\n",
      "0    7248\n",
      "1    3207\n",
      "Name: count, dtype: int64\n",
      "is_correct_pred2\n",
      "0    0.693257\n",
      "1    0.306743\n",
      "Name: count, dtype: float64\n",
      "---------\n",
      "Prediction column:pred3_manual_gdp_and_fastd , is_correct_column: is_correct_pred3\n",
      "is_correct_pred3\n",
      "0    20343\n",
      "1     9479\n",
      "Name: count, dtype: int64\n",
      "is_correct_pred3\n",
      "0    0.682147\n",
      "1    0.317853\n",
      "Name: count, dtype: float64\n",
      "---------\n",
      "Prediction column:pred4_manual_gdp_and_wti30d , is_correct_column: is_correct_pred4\n",
      "Series([], Name: count, dtype: int64)\n",
      "Series([], Name: count, dtype: float64)\n",
      "---------\n"
     ]
    }
   ],
   "source": [
    "PREDICTIONS, IS_CORRECT = get_predictions_correctness(df = new_df, to_predict = to_predict)"
   ]
  },
  {
   "cell_type": "code",
   "execution_count": 340,
   "metadata": {
    "id": "cVPexcpfkOW-"
   },
   "outputs": [],
   "source": [
    "# TODO HA4 Q1: run prediction correctness for 'is_positive_growth_5d_future' (should be lower)"
   ]
  },
  {
   "cell_type": "code",
   "execution_count": 341,
   "metadata": {
    "colab": {
     "base_uri": "https://localhost:8080/",
     "height": 444
    },
    "id": "bEsG68yfkn3B",
    "outputId": "67e6b70d-b83d-4898-97d7-2ffa185cc8c8"
   },
   "outputs": [
    {
     "data": {
      "text/html": [
       "<div>\n",
       "<style scoped>\n",
       "    .dataframe tbody tr th:only-of-type {\n",
       "        vertical-align: middle;\n",
       "    }\n",
       "\n",
       "    .dataframe tbody tr th {\n",
       "        vertical-align: top;\n",
       "    }\n",
       "\n",
       "    .dataframe thead th {\n",
       "        text-align: right;\n",
       "    }\n",
       "</style>\n",
       "<table border=\"1\" class=\"dataframe\">\n",
       "  <thead>\n",
       "    <tr style=\"text-align: right;\">\n",
       "      <th></th>\n",
       "      <th>pred0_manual_cci</th>\n",
       "      <th>pred1_manual_prev_g1</th>\n",
       "      <th>pred2_manual_prev_g1_and_snp</th>\n",
       "      <th>pred3_manual_gdp_and_fastd</th>\n",
       "      <th>pred4_manual_gdp_and_wti30d</th>\n",
       "      <th>is_correct_pred0</th>\n",
       "      <th>is_correct_pred1</th>\n",
       "      <th>is_correct_pred2</th>\n",
       "      <th>is_correct_pred3</th>\n",
       "      <th>is_correct_pred4</th>\n",
       "      <th>is_strong_positive_growth_5d_future</th>\n",
       "    </tr>\n",
       "  </thead>\n",
       "  <tbody>\n",
       "    <tr>\n",
       "      <th>3490</th>\n",
       "      <td>0</td>\n",
       "      <td>0</td>\n",
       "      <td>0</td>\n",
       "      <td>0</td>\n",
       "      <td>0</td>\n",
       "      <td>1</td>\n",
       "      <td>1</td>\n",
       "      <td>1</td>\n",
       "      <td>1</td>\n",
       "      <td>1</td>\n",
       "      <td>0</td>\n",
       "    </tr>\n",
       "    <tr>\n",
       "      <th>3491</th>\n",
       "      <td>0</td>\n",
       "      <td>0</td>\n",
       "      <td>0</td>\n",
       "      <td>0</td>\n",
       "      <td>0</td>\n",
       "      <td>1</td>\n",
       "      <td>1</td>\n",
       "      <td>1</td>\n",
       "      <td>1</td>\n",
       "      <td>1</td>\n",
       "      <td>0</td>\n",
       "    </tr>\n",
       "    <tr>\n",
       "      <th>3492</th>\n",
       "      <td>0</td>\n",
       "      <td>1</td>\n",
       "      <td>1</td>\n",
       "      <td>0</td>\n",
       "      <td>0</td>\n",
       "      <td>1</td>\n",
       "      <td>0</td>\n",
       "      <td>0</td>\n",
       "      <td>1</td>\n",
       "      <td>1</td>\n",
       "      <td>0</td>\n",
       "    </tr>\n",
       "    <tr>\n",
       "      <th>3493</th>\n",
       "      <td>0</td>\n",
       "      <td>0</td>\n",
       "      <td>0</td>\n",
       "      <td>0</td>\n",
       "      <td>0</td>\n",
       "      <td>1</td>\n",
       "      <td>1</td>\n",
       "      <td>1</td>\n",
       "      <td>1</td>\n",
       "      <td>1</td>\n",
       "      <td>0</td>\n",
       "    </tr>\n",
       "    <tr>\n",
       "      <th>3494</th>\n",
       "      <td>0</td>\n",
       "      <td>1</td>\n",
       "      <td>1</td>\n",
       "      <td>0</td>\n",
       "      <td>0</td>\n",
       "      <td>1</td>\n",
       "      <td>0</td>\n",
       "      <td>0</td>\n",
       "      <td>1</td>\n",
       "      <td>1</td>\n",
       "      <td>0</td>\n",
       "    </tr>\n",
       "    <tr>\n",
       "      <th>...</th>\n",
       "      <td>...</td>\n",
       "      <td>...</td>\n",
       "      <td>...</td>\n",
       "      <td>...</td>\n",
       "      <td>...</td>\n",
       "      <td>...</td>\n",
       "      <td>...</td>\n",
       "      <td>...</td>\n",
       "      <td>...</td>\n",
       "      <td>...</td>\n",
       "      <td>...</td>\n",
       "    </tr>\n",
       "    <tr>\n",
       "      <th>5422</th>\n",
       "      <td>0</td>\n",
       "      <td>0</td>\n",
       "      <td>0</td>\n",
       "      <td>1</td>\n",
       "      <td>0</td>\n",
       "      <td>1</td>\n",
       "      <td>1</td>\n",
       "      <td>1</td>\n",
       "      <td>0</td>\n",
       "      <td>1</td>\n",
       "      <td>0</td>\n",
       "    </tr>\n",
       "    <tr>\n",
       "      <th>5423</th>\n",
       "      <td>0</td>\n",
       "      <td>1</td>\n",
       "      <td>1</td>\n",
       "      <td>1</td>\n",
       "      <td>0</td>\n",
       "      <td>1</td>\n",
       "      <td>0</td>\n",
       "      <td>0</td>\n",
       "      <td>0</td>\n",
       "      <td>1</td>\n",
       "      <td>0</td>\n",
       "    </tr>\n",
       "    <tr>\n",
       "      <th>5424</th>\n",
       "      <td>0</td>\n",
       "      <td>0</td>\n",
       "      <td>0</td>\n",
       "      <td>1</td>\n",
       "      <td>0</td>\n",
       "      <td>1</td>\n",
       "      <td>1</td>\n",
       "      <td>1</td>\n",
       "      <td>0</td>\n",
       "      <td>1</td>\n",
       "      <td>0</td>\n",
       "    </tr>\n",
       "    <tr>\n",
       "      <th>5425</th>\n",
       "      <td>0</td>\n",
       "      <td>0</td>\n",
       "      <td>0</td>\n",
       "      <td>1</td>\n",
       "      <td>0</td>\n",
       "      <td>1</td>\n",
       "      <td>1</td>\n",
       "      <td>1</td>\n",
       "      <td>0</td>\n",
       "      <td>1</td>\n",
       "      <td>0</td>\n",
       "    </tr>\n",
       "    <tr>\n",
       "      <th>5426</th>\n",
       "      <td>0</td>\n",
       "      <td>0</td>\n",
       "      <td>0</td>\n",
       "      <td>1</td>\n",
       "      <td>0</td>\n",
       "      <td>1</td>\n",
       "      <td>1</td>\n",
       "      <td>1</td>\n",
       "      <td>0</td>\n",
       "      <td>1</td>\n",
       "      <td>0</td>\n",
       "    </tr>\n",
       "  </tbody>\n",
       "</table>\n",
       "<p>182675 rows × 11 columns</p>\n",
       "</div>"
      ],
      "text/plain": [
       "      pred0_manual_cci  pred1_manual_prev_g1  pred2_manual_prev_g1_and_snp  \\\n",
       "3490                 0                     0                             0   \n",
       "3491                 0                     0                             0   \n",
       "3492                 0                     1                             1   \n",
       "3493                 0                     0                             0   \n",
       "3494                 0                     1                             1   \n",
       "...                ...                   ...                           ...   \n",
       "5422                 0                     0                             0   \n",
       "5423                 0                     1                             1   \n",
       "5424                 0                     0                             0   \n",
       "5425                 0                     0                             0   \n",
       "5426                 0                     0                             0   \n",
       "\n",
       "      pred3_manual_gdp_and_fastd  pred4_manual_gdp_and_wti30d  \\\n",
       "3490                           0                            0   \n",
       "3491                           0                            0   \n",
       "3492                           0                            0   \n",
       "3493                           0                            0   \n",
       "3494                           0                            0   \n",
       "...                          ...                          ...   \n",
       "5422                           1                            0   \n",
       "5423                           1                            0   \n",
       "5424                           1                            0   \n",
       "5425                           1                            0   \n",
       "5426                           1                            0   \n",
       "\n",
       "      is_correct_pred0  is_correct_pred1  is_correct_pred2  is_correct_pred3  \\\n",
       "3490                 1                 1                 1                 1   \n",
       "3491                 1                 1                 1                 1   \n",
       "3492                 1                 0                 0                 1   \n",
       "3493                 1                 1                 1                 1   \n",
       "3494                 1                 0                 0                 1   \n",
       "...                ...               ...               ...               ...   \n",
       "5422                 1                 1                 1                 0   \n",
       "5423                 1                 0                 0                 0   \n",
       "5424                 1                 1                 1                 0   \n",
       "5425                 1                 1                 1                 0   \n",
       "5426                 1                 1                 1                 0   \n",
       "\n",
       "      is_correct_pred4  is_strong_positive_growth_5d_future  \n",
       "3490                 1                                    0  \n",
       "3491                 1                                    0  \n",
       "3492                 1                                    0  \n",
       "3493                 1                                    0  \n",
       "3494                 1                                    0  \n",
       "...                ...                                  ...  \n",
       "5422                 1                                    0  \n",
       "5423                 1                                    0  \n",
       "5424                 1                                    0  \n",
       "5425                 1                                    0  \n",
       "5426                 1                                    0  \n",
       "\n",
       "[182675 rows x 11 columns]"
      ]
     },
     "execution_count": 341,
     "metadata": {},
     "output_type": "execute_result"
    }
   ],
   "source": [
    "new_df[PREDICTIONS+IS_CORRECT+[to_predict]]"
   ]
  },
  {
   "cell_type": "markdown",
   "metadata": {
    "id": "6Tu1COw6molo"
   },
   "source": [
    "## 1.2) Decision Tree Classifier"
   ]
  },
  {
   "cell_type": "markdown",
   "metadata": {
    "id": "jZ8TBnZUmsJ_"
   },
   "source": [
    "### 1.2.1) Defining Functions to clean_df(), fit_decision_tree(), predict_decision_tree()\n",
    "* here we discuss only the Decision Tree Classifier for binary predictions (and not the Regressor)"
   ]
  },
  {
   "cell_type": "code",
   "execution_count": 342,
   "metadata": {
    "id": "l8Uy1lFdm0R3"
   },
   "outputs": [],
   "source": [
    "# Estimation/fit function (using dataframe of features X and what to predict y) --> optimising total accuracy\n",
    "# max_depth is hyperParameter\n",
    "def fit_decision_tree(X, y, max_depth=20):\n",
    "# Initialize the Decision Tree Classifier\n",
    "  clf = DecisionTreeClassifier(max_depth=max_depth,\n",
    "                               random_state=42)\n",
    "\n",
    "  # Fit the classifier to the training data\n",
    "  clf.fit(X, y)\n",
    "  return clf, X.columns"
   ]
  },
  {
   "cell_type": "code",
   "execution_count": 343,
   "metadata": {
    "colab": {
     "base_uri": "https://localhost:8080/"
    },
    "id": "a96QEniNT35b",
    "outputId": "91b20d0c-ef47-4377-ecdf-a8ac10535999"
   },
   "outputs": [
    {
     "name": "stdout",
     "output_type": "stream",
     "text": [
      "CPU times: total: 13.3 s\n",
      "Wall time: 25.9 s\n"
     ]
    }
   ],
   "source": [
    "%%time\n",
    "clf_10, train_columns = fit_decision_tree(X=X_train_valid,\n",
    "                           y=y_train_valid,\n",
    "                           max_depth=10)"
   ]
  },
  {
   "cell_type": "code",
   "execution_count": 344,
   "metadata": {
    "id": "K0qzwSYcT5YM"
   },
   "outputs": [],
   "source": [
    "# predict on a full dataset\n",
    "y_pred_all = clf_10.predict(X_all)"
   ]
  },
  {
   "cell_type": "code",
   "execution_count": 345,
   "metadata": {
    "id": "lKBzCaXcT6OL"
   },
   "outputs": [],
   "source": [
    "# defining a new prediction vector is easy now, as the dimensions will match\n",
    "new_df['pred5_clf_10'] = y_pred_all"
   ]
  },
  {
   "cell_type": "code",
   "execution_count": 346,
   "metadata": {
    "colab": {
     "base_uri": "https://localhost:8080/"
    },
    "id": "8qNAlgbnT_f1",
    "outputId": "c5f1726c-7035-48eb-feca-a8469a59d4fe"
   },
   "outputs": [
    {
     "name": "stdout",
     "output_type": "stream",
     "text": [
      "Prediction columns founded: ['pred0_manual_cci', 'pred1_manual_prev_g1', 'pred2_manual_prev_g1_and_snp', 'pred3_manual_gdp_and_fastd', 'pred4_manual_gdp_and_wti30d', 'pred5_clf_10']\n",
      "Created columns is_correct: ['is_correct_pred0', 'is_correct_pred1', 'is_correct_pred2', 'is_correct_pred3', 'is_correct_pred4', 'is_correct_pred5']\n",
      "Precision on TEST set for each prediction:\n",
      "Prediction column:pred0_manual_cci , is_correct_column: is_correct_pred0\n",
      "is_correct_pred0\n",
      "0    565\n",
      "1    234\n",
      "Name: count, dtype: int64\n",
      "is_correct_pred0\n",
      "0    0.707134\n",
      "1    0.292866\n",
      "Name: count, dtype: float64\n",
      "---------\n",
      "Prediction column:pred1_manual_prev_g1 , is_correct_column: is_correct_pred1\n",
      "is_correct_pred1\n",
      "0    10751\n",
      "1     4850\n",
      "Name: count, dtype: int64\n",
      "is_correct_pred1\n",
      "0    0.689122\n",
      "1    0.310878\n",
      "Name: count, dtype: float64\n",
      "---------\n",
      "Prediction column:pred2_manual_prev_g1_and_snp , is_correct_column: is_correct_pred2\n",
      "is_correct_pred2\n",
      "0    7248\n",
      "1    3207\n",
      "Name: count, dtype: int64\n",
      "is_correct_pred2\n",
      "0    0.693257\n",
      "1    0.306743\n",
      "Name: count, dtype: float64\n",
      "---------\n",
      "Prediction column:pred3_manual_gdp_and_fastd , is_correct_column: is_correct_pred3\n",
      "is_correct_pred3\n",
      "0    20343\n",
      "1     9479\n",
      "Name: count, dtype: int64\n",
      "is_correct_pred3\n",
      "0    0.682147\n",
      "1    0.317853\n",
      "Name: count, dtype: float64\n",
      "---------\n",
      "Prediction column:pred4_manual_gdp_and_wti30d , is_correct_column: is_correct_pred4\n",
      "Series([], Name: count, dtype: int64)\n",
      "Series([], Name: count, dtype: float64)\n",
      "---------\n",
      "Prediction column:pred5_clf_10 , is_correct_column: is_correct_pred5\n",
      "is_correct_pred5\n",
      "0    2229\n",
      "1    1114\n",
      "Name: count, dtype: int64\n",
      "is_correct_pred5\n",
      "0    0.666766\n",
      "1    0.333234\n",
      "Name: count, dtype: float64\n",
      "---------\n"
     ]
    }
   ],
   "source": [
    "# new prediction is added --> need to recalculate the correctness\n",
    "PREDICTIONS, IS_CORRECT = get_predictions_correctness(df = new_df, to_predict=to_predict)"
   ]
  },
  {
   "cell_type": "markdown",
   "metadata": {
    "id": "_bkIObxfUKbg"
   },
   "source": [
    "## 1.2.3 Hyperparams tuning for a Decision Tree Classifier"
   ]
  },
  {
   "cell_type": "code",
   "execution_count": 347,
   "metadata": {
    "id": "Y436uzqFUOP8"
   },
   "outputs": [],
   "source": [
    "# visualisation: decision tree for a few levels (max_depth variable)\n",
    "from sklearn.tree import plot_tree\n",
    "import matplotlib.pyplot as plt\n",
    "\n",
    "# https://stackoverflow.com/questions/20156951/how-do-i-find-which-attributes-my-tree-splits-on-when-using-scikit-learn\n",
    "from sklearn.tree import export_text"
   ]
  },
  {
   "cell_type": "code",
   "execution_count": 348,
   "metadata": {
    "id": "Mp2WfkxZghUl"
   },
   "outputs": [],
   "source": [
    "# %%time\n",
    "# # hyper params tuning for a Decision Tree\n",
    "\n",
    "# precision_by_depth = {}\n",
    "# best_precision = 0\n",
    "# best_depth = 0\n",
    "\n",
    "# for depth in range(1,21):\n",
    "#   print(f'Working with a tree of a max depth= {depth}')\n",
    "#   # fitting the tree on X_train, y_train\n",
    "#   clf,train_columns = fit_decision_tree(X=X_train_valid,\n",
    "#                            y=y_train_valid,\n",
    "#                            max_depth=depth) #applying custom hyperparam\n",
    "#   # getting the predictions for TEST and accuracy score\n",
    "#   y_pred_valid = clf.predict(X_valid)\n",
    "#   precision_valid = precision_score(y_valid, y_pred_valid)\n",
    "#   y_pred_test = clf.predict(X_test)\n",
    "#   precision_test = precision_score(y_test, y_pred_test)\n",
    "#   print(f'  Precision on test is {precision_test}, (precision on valid is {precision_valid} - tend to overfit)')\n",
    "#   # saving to the dict\n",
    "#   precision_by_depth[depth] = round(precision_test,4)\n",
    "#   # updating the best precision\n",
    "#   if precision_test >= best_precision:\n",
    "#     best_precision = round(precision_test,4)\n",
    "#     best_depth = depth\n",
    "#   # plot tree - long\n",
    "#   # plt.figure(figsize=(20,10))  # Set the size of the figure\n",
    "#   # plot_tree(clf,\n",
    "#   #           filled=True,\n",
    "#   #           feature_names=train_columns,\n",
    "#   #           class_names=['Negative', 'Positive'],\n",
    "#   #           max_depth=2)\n",
    "#   # plt.show()\n",
    "#   # plot tree - short\n",
    "#   tree_rules = export_text(clf, feature_names=list(X_train), max_depth=3)\n",
    "#   print(tree_rules)\n",
    "#   print('------------------------------')\n",
    "\n",
    "# print(f'All precisions by depth: {precision_by_depth}')\n",
    "# print(f'The best precision is {best_precision} and the best depth is {best_depth} ')"
   ]
  },
  {
   "cell_type": "code",
   "execution_count": 349,
   "metadata": {
    "id": "2jLsfPPhgjwD"
   },
   "outputs": [],
   "source": [
    "# UNCOMMENT TO RUN SEE THE RESULTS\n",
    "# Results of Hyper parameters tuning for a Decision Tree\n",
    "# print(precision_by_depth)"
   ]
  },
  {
   "cell_type": "code",
   "execution_count": 350,
   "metadata": {
    "id": "vK92UZPrstQh"
   },
   "outputs": [],
   "source": [
    "# pre-calculated results of Hyperparameter tuning: full dataset (300 features) and is_positive_growth_5d\n",
    "precision_by_depth = {1: 0.5552, 2: 0.5553, 3: 0.5552, 4: 0.5552, 5: 0.5555, 6: 0.5712, 7: 0.5684, 8: 0.5684, 9: 0.57, 10: 0.5653, 11: 0.567, 12: 0.5719, 13: 0.5707, 14: 0.5845, 15: 0.5864, 16: 0.5721, 17: 0.5767, 18: 0.5682, 19: 0.5638, 20: 0.573}\n",
    "best_depth = 15\n",
    "best_precision = 0.5864"
   ]
  },
  {
   "cell_type": "code",
   "execution_count": 351,
   "metadata": {
    "colab": {
     "base_uri": "https://localhost:8080/"
    },
    "id": "IBYKRALThb8P",
    "outputId": "af44eddb-8645-45ce-d406-102e9d86cd8e"
   },
   "outputs": [
    {
     "name": "stdout",
     "output_type": "stream",
     "text": [
      "Best precision and depth = 15, precision (on test)=0.5864\n"
     ]
    }
   ],
   "source": [
    "print(f'Best precision and depth = {best_depth}, precision (on test)={best_precision}')"
   ]
  },
  {
   "cell_type": "code",
   "execution_count": 352,
   "metadata": {
    "id": "hbGV6LjthP3u"
   },
   "outputs": [],
   "source": [
    "# TODO HA4 Q1: compare precision_by_depth with below? Any improvements? What's the optimal hyperparams?"
   ]
  },
  {
   "cell_type": "code",
   "execution_count": 353,
   "metadata": {
    "id": "OS3b4V-AhRa8"
   },
   "outputs": [],
   "source": [
    "# TODO HA4 Q2: compare precision_by_depth with below? Any improvements? What's the optimal hyperparams?"
   ]
  },
  {
   "cell_type": "code",
   "execution_count": 354,
   "metadata": {
    "colab": {
     "base_uri": "https://localhost:8080/",
     "height": 542
    },
    "id": "AYbzd0uQg_W9",
    "outputId": "71b12632-3f2d-484a-b95a-74ab569a5b05"
   },
   "outputs": [
    {
     "data": {
      "application/vnd.plotly.v1+json": {
       "config": {
        "plotlyServerURL": "https://plot.ly"
       },
       "data": [
        {
         "alignmentgroup": "True",
         "hovertemplate": "Max Depth=%{x}<br>Precision Score=%{text}<extra></extra>",
         "legendgroup": "",
         "marker": {
          "color": "#636efa",
          "pattern": {
           "shape": ""
          }
         },
         "name": "",
         "offsetgroup": "",
         "orientation": "v",
         "showlegend": false,
         "text": [
          55.52,
          55.53,
          55.52,
          55.52,
          55.55,
          57.120000000000005,
          56.84,
          56.84,
          56.99999999999999,
          56.53,
          56.699999999999996,
          57.19,
          57.07,
          58.45,
          58.64,
          57.21000000000001,
          57.67,
          56.82000000000001,
          56.379999999999995,
          57.3
         ],
         "textposition": "outside",
         "texttemplate": "%{text:.2f}%",
         "type": "bar",
         "x": [
          1,
          2,
          3,
          4,
          5,
          6,
          7,
          8,
          9,
          10,
          11,
          12,
          13,
          14,
          15,
          16,
          17,
          18,
          19,
          20
         ],
         "xaxis": "x",
         "y": [
          55.52,
          55.53,
          55.52,
          55.52,
          55.55,
          57.120000000000005,
          56.84,
          56.84,
          56.99999999999999,
          56.53,
          56.699999999999996,
          57.19,
          57.07,
          58.45,
          58.64,
          57.21000000000001,
          57.67,
          56.82000000000001,
          56.379999999999995,
          57.3
         ],
         "yaxis": "y"
        }
       ],
       "layout": {
        "autosize": true,
        "barmode": "relative",
        "legend": {
         "tracegroupgap": 0
        },
        "margin": {
         "t": 60
        },
        "template": {
         "data": {
          "bar": [
           {
            "error_x": {
             "color": "#2a3f5f"
            },
            "error_y": {
             "color": "#2a3f5f"
            },
            "marker": {
             "line": {
              "color": "#E5ECF6",
              "width": 0.5
             },
             "pattern": {
              "fillmode": "overlay",
              "size": 10,
              "solidity": 0.2
             }
            },
            "type": "bar"
           }
          ],
          "barpolar": [
           {
            "marker": {
             "line": {
              "color": "#E5ECF6",
              "width": 0.5
             },
             "pattern": {
              "fillmode": "overlay",
              "size": 10,
              "solidity": 0.2
             }
            },
            "type": "barpolar"
           }
          ],
          "carpet": [
           {
            "aaxis": {
             "endlinecolor": "#2a3f5f",
             "gridcolor": "white",
             "linecolor": "white",
             "minorgridcolor": "white",
             "startlinecolor": "#2a3f5f"
            },
            "baxis": {
             "endlinecolor": "#2a3f5f",
             "gridcolor": "white",
             "linecolor": "white",
             "minorgridcolor": "white",
             "startlinecolor": "#2a3f5f"
            },
            "type": "carpet"
           }
          ],
          "choropleth": [
           {
            "colorbar": {
             "outlinewidth": 0,
             "ticks": ""
            },
            "type": "choropleth"
           }
          ],
          "contour": [
           {
            "colorbar": {
             "outlinewidth": 0,
             "ticks": ""
            },
            "colorscale": [
             [
              0,
              "#0d0887"
             ],
             [
              0.1111111111111111,
              "#46039f"
             ],
             [
              0.2222222222222222,
              "#7201a8"
             ],
             [
              0.3333333333333333,
              "#9c179e"
             ],
             [
              0.4444444444444444,
              "#bd3786"
             ],
             [
              0.5555555555555556,
              "#d8576b"
             ],
             [
              0.6666666666666666,
              "#ed7953"
             ],
             [
              0.7777777777777778,
              "#fb9f3a"
             ],
             [
              0.8888888888888888,
              "#fdca26"
             ],
             [
              1,
              "#f0f921"
             ]
            ],
            "type": "contour"
           }
          ],
          "contourcarpet": [
           {
            "colorbar": {
             "outlinewidth": 0,
             "ticks": ""
            },
            "type": "contourcarpet"
           }
          ],
          "heatmap": [
           {
            "colorbar": {
             "outlinewidth": 0,
             "ticks": ""
            },
            "colorscale": [
             [
              0,
              "#0d0887"
             ],
             [
              0.1111111111111111,
              "#46039f"
             ],
             [
              0.2222222222222222,
              "#7201a8"
             ],
             [
              0.3333333333333333,
              "#9c179e"
             ],
             [
              0.4444444444444444,
              "#bd3786"
             ],
             [
              0.5555555555555556,
              "#d8576b"
             ],
             [
              0.6666666666666666,
              "#ed7953"
             ],
             [
              0.7777777777777778,
              "#fb9f3a"
             ],
             [
              0.8888888888888888,
              "#fdca26"
             ],
             [
              1,
              "#f0f921"
             ]
            ],
            "type": "heatmap"
           }
          ],
          "heatmapgl": [
           {
            "colorbar": {
             "outlinewidth": 0,
             "ticks": ""
            },
            "colorscale": [
             [
              0,
              "#0d0887"
             ],
             [
              0.1111111111111111,
              "#46039f"
             ],
             [
              0.2222222222222222,
              "#7201a8"
             ],
             [
              0.3333333333333333,
              "#9c179e"
             ],
             [
              0.4444444444444444,
              "#bd3786"
             ],
             [
              0.5555555555555556,
              "#d8576b"
             ],
             [
              0.6666666666666666,
              "#ed7953"
             ],
             [
              0.7777777777777778,
              "#fb9f3a"
             ],
             [
              0.8888888888888888,
              "#fdca26"
             ],
             [
              1,
              "#f0f921"
             ]
            ],
            "type": "heatmapgl"
           }
          ],
          "histogram": [
           {
            "marker": {
             "pattern": {
              "fillmode": "overlay",
              "size": 10,
              "solidity": 0.2
             }
            },
            "type": "histogram"
           }
          ],
          "histogram2d": [
           {
            "colorbar": {
             "outlinewidth": 0,
             "ticks": ""
            },
            "colorscale": [
             [
              0,
              "#0d0887"
             ],
             [
              0.1111111111111111,
              "#46039f"
             ],
             [
              0.2222222222222222,
              "#7201a8"
             ],
             [
              0.3333333333333333,
              "#9c179e"
             ],
             [
              0.4444444444444444,
              "#bd3786"
             ],
             [
              0.5555555555555556,
              "#d8576b"
             ],
             [
              0.6666666666666666,
              "#ed7953"
             ],
             [
              0.7777777777777778,
              "#fb9f3a"
             ],
             [
              0.8888888888888888,
              "#fdca26"
             ],
             [
              1,
              "#f0f921"
             ]
            ],
            "type": "histogram2d"
           }
          ],
          "histogram2dcontour": [
           {
            "colorbar": {
             "outlinewidth": 0,
             "ticks": ""
            },
            "colorscale": [
             [
              0,
              "#0d0887"
             ],
             [
              0.1111111111111111,
              "#46039f"
             ],
             [
              0.2222222222222222,
              "#7201a8"
             ],
             [
              0.3333333333333333,
              "#9c179e"
             ],
             [
              0.4444444444444444,
              "#bd3786"
             ],
             [
              0.5555555555555556,
              "#d8576b"
             ],
             [
              0.6666666666666666,
              "#ed7953"
             ],
             [
              0.7777777777777778,
              "#fb9f3a"
             ],
             [
              0.8888888888888888,
              "#fdca26"
             ],
             [
              1,
              "#f0f921"
             ]
            ],
            "type": "histogram2dcontour"
           }
          ],
          "mesh3d": [
           {
            "colorbar": {
             "outlinewidth": 0,
             "ticks": ""
            },
            "type": "mesh3d"
           }
          ],
          "parcoords": [
           {
            "line": {
             "colorbar": {
              "outlinewidth": 0,
              "ticks": ""
             }
            },
            "type": "parcoords"
           }
          ],
          "pie": [
           {
            "automargin": true,
            "type": "pie"
           }
          ],
          "scatter": [
           {
            "fillpattern": {
             "fillmode": "overlay",
             "size": 10,
             "solidity": 0.2
            },
            "type": "scatter"
           }
          ],
          "scatter3d": [
           {
            "line": {
             "colorbar": {
              "outlinewidth": 0,
              "ticks": ""
             }
            },
            "marker": {
             "colorbar": {
              "outlinewidth": 0,
              "ticks": ""
             }
            },
            "type": "scatter3d"
           }
          ],
          "scattercarpet": [
           {
            "marker": {
             "colorbar": {
              "outlinewidth": 0,
              "ticks": ""
             }
            },
            "type": "scattercarpet"
           }
          ],
          "scattergeo": [
           {
            "marker": {
             "colorbar": {
              "outlinewidth": 0,
              "ticks": ""
             }
            },
            "type": "scattergeo"
           }
          ],
          "scattergl": [
           {
            "marker": {
             "colorbar": {
              "outlinewidth": 0,
              "ticks": ""
             }
            },
            "type": "scattergl"
           }
          ],
          "scattermapbox": [
           {
            "marker": {
             "colorbar": {
              "outlinewidth": 0,
              "ticks": ""
             }
            },
            "type": "scattermapbox"
           }
          ],
          "scatterpolar": [
           {
            "marker": {
             "colorbar": {
              "outlinewidth": 0,
              "ticks": ""
             }
            },
            "type": "scatterpolar"
           }
          ],
          "scatterpolargl": [
           {
            "marker": {
             "colorbar": {
              "outlinewidth": 0,
              "ticks": ""
             }
            },
            "type": "scatterpolargl"
           }
          ],
          "scatterternary": [
           {
            "marker": {
             "colorbar": {
              "outlinewidth": 0,
              "ticks": ""
             }
            },
            "type": "scatterternary"
           }
          ],
          "surface": [
           {
            "colorbar": {
             "outlinewidth": 0,
             "ticks": ""
            },
            "colorscale": [
             [
              0,
              "#0d0887"
             ],
             [
              0.1111111111111111,
              "#46039f"
             ],
             [
              0.2222222222222222,
              "#7201a8"
             ],
             [
              0.3333333333333333,
              "#9c179e"
             ],
             [
              0.4444444444444444,
              "#bd3786"
             ],
             [
              0.5555555555555556,
              "#d8576b"
             ],
             [
              0.6666666666666666,
              "#ed7953"
             ],
             [
              0.7777777777777778,
              "#fb9f3a"
             ],
             [
              0.8888888888888888,
              "#fdca26"
             ],
             [
              1,
              "#f0f921"
             ]
            ],
            "type": "surface"
           }
          ],
          "table": [
           {
            "cells": {
             "fill": {
              "color": "#EBF0F8"
             },
             "line": {
              "color": "white"
             }
            },
            "header": {
             "fill": {
              "color": "#C8D4E3"
             },
             "line": {
              "color": "white"
             }
            },
            "type": "table"
           }
          ]
         },
         "layout": {
          "annotationdefaults": {
           "arrowcolor": "#2a3f5f",
           "arrowhead": 0,
           "arrowwidth": 1
          },
          "autotypenumbers": "strict",
          "coloraxis": {
           "colorbar": {
            "outlinewidth": 0,
            "ticks": ""
           }
          },
          "colorscale": {
           "diverging": [
            [
             0,
             "#8e0152"
            ],
            [
             0.1,
             "#c51b7d"
            ],
            [
             0.2,
             "#de77ae"
            ],
            [
             0.3,
             "#f1b6da"
            ],
            [
             0.4,
             "#fde0ef"
            ],
            [
             0.5,
             "#f7f7f7"
            ],
            [
             0.6,
             "#e6f5d0"
            ],
            [
             0.7,
             "#b8e186"
            ],
            [
             0.8,
             "#7fbc41"
            ],
            [
             0.9,
             "#4d9221"
            ],
            [
             1,
             "#276419"
            ]
           ],
           "sequential": [
            [
             0,
             "#0d0887"
            ],
            [
             0.1111111111111111,
             "#46039f"
            ],
            [
             0.2222222222222222,
             "#7201a8"
            ],
            [
             0.3333333333333333,
             "#9c179e"
            ],
            [
             0.4444444444444444,
             "#bd3786"
            ],
            [
             0.5555555555555556,
             "#d8576b"
            ],
            [
             0.6666666666666666,
             "#ed7953"
            ],
            [
             0.7777777777777778,
             "#fb9f3a"
            ],
            [
             0.8888888888888888,
             "#fdca26"
            ],
            [
             1,
             "#f0f921"
            ]
           ],
           "sequentialminus": [
            [
             0,
             "#0d0887"
            ],
            [
             0.1111111111111111,
             "#46039f"
            ],
            [
             0.2222222222222222,
             "#7201a8"
            ],
            [
             0.3333333333333333,
             "#9c179e"
            ],
            [
             0.4444444444444444,
             "#bd3786"
            ],
            [
             0.5555555555555556,
             "#d8576b"
            ],
            [
             0.6666666666666666,
             "#ed7953"
            ],
            [
             0.7777777777777778,
             "#fb9f3a"
            ],
            [
             0.8888888888888888,
             "#fdca26"
            ],
            [
             1,
             "#f0f921"
            ]
           ]
          },
          "colorway": [
           "#636efa",
           "#EF553B",
           "#00cc96",
           "#ab63fa",
           "#FFA15A",
           "#19d3f3",
           "#FF6692",
           "#B6E880",
           "#FF97FF",
           "#FECB52"
          ],
          "font": {
           "color": "#2a3f5f"
          },
          "geo": {
           "bgcolor": "white",
           "lakecolor": "white",
           "landcolor": "#E5ECF6",
           "showlakes": true,
           "showland": true,
           "subunitcolor": "white"
          },
          "hoverlabel": {
           "align": "left"
          },
          "hovermode": "closest",
          "mapbox": {
           "style": "light"
          },
          "paper_bgcolor": "white",
          "plot_bgcolor": "#E5ECF6",
          "polar": {
           "angularaxis": {
            "gridcolor": "white",
            "linecolor": "white",
            "ticks": ""
           },
           "bgcolor": "#E5ECF6",
           "radialaxis": {
            "gridcolor": "white",
            "linecolor": "white",
            "ticks": ""
           }
          },
          "scene": {
           "xaxis": {
            "backgroundcolor": "#E5ECF6",
            "gridcolor": "white",
            "gridwidth": 2,
            "linecolor": "white",
            "showbackground": true,
            "ticks": "",
            "zerolinecolor": "white"
           },
           "yaxis": {
            "backgroundcolor": "#E5ECF6",
            "gridcolor": "white",
            "gridwidth": 2,
            "linecolor": "white",
            "showbackground": true,
            "ticks": "",
            "zerolinecolor": "white"
           },
           "zaxis": {
            "backgroundcolor": "#E5ECF6",
            "gridcolor": "white",
            "gridwidth": 2,
            "linecolor": "white",
            "showbackground": true,
            "ticks": "",
            "zerolinecolor": "white"
           }
          },
          "shapedefaults": {
           "line": {
            "color": "#2a3f5f"
           }
          },
          "ternary": {
           "aaxis": {
            "gridcolor": "white",
            "linecolor": "white",
            "ticks": ""
           },
           "baxis": {
            "gridcolor": "white",
            "linecolor": "white",
            "ticks": ""
           },
           "bgcolor": "#E5ECF6",
           "caxis": {
            "gridcolor": "white",
            "linecolor": "white",
            "ticks": ""
           }
          },
          "title": {
           "x": 0.05
          },
          "xaxis": {
           "automargin": true,
           "gridcolor": "white",
           "linecolor": "white",
           "ticks": "",
           "title": {
            "standoff": 15
           },
           "zerolinecolor": "white",
           "zerolinewidth": 2
          },
          "yaxis": {
           "automargin": true,
           "gridcolor": "white",
           "linecolor": "white",
           "ticks": "",
           "title": {
            "standoff": 15
           },
           "zerolinecolor": "white",
           "zerolinewidth": 2
          }
         }
        },
        "title": {
         "text": "Precision Score vs. Max Depth for a Decision Tree",
         "x": 0.5,
         "xanchor": "center"
        },
        "xaxis": {
         "anchor": "y",
         "autorange": true,
         "domain": [
          0,
          1
         ],
         "range": [
          0.5,
          20.5
         ],
         "title": {
          "text": "Max Depth"
         },
         "type": "linear"
        },
        "yaxis": {
         "anchor": "x",
         "domain": [
          0,
          1
         ],
         "range": [
          54,
          60
         ],
         "title": {
          "text": "Precision Score"
         },
         "type": "linear"
        }
       }
      },
      "image/png": "[encoded data removed]",
      "text/html": [
       "<div>                            <div id=\"9249c601-4a8e-408b-a434-b033fbd3164e\" class=\"plotly-graph-div\" style=\"height:525px; width:100%;\"></div>            <script type=\"text/javascript\">                require([\"plotly\"], function(Plotly) {                    window.PLOTLYENV=window.PLOTLYENV || {};                                    if (document.getElementById(\"9249c601-4a8e-408b-a434-b033fbd3164e\")) {                    Plotly.newPlot(                        \"9249c601-4a8e-408b-a434-b033fbd3164e\",                        [{\"alignmentgroup\":\"True\",\"hovertemplate\":\"Max Depth=%{x}\\u003cbr\\u003ePrecision Score=%{text}\\u003cextra\\u003e\\u003c\\u002fextra\\u003e\",\"legendgroup\":\"\",\"marker\":{\"color\":\"#636efa\",\"pattern\":{\"shape\":\"\"}},\"name\":\"\",\"offsetgroup\":\"\",\"orientation\":\"v\",\"showlegend\":false,\"text\":[55.52,55.53,55.52,55.52,55.55,57.120000000000005,56.84,56.84,56.99999999999999,56.53,56.699999999999996,57.19,57.07,58.45,58.64,57.21000000000001,57.67,56.82000000000001,56.379999999999995,57.3],\"textposition\":\"outside\",\"x\":[1,2,3,4,5,6,7,8,9,10,11,12,13,14,15,16,17,18,19,20],\"xaxis\":\"x\",\"y\":[55.52,55.53,55.52,55.52,55.55,57.120000000000005,56.84,56.84,56.99999999999999,56.53,56.699999999999996,57.19,57.07,58.45,58.64,57.21000000000001,57.67,56.82000000000001,56.379999999999995,57.3],\"yaxis\":\"y\",\"type\":\"bar\",\"texttemplate\":\"%{text:.2f}%\"}],                        {\"template\":{\"data\":{\"histogram2dcontour\":[{\"type\":\"histogram2dcontour\",\"colorbar\":{\"outlinewidth\":0,\"ticks\":\"\"},\"colorscale\":[[0.0,\"#0d0887\"],[0.1111111111111111,\"#46039f\"],[0.2222222222222222,\"#7201a8\"],[0.3333333333333333,\"#9c179e\"],[0.4444444444444444,\"#bd3786\"],[0.5555555555555556,\"#d8576b\"],[0.6666666666666666,\"#ed7953\"],[0.7777777777777778,\"#fb9f3a\"],[0.8888888888888888,\"#fdca26\"],[1.0,\"#f0f921\"]]}],\"choropleth\":[{\"type\":\"choropleth\",\"colorbar\":{\"outlinewidth\":0,\"ticks\":\"\"}}],\"histogram2d\":[{\"type\":\"histogram2d\",\"colorbar\":{\"outlinewidth\":0,\"ticks\":\"\"},\"colorscale\":[[0.0,\"#0d0887\"],[0.1111111111111111,\"#46039f\"],[0.2222222222222222,\"#7201a8\"],[0.3333333333333333,\"#9c179e\"],[0.4444444444444444,\"#bd3786\"],[0.5555555555555556,\"#d8576b\"],[0.6666666666666666,\"#ed7953\"],[0.7777777777777778,\"#fb9f3a\"],[0.8888888888888888,\"#fdca26\"],[1.0,\"#f0f921\"]]}],\"heatmap\":[{\"type\":\"heatmap\",\"colorbar\":{\"outlinewidth\":0,\"ticks\":\"\"},\"colorscale\":[[0.0,\"#0d0887\"],[0.1111111111111111,\"#46039f\"],[0.2222222222222222,\"#7201a8\"],[0.3333333333333333,\"#9c179e\"],[0.4444444444444444,\"#bd3786\"],[0.5555555555555556,\"#d8576b\"],[0.6666666666666666,\"#ed7953\"],[0.7777777777777778,\"#fb9f3a\"],[0.8888888888888888,\"#fdca26\"],[1.0,\"#f0f921\"]]}],\"heatmapgl\":[{\"type\":\"heatmapgl\",\"colorbar\":{\"outlinewidth\":0,\"ticks\":\"\"},\"colorscale\":[[0.0,\"#0d0887\"],[0.1111111111111111,\"#46039f\"],[0.2222222222222222,\"#7201a8\"],[0.3333333333333333,\"#9c179e\"],[0.4444444444444444,\"#bd3786\"],[0.5555555555555556,\"#d8576b\"],[0.6666666666666666,\"#ed7953\"],[0.7777777777777778,\"#fb9f3a\"],[0.8888888888888888,\"#fdca26\"],[1.0,\"#f0f921\"]]}],\"contourcarpet\":[{\"type\":\"contourcarpet\",\"colorbar\":{\"outlinewidth\":0,\"ticks\":\"\"}}],\"contour\":[{\"type\":\"contour\",\"colorbar\":{\"outlinewidth\":0,\"ticks\":\"\"},\"colorscale\":[[0.0,\"#0d0887\"],[0.1111111111111111,\"#46039f\"],[0.2222222222222222,\"#7201a8\"],[0.3333333333333333,\"#9c179e\"],[0.4444444444444444,\"#bd3786\"],[0.5555555555555556,\"#d8576b\"],[0.6666666666666666,\"#ed7953\"],[0.7777777777777778,\"#fb9f3a\"],[0.8888888888888888,\"#fdca26\"],[1.0,\"#f0f921\"]]}],\"surface\":[{\"type\":\"surface\",\"colorbar\":{\"outlinewidth\":0,\"ticks\":\"\"},\"colorscale\":[[0.0,\"#0d0887\"],[0.1111111111111111,\"#46039f\"],[0.2222222222222222,\"#7201a8\"],[0.3333333333333333,\"#9c179e\"],[0.4444444444444444,\"#bd3786\"],[0.5555555555555556,\"#d8576b\"],[0.6666666666666666,\"#ed7953\"],[0.7777777777777778,\"#fb9f3a\"],[0.8888888888888888,\"#fdca26\"],[1.0,\"#f0f921\"]]}],\"mesh3d\":[{\"type\":\"mesh3d\",\"colorbar\":{\"outlinewidth\":0,\"ticks\":\"\"}}],\"scatter\":[{\"fillpattern\":{\"fillmode\":\"overlay\",\"size\":10,\"solidity\":0.2},\"type\":\"scatter\"}],\"parcoords\":[{\"type\":\"parcoords\",\"line\":{\"colorbar\":{\"outlinewidth\":0,\"ticks\":\"\"}}}],\"scatterpolargl\":[{\"type\":\"scatterpolargl\",\"marker\":{\"colorbar\":{\"outlinewidth\":0,\"ticks\":\"\"}}}],\"bar\":[{\"error_x\":{\"color\":\"#2a3f5f\"},\"error_y\":{\"color\":\"#2a3f5f\"},\"marker\":{\"line\":{\"color\":\"#E5ECF6\",\"width\":0.5},\"pattern\":{\"fillmode\":\"overlay\",\"size\":10,\"solidity\":0.2}},\"type\":\"bar\"}],\"scattergeo\":[{\"type\":\"scattergeo\",\"marker\":{\"colorbar\":{\"outlinewidth\":0,\"ticks\":\"\"}}}],\"scatterpolar\":[{\"type\":\"scatterpolar\",\"marker\":{\"colorbar\":{\"outlinewidth\":0,\"ticks\":\"\"}}}],\"histogram\":[{\"marker\":{\"pattern\":{\"fillmode\":\"overlay\",\"size\":10,\"solidity\":0.2}},\"type\":\"histogram\"}],\"scattergl\":[{\"type\":\"scattergl\",\"marker\":{\"colorbar\":{\"outlinewidth\":0,\"ticks\":\"\"}}}],\"scatter3d\":[{\"type\":\"scatter3d\",\"line\":{\"colorbar\":{\"outlinewidth\":0,\"ticks\":\"\"}},\"marker\":{\"colorbar\":{\"outlinewidth\":0,\"ticks\":\"\"}}}],\"scattermapbox\":[{\"type\":\"scattermapbox\",\"marker\":{\"colorbar\":{\"outlinewidth\":0,\"ticks\":\"\"}}}],\"scatterternary\":[{\"type\":\"scatterternary\",\"marker\":{\"colorbar\":{\"outlinewidth\":0,\"ticks\":\"\"}}}],\"scattercarpet\":[{\"type\":\"scattercarpet\",\"marker\":{\"colorbar\":{\"outlinewidth\":0,\"ticks\":\"\"}}}],\"carpet\":[{\"aaxis\":{\"endlinecolor\":\"#2a3f5f\",\"gridcolor\":\"white\",\"linecolor\":\"white\",\"minorgridcolor\":\"white\",\"startlinecolor\":\"#2a3f5f\"},\"baxis\":{\"endlinecolor\":\"#2a3f5f\",\"gridcolor\":\"white\",\"linecolor\":\"white\",\"minorgridcolor\":\"white\",\"startlinecolor\":\"#2a3f5f\"},\"type\":\"carpet\"}],\"table\":[{\"cells\":{\"fill\":{\"color\":\"#EBF0F8\"},\"line\":{\"color\":\"white\"}},\"header\":{\"fill\":{\"color\":\"#C8D4E3\"},\"line\":{\"color\":\"white\"}},\"type\":\"table\"}],\"barpolar\":[{\"marker\":{\"line\":{\"color\":\"#E5ECF6\",\"width\":0.5},\"pattern\":{\"fillmode\":\"overlay\",\"size\":10,\"solidity\":0.2}},\"type\":\"barpolar\"}],\"pie\":[{\"automargin\":true,\"type\":\"pie\"}]},\"layout\":{\"autotypenumbers\":\"strict\",\"colorway\":[\"#636efa\",\"#EF553B\",\"#00cc96\",\"#ab63fa\",\"#FFA15A\",\"#19d3f3\",\"#FF6692\",\"#B6E880\",\"#FF97FF\",\"#FECB52\"],\"font\":{\"color\":\"#2a3f5f\"},\"hovermode\":\"closest\",\"hoverlabel\":{\"align\":\"left\"},\"paper_bgcolor\":\"white\",\"plot_bgcolor\":\"#E5ECF6\",\"polar\":{\"bgcolor\":\"#E5ECF6\",\"angularaxis\":{\"gridcolor\":\"white\",\"linecolor\":\"white\",\"ticks\":\"\"},\"radialaxis\":{\"gridcolor\":\"white\",\"linecolor\":\"white\",\"ticks\":\"\"}},\"ternary\":{\"bgcolor\":\"#E5ECF6\",\"aaxis\":{\"gridcolor\":\"white\",\"linecolor\":\"white\",\"ticks\":\"\"},\"baxis\":{\"gridcolor\":\"white\",\"linecolor\":\"white\",\"ticks\":\"\"},\"caxis\":{\"gridcolor\":\"white\",\"linecolor\":\"white\",\"ticks\":\"\"}},\"coloraxis\":{\"colorbar\":{\"outlinewidth\":0,\"ticks\":\"\"}},\"colorscale\":{\"sequential\":[[0.0,\"#0d0887\"],[0.1111111111111111,\"#46039f\"],[0.2222222222222222,\"#7201a8\"],[0.3333333333333333,\"#9c179e\"],[0.4444444444444444,\"#bd3786\"],[0.5555555555555556,\"#d8576b\"],[0.6666666666666666,\"#ed7953\"],[0.7777777777777778,\"#fb9f3a\"],[0.8888888888888888,\"#fdca26\"],[1.0,\"#f0f921\"]],\"sequentialminus\":[[0.0,\"#0d0887\"],[0.1111111111111111,\"#46039f\"],[0.2222222222222222,\"#7201a8\"],[0.3333333333333333,\"#9c179e\"],[0.4444444444444444,\"#bd3786\"],[0.5555555555555556,\"#d8576b\"],[0.6666666666666666,\"#ed7953\"],[0.7777777777777778,\"#fb9f3a\"],[0.8888888888888888,\"#fdca26\"],[1.0,\"#f0f921\"]],\"diverging\":[[0,\"#8e0152\"],[0.1,\"#c51b7d\"],[0.2,\"#de77ae\"],[0.3,\"#f1b6da\"],[0.4,\"#fde0ef\"],[0.5,\"#f7f7f7\"],[0.6,\"#e6f5d0\"],[0.7,\"#b8e186\"],[0.8,\"#7fbc41\"],[0.9,\"#4d9221\"],[1,\"#276419\"]]},\"xaxis\":{\"gridcolor\":\"white\",\"linecolor\":\"white\",\"ticks\":\"\",\"title\":{\"standoff\":15},\"zerolinecolor\":\"white\",\"automargin\":true,\"zerolinewidth\":2},\"yaxis\":{\"gridcolor\":\"white\",\"linecolor\":\"white\",\"ticks\":\"\",\"title\":{\"standoff\":15},\"zerolinecolor\":\"white\",\"automargin\":true,\"zerolinewidth\":2},\"scene\":{\"xaxis\":{\"backgroundcolor\":\"#E5ECF6\",\"gridcolor\":\"white\",\"linecolor\":\"white\",\"showbackground\":true,\"ticks\":\"\",\"zerolinecolor\":\"white\",\"gridwidth\":2},\"yaxis\":{\"backgroundcolor\":\"#E5ECF6\",\"gridcolor\":\"white\",\"linecolor\":\"white\",\"showbackground\":true,\"ticks\":\"\",\"zerolinecolor\":\"white\",\"gridwidth\":2},\"zaxis\":{\"backgroundcolor\":\"#E5ECF6\",\"gridcolor\":\"white\",\"linecolor\":\"white\",\"showbackground\":true,\"ticks\":\"\",\"zerolinecolor\":\"white\",\"gridwidth\":2}},\"shapedefaults\":{\"line\":{\"color\":\"#2a3f5f\"}},\"annotationdefaults\":{\"arrowcolor\":\"#2a3f5f\",\"arrowhead\":0,\"arrowwidth\":1},\"geo\":{\"bgcolor\":\"white\",\"landcolor\":\"#E5ECF6\",\"subunitcolor\":\"white\",\"showland\":true,\"showlakes\":true,\"lakecolor\":\"white\"},\"title\":{\"x\":0.05},\"mapbox\":{\"style\":\"light\"}}},\"xaxis\":{\"anchor\":\"y\",\"domain\":[0.0,1.0],\"title\":{\"text\":\"Max Depth\"}},\"yaxis\":{\"anchor\":\"x\",\"domain\":[0.0,1.0],\"title\":{\"text\":\"Precision Score\"},\"range\":[54,60]},\"legend\":{\"tracegroupgap\":0},\"margin\":{\"t\":60},\"barmode\":\"relative\",\"title\":{\"text\":\"Precision Score vs. Max Depth for a Decision Tree\",\"x\":0.5,\"xanchor\":\"center\"}},                        {\"responsive\": true}                    ).then(function(){\n",
       "                            \n",
       "var gd = document.getElementById('9249c601-4a8e-408b-a434-b033fbd3164e');\n",
       "var x = new MutationObserver(function (mutations, observer) {{\n",
       "        var display = window.getComputedStyle(gd).display;\n",
       "        if (!display || display === 'none') {{\n",
       "            console.log([gd, 'removed!']);\n",
       "            Plotly.purge(gd);\n",
       "            observer.disconnect();\n",
       "        }}\n",
       "}});\n",
       "\n",
       "// Listen for the removal of the full notebook cells\n",
       "var notebookContainer = gd.closest('#notebook-container');\n",
       "if (notebookContainer) {{\n",
       "    x.observe(notebookContainer, {childList: true});\n",
       "}}\n",
       "\n",
       "// Listen for the clearing of the current output cell\n",
       "var outputEl = gd.closest('.output');\n",
       "if (outputEl) {{\n",
       "    x.observe(outputEl, {childList: true});\n",
       "}}\n",
       "\n",
       "                        })                };                });            </script>        </div>"
      ]
     },
     "metadata": {},
     "output_type": "display_data"
    }
   ],
   "source": [
    "# Convert the dictionary to a DataFrame\n",
    "df = pd.DataFrame(list(precision_by_depth.items()), columns=['max_depth', 'precision_score'])\n",
    "df.loc[:,'precision_score'] = df.precision_score*100.0 # need for % visualisation\n",
    "\n",
    "# Create the bar chart using Plotly Express\n",
    "fig = px.bar(df,\n",
    "             x='max_depth',\n",
    "             y='precision_score',\n",
    "            #  title='Precision Score vs. Max Depth for a Decision Tree',\n",
    "             labels={'max_depth': 'Max Depth', 'precision_score': 'Precision Score'},\n",
    "             range_y=[54, 60],\n",
    "             text='precision_score')\n",
    "\n",
    "# Update the text format to display as percentages\n",
    "fig.update_traces(texttemplate='%{text:.2f}%', textposition='outside')\n",
    "\n",
    "# Center the title\n",
    "fig.update_layout(title={'text': 'Precision Score vs. Max Depth for a Decision Tree', 'x': 0.5, 'xanchor': 'center'})\n",
    "\n",
    "\n",
    "# Show the figure\n",
    "fig.show()"
   ]
  },
  {
   "cell_type": "code",
   "execution_count": 355,
   "metadata": {
    "colab": {
     "base_uri": "https://localhost:8080/"
    },
    "id": "f1OnBZJLtHkI",
    "outputId": "996c929d-7832-4fea-cd19-68326d15d808"
   },
   "outputs": [
    {
     "name": "stdout",
     "output_type": "stream",
     "text": [
      "CPU times: total: 19.7 s\n",
      "Wall time: 35.9 s\n"
     ]
    }
   ],
   "source": [
    "%%time\n",
    "clf_best,train_columns = fit_decision_tree(X=X_train_valid,\n",
    "                           y=y_train_valid,\n",
    "                           max_depth=best_depth)"
   ]
  },
  {
   "cell_type": "code",
   "execution_count": 356,
   "metadata": {
    "colab": {
     "base_uri": "https://localhost:8080/"
    },
    "id": "o2-2CS-ptOLM",
    "outputId": "47244c68-2e76-4554-924c-1bcf5c7375c0"
   },
   "outputs": [
    {
     "name": "stdout",
     "output_type": "stream",
     "text": [
      "Number of nodes: 7543\n",
      "Number of leaves: 3772\n"
     ]
    }
   ],
   "source": [
    "# For a DecisionTreeClassifier in scikit-learn, the concept of trainable parameters differs from that of neural networks.\n",
    "# In decision trees, the parameters are the structure of the tree itself (nodes and splits) rather than weights.\n",
    "# However, you can still get a sense of the model's complexity by looking at the number of nodes and leaves.\n",
    "\n",
    "# Here's how you can get this information for your trained DecisionTreeClassifier (referred to as clf_best):\n",
    "\n",
    "# Get the number of nodes and leaves in the tree\n",
    "n_nodes = clf_best.tree_.node_count\n",
    "n_leaves = clf_best.get_n_leaves()\n",
    "\n",
    "print(f\"Number of nodes: {n_nodes}\")\n",
    "print(f\"Number of leaves: {n_leaves}\")"
   ]
  },
  {
   "cell_type": "code",
   "execution_count": 357,
   "metadata": {
    "colab": {
     "base_uri": "https://localhost:8080/",
     "height": 75
    },
    "id": "KIRNFnQFtPwf",
    "outputId": "bfcf461f-6bb1-4d02-cb75-d3436b9925e8"
   },
   "outputs": [
    {
     "data": {
      "text/html": [
       "<style>#sk-container-id-5 {\n",
       "  /* Definition of color scheme common for light and dark mode */\n",
       "  --sklearn-color-text: black;\n",
       "  --sklearn-color-line: gray;\n",
       "  /* Definition of color scheme for unfitted estimators */\n",
       "  --sklearn-color-unfitted-level-0: #fff5e6;\n",
       "  --sklearn-color-unfitted-level-1: #f6e4d2;\n",
       "  --sklearn-color-unfitted-level-2: #ffe0b3;\n",
       "  --sklearn-color-unfitted-level-3: chocolate;\n",
       "  /* Definition of color scheme for fitted estimators */\n",
       "  --sklearn-color-fitted-level-0: #f0f8ff;\n",
       "  --sklearn-color-fitted-level-1: #d4ebff;\n",
       "  --sklearn-color-fitted-level-2: #b3dbfd;\n",
       "  --sklearn-color-fitted-level-3: cornflowerblue;\n",
       "\n",
       "  /* Specific color for light theme */\n",
       "  --sklearn-color-text-on-default-background: var(--sg-text-color, var(--theme-code-foreground, var(--jp-content-font-color1, black)));\n",
       "  --sklearn-color-background: var(--sg-background-color, var(--theme-background, var(--jp-layout-color0, white)));\n",
       "  --sklearn-color-border-box: var(--sg-text-color, var(--theme-code-foreground, var(--jp-content-font-color1, black)));\n",
       "  --sklearn-color-icon: #696969;\n",
       "\n",
       "  @media (prefers-color-scheme: dark) {\n",
       "    /* Redefinition of color scheme for dark theme */\n",
       "    --sklearn-color-text-on-default-background: var(--sg-text-color, var(--theme-code-foreground, var(--jp-content-font-color1, white)));\n",
       "    --sklearn-color-background: var(--sg-background-color, var(--theme-background, var(--jp-layout-color0, #111)));\n",
       "    --sklearn-color-border-box: var(--sg-text-color, var(--theme-code-foreground, var(--jp-content-font-color1, white)));\n",
       "    --sklearn-color-icon: #878787;\n",
       "  }\n",
       "}\n",
       "\n",
       "#sk-container-id-5 {\n",
       "  color: var(--sklearn-color-text);\n",
       "}\n",
       "\n",
       "#sk-container-id-5 pre {\n",
       "  padding: 0;\n",
       "}\n",
       "\n",
       "#sk-container-id-5 input.sk-hidden--visually {\n",
       "  border: 0;\n",
       "  clip: rect(1px 1px 1px 1px);\n",
       "  clip: rect(1px, 1px, 1px, 1px);\n",
       "  height: 1px;\n",
       "  margin: -1px;\n",
       "  overflow: hidden;\n",
       "  padding: 0;\n",
       "  position: absolute;\n",
       "  width: 1px;\n",
       "}\n",
       "\n",
       "#sk-container-id-5 div.sk-dashed-wrapped {\n",
       "  border: 1px dashed var(--sklearn-color-line);\n",
       "  margin: 0 0.4em 0.5em 0.4em;\n",
       "  box-sizing: border-box;\n",
       "  padding-bottom: 0.4em;\n",
       "  background-color: var(--sklearn-color-background);\n",
       "}\n",
       "\n",
       "#sk-container-id-5 div.sk-container {\n",
       "  /* jupyter's `normalize.less` sets `[hidden] { display: none; }`\n",
       "     but bootstrap.min.css set `[hidden] { display: none !important; }`\n",
       "     so we also need the `!important` here to be able to override the\n",
       "     default hidden behavior on the sphinx rendered scikit-learn.org.\n",
       "     See: https://github.com/scikit-learn/scikit-learn/issues/21755 */\n",
       "  display: inline-block !important;\n",
       "  position: relative;\n",
       "}\n",
       "\n",
       "#sk-container-id-5 div.sk-text-repr-fallback {\n",
       "  display: none;\n",
       "}\n",
       "\n",
       "div.sk-parallel-item,\n",
       "div.sk-serial,\n",
       "div.sk-item {\n",
       "  /* draw centered vertical line to link estimators */\n",
       "  background-image: linear-gradient(var(--sklearn-color-text-on-default-background), var(--sklearn-color-text-on-default-background));\n",
       "  background-size: 2px 100%;\n",
       "  background-repeat: no-repeat;\n",
       "  background-position: center center;\n",
       "}\n",
       "\n",
       "/* Parallel-specific style estimator block */\n",
       "\n",
       "#sk-container-id-5 div.sk-parallel-item::after {\n",
       "  content: \"\";\n",
       "  width: 100%;\n",
       "  border-bottom: 2px solid var(--sklearn-color-text-on-default-background);\n",
       "  flex-grow: 1;\n",
       "}\n",
       "\n",
       "#sk-container-id-5 div.sk-parallel {\n",
       "  display: flex;\n",
       "  align-items: stretch;\n",
       "  justify-content: center;\n",
       "  background-color: var(--sklearn-color-background);\n",
       "  position: relative;\n",
       "}\n",
       "\n",
       "#sk-container-id-5 div.sk-parallel-item {\n",
       "  display: flex;\n",
       "  flex-direction: column;\n",
       "}\n",
       "\n",
       "#sk-container-id-5 div.sk-parallel-item:first-child::after {\n",
       "  align-self: flex-end;\n",
       "  width: 50%;\n",
       "}\n",
       "\n",
       "#sk-container-id-5 div.sk-parallel-item:last-child::after {\n",
       "  align-self: flex-start;\n",
       "  width: 50%;\n",
       "}\n",
       "\n",
       "#sk-container-id-5 div.sk-parallel-item:only-child::after {\n",
       "  width: 0;\n",
       "}\n",
       "\n",
       "/* Serial-specific style estimator block */\n",
       "\n",
       "#sk-container-id-5 div.sk-serial {\n",
       "  display: flex;\n",
       "  flex-direction: column;\n",
       "  align-items: center;\n",
       "  background-color: var(--sklearn-color-background);\n",
       "  padding-right: 1em;\n",
       "  padding-left: 1em;\n",
       "}\n",
       "\n",
       "\n",
       "/* Toggleable style: style used for estimator/Pipeline/ColumnTransformer box that is\n",
       "clickable and can be expanded/collapsed.\n",
       "- Pipeline and ColumnTransformer use this feature and define the default style\n",
       "- Estimators will overwrite some part of the style using the `sk-estimator` class\n",
       "*/\n",
       "\n",
       "/* Pipeline and ColumnTransformer style (default) */\n",
       "\n",
       "#sk-container-id-5 div.sk-toggleable {\n",
       "  /* Default theme specific background. It is overwritten whether we have a\n",
       "  specific estimator or a Pipeline/ColumnTransformer */\n",
       "  background-color: var(--sklearn-color-background);\n",
       "}\n",
       "\n",
       "/* Toggleable label */\n",
       "#sk-container-id-5 label.sk-toggleable__label {\n",
       "  cursor: pointer;\n",
       "  display: block;\n",
       "  width: 100%;\n",
       "  margin-bottom: 0;\n",
       "  padding: 0.5em;\n",
       "  box-sizing: border-box;\n",
       "  text-align: center;\n",
       "}\n",
       "\n",
       "#sk-container-id-5 label.sk-toggleable__label-arrow:before {\n",
       "  /* Arrow on the left of the label */\n",
       "  content: \"▸\";\n",
       "  float: left;\n",
       "  margin-right: 0.25em;\n",
       "  color: var(--sklearn-color-icon);\n",
       "}\n",
       "\n",
       "#sk-container-id-5 label.sk-toggleable__label-arrow:hover:before {\n",
       "  color: var(--sklearn-color-text);\n",
       "}\n",
       "\n",
       "/* Toggleable content - dropdown */\n",
       "\n",
       "#sk-container-id-5 div.sk-toggleable__content {\n",
       "  max-height: 0;\n",
       "  max-width: 0;\n",
       "  overflow: hidden;\n",
       "  text-align: left;\n",
       "  /* unfitted */\n",
       "  background-color: var(--sklearn-color-unfitted-level-0);\n",
       "}\n",
       "\n",
       "#sk-container-id-5 div.sk-toggleable__content.fitted {\n",
       "  /* fitted */\n",
       "  background-color: var(--sklearn-color-fitted-level-0);\n",
       "}\n",
       "\n",
       "#sk-container-id-5 div.sk-toggleable__content pre {\n",
       "  margin: 0.2em;\n",
       "  border-radius: 0.25em;\n",
       "  color: var(--sklearn-color-text);\n",
       "  /* unfitted */\n",
       "  background-color: var(--sklearn-color-unfitted-level-0);\n",
       "}\n",
       "\n",
       "#sk-container-id-5 div.sk-toggleable__content.fitted pre {\n",
       "  /* unfitted */\n",
       "  background-color: var(--sklearn-color-fitted-level-0);\n",
       "}\n",
       "\n",
       "#sk-container-id-5 input.sk-toggleable__control:checked~div.sk-toggleable__content {\n",
       "  /* Expand drop-down */\n",
       "  max-height: 200px;\n",
       "  max-width: 100%;\n",
       "  overflow: auto;\n",
       "}\n",
       "\n",
       "#sk-container-id-5 input.sk-toggleable__control:checked~label.sk-toggleable__label-arrow:before {\n",
       "  content: \"▾\";\n",
       "}\n",
       "\n",
       "/* Pipeline/ColumnTransformer-specific style */\n",
       "\n",
       "#sk-container-id-5 div.sk-label input.sk-toggleable__control:checked~label.sk-toggleable__label {\n",
       "  color: var(--sklearn-color-text);\n",
       "  background-color: var(--sklearn-color-unfitted-level-2);\n",
       "}\n",
       "\n",
       "#sk-container-id-5 div.sk-label.fitted input.sk-toggleable__control:checked~label.sk-toggleable__label {\n",
       "  background-color: var(--sklearn-color-fitted-level-2);\n",
       "}\n",
       "\n",
       "/* Estimator-specific style */\n",
       "\n",
       "/* Colorize estimator box */\n",
       "#sk-container-id-5 div.sk-estimator input.sk-toggleable__control:checked~label.sk-toggleable__label {\n",
       "  /* unfitted */\n",
       "  background-color: var(--sklearn-color-unfitted-level-2);\n",
       "}\n",
       "\n",
       "#sk-container-id-5 div.sk-estimator.fitted input.sk-toggleable__control:checked~label.sk-toggleable__label {\n",
       "  /* fitted */\n",
       "  background-color: var(--sklearn-color-fitted-level-2);\n",
       "}\n",
       "\n",
       "#sk-container-id-5 div.sk-label label.sk-toggleable__label,\n",
       "#sk-container-id-5 div.sk-label label {\n",
       "  /* The background is the default theme color */\n",
       "  color: var(--sklearn-color-text-on-default-background);\n",
       "}\n",
       "\n",
       "/* On hover, darken the color of the background */\n",
       "#sk-container-id-5 div.sk-label:hover label.sk-toggleable__label {\n",
       "  color: var(--sklearn-color-text);\n",
       "  background-color: var(--sklearn-color-unfitted-level-2);\n",
       "}\n",
       "\n",
       "/* Label box, darken color on hover, fitted */\n",
       "#sk-container-id-5 div.sk-label.fitted:hover label.sk-toggleable__label.fitted {\n",
       "  color: var(--sklearn-color-text);\n",
       "  background-color: var(--sklearn-color-fitted-level-2);\n",
       "}\n",
       "\n",
       "/* Estimator label */\n",
       "\n",
       "#sk-container-id-5 div.sk-label label {\n",
       "  font-family: monospace;\n",
       "  font-weight: bold;\n",
       "  display: inline-block;\n",
       "  line-height: 1.2em;\n",
       "}\n",
       "\n",
       "#sk-container-id-5 div.sk-label-container {\n",
       "  text-align: center;\n",
       "}\n",
       "\n",
       "/* Estimator-specific */\n",
       "#sk-container-id-5 div.sk-estimator {\n",
       "  font-family: monospace;\n",
       "  border: 1px dotted var(--sklearn-color-border-box);\n",
       "  border-radius: 0.25em;\n",
       "  box-sizing: border-box;\n",
       "  margin-bottom: 0.5em;\n",
       "  /* unfitted */\n",
       "  background-color: var(--sklearn-color-unfitted-level-0);\n",
       "}\n",
       "\n",
       "#sk-container-id-5 div.sk-estimator.fitted {\n",
       "  /* fitted */\n",
       "  background-color: var(--sklearn-color-fitted-level-0);\n",
       "}\n",
       "\n",
       "/* on hover */\n",
       "#sk-container-id-5 div.sk-estimator:hover {\n",
       "  /* unfitted */\n",
       "  background-color: var(--sklearn-color-unfitted-level-2);\n",
       "}\n",
       "\n",
       "#sk-container-id-5 div.sk-estimator.fitted:hover {\n",
       "  /* fitted */\n",
       "  background-color: var(--sklearn-color-fitted-level-2);\n",
       "}\n",
       "\n",
       "/* Specification for estimator info (e.g. \"i\" and \"?\") */\n",
       "\n",
       "/* Common style for \"i\" and \"?\" */\n",
       "\n",
       ".sk-estimator-doc-link,\n",
       "a:link.sk-estimator-doc-link,\n",
       "a:visited.sk-estimator-doc-link {\n",
       "  float: right;\n",
       "  font-size: smaller;\n",
       "  line-height: 1em;\n",
       "  font-family: monospace;\n",
       "  background-color: var(--sklearn-color-background);\n",
       "  border-radius: 1em;\n",
       "  height: 1em;\n",
       "  width: 1em;\n",
       "  text-decoration: none !important;\n",
       "  margin-left: 1ex;\n",
       "  /* unfitted */\n",
       "  border: var(--sklearn-color-unfitted-level-1) 1pt solid;\n",
       "  color: var(--sklearn-color-unfitted-level-1);\n",
       "}\n",
       "\n",
       ".sk-estimator-doc-link.fitted,\n",
       "a:link.sk-estimator-doc-link.fitted,\n",
       "a:visited.sk-estimator-doc-link.fitted {\n",
       "  /* fitted */\n",
       "  border: var(--sklearn-color-fitted-level-1) 1pt solid;\n",
       "  color: var(--sklearn-color-fitted-level-1);\n",
       "}\n",
       "\n",
       "/* On hover */\n",
       "div.sk-estimator:hover .sk-estimator-doc-link:hover,\n",
       ".sk-estimator-doc-link:hover,\n",
       "div.sk-label-container:hover .sk-estimator-doc-link:hover,\n",
       ".sk-estimator-doc-link:hover {\n",
       "  /* unfitted */\n",
       "  background-color: var(--sklearn-color-unfitted-level-3);\n",
       "  color: var(--sklearn-color-background);\n",
       "  text-decoration: none;\n",
       "}\n",
       "\n",
       "div.sk-estimator.fitted:hover .sk-estimator-doc-link.fitted:hover,\n",
       ".sk-estimator-doc-link.fitted:hover,\n",
       "div.sk-label-container:hover .sk-estimator-doc-link.fitted:hover,\n",
       ".sk-estimator-doc-link.fitted:hover {\n",
       "  /* fitted */\n",
       "  background-color: var(--sklearn-color-fitted-level-3);\n",
       "  color: var(--sklearn-color-background);\n",
       "  text-decoration: none;\n",
       "}\n",
       "\n",
       "/* Span, style for the box shown on hovering the info icon */\n",
       ".sk-estimator-doc-link span {\n",
       "  display: none;\n",
       "  z-index: 9999;\n",
       "  position: relative;\n",
       "  font-weight: normal;\n",
       "  right: .2ex;\n",
       "  padding: .5ex;\n",
       "  margin: .5ex;\n",
       "  width: min-content;\n",
       "  min-width: 20ex;\n",
       "  max-width: 50ex;\n",
       "  color: var(--sklearn-color-text);\n",
       "  box-shadow: 2pt 2pt 4pt #999;\n",
       "  /* unfitted */\n",
       "  background: var(--sklearn-color-unfitted-level-0);\n",
       "  border: .5pt solid var(--sklearn-color-unfitted-level-3);\n",
       "}\n",
       "\n",
       ".sk-estimator-doc-link.fitted span {\n",
       "  /* fitted */\n",
       "  background: var(--sklearn-color-fitted-level-0);\n",
       "  border: var(--sklearn-color-fitted-level-3);\n",
       "}\n",
       "\n",
       ".sk-estimator-doc-link:hover span {\n",
       "  display: block;\n",
       "}\n",
       "\n",
       "/* \"?\"-specific style due to the `<a>` HTML tag */\n",
       "\n",
       "#sk-container-id-5 a.estimator_doc_link {\n",
       "  float: right;\n",
       "  font-size: 1rem;\n",
       "  line-height: 1em;\n",
       "  font-family: monospace;\n",
       "  background-color: var(--sklearn-color-background);\n",
       "  border-radius: 1rem;\n",
       "  height: 1rem;\n",
       "  width: 1rem;\n",
       "  text-decoration: none;\n",
       "  /* unfitted */\n",
       "  color: var(--sklearn-color-unfitted-level-1);\n",
       "  border: var(--sklearn-color-unfitted-level-1) 1pt solid;\n",
       "}\n",
       "\n",
       "#sk-container-id-5 a.estimator_doc_link.fitted {\n",
       "  /* fitted */\n",
       "  border: var(--sklearn-color-fitted-level-1) 1pt solid;\n",
       "  color: var(--sklearn-color-fitted-level-1);\n",
       "}\n",
       "\n",
       "/* On hover */\n",
       "#sk-container-id-5 a.estimator_doc_link:hover {\n",
       "  /* unfitted */\n",
       "  background-color: var(--sklearn-color-unfitted-level-3);\n",
       "  color: var(--sklearn-color-background);\n",
       "  text-decoration: none;\n",
       "}\n",
       "\n",
       "#sk-container-id-5 a.estimator_doc_link.fitted:hover {\n",
       "  /* fitted */\n",
       "  background-color: var(--sklearn-color-fitted-level-3);\n",
       "}\n",
       "</style><div id=\"sk-container-id-5\" class=\"sk-top-container\"><div class=\"sk-text-repr-fallback\"><pre>DecisionTreeClassifier(max_depth=15, random_state=42)</pre><b>In a Jupyter environment, please rerun this cell to show the HTML representation or trust the notebook. <br />On GitHub, the HTML representation is unable to render, please try loading this page with nbviewer.org.</b></div><div class=\"sk-container\" hidden><div class=\"sk-item\"><div class=\"sk-estimator fitted sk-toggleable\"><input class=\"sk-toggleable__control sk-hidden--visually\" id=\"sk-estimator-id-5\" type=\"checkbox\" checked><label for=\"sk-estimator-id-5\" class=\"sk-toggleable__label fitted sk-toggleable__label-arrow fitted\">&nbsp;&nbsp;DecisionTreeClassifier<a class=\"sk-estimator-doc-link fitted\" rel=\"noreferrer\" target=\"_blank\" href=\"https://scikit-learn.org/1.4/modules/generated/sklearn.tree.DecisionTreeClassifier.html\">?<span>Documentation for DecisionTreeClassifier</span></a><span class=\"sk-estimator-doc-link fitted\">i<span>Fitted</span></span></label><div class=\"sk-toggleable__content fitted\"><pre>DecisionTreeClassifier(max_depth=15, random_state=42)</pre></div> </div></div></div></div>"
      ],
      "text/plain": [
       "DecisionTreeClassifier(max_depth=15, random_state=42)"
      ]
     },
     "execution_count": 357,
     "metadata": {},
     "output_type": "execute_result"
    }
   ],
   "source": [
    "clf_best"
   ]
  },
  {
   "cell_type": "code",
   "execution_count": 358,
   "metadata": {
    "id": "4su6awSjtQ5W"
   },
   "outputs": [],
   "source": [
    "# predict on a full dataset\n",
    "y_pred_clf_best = clf_best.predict(X_all)"
   ]
  },
  {
   "cell_type": "code",
   "execution_count": 359,
   "metadata": {
    "id": "1ZOQqQ0itR9o"
   },
   "outputs": [],
   "source": [
    "# defining a new prediction vector is easy now, as the dimensions will match\n",
    "new_df['pred6_clf_best'] = y_pred_clf_best"
   ]
  },
  {
   "cell_type": "code",
   "execution_count": 360,
   "metadata": {
    "colab": {
     "base_uri": "https://localhost:8080/"
    },
    "id": "5XxNt_9HtTlk",
    "outputId": "a8828b3a-68bb-40e5-969c-8291b8a758ce"
   },
   "outputs": [
    {
     "name": "stdout",
     "output_type": "stream",
     "text": [
      "Prediction columns founded: ['pred0_manual_cci', 'pred1_manual_prev_g1', 'pred2_manual_prev_g1_and_snp', 'pred3_manual_gdp_and_fastd', 'pred4_manual_gdp_and_wti30d', 'pred5_clf_10', 'pred6_clf_best']\n",
      "Created columns is_correct: ['is_correct_pred0', 'is_correct_pred1', 'is_correct_pred2', 'is_correct_pred3', 'is_correct_pred4', 'is_correct_pred5', 'is_correct_pred6']\n",
      "Precision on TEST set for each prediction:\n",
      "Prediction column:pred0_manual_cci , is_correct_column: is_correct_pred0\n",
      "is_correct_pred0\n",
      "0    565\n",
      "1    234\n",
      "Name: count, dtype: int64\n",
      "is_correct_pred0\n",
      "0    0.707134\n",
      "1    0.292866\n",
      "Name: count, dtype: float64\n",
      "---------\n",
      "Prediction column:pred1_manual_prev_g1 , is_correct_column: is_correct_pred1\n",
      "is_correct_pred1\n",
      "0    10751\n",
      "1     4850\n",
      "Name: count, dtype: int64\n",
      "is_correct_pred1\n",
      "0    0.689122\n",
      "1    0.310878\n",
      "Name: count, dtype: float64\n",
      "---------\n",
      "Prediction column:pred2_manual_prev_g1_and_snp , is_correct_column: is_correct_pred2\n",
      "is_correct_pred2\n",
      "0    7248\n",
      "1    3207\n",
      "Name: count, dtype: int64\n",
      "is_correct_pred2\n",
      "0    0.693257\n",
      "1    0.306743\n",
      "Name: count, dtype: float64\n",
      "---------\n",
      "Prediction column:pred3_manual_gdp_and_fastd , is_correct_column: is_correct_pred3\n",
      "is_correct_pred3\n",
      "0    20343\n",
      "1     9479\n",
      "Name: count, dtype: int64\n",
      "is_correct_pred3\n",
      "0    0.682147\n",
      "1    0.317853\n",
      "Name: count, dtype: float64\n",
      "---------\n",
      "Prediction column:pred4_manual_gdp_and_wti30d , is_correct_column: is_correct_pred4\n",
      "Series([], Name: count, dtype: int64)\n",
      "Series([], Name: count, dtype: float64)\n",
      "---------\n",
      "Prediction column:pred5_clf_10 , is_correct_column: is_correct_pred5\n",
      "is_correct_pred5\n",
      "0    2229\n",
      "1    1114\n",
      "Name: count, dtype: int64\n",
      "is_correct_pred5\n",
      "0    0.666766\n",
      "1    0.333234\n",
      "Name: count, dtype: float64\n",
      "---------\n",
      "Prediction column:pred6_clf_best , is_correct_column: is_correct_pred6\n",
      "is_correct_pred6\n",
      "0    4260\n",
      "1    2083\n",
      "Name: count, dtype: int64\n",
      "is_correct_pred6\n",
      "0    0.671606\n",
      "1    0.328394\n",
      "Name: count, dtype: float64\n",
      "---------\n"
     ]
    }
   ],
   "source": [
    "# new prediction is added --> need to recalculate the correctness\n",
    "PREDICTIONS, IS_CORRECT = get_predictions_correctness(df = new_df, to_predict=to_predict)"
   ]
  },
  {
   "cell_type": "markdown",
   "metadata": {
    "id": "g9oeczqgpHHY"
   },
   "source": [
    "## 1.3) Random Forest\n",
    "https://scikit-learn.org/stable/modules/ensemble.html#random-forests-and-other-randomized-tree-ensembles"
   ]
  },
  {
   "cell_type": "code",
   "execution_count": 361,
   "metadata": {
    "id": "KPBgCdfopFlC"
   },
   "outputs": [],
   "source": [
    "# (ALMOST 3 HOURS) UNCOMMENT BELOW TO RUN HYPERPARAMs optimisation again\n",
    "# The best precision is 0.5778 and the best depth is 20\n",
    "# CPU times: user 2h 48min 27s, sys: 31.9 s, total: 2h 48min 59s\n",
    "# Wall time: 1h 39min 44s"
   ]
  },
  {
   "cell_type": "code",
   "execution_count": 362,
   "metadata": {
    "id": "XmvVElr3pWLG"
   },
   "outputs": [],
   "source": [
    "# %%time\n",
    "# # hyper params tuning\n",
    "\n",
    "# precision_matrix = {}\n",
    "# best_precision = 0\n",
    "# best_depth = 0\n",
    "# best_estimators = 1\n",
    "\n",
    "# for depth in [15, 16, 17, 18, 19, 20]:\n",
    "#   for estimators in [50,100,200,500]:\n",
    "#     print(f'Working with HyperParams: depth = {depth}, estimators = {estimators}')\n",
    "\n",
    "#     # Start timing\n",
    "#     start_time = time.time()\n",
    "#     # fitting the tree on X_train, y_train\n",
    "#     rf = RandomForestClassifier(n_estimators = estimators,\n",
    "#                                 max_depth = depth,\n",
    "#                                 random_state = 42,\n",
    "#                                 n_jobs = -1)\n",
    "\n",
    "#     rf = rf.fit(X_train_valid, y_train_valid)\n",
    "\n",
    "#     # getting the predictions for TEST and accuracy score\n",
    "#     y_pred_valid = rf.predict(X_valid)\n",
    "#     precision_valid = precision_score(y_valid, y_pred_valid)\n",
    "#     y_pred_test = rf.predict(X_test)\n",
    "#     precision_test = precision_score(y_test, y_pred_test)\n",
    "#     print(f'  Precision on test is {precision_test}, (precision on valid is {precision_valid} - tend to overfit)')\n",
    "\n",
    "#     # saving to the dict\n",
    "#     precision_matrix[depth, estimators] = round(precision_test,4)\n",
    "\n",
    "#     # Measure elapsed time\n",
    "#     elapsed_time = time.time() - start_time\n",
    "#     print(f'Time for training: {elapsed_time:.2f} seconds, or {elapsed_time/60:.2f} minutes')\n",
    "\n",
    "#     # updating the best precision\n",
    "#     if precision_test >= best_precision:\n",
    "#       best_precision = round(precision_test,4)\n",
    "#       best_depth = depth\n",
    "#       best_estimators = estimators\n",
    "#       print(f'New best precision found for depth={depth}, estimators = {estimators}')\n",
    "\n",
    "#     print('------------------------------')\n",
    "\n",
    "# print(f'Matrix of precisions: {precision_matrix}')\n",
    "# print(f'The best precision is {best_precision} and the best depth is {best_depth} ')"
   ]
  },
  {
   "cell_type": "code",
   "execution_count": 363,
   "metadata": {
    "id": "3p7fWd63pXtw"
   },
   "outputs": [],
   "source": [
    "# print(precision_matrix)"
   ]
  },
  {
   "cell_type": "code",
   "execution_count": 364,
   "metadata": {
    "id": "xh_ZPrYopZAy"
   },
   "outputs": [],
   "source": [
    "# pre-calculated best precision matrix (max_depth, n_estimators) for Random Forest for a full dataset (300 features) and is_positive_future_growth_5d\n",
    "best_precision_matrix_random_forest = {(15, 50): 0.5664, (15, 100): 0.565, (15, 200): 0.5711, (15, 500): 0.5741, (16, 50): 0.5703, (16, 100): 0.5679, (16, 200): 0.5728, (16, 500): 0.5739, (17, 50): 0.569, (17, 100): 0.569, (17, 200): 0.5734, (17, 500): 0.5709, (18, 50): 0.5641, (18, 100): 0.5636, (18, 200): 0.5704, (18, 500): 0.5678, (19, 50): 0.5634, (19, 100): 0.5623, (19, 200): 0.5683, (19, 500): 0.568, (20, 50): 0.561, (20, 100): 0.5655, (20, 200): 0.5744, (20, 500): 0.5778}\n"
   ]
  },
  {
   "cell_type": "code",
   "execution_count": 365,
   "metadata": {
    "colab": {
     "base_uri": "https://localhost:8080/",
     "height": 542
    },
    "id": "_mLg4zDypoB4",
    "outputId": "96d48908-52ec-4f38-9dcd-cde1c453ed5e"
   },
   "outputs": [
    {
     "data": {
      "application/vnd.plotly.v1+json": {
       "config": {
        "plotlyServerURL": "https://plot.ly"
       },
       "data": [
        {
         "hovertemplate": "Number of Estimators=50<br>Max Depth=%{x}<br>Precision Score=%{y}<extra></extra>",
         "legendgroup": "50",
         "line": {
          "color": "#636efa",
          "dash": "solid"
         },
         "marker": {
          "symbol": "circle"
         },
         "mode": "lines",
         "name": "50",
         "orientation": "v",
         "showlegend": true,
         "type": "scatter",
         "x": [
          15,
          16,
          17,
          18,
          19,
          20
         ],
         "xaxis": "x",
         "y": [
          0.5664,
          0.5703,
          0.569,
          0.5641,
          0.5634,
          0.561
         ],
         "yaxis": "y"
        },
        {
         "hovertemplate": "Number of Estimators=100<br>Max Depth=%{x}<br>Precision Score=%{y}<extra></extra>",
         "legendgroup": "100",
         "line": {
          "color": "#EF553B",
          "dash": "solid"
         },
         "marker": {
          "symbol": "circle"
         },
         "mode": "lines",
         "name": "100",
         "orientation": "v",
         "showlegend": true,
         "type": "scatter",
         "x": [
          15,
          16,
          17,
          18,
          19,
          20
         ],
         "xaxis": "x",
         "y": [
          0.565,
          0.5679,
          0.569,
          0.5636,
          0.5623,
          0.5655
         ],
         "yaxis": "y"
        },
        {
         "hovertemplate": "Number of Estimators=200<br>Max Depth=%{x}<br>Precision Score=%{y}<extra></extra>",
         "legendgroup": "200",
         "line": {
          "color": "#00cc96",
          "dash": "solid"
         },
         "marker": {
          "symbol": "circle"
         },
         "mode": "lines",
         "name": "200",
         "orientation": "v",
         "showlegend": true,
         "type": "scatter",
         "x": [
          15,
          16,
          17,
          18,
          19,
          20
         ],
         "xaxis": "x",
         "y": [
          0.5711,
          0.5728,
          0.5734,
          0.5704,
          0.5683,
          0.5744
         ],
         "yaxis": "y"
        },
        {
         "hovertemplate": "Number of Estimators=500<br>Max Depth=%{x}<br>Precision Score=%{y}<extra></extra>",
         "legendgroup": "500",
         "line": {
          "color": "#ab63fa",
          "dash": "solid"
         },
         "marker": {
          "symbol": "circle"
         },
         "mode": "lines",
         "name": "500",
         "orientation": "v",
         "showlegend": true,
         "type": "scatter",
         "x": [
          15,
          16,
          17,
          18,
          19,
          20
         ],
         "xaxis": "x",
         "y": [
          0.5741,
          0.5739,
          0.5709,
          0.5678,
          0.568,
          0.5778
         ],
         "yaxis": "y"
        }
       ],
       "layout": {
        "autosize": true,
        "legend": {
         "title": {
          "text": "Number of Estimators"
         },
         "tracegroupgap": 0
        },
        "template": {
         "data": {
          "bar": [
           {
            "error_x": {
             "color": "#2a3f5f"
            },
            "error_y": {
             "color": "#2a3f5f"
            },
            "marker": {
             "line": {
              "color": "#E5ECF6",
              "width": 0.5
             },
             "pattern": {
              "fillmode": "overlay",
              "size": 10,
              "solidity": 0.2
             }
            },
            "type": "bar"
           }
          ],
          "barpolar": [
           {
            "marker": {
             "line": {
              "color": "#E5ECF6",
              "width": 0.5
             },
             "pattern": {
              "fillmode": "overlay",
              "size": 10,
              "solidity": 0.2
             }
            },
            "type": "barpolar"
           }
          ],
          "carpet": [
           {
            "aaxis": {
             "endlinecolor": "#2a3f5f",
             "gridcolor": "white",
             "linecolor": "white",
             "minorgridcolor": "white",
             "startlinecolor": "#2a3f5f"
            },
            "baxis": {
             "endlinecolor": "#2a3f5f",
             "gridcolor": "white",
             "linecolor": "white",
             "minorgridcolor": "white",
             "startlinecolor": "#2a3f5f"
            },
            "type": "carpet"
           }
          ],
          "choropleth": [
           {
            "colorbar": {
             "outlinewidth": 0,
             "ticks": ""
            },
            "type": "choropleth"
           }
          ],
          "contour": [
           {
            "colorbar": {
             "outlinewidth": 0,
             "ticks": ""
            },
            "colorscale": [
             [
              0,
              "#0d0887"
             ],
             [
              0.1111111111111111,
              "#46039f"
             ],
             [
              0.2222222222222222,
              "#7201a8"
             ],
             [
              0.3333333333333333,
              "#9c179e"
             ],
             [
              0.4444444444444444,
              "#bd3786"
             ],
             [
              0.5555555555555556,
              "#d8576b"
             ],
             [
              0.6666666666666666,
              "#ed7953"
             ],
             [
              0.7777777777777778,
              "#fb9f3a"
             ],
             [
              0.8888888888888888,
              "#fdca26"
             ],
             [
              1,
              "#f0f921"
             ]
            ],
            "type": "contour"
           }
          ],
          "contourcarpet": [
           {
            "colorbar": {
             "outlinewidth": 0,
             "ticks": ""
            },
            "type": "contourcarpet"
           }
          ],
          "heatmap": [
           {
            "colorbar": {
             "outlinewidth": 0,
             "ticks": ""
            },
            "colorscale": [
             [
              0,
              "#0d0887"
             ],
             [
              0.1111111111111111,
              "#46039f"
             ],
             [
              0.2222222222222222,
              "#7201a8"
             ],
             [
              0.3333333333333333,
              "#9c179e"
             ],
             [
              0.4444444444444444,
              "#bd3786"
             ],
             [
              0.5555555555555556,
              "#d8576b"
             ],
             [
              0.6666666666666666,
              "#ed7953"
             ],
             [
              0.7777777777777778,
              "#fb9f3a"
             ],
             [
              0.8888888888888888,
              "#fdca26"
             ],
             [
              1,
              "#f0f921"
             ]
            ],
            "type": "heatmap"
           }
          ],
          "heatmapgl": [
           {
            "colorbar": {
             "outlinewidth": 0,
             "ticks": ""
            },
            "colorscale": [
             [
              0,
              "#0d0887"
             ],
             [
              0.1111111111111111,
              "#46039f"
             ],
             [
              0.2222222222222222,
              "#7201a8"
             ],
             [
              0.3333333333333333,
              "#9c179e"
             ],
             [
              0.4444444444444444,
              "#bd3786"
             ],
             [
              0.5555555555555556,
              "#d8576b"
             ],
             [
              0.6666666666666666,
              "#ed7953"
             ],
             [
              0.7777777777777778,
              "#fb9f3a"
             ],
             [
              0.8888888888888888,
              "#fdca26"
             ],
             [
              1,
              "#f0f921"
             ]
            ],
            "type": "heatmapgl"
           }
          ],
          "histogram": [
           {
            "marker": {
             "pattern": {
              "fillmode": "overlay",
              "size": 10,
              "solidity": 0.2
             }
            },
            "type": "histogram"
           }
          ],
          "histogram2d": [
           {
            "colorbar": {
             "outlinewidth": 0,
             "ticks": ""
            },
            "colorscale": [
             [
              0,
              "#0d0887"
             ],
             [
              0.1111111111111111,
              "#46039f"
             ],
             [
              0.2222222222222222,
              "#7201a8"
             ],
             [
              0.3333333333333333,
              "#9c179e"
             ],
             [
              0.4444444444444444,
              "#bd3786"
             ],
             [
              0.5555555555555556,
              "#d8576b"
             ],
             [
              0.6666666666666666,
              "#ed7953"
             ],
             [
              0.7777777777777778,
              "#fb9f3a"
             ],
             [
              0.8888888888888888,
              "#fdca26"
             ],
             [
              1,
              "#f0f921"
             ]
            ],
            "type": "histogram2d"
           }
          ],
          "histogram2dcontour": [
           {
            "colorbar": {
             "outlinewidth": 0,
             "ticks": ""
            },
            "colorscale": [
             [
              0,
              "#0d0887"
             ],
             [
              0.1111111111111111,
              "#46039f"
             ],
             [
              0.2222222222222222,
              "#7201a8"
             ],
             [
              0.3333333333333333,
              "#9c179e"
             ],
             [
              0.4444444444444444,
              "#bd3786"
             ],
             [
              0.5555555555555556,
              "#d8576b"
             ],
             [
              0.6666666666666666,
              "#ed7953"
             ],
             [
              0.7777777777777778,
              "#fb9f3a"
             ],
             [
              0.8888888888888888,
              "#fdca26"
             ],
             [
              1,
              "#f0f921"
             ]
            ],
            "type": "histogram2dcontour"
           }
          ],
          "mesh3d": [
           {
            "colorbar": {
             "outlinewidth": 0,
             "ticks": ""
            },
            "type": "mesh3d"
           }
          ],
          "parcoords": [
           {
            "line": {
             "colorbar": {
              "outlinewidth": 0,
              "ticks": ""
             }
            },
            "type": "parcoords"
           }
          ],
          "pie": [
           {
            "automargin": true,
            "type": "pie"
           }
          ],
          "scatter": [
           {
            "fillpattern": {
             "fillmode": "overlay",
             "size": 10,
             "solidity": 0.2
            },
            "type": "scatter"
           }
          ],
          "scatter3d": [
           {
            "line": {
             "colorbar": {
              "outlinewidth": 0,
              "ticks": ""
             }
            },
            "marker": {
             "colorbar": {
              "outlinewidth": 0,
              "ticks": ""
             }
            },
            "type": "scatter3d"
           }
          ],
          "scattercarpet": [
           {
            "marker": {
             "colorbar": {
              "outlinewidth": 0,
              "ticks": ""
             }
            },
            "type": "scattercarpet"
           }
          ],
          "scattergeo": [
           {
            "marker": {
             "colorbar": {
              "outlinewidth": 0,
              "ticks": ""
             }
            },
            "type": "scattergeo"
           }
          ],
          "scattergl": [
           {
            "marker": {
             "colorbar": {
              "outlinewidth": 0,
              "ticks": ""
             }
            },
            "type": "scattergl"
           }
          ],
          "scattermapbox": [
           {
            "marker": {
             "colorbar": {
              "outlinewidth": 0,
              "ticks": ""
             }
            },
            "type": "scattermapbox"
           }
          ],
          "scatterpolar": [
           {
            "marker": {
             "colorbar": {
              "outlinewidth": 0,
              "ticks": ""
             }
            },
            "type": "scatterpolar"
           }
          ],
          "scatterpolargl": [
           {
            "marker": {
             "colorbar": {
              "outlinewidth": 0,
              "ticks": ""
             }
            },
            "type": "scatterpolargl"
           }
          ],
          "scatterternary": [
           {
            "marker": {
             "colorbar": {
              "outlinewidth": 0,
              "ticks": ""
             }
            },
            "type": "scatterternary"
           }
          ],
          "surface": [
           {
            "colorbar": {
             "outlinewidth": 0,
             "ticks": ""
            },
            "colorscale": [
             [
              0,
              "#0d0887"
             ],
             [
              0.1111111111111111,
              "#46039f"
             ],
             [
              0.2222222222222222,
              "#7201a8"
             ],
             [
              0.3333333333333333,
              "#9c179e"
             ],
             [
              0.4444444444444444,
              "#bd3786"
             ],
             [
              0.5555555555555556,
              "#d8576b"
             ],
             [
              0.6666666666666666,
              "#ed7953"
             ],
             [
              0.7777777777777778,
              "#fb9f3a"
             ],
             [
              0.8888888888888888,
              "#fdca26"
             ],
             [
              1,
              "#f0f921"
             ]
            ],
            "type": "surface"
           }
          ],
          "table": [
           {
            "cells": {
             "fill": {
              "color": "#EBF0F8"
             },
             "line": {
              "color": "white"
             }
            },
            "header": {
             "fill": {
              "color": "#C8D4E3"
             },
             "line": {
              "color": "white"
             }
            },
            "type": "table"
           }
          ]
         },
         "layout": {
          "annotationdefaults": {
           "arrowcolor": "#2a3f5f",
           "arrowhead": 0,
           "arrowwidth": 1
          },
          "autotypenumbers": "strict",
          "coloraxis": {
           "colorbar": {
            "outlinewidth": 0,
            "ticks": ""
           }
          },
          "colorscale": {
           "diverging": [
            [
             0,
             "#8e0152"
            ],
            [
             0.1,
             "#c51b7d"
            ],
            [
             0.2,
             "#de77ae"
            ],
            [
             0.3,
             "#f1b6da"
            ],
            [
             0.4,
             "#fde0ef"
            ],
            [
             0.5,
             "#f7f7f7"
            ],
            [
             0.6,
             "#e6f5d0"
            ],
            [
             0.7,
             "#b8e186"
            ],
            [
             0.8,
             "#7fbc41"
            ],
            [
             0.9,
             "#4d9221"
            ],
            [
             1,
             "#276419"
            ]
           ],
           "sequential": [
            [
             0,
             "#0d0887"
            ],
            [
             0.1111111111111111,
             "#46039f"
            ],
            [
             0.2222222222222222,
             "#7201a8"
            ],
            [
             0.3333333333333333,
             "#9c179e"
            ],
            [
             0.4444444444444444,
             "#bd3786"
            ],
            [
             0.5555555555555556,
             "#d8576b"
            ],
            [
             0.6666666666666666,
             "#ed7953"
            ],
            [
             0.7777777777777778,
             "#fb9f3a"
            ],
            [
             0.8888888888888888,
             "#fdca26"
            ],
            [
             1,
             "#f0f921"
            ]
           ],
           "sequentialminus": [
            [
             0,
             "#0d0887"
            ],
            [
             0.1111111111111111,
             "#46039f"
            ],
            [
             0.2222222222222222,
             "#7201a8"
            ],
            [
             0.3333333333333333,
             "#9c179e"
            ],
            [
             0.4444444444444444,
             "#bd3786"
            ],
            [
             0.5555555555555556,
             "#d8576b"
            ],
            [
             0.6666666666666666,
             "#ed7953"
            ],
            [
             0.7777777777777778,
             "#fb9f3a"
            ],
            [
             0.8888888888888888,
             "#fdca26"
            ],
            [
             1,
             "#f0f921"
            ]
           ]
          },
          "colorway": [
           "#636efa",
           "#EF553B",
           "#00cc96",
           "#ab63fa",
           "#FFA15A",
           "#19d3f3",
           "#FF6692",
           "#B6E880",
           "#FF97FF",
           "#FECB52"
          ],
          "font": {
           "color": "#2a3f5f"
          },
          "geo": {
           "bgcolor": "white",
           "lakecolor": "white",
           "landcolor": "#E5ECF6",
           "showlakes": true,
           "showland": true,
           "subunitcolor": "white"
          },
          "hoverlabel": {
           "align": "left"
          },
          "hovermode": "closest",
          "mapbox": {
           "style": "light"
          },
          "paper_bgcolor": "white",
          "plot_bgcolor": "#E5ECF6",
          "polar": {
           "angularaxis": {
            "gridcolor": "white",
            "linecolor": "white",
            "ticks": ""
           },
           "bgcolor": "#E5ECF6",
           "radialaxis": {
            "gridcolor": "white",
            "linecolor": "white",
            "ticks": ""
           }
          },
          "scene": {
           "xaxis": {
            "backgroundcolor": "#E5ECF6",
            "gridcolor": "white",
            "gridwidth": 2,
            "linecolor": "white",
            "showbackground": true,
            "ticks": "",
            "zerolinecolor": "white"
           },
           "yaxis": {
            "backgroundcolor": "#E5ECF6",
            "gridcolor": "white",
            "gridwidth": 2,
            "linecolor": "white",
            "showbackground": true,
            "ticks": "",
            "zerolinecolor": "white"
           },
           "zaxis": {
            "backgroundcolor": "#E5ECF6",
            "gridcolor": "white",
            "gridwidth": 2,
            "linecolor": "white",
            "showbackground": true,
            "ticks": "",
            "zerolinecolor": "white"
           }
          },
          "shapedefaults": {
           "line": {
            "color": "#2a3f5f"
           }
          },
          "ternary": {
           "aaxis": {
            "gridcolor": "white",
            "linecolor": "white",
            "ticks": ""
           },
           "baxis": {
            "gridcolor": "white",
            "linecolor": "white",
            "ticks": ""
           },
           "bgcolor": "#E5ECF6",
           "caxis": {
            "gridcolor": "white",
            "linecolor": "white",
            "ticks": ""
           }
          },
          "title": {
           "x": 0.05
          },
          "xaxis": {
           "automargin": true,
           "gridcolor": "white",
           "linecolor": "white",
           "ticks": "",
           "title": {
            "standoff": 15
           },
           "zerolinecolor": "white",
           "zerolinewidth": 2
          },
          "yaxis": {
           "automargin": true,
           "gridcolor": "white",
           "linecolor": "white",
           "ticks": "",
           "title": {
            "standoff": 15
           },
           "zerolinecolor": "white",
           "zerolinewidth": 2
          }
         }
        },
        "title": {
         "text": "Random Forest Models: Precision Score vs. Max Depth for Different Number of Estimators"
        },
        "xaxis": {
         "anchor": "y",
         "domain": [
          0,
          1
         ],
         "range": [
          15,
          20
         ],
         "title": {
          "text": "Max Depth"
         },
         "type": "linear"
        },
        "yaxis": {
         "anchor": "x",
         "autorange": true,
         "domain": [
          0,
          1
         ],
         "range": [
          0.5600666666666667,
          0.5787333333333333
         ],
         "title": {
          "text": "Precision Score"
         },
         "type": "linear"
        }
       }
      },
      "image/png": "[encoded data removed]",
      "text/html": [
       "<div>                            <div id=\"bce544c7-e4ef-4c9e-b827-4eea00d6a6ee\" class=\"plotly-graph-div\" style=\"height:525px; width:100%;\"></div>            <script type=\"text/javascript\">                require([\"plotly\"], function(Plotly) {                    window.PLOTLYENV=window.PLOTLYENV || {};                                    if (document.getElementById(\"bce544c7-e4ef-4c9e-b827-4eea00d6a6ee\")) {                    Plotly.newPlot(                        \"bce544c7-e4ef-4c9e-b827-4eea00d6a6ee\",                        [{\"hovertemplate\":\"Number of Estimators=50\\u003cbr\\u003eMax Depth=%{x}\\u003cbr\\u003ePrecision Score=%{y}\\u003cextra\\u003e\\u003c\\u002fextra\\u003e\",\"legendgroup\":\"50\",\"line\":{\"color\":\"#636efa\",\"dash\":\"solid\"},\"marker\":{\"symbol\":\"circle\"},\"mode\":\"lines\",\"name\":\"50\",\"orientation\":\"v\",\"showlegend\":true,\"x\":[15,16,17,18,19,20],\"xaxis\":\"x\",\"y\":[0.5664,0.5703,0.569,0.5641,0.5634,0.561],\"yaxis\":\"y\",\"type\":\"scatter\"},{\"hovertemplate\":\"Number of Estimators=100\\u003cbr\\u003eMax Depth=%{x}\\u003cbr\\u003ePrecision Score=%{y}\\u003cextra\\u003e\\u003c\\u002fextra\\u003e\",\"legendgroup\":\"100\",\"line\":{\"color\":\"#EF553B\",\"dash\":\"solid\"},\"marker\":{\"symbol\":\"circle\"},\"mode\":\"lines\",\"name\":\"100\",\"orientation\":\"v\",\"showlegend\":true,\"x\":[15,16,17,18,19,20],\"xaxis\":\"x\",\"y\":[0.565,0.5679,0.569,0.5636,0.5623,0.5655],\"yaxis\":\"y\",\"type\":\"scatter\"},{\"hovertemplate\":\"Number of Estimators=200\\u003cbr\\u003eMax Depth=%{x}\\u003cbr\\u003ePrecision Score=%{y}\\u003cextra\\u003e\\u003c\\u002fextra\\u003e\",\"legendgroup\":\"200\",\"line\":{\"color\":\"#00cc96\",\"dash\":\"solid\"},\"marker\":{\"symbol\":\"circle\"},\"mode\":\"lines\",\"name\":\"200\",\"orientation\":\"v\",\"showlegend\":true,\"x\":[15,16,17,18,19,20],\"xaxis\":\"x\",\"y\":[0.5711,0.5728,0.5734,0.5704,0.5683,0.5744],\"yaxis\":\"y\",\"type\":\"scatter\"},{\"hovertemplate\":\"Number of Estimators=500\\u003cbr\\u003eMax Depth=%{x}\\u003cbr\\u003ePrecision Score=%{y}\\u003cextra\\u003e\\u003c\\u002fextra\\u003e\",\"legendgroup\":\"500\",\"line\":{\"color\":\"#ab63fa\",\"dash\":\"solid\"},\"marker\":{\"symbol\":\"circle\"},\"mode\":\"lines\",\"name\":\"500\",\"orientation\":\"v\",\"showlegend\":true,\"x\":[15,16,17,18,19,20],\"xaxis\":\"x\",\"y\":[0.5741,0.5739,0.5709,0.5678,0.568,0.5778],\"yaxis\":\"y\",\"type\":\"scatter\"}],                        {\"template\":{\"data\":{\"histogram2dcontour\":[{\"type\":\"histogram2dcontour\",\"colorbar\":{\"outlinewidth\":0,\"ticks\":\"\"},\"colorscale\":[[0.0,\"#0d0887\"],[0.1111111111111111,\"#46039f\"],[0.2222222222222222,\"#7201a8\"],[0.3333333333333333,\"#9c179e\"],[0.4444444444444444,\"#bd3786\"],[0.5555555555555556,\"#d8576b\"],[0.6666666666666666,\"#ed7953\"],[0.7777777777777778,\"#fb9f3a\"],[0.8888888888888888,\"#fdca26\"],[1.0,\"#f0f921\"]]}],\"choropleth\":[{\"type\":\"choropleth\",\"colorbar\":{\"outlinewidth\":0,\"ticks\":\"\"}}],\"histogram2d\":[{\"type\":\"histogram2d\",\"colorbar\":{\"outlinewidth\":0,\"ticks\":\"\"},\"colorscale\":[[0.0,\"#0d0887\"],[0.1111111111111111,\"#46039f\"],[0.2222222222222222,\"#7201a8\"],[0.3333333333333333,\"#9c179e\"],[0.4444444444444444,\"#bd3786\"],[0.5555555555555556,\"#d8576b\"],[0.6666666666666666,\"#ed7953\"],[0.7777777777777778,\"#fb9f3a\"],[0.8888888888888888,\"#fdca26\"],[1.0,\"#f0f921\"]]}],\"heatmap\":[{\"type\":\"heatmap\",\"colorbar\":{\"outlinewidth\":0,\"ticks\":\"\"},\"colorscale\":[[0.0,\"#0d0887\"],[0.1111111111111111,\"#46039f\"],[0.2222222222222222,\"#7201a8\"],[0.3333333333333333,\"#9c179e\"],[0.4444444444444444,\"#bd3786\"],[0.5555555555555556,\"#d8576b\"],[0.6666666666666666,\"#ed7953\"],[0.7777777777777778,\"#fb9f3a\"],[0.8888888888888888,\"#fdca26\"],[1.0,\"#f0f921\"]]}],\"heatmapgl\":[{\"type\":\"heatmapgl\",\"colorbar\":{\"outlinewidth\":0,\"ticks\":\"\"},\"colorscale\":[[0.0,\"#0d0887\"],[0.1111111111111111,\"#46039f\"],[0.2222222222222222,\"#7201a8\"],[0.3333333333333333,\"#9c179e\"],[0.4444444444444444,\"#bd3786\"],[0.5555555555555556,\"#d8576b\"],[0.6666666666666666,\"#ed7953\"],[0.7777777777777778,\"#fb9f3a\"],[0.8888888888888888,\"#fdca26\"],[1.0,\"#f0f921\"]]}],\"contourcarpet\":[{\"type\":\"contourcarpet\",\"colorbar\":{\"outlinewidth\":0,\"ticks\":\"\"}}],\"contour\":[{\"type\":\"contour\",\"colorbar\":{\"outlinewidth\":0,\"ticks\":\"\"},\"colorscale\":[[0.0,\"#0d0887\"],[0.1111111111111111,\"#46039f\"],[0.2222222222222222,\"#7201a8\"],[0.3333333333333333,\"#9c179e\"],[0.4444444444444444,\"#bd3786\"],[0.5555555555555556,\"#d8576b\"],[0.6666666666666666,\"#ed7953\"],[0.7777777777777778,\"#fb9f3a\"],[0.8888888888888888,\"#fdca26\"],[1.0,\"#f0f921\"]]}],\"surface\":[{\"type\":\"surface\",\"colorbar\":{\"outlinewidth\":0,\"ticks\":\"\"},\"colorscale\":[[0.0,\"#0d0887\"],[0.1111111111111111,\"#46039f\"],[0.2222222222222222,\"#7201a8\"],[0.3333333333333333,\"#9c179e\"],[0.4444444444444444,\"#bd3786\"],[0.5555555555555556,\"#d8576b\"],[0.6666666666666666,\"#ed7953\"],[0.7777777777777778,\"#fb9f3a\"],[0.8888888888888888,\"#fdca26\"],[1.0,\"#f0f921\"]]}],\"mesh3d\":[{\"type\":\"mesh3d\",\"colorbar\":{\"outlinewidth\":0,\"ticks\":\"\"}}],\"scatter\":[{\"fillpattern\":{\"fillmode\":\"overlay\",\"size\":10,\"solidity\":0.2},\"type\":\"scatter\"}],\"parcoords\":[{\"type\":\"parcoords\",\"line\":{\"colorbar\":{\"outlinewidth\":0,\"ticks\":\"\"}}}],\"scatterpolargl\":[{\"type\":\"scatterpolargl\",\"marker\":{\"colorbar\":{\"outlinewidth\":0,\"ticks\":\"\"}}}],\"bar\":[{\"error_x\":{\"color\":\"#2a3f5f\"},\"error_y\":{\"color\":\"#2a3f5f\"},\"marker\":{\"line\":{\"color\":\"#E5ECF6\",\"width\":0.5},\"pattern\":{\"fillmode\":\"overlay\",\"size\":10,\"solidity\":0.2}},\"type\":\"bar\"}],\"scattergeo\":[{\"type\":\"scattergeo\",\"marker\":{\"colorbar\":{\"outlinewidth\":0,\"ticks\":\"\"}}}],\"scatterpolar\":[{\"type\":\"scatterpolar\",\"marker\":{\"colorbar\":{\"outlinewidth\":0,\"ticks\":\"\"}}}],\"histogram\":[{\"marker\":{\"pattern\":{\"fillmode\":\"overlay\",\"size\":10,\"solidity\":0.2}},\"type\":\"histogram\"}],\"scattergl\":[{\"type\":\"scattergl\",\"marker\":{\"colorbar\":{\"outlinewidth\":0,\"ticks\":\"\"}}}],\"scatter3d\":[{\"type\":\"scatter3d\",\"line\":{\"colorbar\":{\"outlinewidth\":0,\"ticks\":\"\"}},\"marker\":{\"colorbar\":{\"outlinewidth\":0,\"ticks\":\"\"}}}],\"scattermapbox\":[{\"type\":\"scattermapbox\",\"marker\":{\"colorbar\":{\"outlinewidth\":0,\"ticks\":\"\"}}}],\"scatterternary\":[{\"type\":\"scatterternary\",\"marker\":{\"colorbar\":{\"outlinewidth\":0,\"ticks\":\"\"}}}],\"scattercarpet\":[{\"type\":\"scattercarpet\",\"marker\":{\"colorbar\":{\"outlinewidth\":0,\"ticks\":\"\"}}}],\"carpet\":[{\"aaxis\":{\"endlinecolor\":\"#2a3f5f\",\"gridcolor\":\"white\",\"linecolor\":\"white\",\"minorgridcolor\":\"white\",\"startlinecolor\":\"#2a3f5f\"},\"baxis\":{\"endlinecolor\":\"#2a3f5f\",\"gridcolor\":\"white\",\"linecolor\":\"white\",\"minorgridcolor\":\"white\",\"startlinecolor\":\"#2a3f5f\"},\"type\":\"carpet\"}],\"table\":[{\"cells\":{\"fill\":{\"color\":\"#EBF0F8\"},\"line\":{\"color\":\"white\"}},\"header\":{\"fill\":{\"color\":\"#C8D4E3\"},\"line\":{\"color\":\"white\"}},\"type\":\"table\"}],\"barpolar\":[{\"marker\":{\"line\":{\"color\":\"#E5ECF6\",\"width\":0.5},\"pattern\":{\"fillmode\":\"overlay\",\"size\":10,\"solidity\":0.2}},\"type\":\"barpolar\"}],\"pie\":[{\"automargin\":true,\"type\":\"pie\"}]},\"layout\":{\"autotypenumbers\":\"strict\",\"colorway\":[\"#636efa\",\"#EF553B\",\"#00cc96\",\"#ab63fa\",\"#FFA15A\",\"#19d3f3\",\"#FF6692\",\"#B6E880\",\"#FF97FF\",\"#FECB52\"],\"font\":{\"color\":\"#2a3f5f\"},\"hovermode\":\"closest\",\"hoverlabel\":{\"align\":\"left\"},\"paper_bgcolor\":\"white\",\"plot_bgcolor\":\"#E5ECF6\",\"polar\":{\"bgcolor\":\"#E5ECF6\",\"angularaxis\":{\"gridcolor\":\"white\",\"linecolor\":\"white\",\"ticks\":\"\"},\"radialaxis\":{\"gridcolor\":\"white\",\"linecolor\":\"white\",\"ticks\":\"\"}},\"ternary\":{\"bgcolor\":\"#E5ECF6\",\"aaxis\":{\"gridcolor\":\"white\",\"linecolor\":\"white\",\"ticks\":\"\"},\"baxis\":{\"gridcolor\":\"white\",\"linecolor\":\"white\",\"ticks\":\"\"},\"caxis\":{\"gridcolor\":\"white\",\"linecolor\":\"white\",\"ticks\":\"\"}},\"coloraxis\":{\"colorbar\":{\"outlinewidth\":0,\"ticks\":\"\"}},\"colorscale\":{\"sequential\":[[0.0,\"#0d0887\"],[0.1111111111111111,\"#46039f\"],[0.2222222222222222,\"#7201a8\"],[0.3333333333333333,\"#9c179e\"],[0.4444444444444444,\"#bd3786\"],[0.5555555555555556,\"#d8576b\"],[0.6666666666666666,\"#ed7953\"],[0.7777777777777778,\"#fb9f3a\"],[0.8888888888888888,\"#fdca26\"],[1.0,\"#f0f921\"]],\"sequentialminus\":[[0.0,\"#0d0887\"],[0.1111111111111111,\"#46039f\"],[0.2222222222222222,\"#7201a8\"],[0.3333333333333333,\"#9c179e\"],[0.4444444444444444,\"#bd3786\"],[0.5555555555555556,\"#d8576b\"],[0.6666666666666666,\"#ed7953\"],[0.7777777777777778,\"#fb9f3a\"],[0.8888888888888888,\"#fdca26\"],[1.0,\"#f0f921\"]],\"diverging\":[[0,\"#8e0152\"],[0.1,\"#c51b7d\"],[0.2,\"#de77ae\"],[0.3,\"#f1b6da\"],[0.4,\"#fde0ef\"],[0.5,\"#f7f7f7\"],[0.6,\"#e6f5d0\"],[0.7,\"#b8e186\"],[0.8,\"#7fbc41\"],[0.9,\"#4d9221\"],[1,\"#276419\"]]},\"xaxis\":{\"gridcolor\":\"white\",\"linecolor\":\"white\",\"ticks\":\"\",\"title\":{\"standoff\":15},\"zerolinecolor\":\"white\",\"automargin\":true,\"zerolinewidth\":2},\"yaxis\":{\"gridcolor\":\"white\",\"linecolor\":\"white\",\"ticks\":\"\",\"title\":{\"standoff\":15},\"zerolinecolor\":\"white\",\"automargin\":true,\"zerolinewidth\":2},\"scene\":{\"xaxis\":{\"backgroundcolor\":\"#E5ECF6\",\"gridcolor\":\"white\",\"linecolor\":\"white\",\"showbackground\":true,\"ticks\":\"\",\"zerolinecolor\":\"white\",\"gridwidth\":2},\"yaxis\":{\"backgroundcolor\":\"#E5ECF6\",\"gridcolor\":\"white\",\"linecolor\":\"white\",\"showbackground\":true,\"ticks\":\"\",\"zerolinecolor\":\"white\",\"gridwidth\":2},\"zaxis\":{\"backgroundcolor\":\"#E5ECF6\",\"gridcolor\":\"white\",\"linecolor\":\"white\",\"showbackground\":true,\"ticks\":\"\",\"zerolinecolor\":\"white\",\"gridwidth\":2}},\"shapedefaults\":{\"line\":{\"color\":\"#2a3f5f\"}},\"annotationdefaults\":{\"arrowcolor\":\"#2a3f5f\",\"arrowhead\":0,\"arrowwidth\":1},\"geo\":{\"bgcolor\":\"white\",\"landcolor\":\"#E5ECF6\",\"subunitcolor\":\"white\",\"showland\":true,\"showlakes\":true,\"lakecolor\":\"white\"},\"title\":{\"x\":0.05},\"mapbox\":{\"style\":\"light\"}}},\"xaxis\":{\"anchor\":\"y\",\"domain\":[0.0,1.0],\"title\":{\"text\":\"Max Depth\"},\"range\":[15,20]},\"yaxis\":{\"anchor\":\"x\",\"domain\":[0.0,1.0],\"title\":{\"text\":\"Precision Score\"}},\"legend\":{\"title\":{\"text\":\"Number of Estimators\"},\"tracegroupgap\":0},\"title\":{\"text\":\"Random Forest Models: Precision Score vs. Max Depth for Different Number of Estimators\"}},                        {\"responsive\": true}                    ).then(function(){\n",
       "                            \n",
       "var gd = document.getElementById('bce544c7-e4ef-4c9e-b827-4eea00d6a6ee');\n",
       "var x = new MutationObserver(function (mutations, observer) {{\n",
       "        var display = window.getComputedStyle(gd).display;\n",
       "        if (!display || display === 'none') {{\n",
       "            console.log([gd, 'removed!']);\n",
       "            Plotly.purge(gd);\n",
       "            observer.disconnect();\n",
       "        }}\n",
       "}});\n",
       "\n",
       "// Listen for the removal of the full notebook cells\n",
       "var notebookContainer = gd.closest('#notebook-container');\n",
       "if (notebookContainer) {{\n",
       "    x.observe(notebookContainer, {childList: true});\n",
       "}}\n",
       "\n",
       "// Listen for the clearing of the current output cell\n",
       "var outputEl = gd.closest('.output');\n",
       "if (outputEl) {{\n",
       "    x.observe(outputEl, {childList: true});\n",
       "}}\n",
       "\n",
       "                        })                };                });            </script>        </div>"
      ]
     },
     "metadata": {},
     "output_type": "display_data"
    }
   ],
   "source": [
    "\n",
    "# Convert data to DataFrame\n",
    "df = pd.DataFrame.from_dict(best_precision_matrix_random_forest, orient='index', columns=['precision_score']).reset_index()\n",
    "\n",
    "# Rename the columns for clarity\n",
    "df.columns = ['max_depth_and_metric', 'precision_score']\n",
    "\n",
    "# Separate the tuple into two columns\n",
    "df[['max_depth', 'n_estimators']] = pd.DataFrame(df['max_depth_and_metric'].tolist(), index=df.index)\n",
    "\n",
    "# Drop the combined column\n",
    "df = df.drop(columns=['max_depth_and_metric'])\n",
    "\n",
    "# Create line plot using Plotly Express\n",
    "fig = px.line(df, x='max_depth', y='precision_score', color='n_estimators',\n",
    "              labels={'max_depth': 'Max Depth', 'precision_score': 'Precision Score', 'n_estimators': 'Number of Estimators'},\n",
    "              title='Random Forest Models: Precision Score vs. Max Depth for Different Number of Estimators')\n",
    "\n",
    "# Adjust x-axis range\n",
    "fig.update_xaxes(range=[15, 20])\n",
    "\n",
    "# Show the figure\n",
    "fig.show()"
   ]
  },
  {
   "cell_type": "code",
   "execution_count": 366,
   "metadata": {
    "colab": {
     "base_uri": "https://localhost:8080/"
    },
    "id": "f89wTM0wpoNP",
    "outputId": "24dd0661-dd02-4b20-8014-e3c40ec871b6"
   },
   "outputs": [
    {
     "name": "stdout",
     "output_type": "stream",
     "text": [
      "CPU times: total: 5min 22s\n",
      "Wall time: 23 s\n"
     ]
    }
   ],
   "source": [
    "%%time\n",
    "\n",
    "# Suboptimal Predictor with less (than optimal) Estimators (200) and lower Max_Depth (17)\n",
    "# several minutes to compute (6 min)\n",
    "\n",
    "rf_best = RandomForestClassifier(n_estimators = 200,\n",
    "                                 max_depth = 17,\n",
    "                                 random_state = 42,\n",
    "                                 n_jobs = -1)\n",
    "\n",
    "rf_best = rf_best.fit(X_train_valid, y_train_valid)"
   ]
  },
  {
   "cell_type": "markdown",
   "metadata": {
    "id": "9f87ZB8Jp5Ri"
   },
   "source": [
    "## 1.4 Logistic Regression\n",
    "\n",
    "https://scikit-learn.org/stable/modules/generated/sklearn.linear_model.LogisticRegression.html\n",
    "\n",
    "There can be many reasons when Logistic Regression does not converge: https://forecastegy.com/posts/how-to-solve-logistic-regression-not-converging-in-scikit-learn/"
   ]
  },
  {
   "cell_type": "code",
   "execution_count": 367,
   "metadata": {
    "id": "nGTYxIpvqFm2"
   },
   "outputs": [],
   "source": [
    "# precision_matrix = {}\n",
    "# best_precision = 0\n",
    "# best_C = 0\n",
    "# best_iter = 0\n",
    "\n",
    "# for c in [1, 0.1, 0.01]:\n",
    "#   for iter in [50, 100, 200]:\n",
    "#     print(f'Working with HyperParams: C = {c} (positive float, smaller = stronger regularization), max_iter={iter}')\n",
    "#     # fitting the tree on X_train, y_train\n",
    "#       # hyperParam C should be between 0 and 1\n",
    "#     lr = LogisticRegression(C=c,\n",
    "#                             random_state=42,\n",
    "#                             max_iter=iter,\n",
    "#                             solver='sag',\n",
    "#                             n_jobs=-1)\n",
    "\n",
    "#     lr = lr.fit(X_train_valid, y_train_valid)\n",
    "\n",
    "#     # getting the predictions for TEST and accuracy score\n",
    "#     y_pred_valid = lr.predict(X_valid)\n",
    "#     precision_valid = precision_score(y_valid, y_pred_valid)\n",
    "#     y_pred_test = lr.predict(X_test)\n",
    "#     precision_test = precision_score(y_test, y_pred_test)\n",
    "#     print(f'  Precision on test is {precision_test}, (precision on valid is {precision_valid} - tend to overfit)')\n",
    "#     # saving to the dict\n",
    "#     precision_matrix[(c,iter)] = round(precision_test,4)\n",
    "#     # updating the best precision\n",
    "#     if precision_test >= best_precision:\n",
    "#       best_precision = round(precision_test,4)\n",
    "#       best_C = c\n",
    "#       best_iter = iter\n",
    "#       print(f'New best precision found for C={c}')\n",
    "#       print('------------------------------')\n",
    "\n",
    "# print(f'Matrix of precisions: {precision_matrix}')\n",
    "# print(f'The best precision is {best_precision} and the best C is {best_C}, best max_iter = {best_iter}  ')"
   ]
  },
  {
   "cell_type": "code",
   "execution_count": 368,
   "metadata": {
    "id": "6Ld4QIPXqGa-"
   },
   "outputs": [],
   "source": [
    "# UNCOMMENT TO SEE THE RESULTS OF THE RUN\n",
    "# print(precision_matrix)"
   ]
  },
  {
   "cell_type": "code",
   "execution_count": 369,
   "metadata": {
    "id": "QxSsyYWGqHSr"
   },
   "outputs": [],
   "source": [
    "# Params on C, iter\n",
    "best_precision_matrix_logistic_regression = {(1, 50): 0.5551, (1, 100): 0.555, (1, 200): 0.555, (0.1, 50): 0.5551, (0.1, 100): 0.555, (0.1, 200): 0.555, (0.01, 50): 0.5551, (0.01, 100): 0.555, (0.01, 200): 0.555}\n"
   ]
  },
  {
   "cell_type": "code",
   "execution_count": 370,
   "metadata": {
    "colab": {
     "base_uri": "https://localhost:8080/"
    },
    "id": "I8S8HmAQqIgB",
    "outputId": "b6097237-6de6-4ffa-a679-be00089d90f7"
   },
   "outputs": [
    {
     "data": {
      "text/plain": [
       "((1, 50), 0.5551)"
      ]
     },
     "execution_count": 370,
     "metadata": {},
     "output_type": "execute_result"
    }
   ],
   "source": [
    "list(best_precision_matrix_logistic_regression.items())[0]"
   ]
  },
  {
   "cell_type": "code",
   "execution_count": 371,
   "metadata": {
    "colab": {
     "base_uri": "https://localhost:8080/",
     "height": 542
    },
    "id": "G35N2HI2qK3-",
    "outputId": "3567edd0-1724-4488-bf93-c419eea993dd"
   },
   "outputs": [
    {
     "data": {
      "application/vnd.plotly.v1+json": {
       "config": {
        "plotlyServerURL": "https://plot.ly"
       },
       "data": [
        {
         "alignmentgroup": "True",
         "hovertemplate": "Combination=%{x}<br>Precision=%{text}<extra></extra>",
         "legendgroup": "",
         "marker": {
          "color": "#636efa",
          "pattern": {
           "shape": ""
          }
         },
         "name": "",
         "offsetgroup": "",
         "orientation": "v",
         "showlegend": false,
         "text": [
          55.510000000000005,
          55.50000000000001,
          55.50000000000001,
          55.510000000000005,
          55.50000000000001,
          55.50000000000001,
          55.510000000000005,
          55.50000000000001,
          55.50000000000001
         ],
         "textfont": {
          "color": "white"
         },
         "textposition": "inside",
         "texttemplate": "%{text:.2f}%",
         "type": "bar",
         "x": [
          "C=1, max_iter=50",
          "C=1, max_iter=100",
          "C=1, max_iter=200",
          "C=0.1, max_iter=50",
          "C=0.1, max_iter=100",
          "C=0.1, max_iter=200",
          "C=0.01, max_iter=50",
          "C=0.01, max_iter=100",
          "C=0.01, max_iter=200"
         ],
         "xaxis": "x",
         "y": [
          55.510000000000005,
          55.50000000000001,
          55.50000000000001,
          55.510000000000005,
          55.50000000000001,
          55.50000000000001,
          55.510000000000005,
          55.50000000000001,
          55.50000000000001
         ],
         "yaxis": "y"
        }
       ],
       "layout": {
        "autosize": true,
        "barmode": "relative",
        "legend": {
         "tracegroupgap": 0
        },
        "margin": {
         "t": 60
        },
        "template": {
         "data": {
          "bar": [
           {
            "error_x": {
             "color": "#2a3f5f"
            },
            "error_y": {
             "color": "#2a3f5f"
            },
            "marker": {
             "line": {
              "color": "#E5ECF6",
              "width": 0.5
             },
             "pattern": {
              "fillmode": "overlay",
              "size": 10,
              "solidity": 0.2
             }
            },
            "type": "bar"
           }
          ],
          "barpolar": [
           {
            "marker": {
             "line": {
              "color": "#E5ECF6",
              "width": 0.5
             },
             "pattern": {
              "fillmode": "overlay",
              "size": 10,
              "solidity": 0.2
             }
            },
            "type": "barpolar"
           }
          ],
          "carpet": [
           {
            "aaxis": {
             "endlinecolor": "#2a3f5f",
             "gridcolor": "white",
             "linecolor": "white",
             "minorgridcolor": "white",
             "startlinecolor": "#2a3f5f"
            },
            "baxis": {
             "endlinecolor": "#2a3f5f",
             "gridcolor": "white",
             "linecolor": "white",
             "minorgridcolor": "white",
             "startlinecolor": "#2a3f5f"
            },
            "type": "carpet"
           }
          ],
          "choropleth": [
           {
            "colorbar": {
             "outlinewidth": 0,
             "ticks": ""
            },
            "type": "choropleth"
           }
          ],
          "contour": [
           {
            "colorbar": {
             "outlinewidth": 0,
             "ticks": ""
            },
            "colorscale": [
             [
              0,
              "#0d0887"
             ],
             [
              0.1111111111111111,
              "#46039f"
             ],
             [
              0.2222222222222222,
              "#7201a8"
             ],
             [
              0.3333333333333333,
              "#9c179e"
             ],
             [
              0.4444444444444444,
              "#bd3786"
             ],
             [
              0.5555555555555556,
              "#d8576b"
             ],
             [
              0.6666666666666666,
              "#ed7953"
             ],
             [
              0.7777777777777778,
              "#fb9f3a"
             ],
             [
              0.8888888888888888,
              "#fdca26"
             ],
             [
              1,
              "#f0f921"
             ]
            ],
            "type": "contour"
           }
          ],
          "contourcarpet": [
           {
            "colorbar": {
             "outlinewidth": 0,
             "ticks": ""
            },
            "type": "contourcarpet"
           }
          ],
          "heatmap": [
           {
            "colorbar": {
             "outlinewidth": 0,
             "ticks": ""
            },
            "colorscale": [
             [
              0,
              "#0d0887"
             ],
             [
              0.1111111111111111,
              "#46039f"
             ],
             [
              0.2222222222222222,
              "#7201a8"
             ],
             [
              0.3333333333333333,
              "#9c179e"
             ],
             [
              0.4444444444444444,
              "#bd3786"
             ],
             [
              0.5555555555555556,
              "#d8576b"
             ],
             [
              0.6666666666666666,
              "#ed7953"
             ],
             [
              0.7777777777777778,
              "#fb9f3a"
             ],
             [
              0.8888888888888888,
              "#fdca26"
             ],
             [
              1,
              "#f0f921"
             ]
            ],
            "type": "heatmap"
           }
          ],
          "heatmapgl": [
           {
            "colorbar": {
             "outlinewidth": 0,
             "ticks": ""
            },
            "colorscale": [
             [
              0,
              "#0d0887"
             ],
             [
              0.1111111111111111,
              "#46039f"
             ],
             [
              0.2222222222222222,
              "#7201a8"
             ],
             [
              0.3333333333333333,
              "#9c179e"
             ],
             [
              0.4444444444444444,
              "#bd3786"
             ],
             [
              0.5555555555555556,
              "#d8576b"
             ],
             [
              0.6666666666666666,
              "#ed7953"
             ],
             [
              0.7777777777777778,
              "#fb9f3a"
             ],
             [
              0.8888888888888888,
              "#fdca26"
             ],
             [
              1,
              "#f0f921"
             ]
            ],
            "type": "heatmapgl"
           }
          ],
          "histogram": [
           {
            "marker": {
             "pattern": {
              "fillmode": "overlay",
              "size": 10,
              "solidity": 0.2
             }
            },
            "type": "histogram"
           }
          ],
          "histogram2d": [
           {
            "colorbar": {
             "outlinewidth": 0,
             "ticks": ""
            },
            "colorscale": [
             [
              0,
              "#0d0887"
             ],
             [
              0.1111111111111111,
              "#46039f"
             ],
             [
              0.2222222222222222,
              "#7201a8"
             ],
             [
              0.3333333333333333,
              "#9c179e"
             ],
             [
              0.4444444444444444,
              "#bd3786"
             ],
             [
              0.5555555555555556,
              "#d8576b"
             ],
             [
              0.6666666666666666,
              "#ed7953"
             ],
             [
              0.7777777777777778,
              "#fb9f3a"
             ],
             [
              0.8888888888888888,
              "#fdca26"
             ],
             [
              1,
              "#f0f921"
             ]
            ],
            "type": "histogram2d"
           }
          ],
          "histogram2dcontour": [
           {
            "colorbar": {
             "outlinewidth": 0,
             "ticks": ""
            },
            "colorscale": [
             [
              0,
              "#0d0887"
             ],
             [
              0.1111111111111111,
              "#46039f"
             ],
             [
              0.2222222222222222,
              "#7201a8"
             ],
             [
              0.3333333333333333,
              "#9c179e"
             ],
             [
              0.4444444444444444,
              "#bd3786"
             ],
             [
              0.5555555555555556,
              "#d8576b"
             ],
             [
              0.6666666666666666,
              "#ed7953"
             ],
             [
              0.7777777777777778,
              "#fb9f3a"
             ],
             [
              0.8888888888888888,
              "#fdca26"
             ],
             [
              1,
              "#f0f921"
             ]
            ],
            "type": "histogram2dcontour"
           }
          ],
          "mesh3d": [
           {
            "colorbar": {
             "outlinewidth": 0,
             "ticks": ""
            },
            "type": "mesh3d"
           }
          ],
          "parcoords": [
           {
            "line": {
             "colorbar": {
              "outlinewidth": 0,
              "ticks": ""
             }
            },
            "type": "parcoords"
           }
          ],
          "pie": [
           {
            "automargin": true,
            "type": "pie"
           }
          ],
          "scatter": [
           {
            "fillpattern": {
             "fillmode": "overlay",
             "size": 10,
             "solidity": 0.2
            },
            "type": "scatter"
           }
          ],
          "scatter3d": [
           {
            "line": {
             "colorbar": {
              "outlinewidth": 0,
              "ticks": ""
             }
            },
            "marker": {
             "colorbar": {
              "outlinewidth": 0,
              "ticks": ""
             }
            },
            "type": "scatter3d"
           }
          ],
          "scattercarpet": [
           {
            "marker": {
             "colorbar": {
              "outlinewidth": 0,
              "ticks": ""
             }
            },
            "type": "scattercarpet"
           }
          ],
          "scattergeo": [
           {
            "marker": {
             "colorbar": {
              "outlinewidth": 0,
              "ticks": ""
             }
            },
            "type": "scattergeo"
           }
          ],
          "scattergl": [
           {
            "marker": {
             "colorbar": {
              "outlinewidth": 0,
              "ticks": ""
             }
            },
            "type": "scattergl"
           }
          ],
          "scattermapbox": [
           {
            "marker": {
             "colorbar": {
              "outlinewidth": 0,
              "ticks": ""
             }
            },
            "type": "scattermapbox"
           }
          ],
          "scatterpolar": [
           {
            "marker": {
             "colorbar": {
              "outlinewidth": 0,
              "ticks": ""
             }
            },
            "type": "scatterpolar"
           }
          ],
          "scatterpolargl": [
           {
            "marker": {
             "colorbar": {
              "outlinewidth": 0,
              "ticks": ""
             }
            },
            "type": "scatterpolargl"
           }
          ],
          "scatterternary": [
           {
            "marker": {
             "colorbar": {
              "outlinewidth": 0,
              "ticks": ""
             }
            },
            "type": "scatterternary"
           }
          ],
          "surface": [
           {
            "colorbar": {
             "outlinewidth": 0,
             "ticks": ""
            },
            "colorscale": [
             [
              0,
              "#0d0887"
             ],
             [
              0.1111111111111111,
              "#46039f"
             ],
             [
              0.2222222222222222,
              "#7201a8"
             ],
             [
              0.3333333333333333,
              "#9c179e"
             ],
             [
              0.4444444444444444,
              "#bd3786"
             ],
             [
              0.5555555555555556,
              "#d8576b"
             ],
             [
              0.6666666666666666,
              "#ed7953"
             ],
             [
              0.7777777777777778,
              "#fb9f3a"
             ],
             [
              0.8888888888888888,
              "#fdca26"
             ],
             [
              1,
              "#f0f921"
             ]
            ],
            "type": "surface"
           }
          ],
          "table": [
           {
            "cells": {
             "fill": {
              "color": "#EBF0F8"
             },
             "line": {
              "color": "white"
             }
            },
            "header": {
             "fill": {
              "color": "#C8D4E3"
             },
             "line": {
              "color": "white"
             }
            },
            "type": "table"
           }
          ]
         },
         "layout": {
          "annotationdefaults": {
           "arrowcolor": "#2a3f5f",
           "arrowhead": 0,
           "arrowwidth": 1
          },
          "autotypenumbers": "strict",
          "coloraxis": {
           "colorbar": {
            "outlinewidth": 0,
            "ticks": ""
           }
          },
          "colorscale": {
           "diverging": [
            [
             0,
             "#8e0152"
            ],
            [
             0.1,
             "#c51b7d"
            ],
            [
             0.2,
             "#de77ae"
            ],
            [
             0.3,
             "#f1b6da"
            ],
            [
             0.4,
             "#fde0ef"
            ],
            [
             0.5,
             "#f7f7f7"
            ],
            [
             0.6,
             "#e6f5d0"
            ],
            [
             0.7,
             "#b8e186"
            ],
            [
             0.8,
             "#7fbc41"
            ],
            [
             0.9,
             "#4d9221"
            ],
            [
             1,
             "#276419"
            ]
           ],
           "sequential": [
            [
             0,
             "#0d0887"
            ],
            [
             0.1111111111111111,
             "#46039f"
            ],
            [
             0.2222222222222222,
             "#7201a8"
            ],
            [
             0.3333333333333333,
             "#9c179e"
            ],
            [
             0.4444444444444444,
             "#bd3786"
            ],
            [
             0.5555555555555556,
             "#d8576b"
            ],
            [
             0.6666666666666666,
             "#ed7953"
            ],
            [
             0.7777777777777778,
             "#fb9f3a"
            ],
            [
             0.8888888888888888,
             "#fdca26"
            ],
            [
             1,
             "#f0f921"
            ]
           ],
           "sequentialminus": [
            [
             0,
             "#0d0887"
            ],
            [
             0.1111111111111111,
             "#46039f"
            ],
            [
             0.2222222222222222,
             "#7201a8"
            ],
            [
             0.3333333333333333,
             "#9c179e"
            ],
            [
             0.4444444444444444,
             "#bd3786"
            ],
            [
             0.5555555555555556,
             "#d8576b"
            ],
            [
             0.6666666666666666,
             "#ed7953"
            ],
            [
             0.7777777777777778,
             "#fb9f3a"
            ],
            [
             0.8888888888888888,
             "#fdca26"
            ],
            [
             1,
             "#f0f921"
            ]
           ]
          },
          "colorway": [
           "#636efa",
           "#EF553B",
           "#00cc96",
           "#ab63fa",
           "#FFA15A",
           "#19d3f3",
           "#FF6692",
           "#B6E880",
           "#FF97FF",
           "#FECB52"
          ],
          "font": {
           "color": "#2a3f5f"
          },
          "geo": {
           "bgcolor": "white",
           "lakecolor": "white",
           "landcolor": "#E5ECF6",
           "showlakes": true,
           "showland": true,
           "subunitcolor": "white"
          },
          "hoverlabel": {
           "align": "left"
          },
          "hovermode": "closest",
          "mapbox": {
           "style": "light"
          },
          "paper_bgcolor": "white",
          "plot_bgcolor": "#E5ECF6",
          "polar": {
           "angularaxis": {
            "gridcolor": "white",
            "linecolor": "white",
            "ticks": ""
           },
           "bgcolor": "#E5ECF6",
           "radialaxis": {
            "gridcolor": "white",
            "linecolor": "white",
            "ticks": ""
           }
          },
          "scene": {
           "xaxis": {
            "backgroundcolor": "#E5ECF6",
            "gridcolor": "white",
            "gridwidth": 2,
            "linecolor": "white",
            "showbackground": true,
            "ticks": "",
            "zerolinecolor": "white"
           },
           "yaxis": {
            "backgroundcolor": "#E5ECF6",
            "gridcolor": "white",
            "gridwidth": 2,
            "linecolor": "white",
            "showbackground": true,
            "ticks": "",
            "zerolinecolor": "white"
           },
           "zaxis": {
            "backgroundcolor": "#E5ECF6",
            "gridcolor": "white",
            "gridwidth": 2,
            "linecolor": "white",
            "showbackground": true,
            "ticks": "",
            "zerolinecolor": "white"
           }
          },
          "shapedefaults": {
           "line": {
            "color": "#2a3f5f"
           }
          },
          "ternary": {
           "aaxis": {
            "gridcolor": "white",
            "linecolor": "white",
            "ticks": ""
           },
           "baxis": {
            "gridcolor": "white",
            "linecolor": "white",
            "ticks": ""
           },
           "bgcolor": "#E5ECF6",
           "caxis": {
            "gridcolor": "white",
            "linecolor": "white",
            "ticks": ""
           }
          },
          "title": {
           "x": 0.05
          },
          "xaxis": {
           "automargin": true,
           "gridcolor": "white",
           "linecolor": "white",
           "ticks": "",
           "title": {
            "standoff": 15
           },
           "zerolinecolor": "white",
           "zerolinewidth": 2
          },
          "yaxis": {
           "automargin": true,
           "gridcolor": "white",
           "linecolor": "white",
           "ticks": "",
           "title": {
            "standoff": 15
           },
           "zerolinecolor": "white",
           "zerolinewidth": 2
          }
         }
        },
        "title": {
         "text": "Precision Scores for Various Logistic Regression Hyperparameter Combinations",
         "x": 0.5,
         "xanchor": "center",
         "y": 0.95,
         "yanchor": "top"
        },
        "xaxis": {
         "anchor": "y",
         "autorange": true,
         "domain": [
          0,
          1
         ],
         "range": [
          -0.5,
          8.5
         ],
         "tickangle": -45,
         "title": {
          "text": "Hyperparams combinations of <C, Max Iterations>"
         },
         "type": "category"
        },
        "yaxis": {
         "anchor": "x",
         "autorange": true,
         "domain": [
          0,
          1
         ],
         "range": [
          0,
          58.43157894736843
         ],
         "title": {
          "text": "Precision Score"
         },
         "type": "linear"
        }
       }
      },
      "image/png": "[encoded data removed]",
      "text/html": [
       "<div>                            <div id=\"6af7e04f-d3c6-486a-8a39-bd245cb6c652\" class=\"plotly-graph-div\" style=\"height:525px; width:100%;\"></div>            <script type=\"text/javascript\">                require([\"plotly\"], function(Plotly) {                    window.PLOTLYENV=window.PLOTLYENV || {};                                    if (document.getElementById(\"6af7e04f-d3c6-486a-8a39-bd245cb6c652\")) {                    Plotly.newPlot(                        \"6af7e04f-d3c6-486a-8a39-bd245cb6c652\",                        [{\"alignmentgroup\":\"True\",\"hovertemplate\":\"Combination=%{x}\\u003cbr\\u003ePrecision=%{text}\\u003cextra\\u003e\\u003c\\u002fextra\\u003e\",\"legendgroup\":\"\",\"marker\":{\"color\":\"#636efa\",\"pattern\":{\"shape\":\"\"}},\"name\":\"\",\"offsetgroup\":\"\",\"orientation\":\"v\",\"showlegend\":false,\"text\":[55.510000000000005,55.50000000000001,55.50000000000001,55.510000000000005,55.50000000000001,55.50000000000001,55.510000000000005,55.50000000000001,55.50000000000001],\"textposition\":\"inside\",\"x\":[\"C=1, max_iter=50\",\"C=1, max_iter=100\",\"C=1, max_iter=200\",\"C=0.1, max_iter=50\",\"C=0.1, max_iter=100\",\"C=0.1, max_iter=200\",\"C=0.01, max_iter=50\",\"C=0.01, max_iter=100\",\"C=0.01, max_iter=200\"],\"xaxis\":\"x\",\"y\":[55.510000000000005,55.50000000000001,55.50000000000001,55.510000000000005,55.50000000000001,55.50000000000001,55.510000000000005,55.50000000000001,55.50000000000001],\"yaxis\":\"y\",\"type\":\"bar\",\"textfont\":{\"color\":\"white\"},\"texttemplate\":\"%{text:.2f}%\"}],                        {\"template\":{\"data\":{\"histogram2dcontour\":[{\"type\":\"histogram2dcontour\",\"colorbar\":{\"outlinewidth\":0,\"ticks\":\"\"},\"colorscale\":[[0.0,\"#0d0887\"],[0.1111111111111111,\"#46039f\"],[0.2222222222222222,\"#7201a8\"],[0.3333333333333333,\"#9c179e\"],[0.4444444444444444,\"#bd3786\"],[0.5555555555555556,\"#d8576b\"],[0.6666666666666666,\"#ed7953\"],[0.7777777777777778,\"#fb9f3a\"],[0.8888888888888888,\"#fdca26\"],[1.0,\"#f0f921\"]]}],\"choropleth\":[{\"type\":\"choropleth\",\"colorbar\":{\"outlinewidth\":0,\"ticks\":\"\"}}],\"histogram2d\":[{\"type\":\"histogram2d\",\"colorbar\":{\"outlinewidth\":0,\"ticks\":\"\"},\"colorscale\":[[0.0,\"#0d0887\"],[0.1111111111111111,\"#46039f\"],[0.2222222222222222,\"#7201a8\"],[0.3333333333333333,\"#9c179e\"],[0.4444444444444444,\"#bd3786\"],[0.5555555555555556,\"#d8576b\"],[0.6666666666666666,\"#ed7953\"],[0.7777777777777778,\"#fb9f3a\"],[0.8888888888888888,\"#fdca26\"],[1.0,\"#f0f921\"]]}],\"heatmap\":[{\"type\":\"heatmap\",\"colorbar\":{\"outlinewidth\":0,\"ticks\":\"\"},\"colorscale\":[[0.0,\"#0d0887\"],[0.1111111111111111,\"#46039f\"],[0.2222222222222222,\"#7201a8\"],[0.3333333333333333,\"#9c179e\"],[0.4444444444444444,\"#bd3786\"],[0.5555555555555556,\"#d8576b\"],[0.6666666666666666,\"#ed7953\"],[0.7777777777777778,\"#fb9f3a\"],[0.8888888888888888,\"#fdca26\"],[1.0,\"#f0f921\"]]}],\"heatmapgl\":[{\"type\":\"heatmapgl\",\"colorbar\":{\"outlinewidth\":0,\"ticks\":\"\"},\"colorscale\":[[0.0,\"#0d0887\"],[0.1111111111111111,\"#46039f\"],[0.2222222222222222,\"#7201a8\"],[0.3333333333333333,\"#9c179e\"],[0.4444444444444444,\"#bd3786\"],[0.5555555555555556,\"#d8576b\"],[0.6666666666666666,\"#ed7953\"],[0.7777777777777778,\"#fb9f3a\"],[0.8888888888888888,\"#fdca26\"],[1.0,\"#f0f921\"]]}],\"contourcarpet\":[{\"type\":\"contourcarpet\",\"colorbar\":{\"outlinewidth\":0,\"ticks\":\"\"}}],\"contour\":[{\"type\":\"contour\",\"colorbar\":{\"outlinewidth\":0,\"ticks\":\"\"},\"colorscale\":[[0.0,\"#0d0887\"],[0.1111111111111111,\"#46039f\"],[0.2222222222222222,\"#7201a8\"],[0.3333333333333333,\"#9c179e\"],[0.4444444444444444,\"#bd3786\"],[0.5555555555555556,\"#d8576b\"],[0.6666666666666666,\"#ed7953\"],[0.7777777777777778,\"#fb9f3a\"],[0.8888888888888888,\"#fdca26\"],[1.0,\"#f0f921\"]]}],\"surface\":[{\"type\":\"surface\",\"colorbar\":{\"outlinewidth\":0,\"ticks\":\"\"},\"colorscale\":[[0.0,\"#0d0887\"],[0.1111111111111111,\"#46039f\"],[0.2222222222222222,\"#7201a8\"],[0.3333333333333333,\"#9c179e\"],[0.4444444444444444,\"#bd3786\"],[0.5555555555555556,\"#d8576b\"],[0.6666666666666666,\"#ed7953\"],[0.7777777777777778,\"#fb9f3a\"],[0.8888888888888888,\"#fdca26\"],[1.0,\"#f0f921\"]]}],\"mesh3d\":[{\"type\":\"mesh3d\",\"colorbar\":{\"outlinewidth\":0,\"ticks\":\"\"}}],\"scatter\":[{\"fillpattern\":{\"fillmode\":\"overlay\",\"size\":10,\"solidity\":0.2},\"type\":\"scatter\"}],\"parcoords\":[{\"type\":\"parcoords\",\"line\":{\"colorbar\":{\"outlinewidth\":0,\"ticks\":\"\"}}}],\"scatterpolargl\":[{\"type\":\"scatterpolargl\",\"marker\":{\"colorbar\":{\"outlinewidth\":0,\"ticks\":\"\"}}}],\"bar\":[{\"error_x\":{\"color\":\"#2a3f5f\"},\"error_y\":{\"color\":\"#2a3f5f\"},\"marker\":{\"line\":{\"color\":\"#E5ECF6\",\"width\":0.5},\"pattern\":{\"fillmode\":\"overlay\",\"size\":10,\"solidity\":0.2}},\"type\":\"bar\"}],\"scattergeo\":[{\"type\":\"scattergeo\",\"marker\":{\"colorbar\":{\"outlinewidth\":0,\"ticks\":\"\"}}}],\"scatterpolar\":[{\"type\":\"scatterpolar\",\"marker\":{\"colorbar\":{\"outlinewidth\":0,\"ticks\":\"\"}}}],\"histogram\":[{\"marker\":{\"pattern\":{\"fillmode\":\"overlay\",\"size\":10,\"solidity\":0.2}},\"type\":\"histogram\"}],\"scattergl\":[{\"type\":\"scattergl\",\"marker\":{\"colorbar\":{\"outlinewidth\":0,\"ticks\":\"\"}}}],\"scatter3d\":[{\"type\":\"scatter3d\",\"line\":{\"colorbar\":{\"outlinewidth\":0,\"ticks\":\"\"}},\"marker\":{\"colorbar\":{\"outlinewidth\":0,\"ticks\":\"\"}}}],\"scattermapbox\":[{\"type\":\"scattermapbox\",\"marker\":{\"colorbar\":{\"outlinewidth\":0,\"ticks\":\"\"}}}],\"scatterternary\":[{\"type\":\"scatterternary\",\"marker\":{\"colorbar\":{\"outlinewidth\":0,\"ticks\":\"\"}}}],\"scattercarpet\":[{\"type\":\"scattercarpet\",\"marker\":{\"colorbar\":{\"outlinewidth\":0,\"ticks\":\"\"}}}],\"carpet\":[{\"aaxis\":{\"endlinecolor\":\"#2a3f5f\",\"gridcolor\":\"white\",\"linecolor\":\"white\",\"minorgridcolor\":\"white\",\"startlinecolor\":\"#2a3f5f\"},\"baxis\":{\"endlinecolor\":\"#2a3f5f\",\"gridcolor\":\"white\",\"linecolor\":\"white\",\"minorgridcolor\":\"white\",\"startlinecolor\":\"#2a3f5f\"},\"type\":\"carpet\"}],\"table\":[{\"cells\":{\"fill\":{\"color\":\"#EBF0F8\"},\"line\":{\"color\":\"white\"}},\"header\":{\"fill\":{\"color\":\"#C8D4E3\"},\"line\":{\"color\":\"white\"}},\"type\":\"table\"}],\"barpolar\":[{\"marker\":{\"line\":{\"color\":\"#E5ECF6\",\"width\":0.5},\"pattern\":{\"fillmode\":\"overlay\",\"size\":10,\"solidity\":0.2}},\"type\":\"barpolar\"}],\"pie\":[{\"automargin\":true,\"type\":\"pie\"}]},\"layout\":{\"autotypenumbers\":\"strict\",\"colorway\":[\"#636efa\",\"#EF553B\",\"#00cc96\",\"#ab63fa\",\"#FFA15A\",\"#19d3f3\",\"#FF6692\",\"#B6E880\",\"#FF97FF\",\"#FECB52\"],\"font\":{\"color\":\"#2a3f5f\"},\"hovermode\":\"closest\",\"hoverlabel\":{\"align\":\"left\"},\"paper_bgcolor\":\"white\",\"plot_bgcolor\":\"#E5ECF6\",\"polar\":{\"bgcolor\":\"#E5ECF6\",\"angularaxis\":{\"gridcolor\":\"white\",\"linecolor\":\"white\",\"ticks\":\"\"},\"radialaxis\":{\"gridcolor\":\"white\",\"linecolor\":\"white\",\"ticks\":\"\"}},\"ternary\":{\"bgcolor\":\"#E5ECF6\",\"aaxis\":{\"gridcolor\":\"white\",\"linecolor\":\"white\",\"ticks\":\"\"},\"baxis\":{\"gridcolor\":\"white\",\"linecolor\":\"white\",\"ticks\":\"\"},\"caxis\":{\"gridcolor\":\"white\",\"linecolor\":\"white\",\"ticks\":\"\"}},\"coloraxis\":{\"colorbar\":{\"outlinewidth\":0,\"ticks\":\"\"}},\"colorscale\":{\"sequential\":[[0.0,\"#0d0887\"],[0.1111111111111111,\"#46039f\"],[0.2222222222222222,\"#7201a8\"],[0.3333333333333333,\"#9c179e\"],[0.4444444444444444,\"#bd3786\"],[0.5555555555555556,\"#d8576b\"],[0.6666666666666666,\"#ed7953\"],[0.7777777777777778,\"#fb9f3a\"],[0.8888888888888888,\"#fdca26\"],[1.0,\"#f0f921\"]],\"sequentialminus\":[[0.0,\"#0d0887\"],[0.1111111111111111,\"#46039f\"],[0.2222222222222222,\"#7201a8\"],[0.3333333333333333,\"#9c179e\"],[0.4444444444444444,\"#bd3786\"],[0.5555555555555556,\"#d8576b\"],[0.6666666666666666,\"#ed7953\"],[0.7777777777777778,\"#fb9f3a\"],[0.8888888888888888,\"#fdca26\"],[1.0,\"#f0f921\"]],\"diverging\":[[0,\"#8e0152\"],[0.1,\"#c51b7d\"],[0.2,\"#de77ae\"],[0.3,\"#f1b6da\"],[0.4,\"#fde0ef\"],[0.5,\"#f7f7f7\"],[0.6,\"#e6f5d0\"],[0.7,\"#b8e186\"],[0.8,\"#7fbc41\"],[0.9,\"#4d9221\"],[1,\"#276419\"]]},\"xaxis\":{\"gridcolor\":\"white\",\"linecolor\":\"white\",\"ticks\":\"\",\"title\":{\"standoff\":15},\"zerolinecolor\":\"white\",\"automargin\":true,\"zerolinewidth\":2},\"yaxis\":{\"gridcolor\":\"white\",\"linecolor\":\"white\",\"ticks\":\"\",\"title\":{\"standoff\":15},\"zerolinecolor\":\"white\",\"automargin\":true,\"zerolinewidth\":2},\"scene\":{\"xaxis\":{\"backgroundcolor\":\"#E5ECF6\",\"gridcolor\":\"white\",\"linecolor\":\"white\",\"showbackground\":true,\"ticks\":\"\",\"zerolinecolor\":\"white\",\"gridwidth\":2},\"yaxis\":{\"backgroundcolor\":\"#E5ECF6\",\"gridcolor\":\"white\",\"linecolor\":\"white\",\"showbackground\":true,\"ticks\":\"\",\"zerolinecolor\":\"white\",\"gridwidth\":2},\"zaxis\":{\"backgroundcolor\":\"#E5ECF6\",\"gridcolor\":\"white\",\"linecolor\":\"white\",\"showbackground\":true,\"ticks\":\"\",\"zerolinecolor\":\"white\",\"gridwidth\":2}},\"shapedefaults\":{\"line\":{\"color\":\"#2a3f5f\"}},\"annotationdefaults\":{\"arrowcolor\":\"#2a3f5f\",\"arrowhead\":0,\"arrowwidth\":1},\"geo\":{\"bgcolor\":\"white\",\"landcolor\":\"#E5ECF6\",\"subunitcolor\":\"white\",\"showland\":true,\"showlakes\":true,\"lakecolor\":\"white\"},\"title\":{\"x\":0.05},\"mapbox\":{\"style\":\"light\"}}},\"xaxis\":{\"anchor\":\"y\",\"domain\":[0.0,1.0],\"title\":{\"text\":\"Hyperparams combinations of \\u003cC, Max Iterations\\u003e\"},\"tickangle\":-45},\"yaxis\":{\"anchor\":\"x\",\"domain\":[0.0,1.0],\"title\":{\"text\":\"Precision Score\"}},\"legend\":{\"tracegroupgap\":0},\"margin\":{\"t\":60},\"barmode\":\"relative\",\"title\":{\"text\":\"Precision Scores for Various Logistic Regression Hyperparameter Combinations\",\"y\":0.95,\"x\":0.5,\"xanchor\":\"center\",\"yanchor\":\"top\"}},                        {\"responsive\": true}                    ).then(function(){\n",
       "                            \n",
       "var gd = document.getElementById('6af7e04f-d3c6-486a-8a39-bd245cb6c652');\n",
       "var x = new MutationObserver(function (mutations, observer) {{\n",
       "        var display = window.getComputedStyle(gd).display;\n",
       "        if (!display || display === 'none') {{\n",
       "            console.log([gd, 'removed!']);\n",
       "            Plotly.purge(gd);\n",
       "            observer.disconnect();\n",
       "        }}\n",
       "}});\n",
       "\n",
       "// Listen for the removal of the full notebook cells\n",
       "var notebookContainer = gd.closest('#notebook-container');\n",
       "if (notebookContainer) {{\n",
       "    x.observe(notebookContainer, {childList: true});\n",
       "}}\n",
       "\n",
       "// Listen for the clearing of the current output cell\n",
       "var outputEl = gd.closest('.output');\n",
       "if (outputEl) {{\n",
       "    x.observe(outputEl, {childList: true});\n",
       "}}\n",
       "\n",
       "                        })                };                });            </script>        </div>"
      ]
     },
     "metadata": {},
     "output_type": "display_data"
    }
   ],
   "source": [
    "# Visualise precision scores\n",
    "\n",
    "# Prepare the data\n",
    "rows = []\n",
    "for key, value in list(best_precision_matrix_logistic_regression.items()):\n",
    "    C, max_iter = key\n",
    "    combination_label = f'C={C}, max_iter={max_iter}'\n",
    "    rows.append({'Combination': combination_label, 'Precision': value})\n",
    "\n",
    "df = pd.DataFrame(rows)\n",
    "df.loc[:,'Precision'] = df.Precision*100.0 # need for % visualisation\n",
    "\n",
    "# Create the bar chart\n",
    "fig = px.bar(df,\n",
    "             x='Combination',\n",
    "             y='Precision',\n",
    "             text='Precision'\n",
    "             )\n",
    "\n",
    "# Customize the layout for better readability\n",
    "fig.update_layout(\n",
    "    xaxis_title='Hyperparams combinations of <C, Max Iterations>',\n",
    "    yaxis_title='Precision Score',\n",
    "    xaxis_tickangle=-45,\n",
    "    title={\n",
    "        'text': 'Precision Scores for Various Logistic Regression Hyperparameter Combinations',\n",
    "        'y':0.95,\n",
    "        'x':0.5,\n",
    "        'xanchor': 'center',\n",
    "        'yanchor': 'top'\n",
    "    }\n",
    ")\n",
    "\n",
    "\n",
    "# Update the text position\n",
    "fig.update_traces(texttemplate='%{text:.2f}%',\n",
    "                  textposition='inside',\n",
    "                  textfont_color='white')\n",
    "\n",
    "# Show the figure\n",
    "fig.show()"
   ]
  },
  {
   "cell_type": "markdown",
   "metadata": {
    "id": "_Uu1B9NuqP8w"
   },
   "source": [
    "## 1.5) ADVANCED: Deep Neural Network (DNN) and hyperparams tuning\n",
    "* Tutorial from Tensorflow.org\n",
    "* TowardsDataScience Hyperparameter Optimization with Keras\n",
    "* Machine Learning Mastery tutorial with Keras Deep Learning"
   ]
  },
  {
   "cell_type": "code",
   "execution_count": 372,
   "metadata": {
    "colab": {
     "base_uri": "https://localhost:8080/"
    },
    "id": "o_ng0r45qepY",
    "outputId": "41a0d929-f2e1-4c37-8466-0fd7f3723478"
   },
   "outputs": [
    {
     "name": "stdout",
     "output_type": "stream",
     "text": [
      "1024\n"
     ]
    }
   ],
   "source": [
    "# https://towardsdatascience.com/hyperparameter-optimization-with-keras-b82e6364ca53\n",
    "\n",
    "\n",
    "# Extended params set\n",
    "\n",
    "# p = {'lr': [0.01, 0.03,0.1, 0.3,1,3,10],\n",
    "#      'first_neuron': [0,16,32,64,128,256],\n",
    "#      'second_neuron':[0,16,32,64,128,256],\n",
    "#      'first_dropout':[0,0.2,0.3],\n",
    "#      'second_dropout':[0,0.2,0.3],\n",
    "#      'activation_first':['relu','sigmoid','linear'],\n",
    "#      'activation_second':['relu','sigmoid','linear'],\n",
    "#     #  'activation_first':('relu','elu','tanh','sigmoid','linear','softplus','selu', 'softsign','exponential'),\n",
    "#     #  'activation_second':('relu','elu','tanh','sigmoid','linear','softplus','selu', 'softsign','exponential'),\n",
    "#     #  'batch_size':(2,30,10),\n",
    "#     #  'loss': ('mse','mae'),\n",
    "#     #  'epochs':[150],\n",
    "#     #  'shape': ['brick','long_funnel'],\n",
    "#      'optimizer':['adam', 'nadam', 'rmaprop','sgd'],\n",
    "#     #  'losses': [logcosh, binary_crossentropy],\n",
    "#     #  'last_activation':[sigmoid]\n",
    "#      }\n",
    "\n",
    "\n",
    "# Reduced params set and available options\n",
    "p = {'lr': [0.1],\n",
    "     'first_neuron': [12,24,32,48,96, 128, 196, 256],\n",
    "     'second_neuron':[12,24,32,48,96, 128, 196, 256],\n",
    "     'first_dropout':[0.1],\n",
    "     'second_dropout':[0.1],\n",
    "     'activation_first':['relu','sigmoid','softplus','tanh'],\n",
    "     'activation_second':['relu'],\n",
    "    #  'activation_first':('relu','elu','tanh','sigmoid','linear','softplus','selu', 'softsign','exponential'),\n",
    "    #  'activation_second':('relu','elu','tanh','sigmoid','linear','softplus','selu', 'softsign','exponential'),\n",
    "    #  'batch_size':(2,30,10),\n",
    "    #  'loss': ('mse','mae'),\n",
    "    #  'epochs':[150],\n",
    "    #  'shape': ['brick','long_funnel'],\n",
    "     'optimizer':['adam','nadam','sgd','rmaprop'],\n",
    "    #  'losses': [logcosh, binary_crossentropy],\n",
    "    #  'last_activation':[sigmoid]\n",
    "     }\n",
    "\n",
    "\n",
    "# Number of models to run and write to SHEETS:\n",
    "count_models=0\n",
    "\n",
    "nn_params = {}\n",
    "\n",
    "for lr in p['lr']:\n",
    "  for first_neuron in p['first_neuron']:\n",
    "    for second_neuron in p['second_neuron']:\n",
    "      for first_dropout in p['first_dropout']:\n",
    "        for second_dropout in p['second_dropout']:\n",
    "          for activation_first in p['activation_first']:\n",
    "            for activation_second in p['activation_second']:\n",
    "              for optimizer in p['optimizer']:\n",
    "                # print(lr,first_neuron,second_neuron,first_dropout,second_dropout,activation_first,activation_second,optimizer,sep='/')\n",
    "                count_models=count_models+1\n",
    "                nn_params['learning_rate'] = lr\n",
    "                nn_params['first_layer_neurons'] = first_neuron\n",
    "                nn_params['first_layer_dropout'] = first_dropout\n",
    "                nn_params['second_layer_neurons'] = second_neuron\n",
    "                nn_params['second_layer_dropout'] = second_dropout\n",
    "                nn_params['activation_first_layer'] = activation_first\n",
    "                nn_params['activation_second_layer'] = activation_second\n",
    "                nn_params['optimizer'] = optimizer\n",
    "                # features count as an input shape\n",
    "                nn_params['input_shape'] = len(X_train.keys())\n",
    "\n",
    "# Current set of models to try\n",
    "print(count_models)"
   ]
  },
  {
   "cell_type": "code",
   "execution_count": 373,
   "metadata": {
    "colab": {
     "base_uri": "https://localhost:8080/"
    },
    "id": "MnDNkOFdqhLM",
    "outputId": "645b93b7-3077-4be6-8fae-9827e06e8f43"
   },
   "outputs": [
    {
     "data": {
      "text/plain": [
       "{'learning_rate': 0.1,\n",
       " 'first_layer_neurons': 256,\n",
       " 'first_layer_dropout': 0.1,\n",
       " 'second_layer_neurons': 256,\n",
       " 'second_layer_dropout': 0.1,\n",
       " 'activation_first_layer': 'tanh',\n",
       " 'activation_second_layer': 'relu',\n",
       " 'optimizer': 'rmaprop',\n",
       " 'input_shape': 779}"
      ]
     },
     "execution_count": 373,
     "metadata": {},
     "output_type": "execute_result"
    }
   ],
   "source": [
    "nn_params"
   ]
  },
  {
   "cell_type": "code",
   "execution_count": 374,
   "metadata": {
    "id": "T_vTvZ36qiK-"
   },
   "outputs": [],
   "source": [
    "import tensorflow as tf\n",
    "import keras\n",
    "from keras import layers\n",
    "# from keras.models import Sequential\n",
    "# from keras.layers import Dense, Input, Dropout, Activation"
   ]
  },
  {
   "cell_type": "code",
   "execution_count": 375,
   "metadata": {
    "id": "Qcgwn-d7qjhr"
   },
   "outputs": [],
   "source": [
    "# building one Neural Network when Parameters are known:\n",
    "import datetime\n",
    "\n",
    "# len(rez_train.keys())\n",
    "def build_model(nn_params):\n",
    "  # lr, first_neuron, second_neuron, first_dropout, second_dropout, activation_first, activation_second, optimizer\n",
    "  model = keras.Sequential([\n",
    "  layers.Dense(nn_params['first_layer_neurons'],\n",
    "               activation=nn_params['activation_first_layer'],\n",
    "               input_shape=[nn_params['input_shape']]),\n",
    "  layers.Dropout(nn_params['first_layer_dropout']),\n",
    "  layers.Dense(nn_params['second_layer_neurons'],\n",
    "               activation=nn_params['activation_second_layer']),\n",
    "  layers.Dropout(nn_params['second_layer_dropout']),\n",
    "  layers.Dense(1, activation='sigmoid') # sigmoid is important for a Neural Network\n",
    "  ])\n",
    "\n",
    "  if optimizer == 'adam':\n",
    "    opt = keras.optimizers.Adam(lr)\n",
    "  elif optimizer == 'nadam':\n",
    "    opt = keras.optimizers.Nadam(lr)\n",
    "  elif optimizer == 'rmsprop':\n",
    "    opt = keras.optimizers.RMSprop(lr)\n",
    "  elif optimizer == 'sgd':\n",
    "    opt = keras.optimizers.SGD(lr)\n",
    "  else:\n",
    "    opt = keras.optimizers.Adagrad(lr)\n",
    "  model.compile(loss='binary_crossentropy', # mae/rmse for the Regression,\n",
    "                optimizer=opt,\n",
    "                metrics=['accuracy',keras.metrics.Precision()]) # or use [keras.metrics.Precision()] for a binary model : https://keras.io/api/metrics/classification_metrics/#precision-class\n",
    "  return model"
   ]
  },
  {
   "cell_type": "code",
   "execution_count": 376,
   "metadata": {
    "colab": {
     "base_uri": "https://localhost:8080/"
    },
    "id": "YdTmqT9Nqk5J",
    "outputId": "91059c6d-28d4-494e-d600-cfcac4b01892"
   },
   "outputs": [
    {
     "data": {
      "text/plain": [
       "{'learning_rate': 0.1,\n",
       " 'first_layer_neurons': 256,\n",
       " 'first_layer_dropout': 0.1,\n",
       " 'second_layer_neurons': 256,\n",
       " 'second_layer_dropout': 0.1,\n",
       " 'activation_first_layer': 'tanh',\n",
       " 'activation_second_layer': 'relu',\n",
       " 'optimizer': 'rmaprop',\n",
       " 'input_shape': 779}"
      ]
     },
     "execution_count": 376,
     "metadata": {},
     "output_type": "execute_result"
    }
   ],
   "source": [
    "nn_params"
   ]
  },
  {
   "cell_type": "code",
   "execution_count": 377,
   "metadata": {
    "colab": {
     "base_uri": "https://localhost:8080/"
    },
    "id": "pRros7SSql87",
    "outputId": "8afe1b29-1463-4eb9-994b-6a8a5d00b9a4"
   },
   "outputs": [
    {
     "name": "stderr",
     "output_type": "stream",
     "text": [
      "C:\\Users\\msofy\\AppData\\Local\\Programs\\Python\\Python310\\lib\\site-packages\\keras\\src\\layers\\core\\dense.py:87: UserWarning:\n",
      "\n",
      "Do not pass an `input_shape`/`input_dim` argument to a layer. When using Sequential models, prefer using an `Input(shape)` object as the first layer in the model instead.\n",
      "\n"
     ]
    },
    {
     "data": {
      "text/html": [
       "<pre style=\"white-space:pre;overflow-x:auto;line-height:normal;font-family:Menlo,'DejaVu Sans Mono',consolas,'Courier New',monospace\"><span style=\"font-weight: bold\">Model: \"sequential_2\"</span>\n",
       "</pre>\n"
      ],
      "text/plain": [
       "\u001b[1mModel: \"sequential_2\"\u001b[0m\n"
      ]
     },
     "metadata": {},
     "output_type": "display_data"
    },
    {
     "data": {
      "text/html": [
       "<pre style=\"white-space:pre;overflow-x:auto;line-height:normal;font-family:Menlo,'DejaVu Sans Mono',consolas,'Courier New',monospace\">┏━━━━━━━━━━━━━━━━━━━━━━━━━━━━━━━━━━━━━━┳━━━━━━━━━━━━━━━━━━━━━━━━━━━━━┳━━━━━━━━━━━━━━━━━┓\n",
       "┃<span style=\"font-weight: bold\"> Layer (type)                         </span>┃<span style=\"font-weight: bold\"> Output Shape                </span>┃<span style=\"font-weight: bold\">         Param # </span>┃\n",
       "┡━━━━━━━━━━━━━━━━━━━━━━━━━━━━━━━━━━━━━━╇━━━━━━━━━━━━━━━━━━━━━━━━━━━━━╇━━━━━━━━━━━━━━━━━┩\n",
       "│ dense_6 (<span style=\"color: #0087ff; text-decoration-color: #0087ff\">Dense</span>)                      │ (<span style=\"color: #00d7ff; text-decoration-color: #00d7ff\">None</span>, <span style=\"color: #00af00; text-decoration-color: #00af00\">256</span>)                 │         <span style=\"color: #00af00; text-decoration-color: #00af00\">199,680</span> │\n",
       "├──────────────────────────────────────┼─────────────────────────────┼─────────────────┤\n",
       "│ dropout_4 (<span style=\"color: #0087ff; text-decoration-color: #0087ff\">Dropout</span>)                  │ (<span style=\"color: #00d7ff; text-decoration-color: #00d7ff\">None</span>, <span style=\"color: #00af00; text-decoration-color: #00af00\">256</span>)                 │               <span style=\"color: #00af00; text-decoration-color: #00af00\">0</span> │\n",
       "├──────────────────────────────────────┼─────────────────────────────┼─────────────────┤\n",
       "│ dense_7 (<span style=\"color: #0087ff; text-decoration-color: #0087ff\">Dense</span>)                      │ (<span style=\"color: #00d7ff; text-decoration-color: #00d7ff\">None</span>, <span style=\"color: #00af00; text-decoration-color: #00af00\">256</span>)                 │          <span style=\"color: #00af00; text-decoration-color: #00af00\">65,792</span> │\n",
       "├──────────────────────────────────────┼─────────────────────────────┼─────────────────┤\n",
       "│ dropout_5 (<span style=\"color: #0087ff; text-decoration-color: #0087ff\">Dropout</span>)                  │ (<span style=\"color: #00d7ff; text-decoration-color: #00d7ff\">None</span>, <span style=\"color: #00af00; text-decoration-color: #00af00\">256</span>)                 │               <span style=\"color: #00af00; text-decoration-color: #00af00\">0</span> │\n",
       "├──────────────────────────────────────┼─────────────────────────────┼─────────────────┤\n",
       "│ dense_8 (<span style=\"color: #0087ff; text-decoration-color: #0087ff\">Dense</span>)                      │ (<span style=\"color: #00d7ff; text-decoration-color: #00d7ff\">None</span>, <span style=\"color: #00af00; text-decoration-color: #00af00\">1</span>)                   │             <span style=\"color: #00af00; text-decoration-color: #00af00\">257</span> │\n",
       "└──────────────────────────────────────┴─────────────────────────────┴─────────────────┘\n",
       "</pre>\n"
      ],
      "text/plain": [
       "┏━━━━━━━━━━━━━━━━━━━━━━━━━━━━━━━━━━━━━━┳━━━━━━━━━━━━━━━━━━━━━━━━━━━━━┳━━━━━━━━━━━━━━━━━┓\n",
       "┃\u001b[1m \u001b[0m\u001b[1mLayer (type)                        \u001b[0m\u001b[1m \u001b[0m┃\u001b[1m \u001b[0m\u001b[1mOutput Shape               \u001b[0m\u001b[1m \u001b[0m┃\u001b[1m \u001b[0m\u001b[1m        Param #\u001b[0m\u001b[1m \u001b[0m┃\n",
       "┡━━━━━━━━━━━━━━━━━━━━━━━━━━━━━━━━━━━━━━╇━━━━━━━━━━━━━━━━━━━━━━━━━━━━━╇━━━━━━━━━━━━━━━━━┩\n",
       "│ dense_6 (\u001b[38;5;33mDense\u001b[0m)                      │ (\u001b[38;5;45mNone\u001b[0m, \u001b[38;5;34m256\u001b[0m)                 │         \u001b[38;5;34m199,680\u001b[0m │\n",
       "├──────────────────────────────────────┼─────────────────────────────┼─────────────────┤\n",
       "│ dropout_4 (\u001b[38;5;33mDropout\u001b[0m)                  │ (\u001b[38;5;45mNone\u001b[0m, \u001b[38;5;34m256\u001b[0m)                 │               \u001b[38;5;34m0\u001b[0m │\n",
       "├──────────────────────────────────────┼─────────────────────────────┼─────────────────┤\n",
       "│ dense_7 (\u001b[38;5;33mDense\u001b[0m)                      │ (\u001b[38;5;45mNone\u001b[0m, \u001b[38;5;34m256\u001b[0m)                 │          \u001b[38;5;34m65,792\u001b[0m │\n",
       "├──────────────────────────────────────┼─────────────────────────────┼─────────────────┤\n",
       "│ dropout_5 (\u001b[38;5;33mDropout\u001b[0m)                  │ (\u001b[38;5;45mNone\u001b[0m, \u001b[38;5;34m256\u001b[0m)                 │               \u001b[38;5;34m0\u001b[0m │\n",
       "├──────────────────────────────────────┼─────────────────────────────┼─────────────────┤\n",
       "│ dense_8 (\u001b[38;5;33mDense\u001b[0m)                      │ (\u001b[38;5;45mNone\u001b[0m, \u001b[38;5;34m1\u001b[0m)                   │             \u001b[38;5;34m257\u001b[0m │\n",
       "└──────────────────────────────────────┴─────────────────────────────┴─────────────────┘\n"
      ]
     },
     "metadata": {},
     "output_type": "display_data"
    },
    {
     "data": {
      "text/html": [
       "<pre style=\"white-space:pre;overflow-x:auto;line-height:normal;font-family:Menlo,'DejaVu Sans Mono',consolas,'Courier New',monospace\"><span style=\"font-weight: bold\"> Total params: </span><span style=\"color: #00af00; text-decoration-color: #00af00\">265,729</span> (1.01 MB)\n",
       "</pre>\n"
      ],
      "text/plain": [
       "\u001b[1m Total params: \u001b[0m\u001b[38;5;34m265,729\u001b[0m (1.01 MB)\n"
      ]
     },
     "metadata": {},
     "output_type": "display_data"
    },
    {
     "data": {
      "text/html": [
       "<pre style=\"white-space:pre;overflow-x:auto;line-height:normal;font-family:Menlo,'DejaVu Sans Mono',consolas,'Courier New',monospace\"><span style=\"font-weight: bold\"> Trainable params: </span><span style=\"color: #00af00; text-decoration-color: #00af00\">265,729</span> (1.01 MB)\n",
       "</pre>\n"
      ],
      "text/plain": [
       "\u001b[1m Trainable params: \u001b[0m\u001b[38;5;34m265,729\u001b[0m (1.01 MB)\n"
      ]
     },
     "metadata": {},
     "output_type": "display_data"
    },
    {
     "data": {
      "text/html": [
       "<pre style=\"white-space:pre;overflow-x:auto;line-height:normal;font-family:Menlo,'DejaVu Sans Mono',consolas,'Courier New',monospace\"><span style=\"font-weight: bold\"> Non-trainable params: </span><span style=\"color: #00af00; text-decoration-color: #00af00\">0</span> (0.00 B)\n",
       "</pre>\n"
      ],
      "text/plain": [
       "\u001b[1m Non-trainable params: \u001b[0m\u001b[38;5;34m0\u001b[0m (0.00 B)\n"
      ]
     },
     "metadata": {},
     "output_type": "display_data"
    }
   ],
   "source": [
    "model = build_model(nn_params)\n",
    "model.summary()\n",
    "# model.get_config()"
   ]
  },
  {
   "cell_type": "code",
   "execution_count": 378,
   "metadata": {
    "colab": {
     "base_uri": "https://localhost:8080/"
    },
    "id": "pC6y2KKgqnHo",
    "outputId": "b51c6f18-89a4-432f-ce56-b99069a75fe3"
   },
   "outputs": [
    {
     "data": {
      "text/plain": [
       "265729"
      ]
     },
     "execution_count": 378,
     "metadata": {},
     "output_type": "execute_result"
    }
   ],
   "source": [
    "# trainable params in the model with max params (largest hidden layers size)\n",
    "model.count_params()"
   ]
  },
  {
   "cell_type": "code",
   "execution_count": 379,
   "metadata": {
    "id": "rW4aYXsqqoAt"
   },
   "outputs": [],
   "source": [
    "# Display training progress by printing a single dot for each completed epoch\n",
    "class PrintDot(keras.callbacks.Callback):\n",
    "  def on_epoch_end(self, epoch, logs):\n",
    "    if epoch % 100 == 0: print()\n",
    "    print('.', end='')"
   ]
  },
  {
   "cell_type": "code",
   "execution_count": 380,
   "metadata": {
    "id": "YONjXMNqqqPr"
   },
   "outputs": [],
   "source": [
    "# read tutorial about Binary Classification with Neural Network\n",
    "# https://machinelearningmastery.com/binary-classification-tutorial-with-the-keras-deep-learning-library/\n",
    "# https://www.tensorflow.org/api_docs/python/tf/keras/Model#fit\n",
    "\n",
    "\n",
    "# HYPER_PARAMS_SPACE = PARAMS space\n",
    "# WHEN MAX_MODELS>0: return after MAX_MODELS checked\n",
    "# MAX_EPOCHS: how many epochs (periods when model weights are updated) do we need?\n",
    "def train_neural_network_with_hyperparams(HYPER_PARAMS_SPACE, MAX_MODELS=0, MAX_EPOCHS=250, EARLY_STOPPING_PATIENCE=20):\n",
    "\n",
    "  # The patience parameter is the amount of epochs to check for improvement\n",
    "  early_stop = keras.callbacks.EarlyStopping(monitor='val_accuracy',  # we want accuracy to improve every single iteration (or at least in several iterations (EARLY STOPPING PARAM))\n",
    "                                             patience = EARLY_STOPPING_PATIENCE)\n",
    "  nn_params = {} # current hyperParams settings\n",
    "  cur = 0 # models trained\n",
    "\n",
    "  # best stats\n",
    "  best_accuracy = 0\n",
    "  best_model = None\n",
    "  best_history = None\n",
    "\n",
    "  for lr in HYPER_PARAMS_SPACE['lr']:\n",
    "    for first_dropout in HYPER_PARAMS_SPACE['first_dropout']:\n",
    "      for second_dropout in HYPER_PARAMS_SPACE['second_dropout']:\n",
    "        for activation_first in HYPER_PARAMS_SPACE['activation_first']:\n",
    "          for activation_second in HYPER_PARAMS_SPACE['activation_second']:\n",
    "            for optimizer in HYPER_PARAMS_SPACE['optimizer']:\n",
    "              for first_neuron in HYPER_PARAMS_SPACE['first_neuron']:\n",
    "                for second_neuron in HYPER_PARAMS_SPACE['second_neuron']:\n",
    "                  cur = cur+1\n",
    "\n",
    "                  nn_params['learning_rate'] = lr\n",
    "                  nn_params['first_layer_neurons'] = first_neuron\n",
    "                  nn_params['first_layer_dropout'] = first_dropout\n",
    "                  nn_params['second_layer_neurons'] = second_neuron\n",
    "                  nn_params['second_layer_dropout'] = second_dropout\n",
    "                  nn_params['activation_first_layer'] = activation_first\n",
    "                  nn_params['activation_second_layer'] = activation_second\n",
    "                  nn_params['optimizer'] = optimizer\n",
    "\n",
    "                  # features count as an input shape\n",
    "                  nn_params['input_shape'] = len(X_train.keys())\n",
    "\n",
    "                  print(f'Using HyperParams:{nn_params}')\n",
    "\n",
    "                  model = build_model(nn_params)\n",
    "                  # model.summary()\n",
    "\n",
    "                  frame = pd.DataFrame(data=[cur,lr,first_neuron,second_neuron,first_dropout,second_dropout, activation_first, activation_second, optimizer])\n",
    "\n",
    "                  print(f\"Training model {cur} with trainable params {model.count_params()} :\")\n",
    "                  t_start = datetime.datetime.now()\n",
    "                  history = model.fit(\n",
    "                                        X_train_valid,\n",
    "                                        y_train_valid,\n",
    "                                        epochs=MAX_EPOCHS,\n",
    "                                        validation_data = (X_test, y_test),\n",
    "                                        verbose=1, #change to 0 if you don't want to see the progress\n",
    "                                        callbacks=[early_stop,PrintDot()])\n",
    "\n",
    "                  t_diff = datetime.datetime.now() - t_start\n",
    "                  frame = pd.DataFrame(data=[t_diff.seconds,\n",
    "                                          len(history.epoch),\n",
    "                                          history.history['val_accuracy'][0], # start of learning\n",
    "                                          history.history['val_accuracy'][len(history.epoch)-1], # end of learning\n",
    "                                          #  history.history['val_precision_2'][0], # start of learning\n",
    "                                          #  history.history['val_precision_2'][len(history.epoch)-1], # end of learning\n",
    "                                          ])\n",
    "\n",
    "                  if history.history['val_accuracy'][len(history.epoch)-1]> best_accuracy:\n",
    "                    best_accuracy = history.history['val_accuracy'][len(history.epoch)-1]\n",
    "                    best_model = model\n",
    "                    best_history = history\n",
    "\n",
    "                  # early stopping of hyper params loop\n",
    "                  if MAX_MODELS>0 and cur>=MAX_MODELS:\n",
    "                    return best_model, best_history.history\n",
    "\n",
    "                  print('==============================================================')\n",
    "\n",
    "  return best_model, best_history.history #full hyper params search on all models"
   ]
  },
  {
   "cell_type": "code",
   "execution_count": 381,
   "metadata": {
    "id": "cR88teMWqrvW"
   },
   "outputs": [],
   "source": [
    "# returns best_model (trained) and best_history (history of train operations)\n",
    "# best_model, best_history = train_neural_network_with_hyperparams(HYPER_PARAMS_SPACE=p,\n",
    "#                                                                  MAX_MODELS=2, #not more than 2 models\n",
    "#                                                                  MAX_EPOCHS=250,\n",
    "#                                                                  EARLY_STOPPING_PATIENCE=10\n",
    "#                                                                  )"
   ]
  },
  {
   "cell_type": "code",
   "execution_count": 382,
   "metadata": {
    "id": "h8rGL_i1qsiW"
   },
   "outputs": [],
   "source": [
    "# UNCOMMENT WHEN RUN AGAIN\n",
    "\n",
    "# best_history_nn = best_history\n",
    "# best_model_nn = best_model"
   ]
  },
  {
   "cell_type": "code",
   "execution_count": 383,
   "metadata": {
    "id": "BZtsvUUUqtST"
   },
   "outputs": [],
   "source": [
    "# best_model_nn.summary()"
   ]
  },
  {
   "cell_type": "code",
   "execution_count": 384,
   "metadata": {
    "id": "sXAQ011hh7RP"
   },
   "outputs": [],
   "source": [
    "best_history_nn = {'loss': [208422.703125,\n",
    "  1121.272705078125,\n",
    "  539.65283203125,\n",
    "  707.9421997070312,\n",
    "  516.6778564453125,\n",
    "  163.7510528564453,\n",
    "  317.2767333984375,\n",
    "  299.3223571777344,\n",
    "  140.26547241210938,\n",
    "  164.22906494140625,\n",
    "  185.18524169921875,\n",
    "  104.50323486328125,\n",
    "  297.9610290527344,\n",
    "  132.68116760253906],\n",
    " 'accuracy': [0.5328173637390137,\n",
    "  0.5412310361862183,\n",
    "  0.5411459803581238,\n",
    "  0.5417086482048035,\n",
    "  0.5411655902862549,\n",
    "  0.5414665937423706,\n",
    "  0.5418198704719543,\n",
    "  0.5419376492500305,\n",
    "  0.5415254831314087,\n",
    "  0.542022705078125,\n",
    "  0.5419507026672363,\n",
    "  0.5421208143234253,\n",
    "  0.5416563153266907,\n",
    "  0.5420292615890503],\n",
    " 'precision_10': [0.5425137281417847,\n",
    "  0.5425809025764465,\n",
    "  0.5422842502593994,\n",
    "  0.5425357818603516,\n",
    "  0.5421506762504578,\n",
    "  0.542284369468689,\n",
    "  0.5424314737319946,\n",
    "  0.5424544215202332,\n",
    "  0.5424001812934875,\n",
    "  0.5425055027008057,\n",
    "  0.5423765778541565,\n",
    "  0.5424331426620483,\n",
    "  0.5422753691673279,\n",
    "  0.5424132943153381],\n",
    " 'val_loss': [153.67572021484375,\n",
    "  76.75631713867188,\n",
    "  8.787810325622559,\n",
    "  235.6031951904297,\n",
    "  1.5380141735076904,\n",
    "  3.1010591983795166,\n",
    "  1.5755723714828491,\n",
    "  4.07314920425415,\n",
    "  3.5311925411224365,\n",
    "  3.421612501144409,\n",
    "  0.8826513886451721,\n",
    "  0.7503688335418701,\n",
    "  0.7252967953681946,\n",
    "  4.258550643920898],\n",
    " 'val_accuracy': [0.5481243133544922,\n",
    "  0.5551979541778564,\n",
    "  0.5557343363761902,\n",
    "  0.5558684468269348,\n",
    "  0.5551308989524841,\n",
    "  0.5551979541778564,\n",
    "  0.555030345916748,\n",
    "  0.5552650094032288,\n",
    "  0.5551979541778564,\n",
    "  0.5554661750793457,\n",
    "  0.5554661750793457,\n",
    "  0.5558013916015625,\n",
    "  0.5555667281150818,\n",
    "  0.5554326176643372],\n",
    " 'val_precision_10': [0.5546182990074158,\n",
    "  0.5551979541778564,\n",
    "  0.5555108189582825,\n",
    "  0.5561125874519348,\n",
    "  0.5552088618278503,\n",
    "  0.5553352236747742,\n",
    "  0.5553311705589294,\n",
    "  0.5552389025688171,\n",
    "  0.5551979541778564,\n",
    "  0.5555592775344849,\n",
    "  0.5555219054222107,\n",
    "  0.5555480718612671,\n",
    "  0.5554065108299255,\n",
    "  0.5553468465805054]}\n"
   ]
  },
  {
   "cell_type": "code",
   "execution_count": 385,
   "metadata": {
    "colab": {
     "base_uri": "https://localhost:8080/"
    },
    "id": "9ITSYcHPqxwY",
    "outputId": "16627a34-e0b4-44a1-fcc9-4511b3462182"
   },
   "outputs": [
    {
     "data": {
      "text/plain": [
       "(152846, 779)"
      ]
     },
     "execution_count": 385,
     "metadata": {},
     "output_type": "execute_result"
    }
   ],
   "source": [
    "X_train_valid.shape"
   ]
  },
  {
   "cell_type": "code",
   "execution_count": 386,
   "metadata": {
    "colab": {
     "base_uri": "https://localhost:8080/",
     "height": 0
    },
    "id": "2TCVoKpIqyqt",
    "outputId": "06f3b862-50bb-4ddb-a34a-6c7bf8113a54"
   },
   "outputs": [
    {
     "data": {
      "image/png": "[encoded data removed]",
      "text/plain": [
       "<Figure size 1000x600 with 1 Axes>"
      ]
     },
     "metadata": {},
     "output_type": "display_data"
    }
   ],
   "source": [
    "# Learning visualisation for the Deep Neural Network (DNN)\n",
    "# The model is not actually training, as the precision and accuracy score are not improving on TRAIN/TEST with more Epochs\n",
    "\n",
    "# Plotting accuracy\n",
    "plt.figure(figsize=(10, 6))\n",
    "plt.plot(best_history_nn['precision_10'], label='Training Precision')\n",
    "plt.plot(best_history_nn['val_precision_10'], label='Test Precision')\n",
    "plt.xlabel('Epoch')\n",
    "plt.ylabel('Precision')\n",
    "plt.title('Training vs. Test Precision')\n",
    "plt.legend()\n",
    "plt.grid(True)\n",
    "plt.show()"
   ]
  },
  {
   "cell_type": "markdown",
   "metadata": {
    "id": "ieYKsFvYsK_S"
   },
   "source": [
    "# 2) Different Decision rules to improve precision (varying threshold)\n",
    "\n",
    "best model1 (clf_best): Decision Tree (max_depth=15)\n",
    "best model2 (rf_best): Random Forest (n_estimators=200, max_depth=17)"
   ]
  },
  {
   "cell_type": "markdown",
   "metadata": {
    "id": "BUAkDF7ivcmF"
   },
   "source": [
    "## 2.1. Predicting probabilities (predict_proba), getting the distribution for probabilities, and new decision rules"
   ]
  },
  {
   "cell_type": "code",
   "execution_count": 387,
   "metadata": {
    "id": "NtXS-v-vsUdf"
   },
   "outputs": [],
   "source": [
    "# y_pred_test = best_lr.predict_proba(X_test)\n",
    "\n",
    "# predicting probability instead of a lable\n",
    "\n",
    "y_pred_test = clf_best.predict_proba(X_test)\n",
    "y_pred_test_class1 = [k[1] for k in y_pred_test] # k[1] is the second element in the list of Class predictions"
   ]
  },
  {
   "cell_type": "code",
   "execution_count": 388,
   "metadata": {
    "colab": {
     "base_uri": "https://localhost:8080/"
    },
    "id": "AEEgbWi4u8uq",
    "outputId": "3cc97da9-6f31-42ad-ab68-1f3e6ad543ca"
   },
   "outputs": [
    {
     "data": {
      "text/plain": [
       "array([[0.5745614 , 0.4254386 ],\n",
       "       [0.5745614 , 0.4254386 ],\n",
       "       [0.5745614 , 0.4254386 ],\n",
       "       ...,\n",
       "       [1.        , 0.        ],\n",
       "       [0.79766537, 0.20233463],\n",
       "       [0.79766537, 0.20233463]])"
      ]
     },
     "execution_count": 388,
     "metadata": {},
     "output_type": "execute_result"
    }
   ],
   "source": [
    "# example prediction of probabilities\n",
    "y_pred_test"
   ]
  },
  {
   "cell_type": "code",
   "execution_count": 389,
   "metadata": {
    "colab": {
     "base_uri": "https://localhost:8080/",
     "height": 206
    },
    "id": "mgqzi2Xzu87W",
    "outputId": "f24d96cb-ac36-4ef5-f695-d5d91e65e8c2"
   },
   "outputs": [
    {
     "data": {
      "text/html": [
       "<div>\n",
       "<style scoped>\n",
       "    .dataframe tbody tr th:only-of-type {\n",
       "        vertical-align: middle;\n",
       "    }\n",
       "\n",
       "    .dataframe tbody tr th {\n",
       "        vertical-align: top;\n",
       "    }\n",
       "\n",
       "    .dataframe thead th {\n",
       "        text-align: right;\n",
       "    }\n",
       "</style>\n",
       "<table border=\"1\" class=\"dataframe\">\n",
       "  <thead>\n",
       "    <tr style=\"text-align: right;\">\n",
       "      <th></th>\n",
       "      <th>Class1_probability</th>\n",
       "    </tr>\n",
       "  </thead>\n",
       "  <tbody>\n",
       "    <tr>\n",
       "      <th>0</th>\n",
       "      <td>0.425439</td>\n",
       "    </tr>\n",
       "    <tr>\n",
       "      <th>1</th>\n",
       "      <td>0.425439</td>\n",
       "    </tr>\n",
       "    <tr>\n",
       "      <th>2</th>\n",
       "      <td>0.425439</td>\n",
       "    </tr>\n",
       "    <tr>\n",
       "      <th>3</th>\n",
       "      <td>0.117647</td>\n",
       "    </tr>\n",
       "    <tr>\n",
       "      <th>4</th>\n",
       "      <td>0.020408</td>\n",
       "    </tr>\n",
       "  </tbody>\n",
       "</table>\n",
       "</div>"
      ],
      "text/plain": [
       "   Class1_probability\n",
       "0            0.425439\n",
       "1            0.425439\n",
       "2            0.425439\n",
       "3            0.117647\n",
       "4            0.020408"
      ]
     },
     "execution_count": 389,
     "metadata": {},
     "output_type": "execute_result"
    }
   ],
   "source": [
    "y_pred_test_class1_df = pd.DataFrame(y_pred_test_class1, columns=['Class1_probability'])\n",
    "y_pred_test_class1_df.head()"
   ]
  },
  {
   "cell_type": "code",
   "execution_count": 390,
   "metadata": {
    "colab": {
     "base_uri": "https://localhost:8080/",
     "height": 81
    },
    "id": "SFQ-uUt9u_Y-",
    "outputId": "6c91e256-65af-40a3-e9fe-df87f5395393"
   },
   "outputs": [
    {
     "data": {
      "text/html": [
       "<div>\n",
       "<style scoped>\n",
       "    .dataframe tbody tr th:only-of-type {\n",
       "        vertical-align: middle;\n",
       "    }\n",
       "\n",
       "    .dataframe tbody tr th {\n",
       "        vertical-align: top;\n",
       "    }\n",
       "\n",
       "    .dataframe thead th {\n",
       "        text-align: right;\n",
       "    }\n",
       "</style>\n",
       "<table border=\"1\" class=\"dataframe\">\n",
       "  <thead>\n",
       "    <tr style=\"text-align: right;\">\n",
       "      <th></th>\n",
       "      <th>count</th>\n",
       "      <th>mean</th>\n",
       "      <th>std</th>\n",
       "      <th>min</th>\n",
       "      <th>25%</th>\n",
       "      <th>50%</th>\n",
       "      <th>75%</th>\n",
       "      <th>max</th>\n",
       "    </tr>\n",
       "  </thead>\n",
       "  <tbody>\n",
       "    <tr>\n",
       "      <th>Class1_probability</th>\n",
       "      <td>29829.0</td>\n",
       "      <td>0.326832</td>\n",
       "      <td>0.314209</td>\n",
       "      <td>0.0</td>\n",
       "      <td>0.108856</td>\n",
       "      <td>0.224335</td>\n",
       "      <td>0.40625</td>\n",
       "      <td>1.0</td>\n",
       "    </tr>\n",
       "  </tbody>\n",
       "</table>\n",
       "</div>"
      ],
      "text/plain": [
       "                      count      mean       std  min       25%       50%  \\\n",
       "Class1_probability  29829.0  0.326832  0.314209  0.0  0.108856  0.224335   \n",
       "\n",
       "                        75%  max  \n",
       "Class1_probability  0.40625  1.0  "
      ]
     },
     "execution_count": 390,
     "metadata": {},
     "output_type": "execute_result"
    }
   ],
   "source": [
    "# Mean prediction is 0.52, median is 0.58, 75% quantile is 0.75\n",
    "y_pred_test_class1_df.describe().T"
   ]
  },
  {
   "cell_type": "code",
   "execution_count": 391,
   "metadata": {
    "colab": {
     "base_uri": "https://localhost:8080/"
    },
    "id": "KGEnXnpBvAx_",
    "outputId": "1033ffee-ea11-4c21-8962-05fb1f5a0d76"
   },
   "outputs": [
    {
     "data": {
      "text/plain": [
       "0.31781152569646987"
      ]
     },
     "execution_count": 391,
     "metadata": {},
     "output_type": "execute_result"
    }
   ],
   "source": [
    "# Unconditional probability of a positive growth is 55.5%\n",
    "y_test.sum()/y_test.count()"
   ]
  },
  {
   "cell_type": "code",
   "execution_count": 392,
   "metadata": {
    "colab": {
     "base_uri": "https://localhost:8080/",
     "height": 452
    },
    "id": "myxaNMxTvFXw",
    "outputId": "9da3d1ab-f479-4c78-9ada-4922ff164f86"
   },
   "outputs": [
    {
     "data": {
      "image/png": "[encoded data removed]",
      "text/plain": [
       "<Figure size 640x480 with 1 Axes>"
      ]
     },
     "metadata": {},
     "output_type": "display_data"
    }
   ],
   "source": [
    "sns.histplot(y_pred_test_class1)\n",
    "\n",
    "# Add a title\n",
    "plt.title('The distribution of predictions for the current best model (Decision Tree with max_depth=15)')\n",
    "\n",
    "# Show the plot\n",
    "plt.show()"
   ]
  },
  {
   "cell_type": "code",
   "execution_count": 393,
   "metadata": {
    "id": "jNaoTiABvIfJ"
   },
   "outputs": [],
   "source": [
    "# tpr (True Positive Rate) vs. fpr (False Positive Rate) dataframe\n",
    "# tp = True Positive\n",
    "# tn = True Negative\n",
    "# fp = False Positive\n",
    "# fn = False Negative\n",
    "# Decision Rule :  \"y_pred>= Threshold\" for Class \"1\"\n",
    "\n",
    "# when only_even=True --> we'll have a step ==0.02 and leave only even records\n",
    "\n",
    "def tpr_fpr_dataframe(y_true, y_pred, only_even=False):\n",
    "    scores = []\n",
    "\n",
    "    if only_even==False:\n",
    "      thresholds = np.linspace(0, 1, 101) #[0, 0.01, 0.02, ...0.99,1.0]\n",
    "    else:\n",
    "      thresholds = np.linspace(0, 1, 51) #[0, 0.02, 0.04,  ...0.98,1.0]\n",
    "\n",
    "    for t in thresholds:\n",
    "\n",
    "        actual_positive = (y_true == 1)\n",
    "        actual_negative = (y_true == 0)\n",
    "\n",
    "        predict_positive = (y_pred >= t)\n",
    "        predict_negative = (y_pred < t)\n",
    "\n",
    "        tp = (predict_positive & actual_positive).sum()\n",
    "        tn = (predict_negative & actual_negative).sum()\n",
    "\n",
    "        fp = (predict_positive & actual_negative).sum()\n",
    "        fn = (predict_negative & actual_positive).sum()\n",
    "\n",
    "        if tp + fp > 0:\n",
    "          precision = tp / (tp + fp)\n",
    "\n",
    "        if tp + fn > 0:\n",
    "          recall = tp / (tp + fn)\n",
    "\n",
    "        if precision+recall > 0:\n",
    "          f1_score = 2*precision*recall / (precision+recall)\n",
    "\n",
    "        accuracy = (tp+tn) / (tp+tn+fp+fn)\n",
    "\n",
    "        scores.append((t, tp, fp, fn, tn, precision, recall, accuracy, f1_score))\n",
    "\n",
    "    columns = ['threshold', 'tp', 'fp', 'fn', 'tn','precision','recall', 'accuracy','f1_score']\n",
    "    df_scores = pd.DataFrame(scores, columns=columns)\n",
    "\n",
    "    df_scores['tpr'] = df_scores.tp / (df_scores.tp + df_scores.fn)\n",
    "    df_scores['fpr'] = df_scores.fp / (df_scores.fp + df_scores.tn)\n",
    "\n",
    "    return df_scores\n"
   ]
  },
  {
   "cell_type": "code",
   "execution_count": 394,
   "metadata": {
    "id": "AM8QESf9vKZL"
   },
   "outputs": [],
   "source": [
    "df_scores = tpr_fpr_dataframe(y_test,\n",
    "                              y_pred_test_class1,\n",
    "                              only_even=True)"
   ]
  },
  {
   "cell_type": "code",
   "execution_count": 395,
   "metadata": {
    "colab": {
     "base_uri": "https://localhost:8080/",
     "height": 1000
    },
    "id": "qoQqV2yhvME7",
    "outputId": "30f8f5c3-12a3-43a7-8ead-379f07d1d635"
   },
   "outputs": [
    {
     "data": {
      "text/html": [
       "<div>\n",
       "<style scoped>\n",
       "    .dataframe tbody tr th:only-of-type {\n",
       "        vertical-align: middle;\n",
       "    }\n",
       "\n",
       "    .dataframe tbody tr th {\n",
       "        vertical-align: top;\n",
       "    }\n",
       "\n",
       "    .dataframe thead th {\n",
       "        text-align: right;\n",
       "    }\n",
       "</style>\n",
       "<table border=\"1\" class=\"dataframe\">\n",
       "  <thead>\n",
       "    <tr style=\"text-align: right;\">\n",
       "      <th></th>\n",
       "      <th>threshold</th>\n",
       "      <th>tp</th>\n",
       "      <th>fp</th>\n",
       "      <th>fn</th>\n",
       "      <th>tn</th>\n",
       "      <th>precision</th>\n",
       "      <th>recall</th>\n",
       "      <th>accuracy</th>\n",
       "      <th>f1_score</th>\n",
       "      <th>tpr</th>\n",
       "      <th>fpr</th>\n",
       "    </tr>\n",
       "  </thead>\n",
       "  <tbody>\n",
       "    <tr>\n",
       "      <th>0</th>\n",
       "      <td>0.00</td>\n",
       "      <td>9480</td>\n",
       "      <td>20349</td>\n",
       "      <td>0</td>\n",
       "      <td>0</td>\n",
       "      <td>0.317812</td>\n",
       "      <td>1.000000</td>\n",
       "      <td>0.317812</td>\n",
       "      <td>0.482332</td>\n",
       "      <td>1.000000</td>\n",
       "      <td>1.000000</td>\n",
       "    </tr>\n",
       "    <tr>\n",
       "      <th>1</th>\n",
       "      <td>0.02</td>\n",
       "      <td>8098</td>\n",
       "      <td>17579</td>\n",
       "      <td>1382</td>\n",
       "      <td>2770</td>\n",
       "      <td>0.315380</td>\n",
       "      <td>0.854219</td>\n",
       "      <td>0.364343</td>\n",
       "      <td>0.460676</td>\n",
       "      <td>0.854219</td>\n",
       "      <td>0.863875</td>\n",
       "    </tr>\n",
       "    <tr>\n",
       "      <th>2</th>\n",
       "      <td>0.04</td>\n",
       "      <td>7899</td>\n",
       "      <td>17187</td>\n",
       "      <td>1581</td>\n",
       "      <td>3162</td>\n",
       "      <td>0.314877</td>\n",
       "      <td>0.833228</td>\n",
       "      <td>0.370814</td>\n",
       "      <td>0.457039</td>\n",
       "      <td>0.833228</td>\n",
       "      <td>0.844612</td>\n",
       "    </tr>\n",
       "    <tr>\n",
       "      <th>3</th>\n",
       "      <td>0.06</td>\n",
       "      <td>7656</td>\n",
       "      <td>16716</td>\n",
       "      <td>1824</td>\n",
       "      <td>3633</td>\n",
       "      <td>0.314131</td>\n",
       "      <td>0.807595</td>\n",
       "      <td>0.378457</td>\n",
       "      <td>0.452322</td>\n",
       "      <td>0.807595</td>\n",
       "      <td>0.821465</td>\n",
       "    </tr>\n",
       "    <tr>\n",
       "      <th>4</th>\n",
       "      <td>0.08</td>\n",
       "      <td>7353</td>\n",
       "      <td>16133</td>\n",
       "      <td>2127</td>\n",
       "      <td>4216</td>\n",
       "      <td>0.313080</td>\n",
       "      <td>0.775633</td>\n",
       "      <td>0.387844</td>\n",
       "      <td>0.446096</td>\n",
       "      <td>0.775633</td>\n",
       "      <td>0.792815</td>\n",
       "    </tr>\n",
       "    <tr>\n",
       "      <th>5</th>\n",
       "      <td>0.10</td>\n",
       "      <td>7263</td>\n",
       "      <td>15884</td>\n",
       "      <td>2217</td>\n",
       "      <td>4465</td>\n",
       "      <td>0.313777</td>\n",
       "      <td>0.766139</td>\n",
       "      <td>0.393174</td>\n",
       "      <td>0.445214</td>\n",
       "      <td>0.766139</td>\n",
       "      <td>0.780579</td>\n",
       "    </tr>\n",
       "    <tr>\n",
       "      <th>6</th>\n",
       "      <td>0.12</td>\n",
       "      <td>6785</td>\n",
       "      <td>14851</td>\n",
       "      <td>2695</td>\n",
       "      <td>5498</td>\n",
       "      <td>0.313598</td>\n",
       "      <td>0.715717</td>\n",
       "      <td>0.411780</td>\n",
       "      <td>0.436110</td>\n",
       "      <td>0.715717</td>\n",
       "      <td>0.729815</td>\n",
       "    </tr>\n",
       "    <tr>\n",
       "      <th>7</th>\n",
       "      <td>0.14</td>\n",
       "      <td>6304</td>\n",
       "      <td>13743</td>\n",
       "      <td>3176</td>\n",
       "      <td>6606</td>\n",
       "      <td>0.314461</td>\n",
       "      <td>0.664979</td>\n",
       "      <td>0.432800</td>\n",
       "      <td>0.426999</td>\n",
       "      <td>0.664979</td>\n",
       "      <td>0.675365</td>\n",
       "    </tr>\n",
       "    <tr>\n",
       "      <th>8</th>\n",
       "      <td>0.16</td>\n",
       "      <td>5966</td>\n",
       "      <td>12783</td>\n",
       "      <td>3514</td>\n",
       "      <td>7566</td>\n",
       "      <td>0.318204</td>\n",
       "      <td>0.629325</td>\n",
       "      <td>0.453652</td>\n",
       "      <td>0.422686</td>\n",
       "      <td>0.629325</td>\n",
       "      <td>0.628188</td>\n",
       "    </tr>\n",
       "    <tr>\n",
       "      <th>9</th>\n",
       "      <td>0.18</td>\n",
       "      <td>5916</td>\n",
       "      <td>12628</td>\n",
       "      <td>3564</td>\n",
       "      <td>7721</td>\n",
       "      <td>0.319025</td>\n",
       "      <td>0.624051</td>\n",
       "      <td>0.457173</td>\n",
       "      <td>0.422210</td>\n",
       "      <td>0.624051</td>\n",
       "      <td>0.620571</td>\n",
       "    </tr>\n",
       "    <tr>\n",
       "      <th>10</th>\n",
       "      <td>0.20</td>\n",
       "      <td>5790</td>\n",
       "      <td>12371</td>\n",
       "      <td>3690</td>\n",
       "      <td>7978</td>\n",
       "      <td>0.318815</td>\n",
       "      <td>0.610759</td>\n",
       "      <td>0.461564</td>\n",
       "      <td>0.418943</td>\n",
       "      <td>0.610759</td>\n",
       "      <td>0.607941</td>\n",
       "    </tr>\n",
       "    <tr>\n",
       "      <th>11</th>\n",
       "      <td>0.22</td>\n",
       "      <td>5342</td>\n",
       "      <td>11331</td>\n",
       "      <td>4138</td>\n",
       "      <td>9018</td>\n",
       "      <td>0.320398</td>\n",
       "      <td>0.563502</td>\n",
       "      <td>0.481411</td>\n",
       "      <td>0.408519</td>\n",
       "      <td>0.563502</td>\n",
       "      <td>0.556833</td>\n",
       "    </tr>\n",
       "    <tr>\n",
       "      <th>12</th>\n",
       "      <td>0.24</td>\n",
       "      <td>4615</td>\n",
       "      <td>9489</td>\n",
       "      <td>4865</td>\n",
       "      <td>10860</td>\n",
       "      <td>0.327212</td>\n",
       "      <td>0.486814</td>\n",
       "      <td>0.518790</td>\n",
       "      <td>0.391367</td>\n",
       "      <td>0.486814</td>\n",
       "      <td>0.466313</td>\n",
       "    </tr>\n",
       "    <tr>\n",
       "      <th>13</th>\n",
       "      <td>0.26</td>\n",
       "      <td>4206</td>\n",
       "      <td>8641</td>\n",
       "      <td>5274</td>\n",
       "      <td>11708</td>\n",
       "      <td>0.327392</td>\n",
       "      <td>0.443671</td>\n",
       "      <td>0.533508</td>\n",
       "      <td>0.376764</td>\n",
       "      <td>0.443671</td>\n",
       "      <td>0.424640</td>\n",
       "    </tr>\n",
       "    <tr>\n",
       "      <th>14</th>\n",
       "      <td>0.28</td>\n",
       "      <td>3754</td>\n",
       "      <td>7373</td>\n",
       "      <td>5726</td>\n",
       "      <td>12976</td>\n",
       "      <td>0.337378</td>\n",
       "      <td>0.395992</td>\n",
       "      <td>0.560864</td>\n",
       "      <td>0.364342</td>\n",
       "      <td>0.395992</td>\n",
       "      <td>0.362327</td>\n",
       "    </tr>\n",
       "    <tr>\n",
       "      <th>15</th>\n",
       "      <td>0.30</td>\n",
       "      <td>3471</td>\n",
       "      <td>6791</td>\n",
       "      <td>6009</td>\n",
       "      <td>13558</td>\n",
       "      <td>0.338238</td>\n",
       "      <td>0.366139</td>\n",
       "      <td>0.570887</td>\n",
       "      <td>0.351636</td>\n",
       "      <td>0.366139</td>\n",
       "      <td>0.333726</td>\n",
       "    </tr>\n",
       "    <tr>\n",
       "      <th>16</th>\n",
       "      <td>0.32</td>\n",
       "      <td>3067</td>\n",
       "      <td>5794</td>\n",
       "      <td>6413</td>\n",
       "      <td>14555</td>\n",
       "      <td>0.346123</td>\n",
       "      <td>0.323523</td>\n",
       "      <td>0.590767</td>\n",
       "      <td>0.334442</td>\n",
       "      <td>0.323523</td>\n",
       "      <td>0.284731</td>\n",
       "    </tr>\n",
       "    <tr>\n",
       "      <th>17</th>\n",
       "      <td>0.34</td>\n",
       "      <td>3033</td>\n",
       "      <td>5714</td>\n",
       "      <td>6447</td>\n",
       "      <td>14635</td>\n",
       "      <td>0.346747</td>\n",
       "      <td>0.319937</td>\n",
       "      <td>0.592309</td>\n",
       "      <td>0.332803</td>\n",
       "      <td>0.319937</td>\n",
       "      <td>0.280800</td>\n",
       "    </tr>\n",
       "    <tr>\n",
       "      <th>18</th>\n",
       "      <td>0.36</td>\n",
       "      <td>2838</td>\n",
       "      <td>5418</td>\n",
       "      <td>6642</td>\n",
       "      <td>14931</td>\n",
       "      <td>0.343750</td>\n",
       "      <td>0.299367</td>\n",
       "      <td>0.595695</td>\n",
       "      <td>0.320027</td>\n",
       "      <td>0.299367</td>\n",
       "      <td>0.266254</td>\n",
       "    </tr>\n",
       "    <tr>\n",
       "      <th>19</th>\n",
       "      <td>0.38</td>\n",
       "      <td>2736</td>\n",
       "      <td>5226</td>\n",
       "      <td>6744</td>\n",
       "      <td>15123</td>\n",
       "      <td>0.343632</td>\n",
       "      <td>0.288608</td>\n",
       "      <td>0.598713</td>\n",
       "      <td>0.313725</td>\n",
       "      <td>0.288608</td>\n",
       "      <td>0.256819</td>\n",
       "    </tr>\n",
       "    <tr>\n",
       "      <th>20</th>\n",
       "      <td>0.40</td>\n",
       "      <td>2579</td>\n",
       "      <td>4997</td>\n",
       "      <td>6901</td>\n",
       "      <td>15352</td>\n",
       "      <td>0.340417</td>\n",
       "      <td>0.272046</td>\n",
       "      <td>0.601126</td>\n",
       "      <td>0.302416</td>\n",
       "      <td>0.272046</td>\n",
       "      <td>0.245565</td>\n",
       "    </tr>\n",
       "    <tr>\n",
       "      <th>21</th>\n",
       "      <td>0.42</td>\n",
       "      <td>2534</td>\n",
       "      <td>4860</td>\n",
       "      <td>6946</td>\n",
       "      <td>15489</td>\n",
       "      <td>0.342710</td>\n",
       "      <td>0.267300</td>\n",
       "      <td>0.604211</td>\n",
       "      <td>0.300344</td>\n",
       "      <td>0.267300</td>\n",
       "      <td>0.238832</td>\n",
       "    </tr>\n",
       "    <tr>\n",
       "      <th>22</th>\n",
       "      <td>0.44</td>\n",
       "      <td>2500</td>\n",
       "      <td>4673</td>\n",
       "      <td>6980</td>\n",
       "      <td>15676</td>\n",
       "      <td>0.348529</td>\n",
       "      <td>0.263713</td>\n",
       "      <td>0.609340</td>\n",
       "      <td>0.300246</td>\n",
       "      <td>0.263713</td>\n",
       "      <td>0.229643</td>\n",
       "    </tr>\n",
       "    <tr>\n",
       "      <th>23</th>\n",
       "      <td>0.46</td>\n",
       "      <td>2497</td>\n",
       "      <td>4668</td>\n",
       "      <td>6983</td>\n",
       "      <td>15681</td>\n",
       "      <td>0.348500</td>\n",
       "      <td>0.263397</td>\n",
       "      <td>0.609407</td>\n",
       "      <td>0.300030</td>\n",
       "      <td>0.263397</td>\n",
       "      <td>0.229397</td>\n",
       "    </tr>\n",
       "    <tr>\n",
       "      <th>24</th>\n",
       "      <td>0.48</td>\n",
       "      <td>2138</td>\n",
       "      <td>4369</td>\n",
       "      <td>7342</td>\n",
       "      <td>15980</td>\n",
       "      <td>0.328569</td>\n",
       "      <td>0.225527</td>\n",
       "      <td>0.607395</td>\n",
       "      <td>0.267467</td>\n",
       "      <td>0.225527</td>\n",
       "      <td>0.214703</td>\n",
       "    </tr>\n",
       "    <tr>\n",
       "      <th>25</th>\n",
       "      <td>0.50</td>\n",
       "      <td>2138</td>\n",
       "      <td>4357</td>\n",
       "      <td>7342</td>\n",
       "      <td>15992</td>\n",
       "      <td>0.329176</td>\n",
       "      <td>0.225527</td>\n",
       "      <td>0.607798</td>\n",
       "      <td>0.267668</td>\n",
       "      <td>0.225527</td>\n",
       "      <td>0.214114</td>\n",
       "    </tr>\n",
       "    <tr>\n",
       "      <th>26</th>\n",
       "      <td>0.52</td>\n",
       "      <td>2072</td>\n",
       "      <td>4251</td>\n",
       "      <td>7408</td>\n",
       "      <td>16098</td>\n",
       "      <td>0.327693</td>\n",
       "      <td>0.218565</td>\n",
       "      <td>0.609139</td>\n",
       "      <td>0.262229</td>\n",
       "      <td>0.218565</td>\n",
       "      <td>0.208905</td>\n",
       "    </tr>\n",
       "    <tr>\n",
       "      <th>27</th>\n",
       "      <td>0.54</td>\n",
       "      <td>2061</td>\n",
       "      <td>4215</td>\n",
       "      <td>7419</td>\n",
       "      <td>16134</td>\n",
       "      <td>0.328394</td>\n",
       "      <td>0.217405</td>\n",
       "      <td>0.609977</td>\n",
       "      <td>0.261615</td>\n",
       "      <td>0.217405</td>\n",
       "      <td>0.207135</td>\n",
       "    </tr>\n",
       "    <tr>\n",
       "      <th>28</th>\n",
       "      <td>0.56</td>\n",
       "      <td>2043</td>\n",
       "      <td>4164</td>\n",
       "      <td>7437</td>\n",
       "      <td>16185</td>\n",
       "      <td>0.329145</td>\n",
       "      <td>0.215506</td>\n",
       "      <td>0.611083</td>\n",
       "      <td>0.260470</td>\n",
       "      <td>0.215506</td>\n",
       "      <td>0.204629</td>\n",
       "    </tr>\n",
       "    <tr>\n",
       "      <th>29</th>\n",
       "      <td>0.58</td>\n",
       "      <td>1960</td>\n",
       "      <td>3938</td>\n",
       "      <td>7520</td>\n",
       "      <td>16411</td>\n",
       "      <td>0.332316</td>\n",
       "      <td>0.206751</td>\n",
       "      <td>0.615877</td>\n",
       "      <td>0.254910</td>\n",
       "      <td>0.206751</td>\n",
       "      <td>0.193523</td>\n",
       "    </tr>\n",
       "    <tr>\n",
       "      <th>30</th>\n",
       "      <td>0.60</td>\n",
       "      <td>1959</td>\n",
       "      <td>3931</td>\n",
       "      <td>7521</td>\n",
       "      <td>16418</td>\n",
       "      <td>0.332598</td>\n",
       "      <td>0.206646</td>\n",
       "      <td>0.616078</td>\n",
       "      <td>0.254912</td>\n",
       "      <td>0.206646</td>\n",
       "      <td>0.193179</td>\n",
       "    </tr>\n",
       "    <tr>\n",
       "      <th>31</th>\n",
       "      <td>0.62</td>\n",
       "      <td>1935</td>\n",
       "      <td>3876</td>\n",
       "      <td>7545</td>\n",
       "      <td>16473</td>\n",
       "      <td>0.332989</td>\n",
       "      <td>0.204114</td>\n",
       "      <td>0.617118</td>\n",
       "      <td>0.253090</td>\n",
       "      <td>0.204114</td>\n",
       "      <td>0.190476</td>\n",
       "    </tr>\n",
       "    <tr>\n",
       "      <th>32</th>\n",
       "      <td>0.64</td>\n",
       "      <td>1919</td>\n",
       "      <td>3868</td>\n",
       "      <td>7561</td>\n",
       "      <td>16481</td>\n",
       "      <td>0.331605</td>\n",
       "      <td>0.202426</td>\n",
       "      <td>0.616849</td>\n",
       "      <td>0.251392</td>\n",
       "      <td>0.202426</td>\n",
       "      <td>0.190083</td>\n",
       "    </tr>\n",
       "    <tr>\n",
       "      <th>33</th>\n",
       "      <td>0.66</td>\n",
       "      <td>1704</td>\n",
       "      <td>3519</td>\n",
       "      <td>7776</td>\n",
       "      <td>16830</td>\n",
       "      <td>0.326249</td>\n",
       "      <td>0.179747</td>\n",
       "      <td>0.621342</td>\n",
       "      <td>0.231789</td>\n",
       "      <td>0.179747</td>\n",
       "      <td>0.172932</td>\n",
       "    </tr>\n",
       "    <tr>\n",
       "      <th>34</th>\n",
       "      <td>0.68</td>\n",
       "      <td>1675</td>\n",
       "      <td>3443</td>\n",
       "      <td>7805</td>\n",
       "      <td>16906</td>\n",
       "      <td>0.327276</td>\n",
       "      <td>0.176688</td>\n",
       "      <td>0.622917</td>\n",
       "      <td>0.229483</td>\n",
       "      <td>0.176688</td>\n",
       "      <td>0.169198</td>\n",
       "    </tr>\n",
       "    <tr>\n",
       "      <th>35</th>\n",
       "      <td>0.70</td>\n",
       "      <td>1652</td>\n",
       "      <td>3406</td>\n",
       "      <td>7828</td>\n",
       "      <td>16943</td>\n",
       "      <td>0.326611</td>\n",
       "      <td>0.174262</td>\n",
       "      <td>0.623387</td>\n",
       "      <td>0.227266</td>\n",
       "      <td>0.174262</td>\n",
       "      <td>0.167379</td>\n",
       "    </tr>\n",
       "    <tr>\n",
       "      <th>36</th>\n",
       "      <td>0.72</td>\n",
       "      <td>1644</td>\n",
       "      <td>3395</td>\n",
       "      <td>7836</td>\n",
       "      <td>16954</td>\n",
       "      <td>0.326255</td>\n",
       "      <td>0.173418</td>\n",
       "      <td>0.623487</td>\n",
       "      <td>0.226462</td>\n",
       "      <td>0.173418</td>\n",
       "      <td>0.166839</td>\n",
       "    </tr>\n",
       "    <tr>\n",
       "      <th>37</th>\n",
       "      <td>0.74</td>\n",
       "      <td>1609</td>\n",
       "      <td>3343</td>\n",
       "      <td>7871</td>\n",
       "      <td>17006</td>\n",
       "      <td>0.324919</td>\n",
       "      <td>0.169726</td>\n",
       "      <td>0.624057</td>\n",
       "      <td>0.222977</td>\n",
       "      <td>0.169726</td>\n",
       "      <td>0.164283</td>\n",
       "    </tr>\n",
       "    <tr>\n",
       "      <th>38</th>\n",
       "      <td>0.76</td>\n",
       "      <td>1373</td>\n",
       "      <td>3065</td>\n",
       "      <td>8107</td>\n",
       "      <td>17284</td>\n",
       "      <td>0.309374</td>\n",
       "      <td>0.144831</td>\n",
       "      <td>0.625465</td>\n",
       "      <td>0.197298</td>\n",
       "      <td>0.144831</td>\n",
       "      <td>0.150622</td>\n",
       "    </tr>\n",
       "    <tr>\n",
       "      <th>39</th>\n",
       "      <td>0.78</td>\n",
       "      <td>1326</td>\n",
       "      <td>3051</td>\n",
       "      <td>8154</td>\n",
       "      <td>17298</td>\n",
       "      <td>0.302947</td>\n",
       "      <td>0.139873</td>\n",
       "      <td>0.624359</td>\n",
       "      <td>0.191383</td>\n",
       "      <td>0.139873</td>\n",
       "      <td>0.149934</td>\n",
       "    </tr>\n",
       "    <tr>\n",
       "      <th>40</th>\n",
       "      <td>0.80</td>\n",
       "      <td>1288</td>\n",
       "      <td>2936</td>\n",
       "      <td>8192</td>\n",
       "      <td>17413</td>\n",
       "      <td>0.304924</td>\n",
       "      <td>0.135865</td>\n",
       "      <td>0.626940</td>\n",
       "      <td>0.187974</td>\n",
       "      <td>0.135865</td>\n",
       "      <td>0.144282</td>\n",
       "    </tr>\n",
       "    <tr>\n",
       "      <th>41</th>\n",
       "      <td>0.82</td>\n",
       "      <td>1245</td>\n",
       "      <td>2804</td>\n",
       "      <td>8235</td>\n",
       "      <td>17545</td>\n",
       "      <td>0.307483</td>\n",
       "      <td>0.131329</td>\n",
       "      <td>0.629924</td>\n",
       "      <td>0.184049</td>\n",
       "      <td>0.131329</td>\n",
       "      <td>0.137795</td>\n",
       "    </tr>\n",
       "    <tr>\n",
       "      <th>42</th>\n",
       "      <td>0.84</td>\n",
       "      <td>1206</td>\n",
       "      <td>2681</td>\n",
       "      <td>8274</td>\n",
       "      <td>17668</td>\n",
       "      <td>0.310265</td>\n",
       "      <td>0.127215</td>\n",
       "      <td>0.632740</td>\n",
       "      <td>0.180444</td>\n",
       "      <td>0.127215</td>\n",
       "      <td>0.131751</td>\n",
       "    </tr>\n",
       "    <tr>\n",
       "      <th>43</th>\n",
       "      <td>0.86</td>\n",
       "      <td>1206</td>\n",
       "      <td>2666</td>\n",
       "      <td>8274</td>\n",
       "      <td>17683</td>\n",
       "      <td>0.311467</td>\n",
       "      <td>0.127215</td>\n",
       "      <td>0.633243</td>\n",
       "      <td>0.180647</td>\n",
       "      <td>0.127215</td>\n",
       "      <td>0.131014</td>\n",
       "    </tr>\n",
       "    <tr>\n",
       "      <th>44</th>\n",
       "      <td>0.88</td>\n",
       "      <td>1201</td>\n",
       "      <td>2658</td>\n",
       "      <td>8279</td>\n",
       "      <td>17691</td>\n",
       "      <td>0.311221</td>\n",
       "      <td>0.126688</td>\n",
       "      <td>0.633343</td>\n",
       "      <td>0.180073</td>\n",
       "      <td>0.126688</td>\n",
       "      <td>0.130621</td>\n",
       "    </tr>\n",
       "    <tr>\n",
       "      <th>45</th>\n",
       "      <td>0.90</td>\n",
       "      <td>1196</td>\n",
       "      <td>2658</td>\n",
       "      <td>8284</td>\n",
       "      <td>17691</td>\n",
       "      <td>0.310327</td>\n",
       "      <td>0.126160</td>\n",
       "      <td>0.633176</td>\n",
       "      <td>0.179391</td>\n",
       "      <td>0.126160</td>\n",
       "      <td>0.130621</td>\n",
       "    </tr>\n",
       "    <tr>\n",
       "      <th>46</th>\n",
       "      <td>0.92</td>\n",
       "      <td>1126</td>\n",
       "      <td>2358</td>\n",
       "      <td>8354</td>\n",
       "      <td>17991</td>\n",
       "      <td>0.323192</td>\n",
       "      <td>0.118776</td>\n",
       "      <td>0.640886</td>\n",
       "      <td>0.173712</td>\n",
       "      <td>0.118776</td>\n",
       "      <td>0.115878</td>\n",
       "    </tr>\n",
       "    <tr>\n",
       "      <th>47</th>\n",
       "      <td>0.94</td>\n",
       "      <td>1118</td>\n",
       "      <td>2325</td>\n",
       "      <td>8362</td>\n",
       "      <td>18024</td>\n",
       "      <td>0.324717</td>\n",
       "      <td>0.117932</td>\n",
       "      <td>0.641724</td>\n",
       "      <td>0.173025</td>\n",
       "      <td>0.117932</td>\n",
       "      <td>0.114256</td>\n",
       "    </tr>\n",
       "    <tr>\n",
       "      <th>48</th>\n",
       "      <td>0.96</td>\n",
       "      <td>1110</td>\n",
       "      <td>2312</td>\n",
       "      <td>8370</td>\n",
       "      <td>18037</td>\n",
       "      <td>0.324372</td>\n",
       "      <td>0.117089</td>\n",
       "      <td>0.641892</td>\n",
       "      <td>0.172066</td>\n",
       "      <td>0.117089</td>\n",
       "      <td>0.113617</td>\n",
       "    </tr>\n",
       "    <tr>\n",
       "      <th>49</th>\n",
       "      <td>0.98</td>\n",
       "      <td>1018</td>\n",
       "      <td>2151</td>\n",
       "      <td>8462</td>\n",
       "      <td>18198</td>\n",
       "      <td>0.321237</td>\n",
       "      <td>0.107384</td>\n",
       "      <td>0.644205</td>\n",
       "      <td>0.160961</td>\n",
       "      <td>0.107384</td>\n",
       "      <td>0.105705</td>\n",
       "    </tr>\n",
       "    <tr>\n",
       "      <th>50</th>\n",
       "      <td>1.00</td>\n",
       "      <td>1002</td>\n",
       "      <td>2121</td>\n",
       "      <td>8478</td>\n",
       "      <td>18228</td>\n",
       "      <td>0.320845</td>\n",
       "      <td>0.105696</td>\n",
       "      <td>0.644675</td>\n",
       "      <td>0.159010</td>\n",
       "      <td>0.105696</td>\n",
       "      <td>0.104231</td>\n",
       "    </tr>\n",
       "  </tbody>\n",
       "</table>\n",
       "</div>"
      ],
      "text/plain": [
       "    threshold    tp     fp    fn     tn  precision    recall  accuracy  \\\n",
       "0        0.00  9480  20349     0      0   0.317812  1.000000  0.317812   \n",
       "1        0.02  8098  17579  1382   2770   0.315380  0.854219  0.364343   \n",
       "2        0.04  7899  17187  1581   3162   0.314877  0.833228  0.370814   \n",
       "3        0.06  7656  16716  1824   3633   0.314131  0.807595  0.378457   \n",
       "4        0.08  7353  16133  2127   4216   0.313080  0.775633  0.387844   \n",
       "5        0.10  7263  15884  2217   4465   0.313777  0.766139  0.393174   \n",
       "6        0.12  6785  14851  2695   5498   0.313598  0.715717  0.411780   \n",
       "7        0.14  6304  13743  3176   6606   0.314461  0.664979  0.432800   \n",
       "8        0.16  5966  12783  3514   7566   0.318204  0.629325  0.453652   \n",
       "9        0.18  5916  12628  3564   7721   0.319025  0.624051  0.457173   \n",
       "10       0.20  5790  12371  3690   7978   0.318815  0.610759  0.461564   \n",
       "11       0.22  5342  11331  4138   9018   0.320398  0.563502  0.481411   \n",
       "12       0.24  4615   9489  4865  10860   0.327212  0.486814  0.518790   \n",
       "13       0.26  4206   8641  5274  11708   0.327392  0.443671  0.533508   \n",
       "14       0.28  3754   7373  5726  12976   0.337378  0.395992  0.560864   \n",
       "15       0.30  3471   6791  6009  13558   0.338238  0.366139  0.570887   \n",
       "16       0.32  3067   5794  6413  14555   0.346123  0.323523  0.590767   \n",
       "17       0.34  3033   5714  6447  14635   0.346747  0.319937  0.592309   \n",
       "18       0.36  2838   5418  6642  14931   0.343750  0.299367  0.595695   \n",
       "19       0.38  2736   5226  6744  15123   0.343632  0.288608  0.598713   \n",
       "20       0.40  2579   4997  6901  15352   0.340417  0.272046  0.601126   \n",
       "21       0.42  2534   4860  6946  15489   0.342710  0.267300  0.604211   \n",
       "22       0.44  2500   4673  6980  15676   0.348529  0.263713  0.609340   \n",
       "23       0.46  2497   4668  6983  15681   0.348500  0.263397  0.609407   \n",
       "24       0.48  2138   4369  7342  15980   0.328569  0.225527  0.607395   \n",
       "25       0.50  2138   4357  7342  15992   0.329176  0.225527  0.607798   \n",
       "26       0.52  2072   4251  7408  16098   0.327693  0.218565  0.609139   \n",
       "27       0.54  2061   4215  7419  16134   0.328394  0.217405  0.609977   \n",
       "28       0.56  2043   4164  7437  16185   0.329145  0.215506  0.611083   \n",
       "29       0.58  1960   3938  7520  16411   0.332316  0.206751  0.615877   \n",
       "30       0.60  1959   3931  7521  16418   0.332598  0.206646  0.616078   \n",
       "31       0.62  1935   3876  7545  16473   0.332989  0.204114  0.617118   \n",
       "32       0.64  1919   3868  7561  16481   0.331605  0.202426  0.616849   \n",
       "33       0.66  1704   3519  7776  16830   0.326249  0.179747  0.621342   \n",
       "34       0.68  1675   3443  7805  16906   0.327276  0.176688  0.622917   \n",
       "35       0.70  1652   3406  7828  16943   0.326611  0.174262  0.623387   \n",
       "36       0.72  1644   3395  7836  16954   0.326255  0.173418  0.623487   \n",
       "37       0.74  1609   3343  7871  17006   0.324919  0.169726  0.624057   \n",
       "38       0.76  1373   3065  8107  17284   0.309374  0.144831  0.625465   \n",
       "39       0.78  1326   3051  8154  17298   0.302947  0.139873  0.624359   \n",
       "40       0.80  1288   2936  8192  17413   0.304924  0.135865  0.626940   \n",
       "41       0.82  1245   2804  8235  17545   0.307483  0.131329  0.629924   \n",
       "42       0.84  1206   2681  8274  17668   0.310265  0.127215  0.632740   \n",
       "43       0.86  1206   2666  8274  17683   0.311467  0.127215  0.633243   \n",
       "44       0.88  1201   2658  8279  17691   0.311221  0.126688  0.633343   \n",
       "45       0.90  1196   2658  8284  17691   0.310327  0.126160  0.633176   \n",
       "46       0.92  1126   2358  8354  17991   0.323192  0.118776  0.640886   \n",
       "47       0.94  1118   2325  8362  18024   0.324717  0.117932  0.641724   \n",
       "48       0.96  1110   2312  8370  18037   0.324372  0.117089  0.641892   \n",
       "49       0.98  1018   2151  8462  18198   0.321237  0.107384  0.644205   \n",
       "50       1.00  1002   2121  8478  18228   0.320845  0.105696  0.644675   \n",
       "\n",
       "    f1_score       tpr       fpr  \n",
       "0   0.482332  1.000000  1.000000  \n",
       "1   0.460676  0.854219  0.863875  \n",
       "2   0.457039  0.833228  0.844612  \n",
       "3   0.452322  0.807595  0.821465  \n",
       "4   0.446096  0.775633  0.792815  \n",
       "5   0.445214  0.766139  0.780579  \n",
       "6   0.436110  0.715717  0.729815  \n",
       "7   0.426999  0.664979  0.675365  \n",
       "8   0.422686  0.629325  0.628188  \n",
       "9   0.422210  0.624051  0.620571  \n",
       "10  0.418943  0.610759  0.607941  \n",
       "11  0.408519  0.563502  0.556833  \n",
       "12  0.391367  0.486814  0.466313  \n",
       "13  0.376764  0.443671  0.424640  \n",
       "14  0.364342  0.395992  0.362327  \n",
       "15  0.351636  0.366139  0.333726  \n",
       "16  0.334442  0.323523  0.284731  \n",
       "17  0.332803  0.319937  0.280800  \n",
       "18  0.320027  0.299367  0.266254  \n",
       "19  0.313725  0.288608  0.256819  \n",
       "20  0.302416  0.272046  0.245565  \n",
       "21  0.300344  0.267300  0.238832  \n",
       "22  0.300246  0.263713  0.229643  \n",
       "23  0.300030  0.263397  0.229397  \n",
       "24  0.267467  0.225527  0.214703  \n",
       "25  0.267668  0.225527  0.214114  \n",
       "26  0.262229  0.218565  0.208905  \n",
       "27  0.261615  0.217405  0.207135  \n",
       "28  0.260470  0.215506  0.204629  \n",
       "29  0.254910  0.206751  0.193523  \n",
       "30  0.254912  0.206646  0.193179  \n",
       "31  0.253090  0.204114  0.190476  \n",
       "32  0.251392  0.202426  0.190083  \n",
       "33  0.231789  0.179747  0.172932  \n",
       "34  0.229483  0.176688  0.169198  \n",
       "35  0.227266  0.174262  0.167379  \n",
       "36  0.226462  0.173418  0.166839  \n",
       "37  0.222977  0.169726  0.164283  \n",
       "38  0.197298  0.144831  0.150622  \n",
       "39  0.191383  0.139873  0.149934  \n",
       "40  0.187974  0.135865  0.144282  \n",
       "41  0.184049  0.131329  0.137795  \n",
       "42  0.180444  0.127215  0.131751  \n",
       "43  0.180647  0.127215  0.131014  \n",
       "44  0.180073  0.126688  0.130621  \n",
       "45  0.179391  0.126160  0.130621  \n",
       "46  0.173712  0.118776  0.115878  \n",
       "47  0.173025  0.117932  0.114256  \n",
       "48  0.172066  0.117089  0.113617  \n",
       "49  0.160961  0.107384  0.105705  \n",
       "50  0.159010  0.105696  0.104231  "
      ]
     },
     "execution_count": 395,
     "metadata": {},
     "output_type": "execute_result"
    }
   ],
   "source": [
    "# full df_scores\n",
    "df_scores"
   ]
  },
  {
   "cell_type": "code",
   "execution_count": 396,
   "metadata": {
    "colab": {
     "base_uri": "https://localhost:8080/",
     "height": 551
    },
    "id": "sfhNxo4UvPn7",
    "outputId": "6573be98-403e-4530-e332-6938c555a67e"
   },
   "outputs": [
    {
     "data": {
      "text/html": [
       "<div>\n",
       "<style scoped>\n",
       "    .dataframe tbody tr th:only-of-type {\n",
       "        vertical-align: middle;\n",
       "    }\n",
       "\n",
       "    .dataframe tbody tr th {\n",
       "        vertical-align: top;\n",
       "    }\n",
       "\n",
       "    .dataframe thead th {\n",
       "        text-align: right;\n",
       "    }\n",
       "</style>\n",
       "<table border=\"1\" class=\"dataframe\">\n",
       "  <thead>\n",
       "    <tr style=\"text-align: right;\">\n",
       "      <th></th>\n",
       "      <th>threshold</th>\n",
       "      <th>tp</th>\n",
       "      <th>fp</th>\n",
       "      <th>fn</th>\n",
       "      <th>tn</th>\n",
       "      <th>precision</th>\n",
       "      <th>recall</th>\n",
       "      <th>accuracy</th>\n",
       "      <th>f1_score</th>\n",
       "      <th>tpr</th>\n",
       "      <th>fpr</th>\n",
       "    </tr>\n",
       "  </thead>\n",
       "  <tbody>\n",
       "    <tr>\n",
       "      <th>25</th>\n",
       "      <td>0.50</td>\n",
       "      <td>2138</td>\n",
       "      <td>4357</td>\n",
       "      <td>7342</td>\n",
       "      <td>15992</td>\n",
       "      <td>0.329176</td>\n",
       "      <td>0.225527</td>\n",
       "      <td>0.607798</td>\n",
       "      <td>0.267668</td>\n",
       "      <td>0.225527</td>\n",
       "      <td>0.214114</td>\n",
       "    </tr>\n",
       "    <tr>\n",
       "      <th>26</th>\n",
       "      <td>0.52</td>\n",
       "      <td>2072</td>\n",
       "      <td>4251</td>\n",
       "      <td>7408</td>\n",
       "      <td>16098</td>\n",
       "      <td>0.327693</td>\n",
       "      <td>0.218565</td>\n",
       "      <td>0.609139</td>\n",
       "      <td>0.262229</td>\n",
       "      <td>0.218565</td>\n",
       "      <td>0.208905</td>\n",
       "    </tr>\n",
       "    <tr>\n",
       "      <th>27</th>\n",
       "      <td>0.54</td>\n",
       "      <td>2061</td>\n",
       "      <td>4215</td>\n",
       "      <td>7419</td>\n",
       "      <td>16134</td>\n",
       "      <td>0.328394</td>\n",
       "      <td>0.217405</td>\n",
       "      <td>0.609977</td>\n",
       "      <td>0.261615</td>\n",
       "      <td>0.217405</td>\n",
       "      <td>0.207135</td>\n",
       "    </tr>\n",
       "    <tr>\n",
       "      <th>28</th>\n",
       "      <td>0.56</td>\n",
       "      <td>2043</td>\n",
       "      <td>4164</td>\n",
       "      <td>7437</td>\n",
       "      <td>16185</td>\n",
       "      <td>0.329145</td>\n",
       "      <td>0.215506</td>\n",
       "      <td>0.611083</td>\n",
       "      <td>0.260470</td>\n",
       "      <td>0.215506</td>\n",
       "      <td>0.204629</td>\n",
       "    </tr>\n",
       "    <tr>\n",
       "      <th>29</th>\n",
       "      <td>0.58</td>\n",
       "      <td>1960</td>\n",
       "      <td>3938</td>\n",
       "      <td>7520</td>\n",
       "      <td>16411</td>\n",
       "      <td>0.332316</td>\n",
       "      <td>0.206751</td>\n",
       "      <td>0.615877</td>\n",
       "      <td>0.254910</td>\n",
       "      <td>0.206751</td>\n",
       "      <td>0.193523</td>\n",
       "    </tr>\n",
       "    <tr>\n",
       "      <th>30</th>\n",
       "      <td>0.60</td>\n",
       "      <td>1959</td>\n",
       "      <td>3931</td>\n",
       "      <td>7521</td>\n",
       "      <td>16418</td>\n",
       "      <td>0.332598</td>\n",
       "      <td>0.206646</td>\n",
       "      <td>0.616078</td>\n",
       "      <td>0.254912</td>\n",
       "      <td>0.206646</td>\n",
       "      <td>0.193179</td>\n",
       "    </tr>\n",
       "    <tr>\n",
       "      <th>31</th>\n",
       "      <td>0.62</td>\n",
       "      <td>1935</td>\n",
       "      <td>3876</td>\n",
       "      <td>7545</td>\n",
       "      <td>16473</td>\n",
       "      <td>0.332989</td>\n",
       "      <td>0.204114</td>\n",
       "      <td>0.617118</td>\n",
       "      <td>0.253090</td>\n",
       "      <td>0.204114</td>\n",
       "      <td>0.190476</td>\n",
       "    </tr>\n",
       "    <tr>\n",
       "      <th>32</th>\n",
       "      <td>0.64</td>\n",
       "      <td>1919</td>\n",
       "      <td>3868</td>\n",
       "      <td>7561</td>\n",
       "      <td>16481</td>\n",
       "      <td>0.331605</td>\n",
       "      <td>0.202426</td>\n",
       "      <td>0.616849</td>\n",
       "      <td>0.251392</td>\n",
       "      <td>0.202426</td>\n",
       "      <td>0.190083</td>\n",
       "    </tr>\n",
       "    <tr>\n",
       "      <th>33</th>\n",
       "      <td>0.66</td>\n",
       "      <td>1704</td>\n",
       "      <td>3519</td>\n",
       "      <td>7776</td>\n",
       "      <td>16830</td>\n",
       "      <td>0.326249</td>\n",
       "      <td>0.179747</td>\n",
       "      <td>0.621342</td>\n",
       "      <td>0.231789</td>\n",
       "      <td>0.179747</td>\n",
       "      <td>0.172932</td>\n",
       "    </tr>\n",
       "    <tr>\n",
       "      <th>34</th>\n",
       "      <td>0.68</td>\n",
       "      <td>1675</td>\n",
       "      <td>3443</td>\n",
       "      <td>7805</td>\n",
       "      <td>16906</td>\n",
       "      <td>0.327276</td>\n",
       "      <td>0.176688</td>\n",
       "      <td>0.622917</td>\n",
       "      <td>0.229483</td>\n",
       "      <td>0.176688</td>\n",
       "      <td>0.169198</td>\n",
       "    </tr>\n",
       "    <tr>\n",
       "      <th>35</th>\n",
       "      <td>0.70</td>\n",
       "      <td>1652</td>\n",
       "      <td>3406</td>\n",
       "      <td>7828</td>\n",
       "      <td>16943</td>\n",
       "      <td>0.326611</td>\n",
       "      <td>0.174262</td>\n",
       "      <td>0.623387</td>\n",
       "      <td>0.227266</td>\n",
       "      <td>0.174262</td>\n",
       "      <td>0.167379</td>\n",
       "    </tr>\n",
       "    <tr>\n",
       "      <th>36</th>\n",
       "      <td>0.72</td>\n",
       "      <td>1644</td>\n",
       "      <td>3395</td>\n",
       "      <td>7836</td>\n",
       "      <td>16954</td>\n",
       "      <td>0.326255</td>\n",
       "      <td>0.173418</td>\n",
       "      <td>0.623487</td>\n",
       "      <td>0.226462</td>\n",
       "      <td>0.173418</td>\n",
       "      <td>0.166839</td>\n",
       "    </tr>\n",
       "    <tr>\n",
       "      <th>37</th>\n",
       "      <td>0.74</td>\n",
       "      <td>1609</td>\n",
       "      <td>3343</td>\n",
       "      <td>7871</td>\n",
       "      <td>17006</td>\n",
       "      <td>0.324919</td>\n",
       "      <td>0.169726</td>\n",
       "      <td>0.624057</td>\n",
       "      <td>0.222977</td>\n",
       "      <td>0.169726</td>\n",
       "      <td>0.164283</td>\n",
       "    </tr>\n",
       "    <tr>\n",
       "      <th>38</th>\n",
       "      <td>0.76</td>\n",
       "      <td>1373</td>\n",
       "      <td>3065</td>\n",
       "      <td>8107</td>\n",
       "      <td>17284</td>\n",
       "      <td>0.309374</td>\n",
       "      <td>0.144831</td>\n",
       "      <td>0.625465</td>\n",
       "      <td>0.197298</td>\n",
       "      <td>0.144831</td>\n",
       "      <td>0.150622</td>\n",
       "    </tr>\n",
       "    <tr>\n",
       "      <th>39</th>\n",
       "      <td>0.78</td>\n",
       "      <td>1326</td>\n",
       "      <td>3051</td>\n",
       "      <td>8154</td>\n",
       "      <td>17298</td>\n",
       "      <td>0.302947</td>\n",
       "      <td>0.139873</td>\n",
       "      <td>0.624359</td>\n",
       "      <td>0.191383</td>\n",
       "      <td>0.139873</td>\n",
       "      <td>0.149934</td>\n",
       "    </tr>\n",
       "    <tr>\n",
       "      <th>40</th>\n",
       "      <td>0.80</td>\n",
       "      <td>1288</td>\n",
       "      <td>2936</td>\n",
       "      <td>8192</td>\n",
       "      <td>17413</td>\n",
       "      <td>0.304924</td>\n",
       "      <td>0.135865</td>\n",
       "      <td>0.626940</td>\n",
       "      <td>0.187974</td>\n",
       "      <td>0.135865</td>\n",
       "      <td>0.144282</td>\n",
       "    </tr>\n",
       "  </tbody>\n",
       "</table>\n",
       "</div>"
      ],
      "text/plain": [
       "    threshold    tp    fp    fn     tn  precision    recall  accuracy  \\\n",
       "25       0.50  2138  4357  7342  15992   0.329176  0.225527  0.607798   \n",
       "26       0.52  2072  4251  7408  16098   0.327693  0.218565  0.609139   \n",
       "27       0.54  2061  4215  7419  16134   0.328394  0.217405  0.609977   \n",
       "28       0.56  2043  4164  7437  16185   0.329145  0.215506  0.611083   \n",
       "29       0.58  1960  3938  7520  16411   0.332316  0.206751  0.615877   \n",
       "30       0.60  1959  3931  7521  16418   0.332598  0.206646  0.616078   \n",
       "31       0.62  1935  3876  7545  16473   0.332989  0.204114  0.617118   \n",
       "32       0.64  1919  3868  7561  16481   0.331605  0.202426  0.616849   \n",
       "33       0.66  1704  3519  7776  16830   0.326249  0.179747  0.621342   \n",
       "34       0.68  1675  3443  7805  16906   0.327276  0.176688  0.622917   \n",
       "35       0.70  1652  3406  7828  16943   0.326611  0.174262  0.623387   \n",
       "36       0.72  1644  3395  7836  16954   0.326255  0.173418  0.623487   \n",
       "37       0.74  1609  3343  7871  17006   0.324919  0.169726  0.624057   \n",
       "38       0.76  1373  3065  8107  17284   0.309374  0.144831  0.625465   \n",
       "39       0.78  1326  3051  8154  17298   0.302947  0.139873  0.624359   \n",
       "40       0.80  1288  2936  8192  17413   0.304924  0.135865  0.626940   \n",
       "\n",
       "    f1_score       tpr       fpr  \n",
       "25  0.267668  0.225527  0.214114  \n",
       "26  0.262229  0.218565  0.208905  \n",
       "27  0.261615  0.217405  0.207135  \n",
       "28  0.260470  0.215506  0.204629  \n",
       "29  0.254910  0.206751  0.193523  \n",
       "30  0.254912  0.206646  0.193179  \n",
       "31  0.253090  0.204114  0.190476  \n",
       "32  0.251392  0.202426  0.190083  \n",
       "33  0.231789  0.179747  0.172932  \n",
       "34  0.229483  0.176688  0.169198  \n",
       "35  0.227266  0.174262  0.167379  \n",
       "36  0.226462  0.173418  0.166839  \n",
       "37  0.222977  0.169726  0.164283  \n",
       "38  0.197298  0.144831  0.150622  \n",
       "39  0.191383  0.139873  0.149934  \n",
       "40  0.187974  0.135865  0.144282  "
      ]
     },
     "execution_count": 396,
     "metadata": {},
     "output_type": "execute_result"
    }
   ],
   "source": [
    "df_scores[(df_scores.threshold>=0.5) & (df_scores.threshold<=0.8)]"
   ]
  },
  {
   "cell_type": "code",
   "execution_count": 397,
   "metadata": {
    "colab": {
     "base_uri": "https://localhost:8080/",
     "height": 489
    },
    "id": "B2AqOTxvvRV0",
    "outputId": "e9a062b6-6399-4641-c394-0d60e615d3fa"
   },
   "outputs": [
    {
     "data": {
      "text/plain": [
       "<Axes: title={'center': 'Precision vs. Recall for the Best Model (Decision Tree with max_depth=15)'}, xlabel='threshold'>"
      ]
     },
     "execution_count": 397,
     "metadata": {},
     "output_type": "execute_result"
    },
    {
     "data": {
      "image/png": "[encoded data removed]",
      "text/plain": [
       "<Figure size 640x480 with 1 Axes>"
      ]
     },
     "metadata": {},
     "output_type": "display_data"
    }
   ],
   "source": [
    "# Try to find high Precision score points\n",
    "\n",
    "df_scores.plot.line(x='threshold',\n",
    "                    y=['precision','recall', 'f1_score'],\n",
    "                    title = 'Precision vs. Recall for the Best Model (Decision Tree with max_depth=15)')"
   ]
  },
  {
   "cell_type": "markdown",
   "metadata": {
    "id": "D6VPJZNVvguL"
   },
   "source": [
    "## 2.2) [Code Snippet 6] Defining new columns with Predictions in new_df: pred7..pred10\n",
    "* pred7 and pred8 are 2 decision rules for the Decision Tree (best model with max_depth=15)\n",
    "* pred9 and pred10 are 2 decision rules for the Random Forest (second best model)"
   ]
  },
  {
   "cell_type": "code",
   "execution_count": 398,
   "metadata": {
    "id": "dVg7GsUvviGS"
   },
   "outputs": [],
   "source": [
    "# adding Decision Tree predictors (clf_best) to the dataset for 2 new rules: Threshold = 0.66 and 0.78\n",
    "\n",
    "\n",
    "y_pred_all = clf_best.predict_proba(X_all)\n",
    "y_pred_all_class1 = [k[1] for k in y_pred_all] #list of predictions for class \"1\"\n",
    "y_pred_all_class1_array = np.array(y_pred_all_class1) # (Numpy Array) np.array of predictions for class \"1\" , converted from a list\n",
    "\n",
    "# defining a new prediction vector is easy now, as the dimensions will match\n",
    "new_df['proba_pred7'] = y_pred_all_class1_array\n",
    "new_df['pred7_clf_best_rule_66'] = (y_pred_all_class1_array >= 0.66).astype(int)\n",
    "\n",
    "new_df['proba_pred8'] = y_pred_all_class1_array\n",
    "new_df['pred8_clf_best_rule_78'] = (y_pred_all_class1_array >= 0.78).astype(int)"
   ]
  },
  {
   "cell_type": "code",
   "execution_count": 399,
   "metadata": {
    "colab": {
     "base_uri": "https://localhost:8080/",
     "height": 92
    },
    "id": "lAoMQvpOvkXa",
    "outputId": "5b8ccbab-059c-42c8-eede-a92e2e19392b"
   },
   "outputs": [
    {
     "data": {
      "text/html": [
       "<style>#sk-container-id-6 {\n",
       "  /* Definition of color scheme common for light and dark mode */\n",
       "  --sklearn-color-text: black;\n",
       "  --sklearn-color-line: gray;\n",
       "  /* Definition of color scheme for unfitted estimators */\n",
       "  --sklearn-color-unfitted-level-0: #fff5e6;\n",
       "  --sklearn-color-unfitted-level-1: #f6e4d2;\n",
       "  --sklearn-color-unfitted-level-2: #ffe0b3;\n",
       "  --sklearn-color-unfitted-level-3: chocolate;\n",
       "  /* Definition of color scheme for fitted estimators */\n",
       "  --sklearn-color-fitted-level-0: #f0f8ff;\n",
       "  --sklearn-color-fitted-level-1: #d4ebff;\n",
       "  --sklearn-color-fitted-level-2: #b3dbfd;\n",
       "  --sklearn-color-fitted-level-3: cornflowerblue;\n",
       "\n",
       "  /* Specific color for light theme */\n",
       "  --sklearn-color-text-on-default-background: var(--sg-text-color, var(--theme-code-foreground, var(--jp-content-font-color1, black)));\n",
       "  --sklearn-color-background: var(--sg-background-color, var(--theme-background, var(--jp-layout-color0, white)));\n",
       "  --sklearn-color-border-box: var(--sg-text-color, var(--theme-code-foreground, var(--jp-content-font-color1, black)));\n",
       "  --sklearn-color-icon: #696969;\n",
       "\n",
       "  @media (prefers-color-scheme: dark) {\n",
       "    /* Redefinition of color scheme for dark theme */\n",
       "    --sklearn-color-text-on-default-background: var(--sg-text-color, var(--theme-code-foreground, var(--jp-content-font-color1, white)));\n",
       "    --sklearn-color-background: var(--sg-background-color, var(--theme-background, var(--jp-layout-color0, #111)));\n",
       "    --sklearn-color-border-box: var(--sg-text-color, var(--theme-code-foreground, var(--jp-content-font-color1, white)));\n",
       "    --sklearn-color-icon: #878787;\n",
       "  }\n",
       "}\n",
       "\n",
       "#sk-container-id-6 {\n",
       "  color: var(--sklearn-color-text);\n",
       "}\n",
       "\n",
       "#sk-container-id-6 pre {\n",
       "  padding: 0;\n",
       "}\n",
       "\n",
       "#sk-container-id-6 input.sk-hidden--visually {\n",
       "  border: 0;\n",
       "  clip: rect(1px 1px 1px 1px);\n",
       "  clip: rect(1px, 1px, 1px, 1px);\n",
       "  height: 1px;\n",
       "  margin: -1px;\n",
       "  overflow: hidden;\n",
       "  padding: 0;\n",
       "  position: absolute;\n",
       "  width: 1px;\n",
       "}\n",
       "\n",
       "#sk-container-id-6 div.sk-dashed-wrapped {\n",
       "  border: 1px dashed var(--sklearn-color-line);\n",
       "  margin: 0 0.4em 0.5em 0.4em;\n",
       "  box-sizing: border-box;\n",
       "  padding-bottom: 0.4em;\n",
       "  background-color: var(--sklearn-color-background);\n",
       "}\n",
       "\n",
       "#sk-container-id-6 div.sk-container {\n",
       "  /* jupyter's `normalize.less` sets `[hidden] { display: none; }`\n",
       "     but bootstrap.min.css set `[hidden] { display: none !important; }`\n",
       "     so we also need the `!important` here to be able to override the\n",
       "     default hidden behavior on the sphinx rendered scikit-learn.org.\n",
       "     See: https://github.com/scikit-learn/scikit-learn/issues/21755 */\n",
       "  display: inline-block !important;\n",
       "  position: relative;\n",
       "}\n",
       "\n",
       "#sk-container-id-6 div.sk-text-repr-fallback {\n",
       "  display: none;\n",
       "}\n",
       "\n",
       "div.sk-parallel-item,\n",
       "div.sk-serial,\n",
       "div.sk-item {\n",
       "  /* draw centered vertical line to link estimators */\n",
       "  background-image: linear-gradient(var(--sklearn-color-text-on-default-background), var(--sklearn-color-text-on-default-background));\n",
       "  background-size: 2px 100%;\n",
       "  background-repeat: no-repeat;\n",
       "  background-position: center center;\n",
       "}\n",
       "\n",
       "/* Parallel-specific style estimator block */\n",
       "\n",
       "#sk-container-id-6 div.sk-parallel-item::after {\n",
       "  content: \"\";\n",
       "  width: 100%;\n",
       "  border-bottom: 2px solid var(--sklearn-color-text-on-default-background);\n",
       "  flex-grow: 1;\n",
       "}\n",
       "\n",
       "#sk-container-id-6 div.sk-parallel {\n",
       "  display: flex;\n",
       "  align-items: stretch;\n",
       "  justify-content: center;\n",
       "  background-color: var(--sklearn-color-background);\n",
       "  position: relative;\n",
       "}\n",
       "\n",
       "#sk-container-id-6 div.sk-parallel-item {\n",
       "  display: flex;\n",
       "  flex-direction: column;\n",
       "}\n",
       "\n",
       "#sk-container-id-6 div.sk-parallel-item:first-child::after {\n",
       "  align-self: flex-end;\n",
       "  width: 50%;\n",
       "}\n",
       "\n",
       "#sk-container-id-6 div.sk-parallel-item:last-child::after {\n",
       "  align-self: flex-start;\n",
       "  width: 50%;\n",
       "}\n",
       "\n",
       "#sk-container-id-6 div.sk-parallel-item:only-child::after {\n",
       "  width: 0;\n",
       "}\n",
       "\n",
       "/* Serial-specific style estimator block */\n",
       "\n",
       "#sk-container-id-6 div.sk-serial {\n",
       "  display: flex;\n",
       "  flex-direction: column;\n",
       "  align-items: center;\n",
       "  background-color: var(--sklearn-color-background);\n",
       "  padding-right: 1em;\n",
       "  padding-left: 1em;\n",
       "}\n",
       "\n",
       "\n",
       "/* Toggleable style: style used for estimator/Pipeline/ColumnTransformer box that is\n",
       "clickable and can be expanded/collapsed.\n",
       "- Pipeline and ColumnTransformer use this feature and define the default style\n",
       "- Estimators will overwrite some part of the style using the `sk-estimator` class\n",
       "*/\n",
       "\n",
       "/* Pipeline and ColumnTransformer style (default) */\n",
       "\n",
       "#sk-container-id-6 div.sk-toggleable {\n",
       "  /* Default theme specific background. It is overwritten whether we have a\n",
       "  specific estimator or a Pipeline/ColumnTransformer */\n",
       "  background-color: var(--sklearn-color-background);\n",
       "}\n",
       "\n",
       "/* Toggleable label */\n",
       "#sk-container-id-6 label.sk-toggleable__label {\n",
       "  cursor: pointer;\n",
       "  display: block;\n",
       "  width: 100%;\n",
       "  margin-bottom: 0;\n",
       "  padding: 0.5em;\n",
       "  box-sizing: border-box;\n",
       "  text-align: center;\n",
       "}\n",
       "\n",
       "#sk-container-id-6 label.sk-toggleable__label-arrow:before {\n",
       "  /* Arrow on the left of the label */\n",
       "  content: \"▸\";\n",
       "  float: left;\n",
       "  margin-right: 0.25em;\n",
       "  color: var(--sklearn-color-icon);\n",
       "}\n",
       "\n",
       "#sk-container-id-6 label.sk-toggleable__label-arrow:hover:before {\n",
       "  color: var(--sklearn-color-text);\n",
       "}\n",
       "\n",
       "/* Toggleable content - dropdown */\n",
       "\n",
       "#sk-container-id-6 div.sk-toggleable__content {\n",
       "  max-height: 0;\n",
       "  max-width: 0;\n",
       "  overflow: hidden;\n",
       "  text-align: left;\n",
       "  /* unfitted */\n",
       "  background-color: var(--sklearn-color-unfitted-level-0);\n",
       "}\n",
       "\n",
       "#sk-container-id-6 div.sk-toggleable__content.fitted {\n",
       "  /* fitted */\n",
       "  background-color: var(--sklearn-color-fitted-level-0);\n",
       "}\n",
       "\n",
       "#sk-container-id-6 div.sk-toggleable__content pre {\n",
       "  margin: 0.2em;\n",
       "  border-radius: 0.25em;\n",
       "  color: var(--sklearn-color-text);\n",
       "  /* unfitted */\n",
       "  background-color: var(--sklearn-color-unfitted-level-0);\n",
       "}\n",
       "\n",
       "#sk-container-id-6 div.sk-toggleable__content.fitted pre {\n",
       "  /* unfitted */\n",
       "  background-color: var(--sklearn-color-fitted-level-0);\n",
       "}\n",
       "\n",
       "#sk-container-id-6 input.sk-toggleable__control:checked~div.sk-toggleable__content {\n",
       "  /* Expand drop-down */\n",
       "  max-height: 200px;\n",
       "  max-width: 100%;\n",
       "  overflow: auto;\n",
       "}\n",
       "\n",
       "#sk-container-id-6 input.sk-toggleable__control:checked~label.sk-toggleable__label-arrow:before {\n",
       "  content: \"▾\";\n",
       "}\n",
       "\n",
       "/* Pipeline/ColumnTransformer-specific style */\n",
       "\n",
       "#sk-container-id-6 div.sk-label input.sk-toggleable__control:checked~label.sk-toggleable__label {\n",
       "  color: var(--sklearn-color-text);\n",
       "  background-color: var(--sklearn-color-unfitted-level-2);\n",
       "}\n",
       "\n",
       "#sk-container-id-6 div.sk-label.fitted input.sk-toggleable__control:checked~label.sk-toggleable__label {\n",
       "  background-color: var(--sklearn-color-fitted-level-2);\n",
       "}\n",
       "\n",
       "/* Estimator-specific style */\n",
       "\n",
       "/* Colorize estimator box */\n",
       "#sk-container-id-6 div.sk-estimator input.sk-toggleable__control:checked~label.sk-toggleable__label {\n",
       "  /* unfitted */\n",
       "  background-color: var(--sklearn-color-unfitted-level-2);\n",
       "}\n",
       "\n",
       "#sk-container-id-6 div.sk-estimator.fitted input.sk-toggleable__control:checked~label.sk-toggleable__label {\n",
       "  /* fitted */\n",
       "  background-color: var(--sklearn-color-fitted-level-2);\n",
       "}\n",
       "\n",
       "#sk-container-id-6 div.sk-label label.sk-toggleable__label,\n",
       "#sk-container-id-6 div.sk-label label {\n",
       "  /* The background is the default theme color */\n",
       "  color: var(--sklearn-color-text-on-default-background);\n",
       "}\n",
       "\n",
       "/* On hover, darken the color of the background */\n",
       "#sk-container-id-6 div.sk-label:hover label.sk-toggleable__label {\n",
       "  color: var(--sklearn-color-text);\n",
       "  background-color: var(--sklearn-color-unfitted-level-2);\n",
       "}\n",
       "\n",
       "/* Label box, darken color on hover, fitted */\n",
       "#sk-container-id-6 div.sk-label.fitted:hover label.sk-toggleable__label.fitted {\n",
       "  color: var(--sklearn-color-text);\n",
       "  background-color: var(--sklearn-color-fitted-level-2);\n",
       "}\n",
       "\n",
       "/* Estimator label */\n",
       "\n",
       "#sk-container-id-6 div.sk-label label {\n",
       "  font-family: monospace;\n",
       "  font-weight: bold;\n",
       "  display: inline-block;\n",
       "  line-height: 1.2em;\n",
       "}\n",
       "\n",
       "#sk-container-id-6 div.sk-label-container {\n",
       "  text-align: center;\n",
       "}\n",
       "\n",
       "/* Estimator-specific */\n",
       "#sk-container-id-6 div.sk-estimator {\n",
       "  font-family: monospace;\n",
       "  border: 1px dotted var(--sklearn-color-border-box);\n",
       "  border-radius: 0.25em;\n",
       "  box-sizing: border-box;\n",
       "  margin-bottom: 0.5em;\n",
       "  /* unfitted */\n",
       "  background-color: var(--sklearn-color-unfitted-level-0);\n",
       "}\n",
       "\n",
       "#sk-container-id-6 div.sk-estimator.fitted {\n",
       "  /* fitted */\n",
       "  background-color: var(--sklearn-color-fitted-level-0);\n",
       "}\n",
       "\n",
       "/* on hover */\n",
       "#sk-container-id-6 div.sk-estimator:hover {\n",
       "  /* unfitted */\n",
       "  background-color: var(--sklearn-color-unfitted-level-2);\n",
       "}\n",
       "\n",
       "#sk-container-id-6 div.sk-estimator.fitted:hover {\n",
       "  /* fitted */\n",
       "  background-color: var(--sklearn-color-fitted-level-2);\n",
       "}\n",
       "\n",
       "/* Specification for estimator info (e.g. \"i\" and \"?\") */\n",
       "\n",
       "/* Common style for \"i\" and \"?\" */\n",
       "\n",
       ".sk-estimator-doc-link,\n",
       "a:link.sk-estimator-doc-link,\n",
       "a:visited.sk-estimator-doc-link {\n",
       "  float: right;\n",
       "  font-size: smaller;\n",
       "  line-height: 1em;\n",
       "  font-family: monospace;\n",
       "  background-color: var(--sklearn-color-background);\n",
       "  border-radius: 1em;\n",
       "  height: 1em;\n",
       "  width: 1em;\n",
       "  text-decoration: none !important;\n",
       "  margin-left: 1ex;\n",
       "  /* unfitted */\n",
       "  border: var(--sklearn-color-unfitted-level-1) 1pt solid;\n",
       "  color: var(--sklearn-color-unfitted-level-1);\n",
       "}\n",
       "\n",
       ".sk-estimator-doc-link.fitted,\n",
       "a:link.sk-estimator-doc-link.fitted,\n",
       "a:visited.sk-estimator-doc-link.fitted {\n",
       "  /* fitted */\n",
       "  border: var(--sklearn-color-fitted-level-1) 1pt solid;\n",
       "  color: var(--sklearn-color-fitted-level-1);\n",
       "}\n",
       "\n",
       "/* On hover */\n",
       "div.sk-estimator:hover .sk-estimator-doc-link:hover,\n",
       ".sk-estimator-doc-link:hover,\n",
       "div.sk-label-container:hover .sk-estimator-doc-link:hover,\n",
       ".sk-estimator-doc-link:hover {\n",
       "  /* unfitted */\n",
       "  background-color: var(--sklearn-color-unfitted-level-3);\n",
       "  color: var(--sklearn-color-background);\n",
       "  text-decoration: none;\n",
       "}\n",
       "\n",
       "div.sk-estimator.fitted:hover .sk-estimator-doc-link.fitted:hover,\n",
       ".sk-estimator-doc-link.fitted:hover,\n",
       "div.sk-label-container:hover .sk-estimator-doc-link.fitted:hover,\n",
       ".sk-estimator-doc-link.fitted:hover {\n",
       "  /* fitted */\n",
       "  background-color: var(--sklearn-color-fitted-level-3);\n",
       "  color: var(--sklearn-color-background);\n",
       "  text-decoration: none;\n",
       "}\n",
       "\n",
       "/* Span, style for the box shown on hovering the info icon */\n",
       ".sk-estimator-doc-link span {\n",
       "  display: none;\n",
       "  z-index: 9999;\n",
       "  position: relative;\n",
       "  font-weight: normal;\n",
       "  right: .2ex;\n",
       "  padding: .5ex;\n",
       "  margin: .5ex;\n",
       "  width: min-content;\n",
       "  min-width: 20ex;\n",
       "  max-width: 50ex;\n",
       "  color: var(--sklearn-color-text);\n",
       "  box-shadow: 2pt 2pt 4pt #999;\n",
       "  /* unfitted */\n",
       "  background: var(--sklearn-color-unfitted-level-0);\n",
       "  border: .5pt solid var(--sklearn-color-unfitted-level-3);\n",
       "}\n",
       "\n",
       ".sk-estimator-doc-link.fitted span {\n",
       "  /* fitted */\n",
       "  background: var(--sklearn-color-fitted-level-0);\n",
       "  border: var(--sklearn-color-fitted-level-3);\n",
       "}\n",
       "\n",
       ".sk-estimator-doc-link:hover span {\n",
       "  display: block;\n",
       "}\n",
       "\n",
       "/* \"?\"-specific style due to the `<a>` HTML tag */\n",
       "\n",
       "#sk-container-id-6 a.estimator_doc_link {\n",
       "  float: right;\n",
       "  font-size: 1rem;\n",
       "  line-height: 1em;\n",
       "  font-family: monospace;\n",
       "  background-color: var(--sklearn-color-background);\n",
       "  border-radius: 1rem;\n",
       "  height: 1rem;\n",
       "  width: 1rem;\n",
       "  text-decoration: none;\n",
       "  /* unfitted */\n",
       "  color: var(--sklearn-color-unfitted-level-1);\n",
       "  border: var(--sklearn-color-unfitted-level-1) 1pt solid;\n",
       "}\n",
       "\n",
       "#sk-container-id-6 a.estimator_doc_link.fitted {\n",
       "  /* fitted */\n",
       "  border: var(--sklearn-color-fitted-level-1) 1pt solid;\n",
       "  color: var(--sklearn-color-fitted-level-1);\n",
       "}\n",
       "\n",
       "/* On hover */\n",
       "#sk-container-id-6 a.estimator_doc_link:hover {\n",
       "  /* unfitted */\n",
       "  background-color: var(--sklearn-color-unfitted-level-3);\n",
       "  color: var(--sklearn-color-background);\n",
       "  text-decoration: none;\n",
       "}\n",
       "\n",
       "#sk-container-id-6 a.estimator_doc_link.fitted:hover {\n",
       "  /* fitted */\n",
       "  background-color: var(--sklearn-color-fitted-level-3);\n",
       "}\n",
       "</style><div id=\"sk-container-id-6\" class=\"sk-top-container\"><div class=\"sk-text-repr-fallback\"><pre>RandomForestClassifier(max_depth=17, n_estimators=200, n_jobs=-1,\n",
       "                       random_state=42)</pre><b>In a Jupyter environment, please rerun this cell to show the HTML representation or trust the notebook. <br />On GitHub, the HTML representation is unable to render, please try loading this page with nbviewer.org.</b></div><div class=\"sk-container\" hidden><div class=\"sk-item\"><div class=\"sk-estimator fitted sk-toggleable\"><input class=\"sk-toggleable__control sk-hidden--visually\" id=\"sk-estimator-id-6\" type=\"checkbox\" checked><label for=\"sk-estimator-id-6\" class=\"sk-toggleable__label fitted sk-toggleable__label-arrow fitted\">&nbsp;&nbsp;RandomForestClassifier<a class=\"sk-estimator-doc-link fitted\" rel=\"noreferrer\" target=\"_blank\" href=\"https://scikit-learn.org/1.4/modules/generated/sklearn.ensemble.RandomForestClassifier.html\">?<span>Documentation for RandomForestClassifier</span></a><span class=\"sk-estimator-doc-link fitted\">i<span>Fitted</span></span></label><div class=\"sk-toggleable__content fitted\"><pre>RandomForestClassifier(max_depth=17, n_estimators=200, n_jobs=-1,\n",
       "                       random_state=42)</pre></div> </div></div></div></div>"
      ],
      "text/plain": [
       "RandomForestClassifier(max_depth=17, n_estimators=200, n_jobs=-1,\n",
       "                       random_state=42)"
      ]
     },
     "execution_count": 399,
     "metadata": {},
     "output_type": "execute_result"
    }
   ],
   "source": [
    "# adding Random Forest predictors (rf_best)\n",
    "rf_best"
   ]
  },
  {
   "cell_type": "code",
   "execution_count": 400,
   "metadata": {
    "id": "ydpMazLKvl8a"
   },
   "outputs": [],
   "source": [
    "# adding Random Forest predictors (rf_best) to the dataset for 2 new rules: Threshold = 0.66 and 0.78\n",
    "\n",
    "y_pred_all = rf_best.predict_proba(X_all)\n",
    "y_pred_all_class1 = [k[1] for k in y_pred_all] #list of predictions for class \"1\"\n",
    "y_pred_all_class1_array = np.array(y_pred_all_class1) # (Numpy Array) np.array of predictions for class \"1\" , converted from a list\n",
    "\n",
    "# defining a new prediction vector is easy now, as the dimensions will match\n",
    "new_df['proba_pred9'] = y_pred_all_class1_array\n",
    "new_df['pred9_rf_best_rule_55'] = (y_pred_all_class1_array >= 0.55).astype(int)\n",
    "\n",
    "new_df['proba_pred10'] = y_pred_all_class1_array\n",
    "new_df['pred10_rf_best_rule_60'] = (y_pred_all_class1_array >= 0.6).astype(int)\n",
    "\n",
    "# TODO HA4 Q1: define new predictor for thresholds 0.51..0.54, 0.56..0.59"
   ]
  },
  {
   "cell_type": "code",
   "execution_count": 401,
   "metadata": {
    "colab": {
     "base_uri": "https://localhost:8080/"
    },
    "id": "bIHOswKLvtgX",
    "outputId": "59da6791-e316-47cc-a1df-3f6641513a9c"
   },
   "outputs": [
    {
     "data": {
      "text/plain": [
       "['pred0_manual_cci',\n",
       " 'pred1_manual_prev_g1',\n",
       " 'pred2_manual_prev_g1_and_snp',\n",
       " 'pred3_manual_gdp_and_fastd',\n",
       " 'pred4_manual_gdp_and_wti30d',\n",
       " 'pred5_clf_10',\n",
       " 'pred6_clf_best']"
      ]
     },
     "execution_count": 401,
     "metadata": {},
     "output_type": "execute_result"
    }
   ],
   "source": [
    "PREDICTIONS"
   ]
  },
  {
   "cell_type": "code",
   "execution_count": 402,
   "metadata": {
    "colab": {
     "base_uri": "https://localhost:8080/",
     "height": 447
    },
    "id": "El-wNvA-wIES",
    "outputId": "4285bc5f-fb26-4a40-d5f0-dfd6b06170dd"
   },
   "outputs": [
    {
     "data": {
      "text/plain": [
       "<Axes: >"
      ]
     },
     "execution_count": 402,
     "metadata": {},
     "output_type": "execute_result"
    },
    {
     "data": {
      "image/png": "[encoded data removed]",
      "text/plain": [
       "<Figure size 640x480 with 1 Axes>"
      ]
     },
     "metadata": {},
     "output_type": "display_data"
    }
   ],
   "source": [
    "# When did it predict to trade for the \"rare\" prediction pred10? (only 2%)\n",
    "new_df[(new_df.split=='test')&(new_df.pred10_rf_best_rule_60==1)].Date.hist()"
   ]
  },
  {
   "cell_type": "code",
   "execution_count": 403,
   "metadata": {
    "colab": {
     "base_uri": "https://localhost:8080/",
     "height": 461
    },
    "id": "X0L97yBswJyy",
    "outputId": "3350a996-1931-475b-8c30-27e65725829d"
   },
   "outputs": [
    {
     "data": {
      "text/html": [
       "<div>\n",
       "<style scoped>\n",
       "    .dataframe tbody tr th:only-of-type {\n",
       "        vertical-align: middle;\n",
       "    }\n",
       "\n",
       "    .dataframe tbody tr th {\n",
       "        vertical-align: top;\n",
       "    }\n",
       "\n",
       "    .dataframe thead th {\n",
       "        text-align: right;\n",
       "    }\n",
       "</style>\n",
       "<table border=\"1\" class=\"dataframe\">\n",
       "  <thead>\n",
       "    <tr style=\"text-align: right;\">\n",
       "      <th></th>\n",
       "      <th>Open</th>\n",
       "      <th>High</th>\n",
       "      <th>Low</th>\n",
       "      <th>Close</th>\n",
       "      <th>Adj Close_x</th>\n",
       "      <th>Volume</th>\n",
       "      <th>Ticker</th>\n",
       "      <th>Year</th>\n",
       "      <th>Month</th>\n",
       "      <th>Weekday</th>\n",
       "      <th>...</th>\n",
       "      <th>pred6_clf_best</th>\n",
       "      <th>is_correct_pred6</th>\n",
       "      <th>proba_pred7</th>\n",
       "      <th>pred7_clf_best_rule_66</th>\n",
       "      <th>proba_pred8</th>\n",
       "      <th>pred8_clf_best_rule_78</th>\n",
       "      <th>proba_pred9</th>\n",
       "      <th>pred9_rf_best_rule_55</th>\n",
       "      <th>proba_pred10</th>\n",
       "      <th>pred10_rf_best_rule_60</th>\n",
       "    </tr>\n",
       "  </thead>\n",
       "  <tbody>\n",
       "  </tbody>\n",
       "</table>\n",
       "<p>0 rows × 463 columns</p>\n",
       "</div>"
      ],
      "text/plain": [
       "Empty DataFrame\n",
       "Columns: [Open, High, Low, Close, Adj Close_x, Volume, Ticker, Year, Month, Weekday, Date, growth_1d, growth_3d, growth_7d, growth_30d, growth_90d, growth_365d, growth_future_5d, SMA10, SMA20, growing_moving_average, high_minus_low_relative, volatility, is_positive_growth_5d_future, ticker_type, index_x, adx, adxr, apo, aroon_1, aroon_2, aroonosc, bop, cci, cmo, dx, macd, macdsignal, macdhist, macd_ext, macdsignal_ext, macdhist_ext, macd_fix, macdsignal_fix, macdhist_fix, mfi, minus_di, mom, plus_di, dm, ppo, roc, rocp, rocr, rocr100, rsi, slowk, slowd, fastk, fastd, fastk_rsi, fastd_rsi, trix, ultosc, willr, index_y, ad, adosc, obv, atr, natr, ht_dcperiod, ht_dcphase, ht_phasor_inphase, ht_phasor_quadrature, ht_sine_sine, ht_sine_leadsine, ht_trendmod, avgprice, medprice, typprice, wclprice, index, cdl2crows, cdl3blackrows, cdl3inside, cdl3linestrike, cdl3outside, cdl3starsinsouth, cdl3whitesoldiers, cdlabandonedbaby, cdladvancedblock, cdlbelthold, cdlbreakaway, cdlclosingmarubozu, cdlconcealbabyswall, cdlcounterattack, cdldarkcloudcover, cdldoji, cdldojistar, ...]\n",
       "Index: []\n",
       "\n",
       "[0 rows x 463 columns]"
      ]
     },
     "execution_count": 403,
     "metadata": {},
     "output_type": "execute_result"
    }
   ],
   "source": [
    "new_df[(new_df.split=='test')&(new_df.pred10_rf_best_rule_60==1)].sort_values(by='Date')"
   ]
  },
  {
   "cell_type": "code",
   "execution_count": 404,
   "metadata": {
    "id": "zYvdmmoZwNMH"
   },
   "outputs": [],
   "source": [
    "# Pred 10: How many positive prediction per day (out of 33 stocks possible)\n",
    "pred10_daily_positive_count = pd.DataFrame(new_df[(new_df.split=='test')&(new_df.pred10_rf_best_rule_60==1)].groupby('Date')['pred10_rf_best_rule_60'].count())"
   ]
  },
  {
   "cell_type": "code",
   "execution_count": 405,
   "metadata": {
    "id": "L7eXCFrOwQhH"
   },
   "outputs": [],
   "source": [
    "# Pred 9: How many positive prediction per day (out of 33 stocks possible)\n",
    "pred9_daily_positive_count = pd.DataFrame(new_df[(new_df.split=='test')&(new_df.pred9_rf_best_rule_55==1)].groupby('Date')['pred9_rf_best_rule_55'].count())"
   ]
  },
  {
   "cell_type": "code",
   "execution_count": 406,
   "metadata": {
    "colab": {
     "base_uri": "https://localhost:8080/"
    },
    "id": "2c4D26pAwRO_",
    "outputId": "24182939-e641-4ac6-de82-fd9fed83a65e"
   },
   "outputs": [
    {
     "data": {
      "text/plain": [
       "947"
      ]
     },
     "execution_count": 406,
     "metadata": {},
     "output_type": "execute_result"
    }
   ],
   "source": [
    "# Unique trading days on Test (4 years)\n",
    "new_df[(new_df.split=='test')].Date.nunique()"
   ]
  },
  {
   "cell_type": "code",
   "execution_count": 407,
   "metadata": {
    "colab": {
     "base_uri": "https://localhost:8080/",
     "height": 455
    },
    "id": "eeHr2gizwT0-",
    "outputId": "855884df-ac6c-46ee-91e2-ac10d207383c"
   },
   "outputs": [
    {
     "data": {
      "text/html": [
       "<div>\n",
       "<style scoped>\n",
       "    .dataframe tbody tr th:only-of-type {\n",
       "        vertical-align: middle;\n",
       "    }\n",
       "\n",
       "    .dataframe tbody tr th {\n",
       "        vertical-align: top;\n",
       "    }\n",
       "\n",
       "    .dataframe thead th {\n",
       "        text-align: right;\n",
       "    }\n",
       "</style>\n",
       "<table border=\"1\" class=\"dataframe\">\n",
       "  <thead>\n",
       "    <tr style=\"text-align: right;\">\n",
       "      <th></th>\n",
       "      <th>pred10_rf_best_rule_60</th>\n",
       "    </tr>\n",
       "    <tr>\n",
       "      <th>Date</th>\n",
       "      <th></th>\n",
       "    </tr>\n",
       "  </thead>\n",
       "  <tbody>\n",
       "  </tbody>\n",
       "</table>\n",
       "</div>"
      ],
      "text/plain": [
       "Empty DataFrame\n",
       "Columns: [pred10_rf_best_rule_60]\n",
       "Index: []"
      ]
     },
     "execution_count": 407,
     "metadata": {},
     "output_type": "execute_result"
    }
   ],
   "source": [
    "pred10_daily_positive_count"
   ]
  },
  {
   "cell_type": "code",
   "execution_count": 408,
   "metadata": {
    "colab": {
     "base_uri": "https://localhost:8080/",
     "height": 469
    },
    "id": "iAz6x5yZwWf3",
    "outputId": "13aeb0da-cf69-4271-d5b5-8204185ccef7"
   },
   "outputs": [
    {
     "data": {
      "text/plain": [
       "array([[<Axes: title={'center': 'pred10_rf_best_rule_60'}>]], dtype=object)"
      ]
     },
     "execution_count": 408,
     "metadata": {},
     "output_type": "execute_result"
    },
    {
     "data": {
      "image/png": "[encoded data removed]",
      "text/plain": [
       "<Figure size 640x480 with 1 Axes>"
      ]
     },
     "metadata": {},
     "output_type": "display_data"
    }
   ],
   "source": [
    "pred10_daily_positive_count.hist()"
   ]
  },
  {
   "cell_type": "code",
   "execution_count": 409,
   "metadata": {
    "colab": {
     "base_uri": "https://localhost:8080/",
     "height": 81
    },
    "id": "U0bSUS-YwXlv",
    "outputId": "eede1fcf-6fca-40e7-adb2-c55fb6f891e6"
   },
   "outputs": [
    {
     "data": {
      "text/html": [
       "<div>\n",
       "<style scoped>\n",
       "    .dataframe tbody tr th:only-of-type {\n",
       "        vertical-align: middle;\n",
       "    }\n",
       "\n",
       "    .dataframe tbody tr th {\n",
       "        vertical-align: top;\n",
       "    }\n",
       "\n",
       "    .dataframe thead th {\n",
       "        text-align: right;\n",
       "    }\n",
       "</style>\n",
       "<table border=\"1\" class=\"dataframe\">\n",
       "  <thead>\n",
       "    <tr style=\"text-align: right;\">\n",
       "      <th></th>\n",
       "      <th>count</th>\n",
       "      <th>mean</th>\n",
       "      <th>std</th>\n",
       "      <th>min</th>\n",
       "      <th>25%</th>\n",
       "      <th>50%</th>\n",
       "      <th>75%</th>\n",
       "      <th>max</th>\n",
       "    </tr>\n",
       "  </thead>\n",
       "  <tbody>\n",
       "    <tr>\n",
       "      <th>pred10_rf_best_rule_60</th>\n",
       "      <td>0.0</td>\n",
       "      <td>NaN</td>\n",
       "      <td>NaN</td>\n",
       "      <td>NaN</td>\n",
       "      <td>NaN</td>\n",
       "      <td>NaN</td>\n",
       "      <td>NaN</td>\n",
       "      <td>NaN</td>\n",
       "    </tr>\n",
       "  </tbody>\n",
       "</table>\n",
       "</div>"
      ],
      "text/plain": [
       "                        count  mean  std  min  25%  50%  75%  max\n",
       "pred10_rf_best_rule_60    0.0   NaN  NaN  NaN  NaN  NaN  NaN  NaN"
      ]
     },
     "execution_count": 409,
     "metadata": {},
     "output_type": "execute_result"
    }
   ],
   "source": [
    "# 75% cases we have not more than 6 bets of $100\n",
    "pred10_daily_positive_count.describe().T"
   ]
  },
  {
   "cell_type": "code",
   "execution_count": 410,
   "metadata": {
    "colab": {
     "base_uri": "https://localhost:8080/",
     "height": 469
    },
    "id": "QHhGAzWVwY1g",
    "outputId": "c16caa25-7f76-4265-ab89-9895c88fa85b"
   },
   "outputs": [
    {
     "data": {
      "text/plain": [
       "array([[<Axes: title={'center': 'pred9_rf_best_rule_55'}>]], dtype=object)"
      ]
     },
     "execution_count": 410,
     "metadata": {},
     "output_type": "execute_result"
    },
    {
     "data": {
      "image/png": "[encoded data removed]",
      "text/plain": [
       "<Figure size 640x480 with 1 Axes>"
      ]
     },
     "metadata": {},
     "output_type": "display_data"
    }
   ],
   "source": [
    "pred9_daily_positive_count.hist()"
   ]
  },
  {
   "cell_type": "code",
   "execution_count": 411,
   "metadata": {
    "colab": {
     "base_uri": "https://localhost:8080/",
     "height": 81
    },
    "id": "FPetBORKwag2",
    "outputId": "75498166-2ed2-496f-a996-d2898d0830a0"
   },
   "outputs": [
    {
     "data": {
      "text/html": [
       "<div>\n",
       "<style scoped>\n",
       "    .dataframe tbody tr th:only-of-type {\n",
       "        vertical-align: middle;\n",
       "    }\n",
       "\n",
       "    .dataframe tbody tr th {\n",
       "        vertical-align: top;\n",
       "    }\n",
       "\n",
       "    .dataframe thead th {\n",
       "        text-align: right;\n",
       "    }\n",
       "</style>\n",
       "<table border=\"1\" class=\"dataframe\">\n",
       "  <thead>\n",
       "    <tr style=\"text-align: right;\">\n",
       "      <th></th>\n",
       "      <th>count</th>\n",
       "      <th>mean</th>\n",
       "      <th>std</th>\n",
       "      <th>min</th>\n",
       "      <th>25%</th>\n",
       "      <th>50%</th>\n",
       "      <th>75%</th>\n",
       "      <th>max</th>\n",
       "    </tr>\n",
       "  </thead>\n",
       "  <tbody>\n",
       "    <tr>\n",
       "      <th>pred9_rf_best_rule_55</th>\n",
       "      <td>3.0</td>\n",
       "      <td>1.0</td>\n",
       "      <td>0.0</td>\n",
       "      <td>1.0</td>\n",
       "      <td>1.0</td>\n",
       "      <td>1.0</td>\n",
       "      <td>1.0</td>\n",
       "      <td>1.0</td>\n",
       "    </tr>\n",
       "  </tbody>\n",
       "</table>\n",
       "</div>"
      ],
      "text/plain": [
       "                       count  mean  std  min  25%  50%  75%  max\n",
       "pred9_rf_best_rule_55    3.0   1.0  0.0  1.0  1.0  1.0  1.0  1.0"
      ]
     },
     "execution_count": 411,
     "metadata": {},
     "output_type": "execute_result"
    }
   ],
   "source": [
    "pred9_daily_positive_count.describe().T"
   ]
  },
  {
   "cell_type": "markdown",
   "metadata": {
    "id": "TnGtBxbywdYi"
   },
   "source": [
    "## 2.3) Agg. stats on ALL predictions"
   ]
  },
  {
   "cell_type": "code",
   "execution_count": 412,
   "metadata": {
    "colab": {
     "base_uri": "https://localhost:8080/"
    },
    "id": "YDToGIp9wfcI",
    "outputId": "c5f15d09-3a2f-4295-d06e-e3990e5c366b"
   },
   "outputs": [
    {
     "name": "stdout",
     "output_type": "stream",
     "text": [
      "Prediction columns founded: ['pred0_manual_cci', 'pred1_manual_prev_g1', 'pred2_manual_prev_g1_and_snp', 'pred3_manual_gdp_and_fastd', 'pred4_manual_gdp_and_wti30d', 'pred5_clf_10', 'pred6_clf_best', 'pred7_clf_best_rule_66', 'pred8_clf_best_rule_78', 'pred9_rf_best_rule_55', 'pred10_rf_best_rule_60']\n",
      "Created columns is_correct: ['is_correct_pred0', 'is_correct_pred1', 'is_correct_pred2', 'is_correct_pred3', 'is_correct_pred4', 'is_correct_pred5', 'is_correct_pred6', 'is_correct_pred7', 'is_correct_pred8', 'is_correct_pred9', 'is_correct_pred10']\n",
      "Precision on TEST set for each prediction:\n",
      "Prediction column:pred0_manual_cci , is_correct_column: is_correct_pred0\n",
      "is_correct_pred0\n",
      "0    565\n",
      "1    234\n",
      "Name: count, dtype: int64\n",
      "is_correct_pred0\n",
      "0    0.707134\n",
      "1    0.292866\n",
      "Name: count, dtype: float64\n",
      "---------\n",
      "Prediction column:pred1_manual_prev_g1 , is_correct_column: is_correct_pred1\n",
      "is_correct_pred1\n",
      "0    10751\n",
      "1     4850\n",
      "Name: count, dtype: int64\n",
      "is_correct_pred1\n",
      "0    0.689122\n",
      "1    0.310878\n",
      "Name: count, dtype: float64\n",
      "---------\n",
      "Prediction column:pred2_manual_prev_g1_and_snp , is_correct_column: is_correct_pred2\n",
      "is_correct_pred2\n",
      "0    7248\n",
      "1    3207\n",
      "Name: count, dtype: int64\n",
      "is_correct_pred2\n",
      "0    0.693257\n",
      "1    0.306743\n",
      "Name: count, dtype: float64\n",
      "---------\n",
      "Prediction column:pred3_manual_gdp_and_fastd , is_correct_column: is_correct_pred3\n",
      "is_correct_pred3\n",
      "0    20343\n",
      "1     9479\n",
      "Name: count, dtype: int64\n",
      "is_correct_pred3\n",
      "0    0.682147\n",
      "1    0.317853\n",
      "Name: count, dtype: float64\n",
      "---------\n",
      "Prediction column:pred4_manual_gdp_and_wti30d , is_correct_column: is_correct_pred4\n",
      "Series([], Name: count, dtype: int64)\n",
      "Series([], Name: count, dtype: float64)\n",
      "---------\n",
      "Prediction column:pred5_clf_10 , is_correct_column: is_correct_pred5\n",
      "is_correct_pred5\n",
      "0    2229\n",
      "1    1114\n",
      "Name: count, dtype: int64\n",
      "is_correct_pred5\n",
      "0    0.666766\n",
      "1    0.333234\n",
      "Name: count, dtype: float64\n",
      "---------\n",
      "Prediction column:pred6_clf_best , is_correct_column: is_correct_pred6\n",
      "is_correct_pred6\n",
      "0    4260\n",
      "1    2083\n",
      "Name: count, dtype: int64\n",
      "is_correct_pred6\n",
      "0    0.671606\n",
      "1    0.328394\n",
      "Name: count, dtype: float64\n",
      "---------\n",
      "Prediction column:pred7_clf_best_rule_66 , is_correct_column: is_correct_pred7\n",
      "is_correct_pred7\n",
      "0    3519\n",
      "1    1704\n",
      "Name: count, dtype: int64\n",
      "is_correct_pred7\n",
      "0    0.673751\n",
      "1    0.326249\n",
      "Name: count, dtype: float64\n",
      "---------\n",
      "Prediction column:pred8_clf_best_rule_78 , is_correct_column: is_correct_pred8\n",
      "is_correct_pred8\n",
      "0    3051\n",
      "1    1326\n",
      "Name: count, dtype: int64\n",
      "is_correct_pred8\n",
      "0    0.697053\n",
      "1    0.302947\n",
      "Name: count, dtype: float64\n",
      "---------\n",
      "Prediction column:pred9_rf_best_rule_55 , is_correct_column: is_correct_pred9\n",
      "is_correct_pred9\n",
      "0    2\n",
      "1    1\n",
      "Name: count, dtype: int64\n",
      "is_correct_pred9\n",
      "0    0.666667\n",
      "1    0.333333\n",
      "Name: count, dtype: float64\n",
      "---------\n",
      "Prediction column:pred10_rf_best_rule_60 , is_correct_column: is_correct_pred10\n",
      "Series([], Name: count, dtype: int64)\n",
      "Series([], Name: count, dtype: float64)\n",
      "---------\n"
     ]
    }
   ],
   "source": [
    "# let's review the Predictions:\n",
    "PREDICTIONS, IS_CORRECT = get_predictions_correctness(new_df, to_predict=to_predict)\n"
   ]
  },
  {
   "cell_type": "code",
   "execution_count": 413,
   "metadata": {
    "colab": {
     "base_uri": "https://localhost:8080/"
    },
    "id": "LRGWY8M6wmHG",
    "outputId": "b798abbb-00b5-4992-9a5d-ac95dc7f5a95"
   },
   "outputs": [
    {
     "name": "stdout",
     "output_type": "stream",
     "text": [
      "10\n",
      "10\n"
     ]
    }
   ],
   "source": [
    "# Extract number from the prediction column\n",
    "\n",
    "# Example string\n",
    "example_string = \"pred10_rf_best_rule_60\"\n",
    "\n",
    "# Split the string by '_'\n",
    "parts = example_string.split('_')\n",
    "\n",
    "# Extract the part with 'pred' and remove the 'pred' prefix\n",
    "pred_number = parts[0].replace('pred', '')\n",
    "\n",
    "# Print the result\n",
    "print(pred_number)\n",
    "\n",
    "# Print in one line\n",
    "print(int(example_string.split('_')[0].replace('pred', '')))\n"
   ]
  },
  {
   "cell_type": "code",
   "execution_count": 414,
   "metadata": {
    "colab": {
     "base_uri": "https://localhost:8080/"
    },
    "id": "dmEs3BPOwr9U",
    "outputId": "69bfa627-1391-4815-c1b5-1f6278095d93"
   },
   "outputs": [
    {
     "data": {
      "text/plain": [
       "['pred0_manual_cci',\n",
       " 'pred1_manual_prev_g1',\n",
       " 'pred2_manual_prev_g1_and_snp',\n",
       " 'pred3_manual_gdp_and_fastd',\n",
       " 'pred4_manual_gdp_and_wti30d',\n",
       " 'pred5_clf_10',\n",
       " 'pred6_clf_best',\n",
       " 'pred7_clf_best_rule_66',\n",
       " 'pred8_clf_best_rule_78',\n",
       " 'pred9_rf_best_rule_55',\n",
       " 'pred10_rf_best_rule_60']"
      ]
     },
     "execution_count": 414,
     "metadata": {},
     "output_type": "execute_result"
    }
   ],
   "source": [
    "# all predictions\n",
    "PREDICTIONS"
   ]
  },
  {
   "cell_type": "code",
   "execution_count": 415,
   "metadata": {
    "colab": {
     "base_uri": "https://localhost:8080/"
    },
    "id": "5i_COKBdwtG1",
    "outputId": "8c7f6ff0-a167-4bd8-bfdb-aaa4b76e9c6b"
   },
   "outputs": [
    {
     "data": {
      "text/plain": [
       "['pred5_clf_10',\n",
       " 'pred6_clf_best',\n",
       " 'pred7_clf_best_rule_66',\n",
       " 'pred8_clf_best_rule_78',\n",
       " 'pred9_rf_best_rule_55',\n",
       " 'pred10_rf_best_rule_60']"
      ]
     },
     "execution_count": 415,
     "metadata": {},
     "output_type": "execute_result"
    }
   ],
   "source": [
    "# all predictions on MODELS (not-manual predictions)\n",
    "PREDICTIONS_ON_MODELS = [p for p in PREDICTIONS if int(p.split('_')[0].replace('pred', ''))>=5]\n",
    "PREDICTIONS_ON_MODELS"
   ]
  },
  {
   "cell_type": "code",
   "execution_count": 416,
   "metadata": {
    "colab": {
     "base_uri": "https://localhost:8080/"
    },
    "id": "Tlh5ID5wwuWF",
    "outputId": "e402aa6b-dd69-4a8a-e2fb-f521fba2fe7d"
   },
   "outputs": [
    {
     "data": {
      "text/plain": [
       "['is_correct_pred5',\n",
       " 'is_correct_pred6',\n",
       " 'is_correct_pred7',\n",
       " 'is_correct_pred8',\n",
       " 'is_correct_pred9',\n",
       " 'is_correct_pred10']"
      ]
     },
     "execution_count": 416,
     "metadata": {},
     "output_type": "execute_result"
    }
   ],
   "source": [
    "# all predictions on Models - correctness\n",
    "IS_CORRECT_ON_MODELS = [p for p in IS_CORRECT if int(p.replace('is_correct_pred', ''))>=5]\n",
    "IS_CORRECT_ON_MODELS"
   ]
  },
  {
   "cell_type": "code",
   "execution_count": 417,
   "metadata": {
    "colab": {
     "base_uri": "https://localhost:8080/",
     "height": 614
    },
    "id": "zWBef7FWwvTz",
    "outputId": "a69b72b4-74b8-4d53-f76c-60b065786f66"
   },
   "outputs": [
    {
     "data": {
      "text/html": [
       "<div>\n",
       "<style scoped>\n",
       "    .dataframe tbody tr th:only-of-type {\n",
       "        vertical-align: middle;\n",
       "    }\n",
       "\n",
       "    .dataframe tbody tr th {\n",
       "        vertical-align: top;\n",
       "    }\n",
       "\n",
       "    .dataframe thead th {\n",
       "        text-align: right;\n",
       "    }\n",
       "</style>\n",
       "<table border=\"1\" class=\"dataframe\">\n",
       "  <thead>\n",
       "    <tr style=\"text-align: right;\">\n",
       "      <th></th>\n",
       "      <th>split</th>\n",
       "      <th>test</th>\n",
       "      <th>train</th>\n",
       "      <th>validation</th>\n",
       "    </tr>\n",
       "  </thead>\n",
       "  <tbody>\n",
       "    <tr>\n",
       "      <th rowspan=\"3\" valign=\"top\">pred5_clf_10</th>\n",
       "      <th>count</th>\n",
       "      <td>29829.000000</td>\n",
       "      <td>123458.000000</td>\n",
       "      <td>29388.000000</td>\n",
       "    </tr>\n",
       "    <tr>\n",
       "      <th>sum</th>\n",
       "      <td>3343.000000</td>\n",
       "      <td>11536.000000</td>\n",
       "      <td>1682.000000</td>\n",
       "    </tr>\n",
       "    <tr>\n",
       "      <th>mean</th>\n",
       "      <td>0.112072</td>\n",
       "      <td>0.093441</td>\n",
       "      <td>0.057234</td>\n",
       "    </tr>\n",
       "    <tr>\n",
       "      <th rowspan=\"3\" valign=\"top\">pred6_clf_best</th>\n",
       "      <th>count</th>\n",
       "      <td>29829.000000</td>\n",
       "      <td>123458.000000</td>\n",
       "      <td>29388.000000</td>\n",
       "    </tr>\n",
       "    <tr>\n",
       "      <th>sum</th>\n",
       "      <td>6343.000000</td>\n",
       "      <td>23092.000000</td>\n",
       "      <td>4080.000000</td>\n",
       "    </tr>\n",
       "    <tr>\n",
       "      <th>mean</th>\n",
       "      <td>0.212645</td>\n",
       "      <td>0.187043</td>\n",
       "      <td>0.138832</td>\n",
       "    </tr>\n",
       "    <tr>\n",
       "      <th rowspan=\"3\" valign=\"top\">pred7_clf_best_rule_66</th>\n",
       "      <th>count</th>\n",
       "      <td>29829.000000</td>\n",
       "      <td>123458.000000</td>\n",
       "      <td>29388.000000</td>\n",
       "    </tr>\n",
       "    <tr>\n",
       "      <th>sum</th>\n",
       "      <td>5223.000000</td>\n",
       "      <td>18804.000000</td>\n",
       "      <td>3332.000000</td>\n",
       "    </tr>\n",
       "    <tr>\n",
       "      <th>mean</th>\n",
       "      <td>0.175098</td>\n",
       "      <td>0.152311</td>\n",
       "      <td>0.113380</td>\n",
       "    </tr>\n",
       "    <tr>\n",
       "      <th rowspan=\"3\" valign=\"top\">pred8_clf_best_rule_78</th>\n",
       "      <th>count</th>\n",
       "      <td>29829.000000</td>\n",
       "      <td>123458.000000</td>\n",
       "      <td>29388.000000</td>\n",
       "    </tr>\n",
       "    <tr>\n",
       "      <th>sum</th>\n",
       "      <td>4377.000000</td>\n",
       "      <td>14874.000000</td>\n",
       "      <td>2911.000000</td>\n",
       "    </tr>\n",
       "    <tr>\n",
       "      <th>mean</th>\n",
       "      <td>0.146736</td>\n",
       "      <td>0.120478</td>\n",
       "      <td>0.099054</td>\n",
       "    </tr>\n",
       "    <tr>\n",
       "      <th rowspan=\"3\" valign=\"top\">pred9_rf_best_rule_55</th>\n",
       "      <th>count</th>\n",
       "      <td>29829.000000</td>\n",
       "      <td>123458.000000</td>\n",
       "      <td>29388.000000</td>\n",
       "    </tr>\n",
       "    <tr>\n",
       "      <th>sum</th>\n",
       "      <td>3.000000</td>\n",
       "      <td>10907.000000</td>\n",
       "      <td>1862.000000</td>\n",
       "    </tr>\n",
       "    <tr>\n",
       "      <th>mean</th>\n",
       "      <td>0.000101</td>\n",
       "      <td>0.088346</td>\n",
       "      <td>0.063359</td>\n",
       "    </tr>\n",
       "    <tr>\n",
       "      <th rowspan=\"3\" valign=\"top\">pred10_rf_best_rule_60</th>\n",
       "      <th>count</th>\n",
       "      <td>29829.000000</td>\n",
       "      <td>123458.000000</td>\n",
       "      <td>29388.000000</td>\n",
       "    </tr>\n",
       "    <tr>\n",
       "      <th>sum</th>\n",
       "      <td>0.000000</td>\n",
       "      <td>7136.000000</td>\n",
       "      <td>1313.000000</td>\n",
       "    </tr>\n",
       "    <tr>\n",
       "      <th>mean</th>\n",
       "      <td>0.000000</td>\n",
       "      <td>0.057801</td>\n",
       "      <td>0.044678</td>\n",
       "    </tr>\n",
       "  </tbody>\n",
       "</table>\n",
       "</div>"
      ],
      "text/plain": [
       "split                                 test          train    validation\n",
       "pred5_clf_10           count  29829.000000  123458.000000  29388.000000\n",
       "                       sum     3343.000000   11536.000000   1682.000000\n",
       "                       mean       0.112072       0.093441      0.057234\n",
       "pred6_clf_best         count  29829.000000  123458.000000  29388.000000\n",
       "                       sum     6343.000000   23092.000000   4080.000000\n",
       "                       mean       0.212645       0.187043      0.138832\n",
       "pred7_clf_best_rule_66 count  29829.000000  123458.000000  29388.000000\n",
       "                       sum     5223.000000   18804.000000   3332.000000\n",
       "                       mean       0.175098       0.152311      0.113380\n",
       "pred8_clf_best_rule_78 count  29829.000000  123458.000000  29388.000000\n",
       "                       sum     4377.000000   14874.000000   2911.000000\n",
       "                       mean       0.146736       0.120478      0.099054\n",
       "pred9_rf_best_rule_55  count  29829.000000  123458.000000  29388.000000\n",
       "                       sum        3.000000   10907.000000   1862.000000\n",
       "                       mean       0.000101       0.088346      0.063359\n",
       "pred10_rf_best_rule_60 count  29829.000000  123458.000000  29388.000000\n",
       "                       sum        0.000000    7136.000000   1313.000000\n",
       "                       mean       0.000000       0.057801      0.044678"
      ]
     },
     "execution_count": 417,
     "metadata": {},
     "output_type": "execute_result"
    }
   ],
   "source": [
    "# predictions on models\n",
    "# pred10_rf_best_rule_60: ONLY 2% of TEST cases predicted with high confidence of growth\n",
    "new_df.groupby('split')[PREDICTIONS_ON_MODELS].agg(['count','sum','mean']).T"
   ]
  },
  {
   "cell_type": "code",
   "execution_count": 418,
   "metadata": {
    "colab": {
     "base_uri": "https://localhost:8080/",
     "height": 1000
    },
    "id": "UcMRarZNwwoc",
    "outputId": "1bde90a2-8ee4-4a86-937a-074c298193d6"
   },
   "outputs": [
    {
     "data": {
      "text/html": [
       "<div>\n",
       "<style scoped>\n",
       "    .dataframe tbody tr th:only-of-type {\n",
       "        vertical-align: middle;\n",
       "    }\n",
       "\n",
       "    .dataframe tbody tr th {\n",
       "        vertical-align: top;\n",
       "    }\n",
       "\n",
       "    .dataframe thead th {\n",
       "        text-align: right;\n",
       "    }\n",
       "</style>\n",
       "<table border=\"1\" class=\"dataframe\">\n",
       "  <thead>\n",
       "    <tr style=\"text-align: right;\">\n",
       "      <th></th>\n",
       "      <th>split</th>\n",
       "      <th>test</th>\n",
       "      <th>train</th>\n",
       "      <th>validation</th>\n",
       "    </tr>\n",
       "  </thead>\n",
       "  <tbody>\n",
       "    <tr>\n",
       "      <th rowspan=\"3\" valign=\"top\">pred0_manual_cci</th>\n",
       "      <th>count</th>\n",
       "      <td>29829.000000</td>\n",
       "      <td>123458.000000</td>\n",
       "      <td>29388.000000</td>\n",
       "    </tr>\n",
       "    <tr>\n",
       "      <th>sum</th>\n",
       "      <td>799.000000</td>\n",
       "      <td>3162.000000</td>\n",
       "      <td>875.000000</td>\n",
       "    </tr>\n",
       "    <tr>\n",
       "      <th>mean</th>\n",
       "      <td>0.026786</td>\n",
       "      <td>0.025612</td>\n",
       "      <td>0.029774</td>\n",
       "    </tr>\n",
       "    <tr>\n",
       "      <th rowspan=\"3\" valign=\"top\">pred1_manual_prev_g1</th>\n",
       "      <th>count</th>\n",
       "      <td>29829.000000</td>\n",
       "      <td>123458.000000</td>\n",
       "      <td>29388.000000</td>\n",
       "    </tr>\n",
       "    <tr>\n",
       "      <th>sum</th>\n",
       "      <td>15601.000000</td>\n",
       "      <td>62117.000000</td>\n",
       "      <td>15585.000000</td>\n",
       "    </tr>\n",
       "    <tr>\n",
       "      <th>mean</th>\n",
       "      <td>0.523015</td>\n",
       "      <td>0.503143</td>\n",
       "      <td>0.530318</td>\n",
       "    </tr>\n",
       "    <tr>\n",
       "      <th rowspan=\"3\" valign=\"top\">pred2_manual_prev_g1_and_snp</th>\n",
       "      <th>count</th>\n",
       "      <td>29829.000000</td>\n",
       "      <td>123458.000000</td>\n",
       "      <td>29388.000000</td>\n",
       "    </tr>\n",
       "    <tr>\n",
       "      <th>sum</th>\n",
       "      <td>10455.000000</td>\n",
       "      <td>41609.000000</td>\n",
       "      <td>10902.000000</td>\n",
       "    </tr>\n",
       "    <tr>\n",
       "      <th>mean</th>\n",
       "      <td>0.350498</td>\n",
       "      <td>0.337030</td>\n",
       "      <td>0.370968</td>\n",
       "    </tr>\n",
       "    <tr>\n",
       "      <th rowspan=\"3\" valign=\"top\">pred3_manual_gdp_and_fastd</th>\n",
       "      <th>count</th>\n",
       "      <td>29829.000000</td>\n",
       "      <td>123458.000000</td>\n",
       "      <td>29388.000000</td>\n",
       "    </tr>\n",
       "    <tr>\n",
       "      <th>sum</th>\n",
       "      <td>29822.000000</td>\n",
       "      <td>107032.000000</td>\n",
       "      <td>29388.000000</td>\n",
       "    </tr>\n",
       "    <tr>\n",
       "      <th>mean</th>\n",
       "      <td>0.999765</td>\n",
       "      <td>0.866951</td>\n",
       "      <td>1.000000</td>\n",
       "    </tr>\n",
       "    <tr>\n",
       "      <th rowspan=\"3\" valign=\"top\">pred4_manual_gdp_and_wti30d</th>\n",
       "      <th>count</th>\n",
       "      <td>29829.000000</td>\n",
       "      <td>123458.000000</td>\n",
       "      <td>29388.000000</td>\n",
       "    </tr>\n",
       "    <tr>\n",
       "      <th>sum</th>\n",
       "      <td>0.000000</td>\n",
       "      <td>5673.000000</td>\n",
       "      <td>0.000000</td>\n",
       "    </tr>\n",
       "    <tr>\n",
       "      <th>mean</th>\n",
       "      <td>0.000000</td>\n",
       "      <td>0.045951</td>\n",
       "      <td>0.000000</td>\n",
       "    </tr>\n",
       "    <tr>\n",
       "      <th rowspan=\"3\" valign=\"top\">pred5_clf_10</th>\n",
       "      <th>count</th>\n",
       "      <td>29829.000000</td>\n",
       "      <td>123458.000000</td>\n",
       "      <td>29388.000000</td>\n",
       "    </tr>\n",
       "    <tr>\n",
       "      <th>sum</th>\n",
       "      <td>3343.000000</td>\n",
       "      <td>11536.000000</td>\n",
       "      <td>1682.000000</td>\n",
       "    </tr>\n",
       "    <tr>\n",
       "      <th>mean</th>\n",
       "      <td>0.112072</td>\n",
       "      <td>0.093441</td>\n",
       "      <td>0.057234</td>\n",
       "    </tr>\n",
       "    <tr>\n",
       "      <th rowspan=\"3\" valign=\"top\">pred6_clf_best</th>\n",
       "      <th>count</th>\n",
       "      <td>29829.000000</td>\n",
       "      <td>123458.000000</td>\n",
       "      <td>29388.000000</td>\n",
       "    </tr>\n",
       "    <tr>\n",
       "      <th>sum</th>\n",
       "      <td>6343.000000</td>\n",
       "      <td>23092.000000</td>\n",
       "      <td>4080.000000</td>\n",
       "    </tr>\n",
       "    <tr>\n",
       "      <th>mean</th>\n",
       "      <td>0.212645</td>\n",
       "      <td>0.187043</td>\n",
       "      <td>0.138832</td>\n",
       "    </tr>\n",
       "    <tr>\n",
       "      <th rowspan=\"3\" valign=\"top\">pred7_clf_best_rule_66</th>\n",
       "      <th>count</th>\n",
       "      <td>29829.000000</td>\n",
       "      <td>123458.000000</td>\n",
       "      <td>29388.000000</td>\n",
       "    </tr>\n",
       "    <tr>\n",
       "      <th>sum</th>\n",
       "      <td>5223.000000</td>\n",
       "      <td>18804.000000</td>\n",
       "      <td>3332.000000</td>\n",
       "    </tr>\n",
       "    <tr>\n",
       "      <th>mean</th>\n",
       "      <td>0.175098</td>\n",
       "      <td>0.152311</td>\n",
       "      <td>0.113380</td>\n",
       "    </tr>\n",
       "    <tr>\n",
       "      <th rowspan=\"3\" valign=\"top\">pred8_clf_best_rule_78</th>\n",
       "      <th>count</th>\n",
       "      <td>29829.000000</td>\n",
       "      <td>123458.000000</td>\n",
       "      <td>29388.000000</td>\n",
       "    </tr>\n",
       "    <tr>\n",
       "      <th>sum</th>\n",
       "      <td>4377.000000</td>\n",
       "      <td>14874.000000</td>\n",
       "      <td>2911.000000</td>\n",
       "    </tr>\n",
       "    <tr>\n",
       "      <th>mean</th>\n",
       "      <td>0.146736</td>\n",
       "      <td>0.120478</td>\n",
       "      <td>0.099054</td>\n",
       "    </tr>\n",
       "    <tr>\n",
       "      <th rowspan=\"3\" valign=\"top\">pred9_rf_best_rule_55</th>\n",
       "      <th>count</th>\n",
       "      <td>29829.000000</td>\n",
       "      <td>123458.000000</td>\n",
       "      <td>29388.000000</td>\n",
       "    </tr>\n",
       "    <tr>\n",
       "      <th>sum</th>\n",
       "      <td>3.000000</td>\n",
       "      <td>10907.000000</td>\n",
       "      <td>1862.000000</td>\n",
       "    </tr>\n",
       "    <tr>\n",
       "      <th>mean</th>\n",
       "      <td>0.000101</td>\n",
       "      <td>0.088346</td>\n",
       "      <td>0.063359</td>\n",
       "    </tr>\n",
       "    <tr>\n",
       "      <th rowspan=\"3\" valign=\"top\">pred10_rf_best_rule_60</th>\n",
       "      <th>count</th>\n",
       "      <td>29829.000000</td>\n",
       "      <td>123458.000000</td>\n",
       "      <td>29388.000000</td>\n",
       "    </tr>\n",
       "    <tr>\n",
       "      <th>sum</th>\n",
       "      <td>0.000000</td>\n",
       "      <td>7136.000000</td>\n",
       "      <td>1313.000000</td>\n",
       "    </tr>\n",
       "    <tr>\n",
       "      <th>mean</th>\n",
       "      <td>0.000000</td>\n",
       "      <td>0.057801</td>\n",
       "      <td>0.044678</td>\n",
       "    </tr>\n",
       "  </tbody>\n",
       "</table>\n",
       "</div>"
      ],
      "text/plain": [
       "split                                       test          train    validation\n",
       "pred0_manual_cci             count  29829.000000  123458.000000  29388.000000\n",
       "                             sum      799.000000    3162.000000    875.000000\n",
       "                             mean       0.026786       0.025612      0.029774\n",
       "pred1_manual_prev_g1         count  29829.000000  123458.000000  29388.000000\n",
       "                             sum    15601.000000   62117.000000  15585.000000\n",
       "                             mean       0.523015       0.503143      0.530318\n",
       "pred2_manual_prev_g1_and_snp count  29829.000000  123458.000000  29388.000000\n",
       "                             sum    10455.000000   41609.000000  10902.000000\n",
       "                             mean       0.350498       0.337030      0.370968\n",
       "pred3_manual_gdp_and_fastd   count  29829.000000  123458.000000  29388.000000\n",
       "                             sum    29822.000000  107032.000000  29388.000000\n",
       "                             mean       0.999765       0.866951      1.000000\n",
       "pred4_manual_gdp_and_wti30d  count  29829.000000  123458.000000  29388.000000\n",
       "                             sum        0.000000    5673.000000      0.000000\n",
       "                             mean       0.000000       0.045951      0.000000\n",
       "pred5_clf_10                 count  29829.000000  123458.000000  29388.000000\n",
       "                             sum     3343.000000   11536.000000   1682.000000\n",
       "                             mean       0.112072       0.093441      0.057234\n",
       "pred6_clf_best               count  29829.000000  123458.000000  29388.000000\n",
       "                             sum     6343.000000   23092.000000   4080.000000\n",
       "                             mean       0.212645       0.187043      0.138832\n",
       "pred7_clf_best_rule_66       count  29829.000000  123458.000000  29388.000000\n",
       "                             sum     5223.000000   18804.000000   3332.000000\n",
       "                             mean       0.175098       0.152311      0.113380\n",
       "pred8_clf_best_rule_78       count  29829.000000  123458.000000  29388.000000\n",
       "                             sum     4377.000000   14874.000000   2911.000000\n",
       "                             mean       0.146736       0.120478      0.099054\n",
       "pred9_rf_best_rule_55        count  29829.000000  123458.000000  29388.000000\n",
       "                             sum        3.000000   10907.000000   1862.000000\n",
       "                             mean       0.000101       0.088346      0.063359\n",
       "pred10_rf_best_rule_60       count  29829.000000  123458.000000  29388.000000\n",
       "                             sum        0.000000    7136.000000   1313.000000\n",
       "                             mean       0.000000       0.057801      0.044678"
      ]
     },
     "execution_count": 418,
     "metadata": {},
     "output_type": "execute_result"
    }
   ],
   "source": [
    "# 10 predictions stats (check TEST set)\n",
    "new_df.groupby('split')[PREDICTIONS].agg(['count','sum','mean']).T"
   ]
  },
  {
   "cell_type": "markdown",
   "metadata": {
    "id": "bgdAGlbaw0GH"
   },
   "source": [
    "# 3) Trading Simulations\n",
    "\n",
    "* create simulation 1 features: like \"sim1_pred0\" ... \"sim1_predLast\""
   ]
  },
  {
   "cell_type": "markdown",
   "metadata": {
    "id": "fcxkRiorDdDa"
   },
   "source": [
    "## 3.1) Investing $100 on every positive prediction\n",
    "* fees = 0.1% for each buy and sell operation ==> 0.2% for buy+sell operation"
   ]
  },
  {
   "cell_type": "code",
   "execution_count": 419,
   "metadata": {
    "id": "CgH1paM8DjgB"
   },
   "outputs": [],
   "source": [
    "# current prediction\n",
    "pred = 'pred6_clf_best'"
   ]
  },
  {
   "cell_type": "code",
   "execution_count": 420,
   "metadata": {
    "colab": {
     "base_uri": "https://localhost:8080/"
    },
    "id": "OyqKoZ6CDkkr",
    "outputId": "51d828cb-19de-4020-bd30-c49b984444cf"
   },
   "outputs": [
    {
     "data": {
      "text/plain": [
       "29829"
      ]
     },
     "execution_count": 420,
     "metadata": {},
     "output_type": "execute_result"
    }
   ],
   "source": [
    "# Total Number of Investment Opportunities\n",
    "new_df[new_df.split=='test'].Close.count()"
   ]
  },
  {
   "cell_type": "code",
   "execution_count": 421,
   "metadata": {
    "colab": {
     "base_uri": "https://localhost:8080/"
    },
    "id": "0Yatp1u8DmVS",
    "outputId": "74f6e66a-0782-4c4d-a905-d2e1f53fbfc9"
   },
   "outputs": [
    {
     "data": {
      "text/plain": [
       "947"
      ]
     },
     "execution_count": 421,
     "metadata": {},
     "output_type": "execute_result"
    }
   ],
   "source": [
    "# Total Number of Days (~4 years of trading)\n",
    "new_df[new_df.split=='test'].Date.nunique()"
   ]
  },
  {
   "cell_type": "code",
   "execution_count": 422,
   "metadata": {
    "colab": {
     "base_uri": "https://localhost:8080/"
    },
    "id": "IESBIJT6Dnu-",
    "outputId": "3f8e84bf-4fe9-45ca-d46f-c889ccf2b3c0"
   },
   "outputs": [
    {
     "data": {
      "text/plain": [
       "['growth_future_5d',\n",
       " 'is_positive_growth_5d_future',\n",
       " 'is_strong_positive_growth_5d_future']"
      ]
     },
     "execution_count": 422,
     "metadata": {},
     "output_type": "execute_result"
    }
   ],
   "source": [
    "# check actual future growth with 'growth_future_5d', correctness of the prediction with 'is_positive_growth_5d_future'\n",
    "TO_PREDICT"
   ]
  },
  {
   "cell_type": "code",
   "execution_count": 423,
   "metadata": {
    "colab": {
     "base_uri": "https://localhost:8080/",
     "height": 424
    },
    "id": "cSXm1PmhDpVa",
    "outputId": "aebd287c-5a5a-409a-de30-6020e289d111"
   },
   "outputs": [
    {
     "data": {
      "text/html": [
       "<div>\n",
       "<style scoped>\n",
       "    .dataframe tbody tr th:only-of-type {\n",
       "        vertical-align: middle;\n",
       "    }\n",
       "\n",
       "    .dataframe tbody tr th {\n",
       "        vertical-align: top;\n",
       "    }\n",
       "\n",
       "    .dataframe thead th {\n",
       "        text-align: right;\n",
       "    }\n",
       "</style>\n",
       "<table border=\"1\" class=\"dataframe\">\n",
       "  <thead>\n",
       "    <tr style=\"text-align: right;\">\n",
       "      <th></th>\n",
       "      <th>growth_future_5d</th>\n",
       "      <th>is_strong_positive_growth_5d_future</th>\n",
       "      <th>pred6_clf_best</th>\n",
       "    </tr>\n",
       "  </thead>\n",
       "  <tbody>\n",
       "    <tr>\n",
       "      <th>3490</th>\n",
       "      <td>0.963003</td>\n",
       "      <td>0</td>\n",
       "      <td>0</td>\n",
       "    </tr>\n",
       "    <tr>\n",
       "      <th>3491</th>\n",
       "      <td>0.971143</td>\n",
       "      <td>0</td>\n",
       "      <td>0</td>\n",
       "    </tr>\n",
       "    <tr>\n",
       "      <th>3492</th>\n",
       "      <td>0.929709</td>\n",
       "      <td>0</td>\n",
       "      <td>0</td>\n",
       "    </tr>\n",
       "    <tr>\n",
       "      <th>3493</th>\n",
       "      <td>0.980114</td>\n",
       "      <td>0</td>\n",
       "      <td>0</td>\n",
       "    </tr>\n",
       "    <tr>\n",
       "      <th>3494</th>\n",
       "      <td>1.007291</td>\n",
       "      <td>0</td>\n",
       "      <td>0</td>\n",
       "    </tr>\n",
       "    <tr>\n",
       "      <th>...</th>\n",
       "      <td>...</td>\n",
       "      <td>...</td>\n",
       "      <td>...</td>\n",
       "    </tr>\n",
       "    <tr>\n",
       "      <th>5422</th>\n",
       "      <td>NaN</td>\n",
       "      <td>0</td>\n",
       "      <td>0</td>\n",
       "    </tr>\n",
       "    <tr>\n",
       "      <th>5423</th>\n",
       "      <td>NaN</td>\n",
       "      <td>0</td>\n",
       "      <td>0</td>\n",
       "    </tr>\n",
       "    <tr>\n",
       "      <th>5424</th>\n",
       "      <td>NaN</td>\n",
       "      <td>0</td>\n",
       "      <td>0</td>\n",
       "    </tr>\n",
       "    <tr>\n",
       "      <th>5425</th>\n",
       "      <td>NaN</td>\n",
       "      <td>0</td>\n",
       "      <td>0</td>\n",
       "    </tr>\n",
       "    <tr>\n",
       "      <th>5426</th>\n",
       "      <td>NaN</td>\n",
       "      <td>0</td>\n",
       "      <td>0</td>\n",
       "    </tr>\n",
       "  </tbody>\n",
       "</table>\n",
       "<p>182675 rows × 3 columns</p>\n",
       "</div>"
      ],
      "text/plain": [
       "      growth_future_5d  is_strong_positive_growth_5d_future  pred6_clf_best\n",
       "3490          0.963003                                    0               0\n",
       "3491          0.971143                                    0               0\n",
       "3492          0.929709                                    0               0\n",
       "3493          0.980114                                    0               0\n",
       "3494          1.007291                                    0               0\n",
       "...                ...                                  ...             ...\n",
       "5422               NaN                                    0               0\n",
       "5423               NaN                                    0               0\n",
       "5424               NaN                                    0               0\n",
       "5425               NaN                                    0               0\n",
       "5426               NaN                                    0               0\n",
       "\n",
       "[182675 rows x 3 columns]"
      ]
     },
     "execution_count": 423,
     "metadata": {},
     "output_type": "execute_result"
    }
   ],
   "source": [
    "new_df[['growth_future_5d', to_predict,pred]]"
   ]
  },
  {
   "cell_type": "code",
   "execution_count": 424,
   "metadata": {
    "id": "lPM5eYT8DrHb"
   },
   "outputs": [],
   "source": [
    "# GROSS REVENUE: ONLY when current_prediction equals to 1: invest $100 into that stock (buy), and sell in 1week (sell)\n",
    "new_df['sim1_gross_rev_pred6'] = new_df[pred] * 100 * (new_df['growth_future_5d']-1)"
   ]
  },
  {
   "cell_type": "code",
   "execution_count": 425,
   "metadata": {
    "id": "y1RkuqfJDsYE"
   },
   "outputs": [],
   "source": [
    "# FEES: 0.1% for each operation , 0.2% for buy+sell ONLY when current_prediction equals to one\n",
    "new_df['sim1_fees_pred6'] = -new_df[pred] * 100 * 0.002"
   ]
  },
  {
   "cell_type": "code",
   "execution_count": 426,
   "metadata": {
    "id": "zNYijl95Dtr4"
   },
   "outputs": [],
   "source": [
    "# NET REVENUE: GROSS_REVENUE + FEES\n",
    "new_df['sim1_net_rev_pred6'] = new_df['sim1_gross_rev_pred6'] + new_df['sim1_fees_pred6']"
   ]
  },
  {
   "cell_type": "code",
   "execution_count": 427,
   "metadata": {
    "colab": {
     "base_uri": "https://localhost:8080/",
     "height": 617
    },
    "id": "6Dcueis_Dw5j",
    "outputId": "3283b539-6da5-46ae-94cf-56705538f75a"
   },
   "outputs": [
    {
     "data": {
      "text/html": [
       "<div>\n",
       "<style scoped>\n",
       "    .dataframe tbody tr th:only-of-type {\n",
       "        vertical-align: middle;\n",
       "    }\n",
       "\n",
       "    .dataframe tbody tr th {\n",
       "        vertical-align: top;\n",
       "    }\n",
       "\n",
       "    .dataframe thead th {\n",
       "        text-align: right;\n",
       "    }\n",
       "</style>\n",
       "<table border=\"1\" class=\"dataframe\">\n",
       "  <thead>\n",
       "    <tr style=\"text-align: right;\">\n",
       "      <th></th>\n",
       "      <th>Date</th>\n",
       "      <th>Ticker</th>\n",
       "      <th>Close</th>\n",
       "      <th>growth_future_5d</th>\n",
       "      <th>is_positive_growth_5d_future</th>\n",
       "      <th>is_strong_positive_growth_5d_future</th>\n",
       "      <th>pred6_clf_best</th>\n",
       "      <th>sim1_gross_rev_pred6</th>\n",
       "      <th>sim1_fees_pred6</th>\n",
       "      <th>sim1_net_rev_pred6</th>\n",
       "    </tr>\n",
       "  </thead>\n",
       "  <tbody>\n",
       "    <tr>\n",
       "      <th>8702</th>\n",
       "      <td>2020-09-21</td>\n",
       "      <td>MSFT</td>\n",
       "      <td>202.539993</td>\n",
       "      <td>1.034067</td>\n",
       "      <td>1</td>\n",
       "      <td>1</td>\n",
       "      <td>1</td>\n",
       "      <td>3.406741</td>\n",
       "      <td>-0.2</td>\n",
       "      <td>3.206741</td>\n",
       "    </tr>\n",
       "    <tr>\n",
       "      <th>8704</th>\n",
       "      <td>2020-09-23</td>\n",
       "      <td>MSFT</td>\n",
       "      <td>200.589996</td>\n",
       "      <td>1.048557</td>\n",
       "      <td>1</td>\n",
       "      <td>1</td>\n",
       "      <td>1</td>\n",
       "      <td>4.855687</td>\n",
       "      <td>-0.2</td>\n",
       "      <td>4.655687</td>\n",
       "    </tr>\n",
       "    <tr>\n",
       "      <th>8729</th>\n",
       "      <td>2020-10-28</td>\n",
       "      <td>MSFT</td>\n",
       "      <td>202.679993</td>\n",
       "      <td>1.067644</td>\n",
       "      <td>1</td>\n",
       "      <td>1</td>\n",
       "      <td>1</td>\n",
       "      <td>6.764367</td>\n",
       "      <td>-0.2</td>\n",
       "      <td>6.564367</td>\n",
       "    </tr>\n",
       "    <tr>\n",
       "      <th>8730</th>\n",
       "      <td>2020-10-29</td>\n",
       "      <td>MSFT</td>\n",
       "      <td>204.720001</td>\n",
       "      <td>1.090709</td>\n",
       "      <td>1</td>\n",
       "      <td>1</td>\n",
       "      <td>1</td>\n",
       "      <td>9.070912</td>\n",
       "      <td>-0.2</td>\n",
       "      <td>8.870912</td>\n",
       "    </tr>\n",
       "    <tr>\n",
       "      <th>8731</th>\n",
       "      <td>2020-10-30</td>\n",
       "      <td>MSFT</td>\n",
       "      <td>202.470001</td>\n",
       "      <td>1.104954</td>\n",
       "      <td>1</td>\n",
       "      <td>1</td>\n",
       "      <td>1</td>\n",
       "      <td>10.495372</td>\n",
       "      <td>-0.2</td>\n",
       "      <td>10.295372</td>\n",
       "    </tr>\n",
       "    <tr>\n",
       "      <th>...</th>\n",
       "      <td>...</td>\n",
       "      <td>...</td>\n",
       "      <td>...</td>\n",
       "      <td>...</td>\n",
       "      <td>...</td>\n",
       "      <td>...</td>\n",
       "      <td>...</td>\n",
       "      <td>...</td>\n",
       "      <td>...</td>\n",
       "      <td>...</td>\n",
       "    </tr>\n",
       "    <tr>\n",
       "      <th>5379</th>\n",
       "      <td>2024-02-22</td>\n",
       "      <td>LT.NS</td>\n",
       "      <td>3363.750000</td>\n",
       "      <td>1.033831</td>\n",
       "      <td>1</td>\n",
       "      <td>1</td>\n",
       "      <td>1</td>\n",
       "      <td>3.383130</td>\n",
       "      <td>-0.2</td>\n",
       "      <td>3.183130</td>\n",
       "    </tr>\n",
       "    <tr>\n",
       "      <th>5397</th>\n",
       "      <td>2024-03-20</td>\n",
       "      <td>LT.NS</td>\n",
       "      <td>3509.699951</td>\n",
       "      <td>1.072428</td>\n",
       "      <td>1</td>\n",
       "      <td>1</td>\n",
       "      <td>1</td>\n",
       "      <td>7.242783</td>\n",
       "      <td>-0.2</td>\n",
       "      <td>7.042783</td>\n",
       "    </tr>\n",
       "    <tr>\n",
       "      <th>5398</th>\n",
       "      <td>2024-03-21</td>\n",
       "      <td>LT.NS</td>\n",
       "      <td>3560.000000</td>\n",
       "      <td>1.078090</td>\n",
       "      <td>1</td>\n",
       "      <td>1</td>\n",
       "      <td>1</td>\n",
       "      <td>7.808989</td>\n",
       "      <td>-0.2</td>\n",
       "      <td>7.608989</td>\n",
       "    </tr>\n",
       "    <tr>\n",
       "      <th>5399</th>\n",
       "      <td>2024-03-22</td>\n",
       "      <td>LT.NS</td>\n",
       "      <td>3617.800049</td>\n",
       "      <td>1.052407</td>\n",
       "      <td>1</td>\n",
       "      <td>1</td>\n",
       "      <td>1</td>\n",
       "      <td>5.240750</td>\n",
       "      <td>-0.2</td>\n",
       "      <td>5.040750</td>\n",
       "    </tr>\n",
       "    <tr>\n",
       "      <th>5415</th>\n",
       "      <td>2024-04-19</td>\n",
       "      <td>LT.NS</td>\n",
       "      <td>3518.350098</td>\n",
       "      <td>1.024685</td>\n",
       "      <td>1</td>\n",
       "      <td>1</td>\n",
       "      <td>1</td>\n",
       "      <td>2.468482</td>\n",
       "      <td>-0.2</td>\n",
       "      <td>2.268482</td>\n",
       "    </tr>\n",
       "  </tbody>\n",
       "</table>\n",
       "<p>6343 rows × 10 columns</p>\n",
       "</div>"
      ],
      "text/plain": [
       "           Date Ticker        Close  growth_future_5d  \\\n",
       "8702 2020-09-21   MSFT   202.539993          1.034067   \n",
       "8704 2020-09-23   MSFT   200.589996          1.048557   \n",
       "8729 2020-10-28   MSFT   202.679993          1.067644   \n",
       "8730 2020-10-29   MSFT   204.720001          1.090709   \n",
       "8731 2020-10-30   MSFT   202.470001          1.104954   \n",
       "...         ...    ...          ...               ...   \n",
       "5379 2024-02-22  LT.NS  3363.750000          1.033831   \n",
       "5397 2024-03-20  LT.NS  3509.699951          1.072428   \n",
       "5398 2024-03-21  LT.NS  3560.000000          1.078090   \n",
       "5399 2024-03-22  LT.NS  3617.800049          1.052407   \n",
       "5415 2024-04-19  LT.NS  3518.350098          1.024685   \n",
       "\n",
       "      is_positive_growth_5d_future  is_strong_positive_growth_5d_future  \\\n",
       "8702                             1                                    1   \n",
       "8704                             1                                    1   \n",
       "8729                             1                                    1   \n",
       "8730                             1                                    1   \n",
       "8731                             1                                    1   \n",
       "...                            ...                                  ...   \n",
       "5379                             1                                    1   \n",
       "5397                             1                                    1   \n",
       "5398                             1                                    1   \n",
       "5399                             1                                    1   \n",
       "5415                             1                                    1   \n",
       "\n",
       "      pred6_clf_best  sim1_gross_rev_pred6  sim1_fees_pred6  \\\n",
       "8702               1              3.406741             -0.2   \n",
       "8704               1              4.855687             -0.2   \n",
       "8729               1              6.764367             -0.2   \n",
       "8730               1              9.070912             -0.2   \n",
       "8731               1             10.495372             -0.2   \n",
       "...              ...                   ...              ...   \n",
       "5379               1              3.383130             -0.2   \n",
       "5397               1              7.242783             -0.2   \n",
       "5398               1              7.808989             -0.2   \n",
       "5399               1              5.240750             -0.2   \n",
       "5415               1              2.468482             -0.2   \n",
       "\n",
       "      sim1_net_rev_pred6  \n",
       "8702            3.206741  \n",
       "8704            4.655687  \n",
       "8729            6.564367  \n",
       "8730            8.870912  \n",
       "8731           10.295372  \n",
       "...                  ...  \n",
       "5379            3.183130  \n",
       "5397            7.042783  \n",
       "5398            7.608989  \n",
       "5399            5.040750  \n",
       "5415            2.268482  \n",
       "\n",
       "[6343 rows x 10 columns]"
      ]
     },
     "execution_count": 427,
     "metadata": {},
     "output_type": "execute_result"
    }
   ],
   "source": [
    "COLUMNS_FIN_RESULT = ['Date','Ticker','Close']+TO_PREDICT+ [pred,  'sim1_gross_rev_pred6','sim1_fees_pred6','sim1_net_rev_pred6']\n",
    "new_df[(new_df.split=='test')&(new_df[pred]==1)][COLUMNS_FIN_RESULT]"
   ]
  },
  {
   "cell_type": "code",
   "execution_count": 431,
   "metadata": {
    "colab": {
     "base_uri": "https://localhost:8080/"
    },
    "id": "BJS19COwDymR",
    "outputId": "fd79dbe7-5f4f-45bf-b32a-ed7a0db82050"
   },
   "outputs": [
    {
     "name": "stdout",
     "output_type": "stream",
     "text": [
      "10.0\n"
     ]
    }
   ],
   "source": [
    "# DAILY INVESTMENTS COUNT\n",
    "filter_test_and_positive_pred = (new_df.split=='test')&(new_df[pred]==1)\n",
    "df_investments_count_daily = pd.DataFrame(new_df[filter_test_and_positive_pred].groupby('Date')[pred].count())\n",
    "sim1_avg_investments_per_day = df_investments_count_daily[pred].quantile(0.75)  # 75% case - how many $100 investments per day do we have?\n",
    "print(sim1_avg_investments_per_day)"
   ]
  },
  {
   "cell_type": "code",
   "execution_count": 432,
   "metadata": {
    "colab": {
     "base_uri": "https://localhost:8080/",
     "height": 81
    },
    "id": "K10MkjYND0sJ",
    "outputId": "c192e1b9-2162-4698-9d81-39b6a1c22d30"
   },
   "outputs": [
    {
     "data": {
      "text/html": [
       "<div>\n",
       "<style scoped>\n",
       "    .dataframe tbody tr th:only-of-type {\n",
       "        vertical-align: middle;\n",
       "    }\n",
       "\n",
       "    .dataframe tbody tr th {\n",
       "        vertical-align: top;\n",
       "    }\n",
       "\n",
       "    .dataframe thead th {\n",
       "        text-align: right;\n",
       "    }\n",
       "</style>\n",
       "<table border=\"1\" class=\"dataframe\">\n",
       "  <thead>\n",
       "    <tr style=\"text-align: right;\">\n",
       "      <th></th>\n",
       "      <th>count</th>\n",
       "      <th>mean</th>\n",
       "      <th>std</th>\n",
       "      <th>min</th>\n",
       "      <th>25%</th>\n",
       "      <th>50%</th>\n",
       "      <th>75%</th>\n",
       "      <th>max</th>\n",
       "    </tr>\n",
       "  </thead>\n",
       "  <tbody>\n",
       "    <tr>\n",
       "      <th>pred6_clf_best</th>\n",
       "      <td>879.0</td>\n",
       "      <td>7.216155</td>\n",
       "      <td>6.367533</td>\n",
       "      <td>1.0</td>\n",
       "      <td>3.0</td>\n",
       "      <td>5.0</td>\n",
       "      <td>10.0</td>\n",
       "      <td>32.0</td>\n",
       "    </tr>\n",
       "  </tbody>\n",
       "</table>\n",
       "</div>"
      ],
      "text/plain": [
       "                count      mean       std  min  25%  50%   75%   max\n",
       "pred6_clf_best  879.0  7.216155  6.367533  1.0  3.0  5.0  10.0  32.0"
      ]
     },
     "execution_count": 432,
     "metadata": {},
     "output_type": "execute_result"
    }
   ],
   "source": [
    "# Distribution: how many times do we trade daily (for the current Prediction)?\n",
    "df_investments_count_daily.describe().T"
   ]
  },
  {
   "cell_type": "code",
   "execution_count": 433,
   "metadata": {
    "colab": {
     "base_uri": "https://localhost:8080/"
    },
    "id": "ilH82pIAD6rV",
    "outputId": "351b699b-d26d-4357-d67c-b6cc8efb2644"
   },
   "outputs": [
    {
     "data": {
      "text/plain": [
       "sim1_gross_rev_pred6    3225.989233\n",
       "sim1_fees_pred6        -1268.600000\n",
       "sim1_net_rev_pred6      1961.389233\n",
       "dtype: float64"
      ]
     },
     "execution_count": 433,
     "metadata": {},
     "output_type": "execute_result"
    }
   ],
   "source": [
    "new_df[(new_df.split=='test')&(new_df[pred]==1)][['sim1_gross_rev_pred6','sim1_fees_pred6','sim1_net_rev_pred6']].sum()"
   ]
  },
  {
   "cell_type": "markdown",
   "metadata": {
    "id": "NjeHdCq1D9yN"
   },
   "source": [
    "### 3.1.2 Calculate fin. results for all fields\n",
    "* Simplified and approximate calculation"
   ]
  },
  {
   "cell_type": "code",
   "execution_count": 434,
   "metadata": {
    "colab": {
     "base_uri": "https://localhost:8080/"
    },
    "id": "Pp7CbZXSD_zT",
    "outputId": "8230d8ea-46a9-47db-a935-892de6a2144d"
   },
   "outputs": [
    {
     "name": "stdout",
     "output_type": "stream",
     "text": [
      "Calculating sumulation for prediction pred0_manual_cci:\n",
      "    Count times of investment 799 out of 29829 TEST records\n",
      "    Financial Result: \n",
      " sim1_gross_rev_pred0    309.04589\n",
      "sim1_fees_pred0        -159.80000\n",
      "sim1_net_rev_pred0      149.84589\n",
      "dtype: float64\n",
      "        Count Investments in 4 years (on TEST): 799\n",
      "        Gross Revenue: $309\n",
      "        Fees (0.2% for buy+sell): $159\n",
      "        Net Revenue: $149\n",
      "        Fees are 51 % from Gross Revenue\n",
      "        Capital Required : $1000 (Vbegin)\n",
      "        Final value (Vbegin + Net_revenue) : $1149 (Vfinal)\n",
      "        Average CAGR on TEST (4 years) : 1.036, or 3.6% \n",
      "        Average daily stats: \n",
      "            Average net revenue per investment: $0.19 \n",
      "            Average investments per day: 2 \n",
      "            Q75 investments per day: 2 \n",
      "=============================================+\n",
      "Calculating sumulation for prediction pred1_manual_prev_g1:\n",
      "    Count times of investment 15601 out of 29829 TEST records\n",
      "    Financial Result: \n",
      " sim1_gross_rev_pred1    6913.217124\n",
      "sim1_fees_pred1        -3120.200000\n",
      "sim1_net_rev_pred1      3812.817124\n",
      "dtype: float64\n",
      "        Count Investments in 4 years (on TEST): 15601\n",
      "        Gross Revenue: $6913\n",
      "        Fees (0.2% for buy+sell): $3120\n",
      "        Net Revenue: $3812\n",
      "        Fees are 45 % from Gross Revenue\n",
      "        Capital Required : $11000 (Vbegin)\n",
      "        Final value (Vbegin + Net_revenue) : $14812 (Vfinal)\n",
      "        Average CAGR on TEST (4 years) : 1.077, or 7.7% \n",
      "        Average daily stats: \n",
      "            Average net revenue per investment: $0.24 \n",
      "            Average investments per day: 17 \n",
      "            Q75 investments per day: 22 \n",
      "=============================================+\n",
      "Calculating sumulation for prediction pred2_manual_prev_g1_and_snp:\n",
      "    Count times of investment 10455 out of 29829 TEST records\n",
      "    Financial Result: \n",
      " sim1_gross_rev_pred2    4213.424501\n",
      "sim1_fees_pred2        -2091.000000\n",
      "sim1_net_rev_pred2      2139.624501\n",
      "dtype: float64\n",
      "        Count Investments in 4 years (on TEST): 10455\n",
      "        Gross Revenue: $4213\n",
      "        Fees (0.2% for buy+sell): $2091\n",
      "        Net Revenue: $2139\n",
      "        Fees are 49 % from Gross Revenue\n",
      "        Capital Required : $13000 (Vbegin)\n",
      "        Final value (Vbegin + Net_revenue) : $15139 (Vfinal)\n",
      "        Average CAGR on TEST (4 years) : 1.039, or 3.9% \n",
      "        Average daily stats: \n",
      "            Average net revenue per investment: $0.2 \n",
      "            Average investments per day: 22 \n",
      "            Q75 investments per day: 26 \n",
      "=============================================+\n",
      "Calculating sumulation for prediction pred3_manual_gdp_and_fastd:\n",
      "    Count times of investment 29822 out of 29829 TEST records\n",
      "    Financial Result: \n",
      " sim1_gross_rev_pred3    14893.285316\n",
      "sim1_fees_pred3         -5964.400000\n",
      "sim1_net_rev_pred3       8961.885316\n",
      "dtype: float64\n",
      "        Count Investments in 4 years (on TEST): 29822\n",
      "        Gross Revenue: $14893\n",
      "        Fees (0.2% for buy+sell): $5964\n",
      "        Net Revenue: $8961\n",
      "        Fees are 40 % from Gross Revenue\n",
      "        Capital Required : $16500 (Vbegin)\n",
      "        Final value (Vbegin + Net_revenue) : $25461 (Vfinal)\n",
      "        Average CAGR on TEST (4 years) : 1.115, or 11.5% \n",
      "        Average daily stats: \n",
      "            Average net revenue per investment: $0.3 \n",
      "            Average investments per day: 31 \n",
      "            Q75 investments per day: 33 \n",
      "=============================================+\n",
      "Calculating sumulation for prediction pred4_manual_gdp_and_wti30d:\n",
      "    Count times of investment 0 out of 29829 TEST records\n",
      "Calculating sumulation for prediction pred5_clf_10:\n",
      "    Count times of investment 3343 out of 29829 TEST records\n",
      "    Financial Result: \n",
      " sim1_gross_rev_pred5    1055.732346\n",
      "sim1_fees_pred5         -668.600000\n",
      "sim1_net_rev_pred5       388.532346\n",
      "dtype: float64\n",
      "        Count Investments in 4 years (on TEST): 3343\n",
      "        Gross Revenue: $1055\n",
      "        Fees (0.2% for buy+sell): $668\n",
      "        Net Revenue: $388\n",
      "        Fees are 63 % from Gross Revenue\n",
      "        Capital Required : $3000 (Vbegin)\n",
      "        Final value (Vbegin + Net_revenue) : $3388 (Vfinal)\n",
      "        Average CAGR on TEST (4 years) : 1.031, or 3.1% \n",
      "        Average daily stats: \n",
      "            Average net revenue per investment: $0.12 \n",
      "            Average investments per day: 5 \n",
      "            Q75 investments per day: 6 \n",
      "=============================================+\n",
      "Calculating sumulation for prediction pred6_clf_best:\n",
      "    Count times of investment 6343 out of 29829 TEST records\n",
      "    Financial Result: \n",
      " sim1_gross_rev_pred6    3225.989233\n",
      "sim1_fees_pred6        -1268.600000\n",
      "sim1_net_rev_pred6      1961.389233\n",
      "dtype: float64\n",
      "        Count Investments in 4 years (on TEST): 6343\n",
      "        Gross Revenue: $3225\n",
      "        Fees (0.2% for buy+sell): $1268\n",
      "        Net Revenue: $1961\n",
      "        Fees are 39 % from Gross Revenue\n",
      "        Capital Required : $5000 (Vbegin)\n",
      "        Final value (Vbegin + Net_revenue) : $6961 (Vfinal)\n",
      "        Average CAGR on TEST (4 years) : 1.086, or 8.6% \n",
      "        Average daily stats: \n",
      "            Average net revenue per investment: $0.31 \n",
      "            Average investments per day: 7 \n",
      "            Q75 investments per day: 10 \n",
      "=============================================+\n",
      "Calculating sumulation for prediction pred7_clf_best_rule_66:\n",
      "    Count times of investment 5223 out of 29829 TEST records\n",
      "    Financial Result: \n",
      " sim1_gross_rev_pred7    2290.895779\n",
      "sim1_fees_pred7        -1044.600000\n",
      "sim1_net_rev_pred7      1250.295779\n",
      "dtype: float64\n",
      "        Count Investments in 4 years (on TEST): 5223\n",
      "        Gross Revenue: $2290\n",
      "        Fees (0.2% for buy+sell): $1044\n",
      "        Net Revenue: $1250\n",
      "        Fees are 45 % from Gross Revenue\n",
      "        Capital Required : $4000 (Vbegin)\n",
      "        Final value (Vbegin + Net_revenue) : $5250 (Vfinal)\n",
      "        Average CAGR on TEST (4 years) : 1.07, or 7.0% \n",
      "        Average daily stats: \n",
      "            Average net revenue per investment: $0.24 \n",
      "            Average investments per day: 6 \n",
      "            Q75 investments per day: 8 \n",
      "=============================================+\n",
      "Calculating sumulation for prediction pred8_clf_best_rule_78:\n",
      "    Count times of investment 4377 out of 29829 TEST records\n",
      "    Financial Result: \n",
      " sim1_gross_rev_pred8    1024.113522\n",
      "sim1_fees_pred8         -875.400000\n",
      "sim1_net_rev_pred8       152.513522\n",
      "dtype: float64\n",
      "        Count Investments in 4 years (on TEST): 4377\n",
      "        Gross Revenue: $1024\n",
      "        Fees (0.2% for buy+sell): $875\n",
      "        Net Revenue: $152\n",
      "        Fees are 85 % from Gross Revenue\n",
      "        Capital Required : $3500 (Vbegin)\n",
      "        Final value (Vbegin + Net_revenue) : $3652 (Vfinal)\n",
      "        Average CAGR on TEST (4 years) : 1.011, or 1.1% \n",
      "        Average daily stats: \n",
      "            Average net revenue per investment: $0.03 \n",
      "            Average investments per day: 6 \n",
      "            Q75 investments per day: 7 \n",
      "=============================================+\n",
      "Calculating sumulation for prediction pred9_rf_best_rule_55:\n",
      "    Count times of investment 3 out of 29829 TEST records\n",
      "    Financial Result: \n",
      " sim1_gross_rev_pred9    7.271075\n",
      "sim1_fees_pred9        -0.600000\n",
      "sim1_net_rev_pred9      6.671075\n",
      "dtype: float64\n",
      "        Count Investments in 4 years (on TEST): 3\n",
      "        Gross Revenue: $7\n",
      "        Fees (0.2% for buy+sell): $0\n",
      "        Net Revenue: $6\n",
      "        Fees are 8 % from Gross Revenue\n",
      "        Capital Required : $500 (Vbegin)\n",
      "        Final value (Vbegin + Net_revenue) : $506 (Vfinal)\n",
      "        Average CAGR on TEST (4 years) : 1.003, or 0.3% \n",
      "        Average daily stats: \n",
      "            Average net revenue per investment: $2.22 \n",
      "            Average investments per day: 1 \n",
      "            Q75 investments per day: 1 \n",
      "=============================================+\n",
      "Calculating sumulation for prediction pred10_rf_best_rule_60:\n",
      "    Count times of investment 0 out of 29829 TEST records\n"
     ]
    }
   ],
   "source": [
    "# Calculate fin. result for ALL predictions (manual and produced by models)\n",
    "\n",
    "sim1_results = [] # results in Array\n",
    "\n",
    "# Iterate over all predictions\n",
    "for pred in PREDICTIONS:\n",
    "  print(f'Calculating sumulation for prediction {pred}:')\n",
    "  print(f\"    Count times of investment {len(new_df[(new_df.split=='test')&(new_df[pred]==1)])} out of {len(new_df[(new_df.split=='test')])} TEST records\")\n",
    "\n",
    "  # Prefix: e.g. pred1 or pred10\n",
    "  pred_prefix= pred.split('_')[0]\n",
    "\n",
    "  # Fin. result columns: define new records for EACH positive prediction\n",
    "  new_df['sim1_gross_rev_'+pred_prefix] = new_df[pred] * 100 * (new_df['growth_future_5d']-1)\n",
    "  new_df['sim1_fees_'+pred_prefix] = -new_df[pred] * 100 * 0.002\n",
    "  new_df['sim1_net_rev_'+pred_prefix] = new_df['sim1_gross_rev_'+pred_prefix] + new_df['sim1_fees_'+pred_prefix]\n",
    "\n",
    "  # calculate agg. results for each PREDICTION columns (pred) on TEST\n",
    "  filter_test_and_positive_pred = (new_df.split=='test')&(new_df[pred]==1) # filter records on TEST set, when current prediction is 1 (we invest $100 for 1 week ahead - 5 periods)\n",
    "  sim1_count_investments = len(new_df[filter_test_and_positive_pred])\n",
    "  sim1_gross_rev = new_df[filter_test_and_positive_pred]['sim1_gross_rev_'+pred_prefix].sum()\n",
    "  sim1_fees = new_df[filter_test_and_positive_pred]['sim1_fees_'+pred_prefix].sum()\n",
    "  sim1_net_rev = new_df[filter_test_and_positive_pred]['sim1_net_rev_'+pred_prefix].sum()\n",
    "\n",
    "  if sim1_gross_rev>0:\n",
    "    sim1_fees_percentage = -sim1_fees/sim1_gross_rev\n",
    "  else:\n",
    "    sim1_fees_percentage = None\n",
    "\n",
    "  if sim1_count_investments>0:\n",
    "    sim1_average_net_revenue = sim1_net_rev/sim1_count_investments\n",
    "  else:\n",
    "    sim1_average_net_revenue = None\n",
    "\n",
    "  # APPROXIMATE CAPITAL REQUIRED and CAGR Calculation\n",
    "  df_investments_count_daily = pd.DataFrame(new_df[filter_test_and_positive_pred].groupby('Date')[pred].count())\n",
    "  sim1_avg_investments_per_day = df_investments_count_daily[pred].mean()\n",
    "  sim1_q75_investments_per_day = df_investments_count_daily[pred].quantile(0.75)  # 75% case - how many $100 investments per day do we have?\n",
    "  # df_investments_count_daily[pred].mean()\n",
    "  sim1_capital = 100 * 5 * sim1_q75_investments_per_day # 5 days in a row with positive predictions\n",
    "  # CAGR: average growth per year. E.g. if you have 1.5 return (50% growth in 4 years) --> (1.5)**(1/4) = 1.106 or 10.6% average\n",
    "  sim1_CAGR = ((sim1_capital+sim1_net_rev)/sim1_capital)**(1/4)\n",
    "\n",
    "  # append to DF\n",
    "  sim1_results.append((pred,sim1_count_investments,sim1_gross_rev,sim1_fees,sim1_net_rev,sim1_fees_percentage,sim1_average_net_revenue,sim1_avg_investments_per_day,sim1_capital,sim1_CAGR))\n",
    "\n",
    "\n",
    "  # output for all predictions with some positive predictions\n",
    "  if  sim1_count_investments>1:\n",
    "    print(f\"    Financial Result: \\n {new_df[filter_test_and_positive_pred][['sim1_gross_rev_'+pred_prefix,'sim1_fees_'+pred_prefix,'sim1_net_rev_'+pred_prefix]].sum()}\")\n",
    "    print(f\"        Count Investments in 4 years (on TEST): {sim1_count_investments}\")\n",
    "    print(f\"        Gross Revenue: ${int(sim1_gross_rev)}\")\n",
    "    print(f\"        Fees (0.2% for buy+sell): ${int(-sim1_fees)}\")\n",
    "    print(f\"        Net Revenue: ${int(sim1_net_rev)}\")\n",
    "    print(f\"        Fees are {int(-100.0*sim1_fees/sim1_gross_rev)} % from Gross Revenue\")\n",
    "    print(f\"        Capital Required : ${int(sim1_capital)} (Vbegin)\")\n",
    "    print(f\"        Final value (Vbegin + Net_revenue) : ${int(sim1_capital + sim1_net_rev)} (Vfinal)\")\n",
    "\n",
    "    print(f\"        Average CAGR on TEST (4 years) : {np.round(sim1_CAGR,3)}, or {np.round(100.0*(sim1_CAGR-1),1)}% \")\n",
    "\n",
    "    print(f\"        Average daily stats: \")\n",
    "    print(f\"            Average net revenue per investment: ${np.round(sim1_net_rev/sim1_count_investments,2)} \")\n",
    "    print(f\"            Average investments per day: {int(np.round(sim1_avg_investments_per_day))} \")\n",
    "    print(f\"            Q75 investments per day: {int(np.round(sim1_q75_investments_per_day))} \")\n",
    "    print('=============================================+')\n",
    "\n",
    "\n",
    "# results in a DataFrame from an Array\n",
    "columns_simulation = ['prediction', 'sim1_count_investments', 'sim1_gross_rev', 'sim1_fees', 'sim1_net_rev', 'sim1_fees_percentage','sim1_average_net_revenue','sim1_avg_investments_per_day','sim1_capital','sim1_CAGR']\n",
    "\n",
    "df_sim1_results = pd.DataFrame(sim1_results,columns=columns_simulation)"
   ]
  },
  {
   "cell_type": "code",
   "execution_count": 435,
   "metadata": {
    "id": "06L2zLXMEDUh"
   },
   "outputs": [],
   "source": [
    "df_sim1_results['sim1_growth_capital_4y'] = (df_sim1_results.sim1_net_rev+df_sim1_results.sim1_capital) / df_sim1_results.sim1_capital"
   ]
  },
  {
   "cell_type": "code",
   "execution_count": 436,
   "metadata": {
    "colab": {
     "base_uri": "https://localhost:8080/",
     "height": 414
    },
    "id": "dKoRow8IEEYx",
    "outputId": "4f546edf-c9e9-4e31-98a2-833cbeb35b63"
   },
   "outputs": [
    {
     "data": {
      "text/html": [
       "<div>\n",
       "<style scoped>\n",
       "    .dataframe tbody tr th:only-of-type {\n",
       "        vertical-align: middle;\n",
       "    }\n",
       "\n",
       "    .dataframe tbody tr th {\n",
       "        vertical-align: top;\n",
       "    }\n",
       "\n",
       "    .dataframe thead th {\n",
       "        text-align: right;\n",
       "    }\n",
       "</style>\n",
       "<table border=\"1\" class=\"dataframe\">\n",
       "  <thead>\n",
       "    <tr style=\"text-align: right;\">\n",
       "      <th></th>\n",
       "      <th>prediction</th>\n",
       "      <th>sim1_count_investments</th>\n",
       "      <th>sim1_gross_rev</th>\n",
       "      <th>sim1_fees</th>\n",
       "      <th>sim1_net_rev</th>\n",
       "      <th>sim1_fees_percentage</th>\n",
       "      <th>sim1_average_net_revenue</th>\n",
       "      <th>sim1_avg_investments_per_day</th>\n",
       "      <th>sim1_capital</th>\n",
       "      <th>sim1_CAGR</th>\n",
       "      <th>sim1_growth_capital_4y</th>\n",
       "    </tr>\n",
       "  </thead>\n",
       "  <tbody>\n",
       "    <tr>\n",
       "      <th>0</th>\n",
       "      <td>pred0_manual_cci</td>\n",
       "      <td>799</td>\n",
       "      <td>309.045890</td>\n",
       "      <td>-159.8</td>\n",
       "      <td>149.845890</td>\n",
       "      <td>0.517075</td>\n",
       "      <td>0.187542</td>\n",
       "      <td>1.866822</td>\n",
       "      <td>1000.0</td>\n",
       "      <td>1.035523</td>\n",
       "      <td>1.149846</td>\n",
       "    </tr>\n",
       "    <tr>\n",
       "      <th>1</th>\n",
       "      <td>pred1_manual_prev_g1</td>\n",
       "      <td>15601</td>\n",
       "      <td>6913.217124</td>\n",
       "      <td>-3120.2</td>\n",
       "      <td>3812.817124</td>\n",
       "      <td>0.451338</td>\n",
       "      <td>0.244396</td>\n",
       "      <td>16.526483</td>\n",
       "      <td>11000.0</td>\n",
       "      <td>1.077237</td>\n",
       "      <td>1.346620</td>\n",
       "    </tr>\n",
       "    <tr>\n",
       "      <th>2</th>\n",
       "      <td>pred2_manual_prev_g1_and_snp</td>\n",
       "      <td>10455</td>\n",
       "      <td>4213.424501</td>\n",
       "      <td>-2091.0</td>\n",
       "      <td>2139.624501</td>\n",
       "      <td>0.496271</td>\n",
       "      <td>0.204651</td>\n",
       "      <td>21.918239</td>\n",
       "      <td>13000.0</td>\n",
       "      <td>1.038826</td>\n",
       "      <td>1.164587</td>\n",
       "    </tr>\n",
       "    <tr>\n",
       "      <th>3</th>\n",
       "      <td>pred3_manual_gdp_and_fastd</td>\n",
       "      <td>29822</td>\n",
       "      <td>14893.285316</td>\n",
       "      <td>-5964.4</td>\n",
       "      <td>8961.885316</td>\n",
       "      <td>0.400476</td>\n",
       "      <td>0.300513</td>\n",
       "      <td>31.491024</td>\n",
       "      <td>16500.0</td>\n",
       "      <td>1.114555</td>\n",
       "      <td>1.543145</td>\n",
       "    </tr>\n",
       "    <tr>\n",
       "      <th>4</th>\n",
       "      <td>pred4_manual_gdp_and_wti30d</td>\n",
       "      <td>0</td>\n",
       "      <td>0.000000</td>\n",
       "      <td>0.0</td>\n",
       "      <td>0.000000</td>\n",
       "      <td>NaN</td>\n",
       "      <td>NaN</td>\n",
       "      <td>NaN</td>\n",
       "      <td>NaN</td>\n",
       "      <td>NaN</td>\n",
       "      <td>NaN</td>\n",
       "    </tr>\n",
       "    <tr>\n",
       "      <th>5</th>\n",
       "      <td>pred5_clf_10</td>\n",
       "      <td>3343</td>\n",
       "      <td>1055.732346</td>\n",
       "      <td>-668.6</td>\n",
       "      <td>388.532346</td>\n",
       "      <td>0.633304</td>\n",
       "      <td>0.116223</td>\n",
       "      <td>5.365971</td>\n",
       "      <td>3000.0</td>\n",
       "      <td>1.030914</td>\n",
       "      <td>1.129511</td>\n",
       "    </tr>\n",
       "    <tr>\n",
       "      <th>6</th>\n",
       "      <td>pred6_clf_best</td>\n",
       "      <td>6343</td>\n",
       "      <td>3225.989233</td>\n",
       "      <td>-1268.6</td>\n",
       "      <td>1961.389233</td>\n",
       "      <td>0.393244</td>\n",
       "      <td>0.309221</td>\n",
       "      <td>7.216155</td>\n",
       "      <td>5000.0</td>\n",
       "      <td>1.086254</td>\n",
       "      <td>1.392278</td>\n",
       "    </tr>\n",
       "    <tr>\n",
       "      <th>7</th>\n",
       "      <td>pred7_clf_best_rule_66</td>\n",
       "      <td>5223</td>\n",
       "      <td>2290.895779</td>\n",
       "      <td>-1044.6</td>\n",
       "      <td>1250.295779</td>\n",
       "      <td>0.455979</td>\n",
       "      <td>0.239383</td>\n",
       "      <td>6.440197</td>\n",
       "      <td>4000.0</td>\n",
       "      <td>1.070363</td>\n",
       "      <td>1.312574</td>\n",
       "    </tr>\n",
       "    <tr>\n",
       "      <th>8</th>\n",
       "      <td>pred8_clf_best_rule_78</td>\n",
       "      <td>4377</td>\n",
       "      <td>1024.113522</td>\n",
       "      <td>-875.4</td>\n",
       "      <td>152.513522</td>\n",
       "      <td>0.854788</td>\n",
       "      <td>0.034844</td>\n",
       "      <td>5.561626</td>\n",
       "      <td>3500.0</td>\n",
       "      <td>1.010720</td>\n",
       "      <td>1.043575</td>\n",
       "    </tr>\n",
       "    <tr>\n",
       "      <th>9</th>\n",
       "      <td>pred9_rf_best_rule_55</td>\n",
       "      <td>3</td>\n",
       "      <td>7.271075</td>\n",
       "      <td>-0.6</td>\n",
       "      <td>6.671075</td>\n",
       "      <td>0.082519</td>\n",
       "      <td>2.223692</td>\n",
       "      <td>1.000000</td>\n",
       "      <td>500.0</td>\n",
       "      <td>1.003319</td>\n",
       "      <td>1.013342</td>\n",
       "    </tr>\n",
       "    <tr>\n",
       "      <th>10</th>\n",
       "      <td>pred10_rf_best_rule_60</td>\n",
       "      <td>0</td>\n",
       "      <td>0.000000</td>\n",
       "      <td>0.0</td>\n",
       "      <td>0.000000</td>\n",
       "      <td>NaN</td>\n",
       "      <td>NaN</td>\n",
       "      <td>NaN</td>\n",
       "      <td>NaN</td>\n",
       "      <td>NaN</td>\n",
       "      <td>NaN</td>\n",
       "    </tr>\n",
       "  </tbody>\n",
       "</table>\n",
       "</div>"
      ],
      "text/plain": [
       "                      prediction  sim1_count_investments  sim1_gross_rev  \\\n",
       "0               pred0_manual_cci                     799      309.045890   \n",
       "1           pred1_manual_prev_g1                   15601     6913.217124   \n",
       "2   pred2_manual_prev_g1_and_snp                   10455     4213.424501   \n",
       "3     pred3_manual_gdp_and_fastd                   29822    14893.285316   \n",
       "4    pred4_manual_gdp_and_wti30d                       0        0.000000   \n",
       "5                   pred5_clf_10                    3343     1055.732346   \n",
       "6                 pred6_clf_best                    6343     3225.989233   \n",
       "7         pred7_clf_best_rule_66                    5223     2290.895779   \n",
       "8         pred8_clf_best_rule_78                    4377     1024.113522   \n",
       "9          pred9_rf_best_rule_55                       3        7.271075   \n",
       "10        pred10_rf_best_rule_60                       0        0.000000   \n",
       "\n",
       "    sim1_fees  sim1_net_rev  sim1_fees_percentage  sim1_average_net_revenue  \\\n",
       "0      -159.8    149.845890              0.517075                  0.187542   \n",
       "1     -3120.2   3812.817124              0.451338                  0.244396   \n",
       "2     -2091.0   2139.624501              0.496271                  0.204651   \n",
       "3     -5964.4   8961.885316              0.400476                  0.300513   \n",
       "4         0.0      0.000000                   NaN                       NaN   \n",
       "5      -668.6    388.532346              0.633304                  0.116223   \n",
       "6     -1268.6   1961.389233              0.393244                  0.309221   \n",
       "7     -1044.6   1250.295779              0.455979                  0.239383   \n",
       "8      -875.4    152.513522              0.854788                  0.034844   \n",
       "9        -0.6      6.671075              0.082519                  2.223692   \n",
       "10        0.0      0.000000                   NaN                       NaN   \n",
       "\n",
       "    sim1_avg_investments_per_day  sim1_capital  sim1_CAGR  \\\n",
       "0                       1.866822        1000.0   1.035523   \n",
       "1                      16.526483       11000.0   1.077237   \n",
       "2                      21.918239       13000.0   1.038826   \n",
       "3                      31.491024       16500.0   1.114555   \n",
       "4                            NaN           NaN        NaN   \n",
       "5                       5.365971        3000.0   1.030914   \n",
       "6                       7.216155        5000.0   1.086254   \n",
       "7                       6.440197        4000.0   1.070363   \n",
       "8                       5.561626        3500.0   1.010720   \n",
       "9                       1.000000         500.0   1.003319   \n",
       "10                           NaN           NaN        NaN   \n",
       "\n",
       "    sim1_growth_capital_4y  \n",
       "0                 1.149846  \n",
       "1                 1.346620  \n",
       "2                 1.164587  \n",
       "3                 1.543145  \n",
       "4                      NaN  \n",
       "5                 1.129511  \n",
       "6                 1.392278  \n",
       "7                 1.312574  \n",
       "8                 1.043575  \n",
       "9                 1.013342  \n",
       "10                     NaN  "
      ]
     },
     "execution_count": 436,
     "metadata": {},
     "output_type": "execute_result"
    }
   ],
   "source": [
    "# final comparison\n",
    "df_sim1_results"
   ]
  },
  {
   "cell_type": "code",
   "execution_count": 296,
   "metadata": {
    "colab": {
     "base_uri": "https://localhost:8080/",
     "height": 542
    },
    "id": "nVqxN-1wEGGj",
    "outputId": "a57def22-8af2-4fa8-d4e8-ded4306e2bdd"
   },
   "outputs": [
    {
     "data": {
      "application/vnd.plotly.v1+json": {
       "config": {
        "plotlyServerURL": "https://plot.ly"
       },
       "data": [
        {
         "hovertemplate": "sim1_avg_investments_per_day=%{x}<br>sim1_CAGR=%{y}<br>sim1_growth_capital_4y=%{marker.size}<br>prediction=%{text}<extra></extra>",
         "legendgroup": "",
         "marker": {
          "color": "#636efa",
          "size": [
           1.1498458895152726,
           1.3466197385724221,
           1.1645865000916178,
           1.5431445645820265,
           1.0649494753660371,
           1.5568535209487182,
           1.5180568410151989,
           1.2085091978802383,
           1.0118859324584848
          ],
          "sizemode": "area",
          "sizeref": 0.0038921338023717956,
          "symbol": "circle"
         },
         "mode": "markers+text",
         "name": "",
         "orientation": "v",
         "showlegend": false,
         "text": [
          "pred0_manual_cci",
          "pred1_manual_prev_g1",
          "pred2_manual_prev_g1_and_snp",
          "pred3_manual_gdp_and_fastd",
          "pred5_clf_10",
          "pred6_clf_best",
          "pred7_clf_best_rule_66",
          "pred8_clf_best_rule_78",
          "pred9_rf_best_rule_55"
         ],
         "textposition": "top center",
         "type": "scatter",
         "x": [
          1.8668224299065421,
          16.526483050847457,
          21.91823899371069,
          31.49102428722281,
          5.2259696458684655,
          7.072383073496659,
          6.33939393939394,
          5.542394014962594,
          1
         ],
         "xaxis": "x",
         "y": [
          1.035523381042123,
          1.077236955940904,
          1.0388263041107977,
          1.114555382053512,
          1.0158562361240082,
          1.1170225441725787,
          1.1099975196105012,
          1.0484856478847773,
          1.0029583296336853
         ],
         "yaxis": "y"
        }
       ],
       "layout": {
        "autosize": true,
        "legend": {
         "itemsizing": "constant",
         "tracegroupgap": 0
        },
        "template": {
         "data": {
          "bar": [
           {
            "error_x": {
             "color": "#2a3f5f"
            },
            "error_y": {
             "color": "#2a3f5f"
            },
            "marker": {
             "line": {
              "color": "#E5ECF6",
              "width": 0.5
             },
             "pattern": {
              "fillmode": "overlay",
              "size": 10,
              "solidity": 0.2
             }
            },
            "type": "bar"
           }
          ],
          "barpolar": [
           {
            "marker": {
             "line": {
              "color": "#E5ECF6",
              "width": 0.5
             },
             "pattern": {
              "fillmode": "overlay",
              "size": 10,
              "solidity": 0.2
             }
            },
            "type": "barpolar"
           }
          ],
          "carpet": [
           {
            "aaxis": {
             "endlinecolor": "#2a3f5f",
             "gridcolor": "white",
             "linecolor": "white",
             "minorgridcolor": "white",
             "startlinecolor": "#2a3f5f"
            },
            "baxis": {
             "endlinecolor": "#2a3f5f",
             "gridcolor": "white",
             "linecolor": "white",
             "minorgridcolor": "white",
             "startlinecolor": "#2a3f5f"
            },
            "type": "carpet"
           }
          ],
          "choropleth": [
           {
            "colorbar": {
             "outlinewidth": 0,
             "ticks": ""
            },
            "type": "choropleth"
           }
          ],
          "contour": [
           {
            "colorbar": {
             "outlinewidth": 0,
             "ticks": ""
            },
            "colorscale": [
             [
              0,
              "#0d0887"
             ],
             [
              0.1111111111111111,
              "#46039f"
             ],
             [
              0.2222222222222222,
              "#7201a8"
             ],
             [
              0.3333333333333333,
              "#9c179e"
             ],
             [
              0.4444444444444444,
              "#bd3786"
             ],
             [
              0.5555555555555556,
              "#d8576b"
             ],
             [
              0.6666666666666666,
              "#ed7953"
             ],
             [
              0.7777777777777778,
              "#fb9f3a"
             ],
             [
              0.8888888888888888,
              "#fdca26"
             ],
             [
              1,
              "#f0f921"
             ]
            ],
            "type": "contour"
           }
          ],
          "contourcarpet": [
           {
            "colorbar": {
             "outlinewidth": 0,
             "ticks": ""
            },
            "type": "contourcarpet"
           }
          ],
          "heatmap": [
           {
            "colorbar": {
             "outlinewidth": 0,
             "ticks": ""
            },
            "colorscale": [
             [
              0,
              "#0d0887"
             ],
             [
              0.1111111111111111,
              "#46039f"
             ],
             [
              0.2222222222222222,
              "#7201a8"
             ],
             [
              0.3333333333333333,
              "#9c179e"
             ],
             [
              0.4444444444444444,
              "#bd3786"
             ],
             [
              0.5555555555555556,
              "#d8576b"
             ],
             [
              0.6666666666666666,
              "#ed7953"
             ],
             [
              0.7777777777777778,
              "#fb9f3a"
             ],
             [
              0.8888888888888888,
              "#fdca26"
             ],
             [
              1,
              "#f0f921"
             ]
            ],
            "type": "heatmap"
           }
          ],
          "heatmapgl": [
           {
            "colorbar": {
             "outlinewidth": 0,
             "ticks": ""
            },
            "colorscale": [
             [
              0,
              "#0d0887"
             ],
             [
              0.1111111111111111,
              "#46039f"
             ],
             [
              0.2222222222222222,
              "#7201a8"
             ],
             [
              0.3333333333333333,
              "#9c179e"
             ],
             [
              0.4444444444444444,
              "#bd3786"
             ],
             [
              0.5555555555555556,
              "#d8576b"
             ],
             [
              0.6666666666666666,
              "#ed7953"
             ],
             [
              0.7777777777777778,
              "#fb9f3a"
             ],
             [
              0.8888888888888888,
              "#fdca26"
             ],
             [
              1,
              "#f0f921"
             ]
            ],
            "type": "heatmapgl"
           }
          ],
          "histogram": [
           {
            "marker": {
             "pattern": {
              "fillmode": "overlay",
              "size": 10,
              "solidity": 0.2
             }
            },
            "type": "histogram"
           }
          ],
          "histogram2d": [
           {
            "colorbar": {
             "outlinewidth": 0,
             "ticks": ""
            },
            "colorscale": [
             [
              0,
              "#0d0887"
             ],
             [
              0.1111111111111111,
              "#46039f"
             ],
             [
              0.2222222222222222,
              "#7201a8"
             ],
             [
              0.3333333333333333,
              "#9c179e"
             ],
             [
              0.4444444444444444,
              "#bd3786"
             ],
             [
              0.5555555555555556,
              "#d8576b"
             ],
             [
              0.6666666666666666,
              "#ed7953"
             ],
             [
              0.7777777777777778,
              "#fb9f3a"
             ],
             [
              0.8888888888888888,
              "#fdca26"
             ],
             [
              1,
              "#f0f921"
             ]
            ],
            "type": "histogram2d"
           }
          ],
          "histogram2dcontour": [
           {
            "colorbar": {
             "outlinewidth": 0,
             "ticks": ""
            },
            "colorscale": [
             [
              0,
              "#0d0887"
             ],
             [
              0.1111111111111111,
              "#46039f"
             ],
             [
              0.2222222222222222,
              "#7201a8"
             ],
             [
              0.3333333333333333,
              "#9c179e"
             ],
             [
              0.4444444444444444,
              "#bd3786"
             ],
             [
              0.5555555555555556,
              "#d8576b"
             ],
             [
              0.6666666666666666,
              "#ed7953"
             ],
             [
              0.7777777777777778,
              "#fb9f3a"
             ],
             [
              0.8888888888888888,
              "#fdca26"
             ],
             [
              1,
              "#f0f921"
             ]
            ],
            "type": "histogram2dcontour"
           }
          ],
          "mesh3d": [
           {
            "colorbar": {
             "outlinewidth": 0,
             "ticks": ""
            },
            "type": "mesh3d"
           }
          ],
          "parcoords": [
           {
            "line": {
             "colorbar": {
              "outlinewidth": 0,
              "ticks": ""
             }
            },
            "type": "parcoords"
           }
          ],
          "pie": [
           {
            "automargin": true,
            "type": "pie"
           }
          ],
          "scatter": [
           {
            "fillpattern": {
             "fillmode": "overlay",
             "size": 10,
             "solidity": 0.2
            },
            "type": "scatter"
           }
          ],
          "scatter3d": [
           {
            "line": {
             "colorbar": {
              "outlinewidth": 0,
              "ticks": ""
             }
            },
            "marker": {
             "colorbar": {
              "outlinewidth": 0,
              "ticks": ""
             }
            },
            "type": "scatter3d"
           }
          ],
          "scattercarpet": [
           {
            "marker": {
             "colorbar": {
              "outlinewidth": 0,
              "ticks": ""
             }
            },
            "type": "scattercarpet"
           }
          ],
          "scattergeo": [
           {
            "marker": {
             "colorbar": {
              "outlinewidth": 0,
              "ticks": ""
             }
            },
            "type": "scattergeo"
           }
          ],
          "scattergl": [
           {
            "marker": {
             "colorbar": {
              "outlinewidth": 0,
              "ticks": ""
             }
            },
            "type": "scattergl"
           }
          ],
          "scattermapbox": [
           {
            "marker": {
             "colorbar": {
              "outlinewidth": 0,
              "ticks": ""
             }
            },
            "type": "scattermapbox"
           }
          ],
          "scatterpolar": [
           {
            "marker": {
             "colorbar": {
              "outlinewidth": 0,
              "ticks": ""
             }
            },
            "type": "scatterpolar"
           }
          ],
          "scatterpolargl": [
           {
            "marker": {
             "colorbar": {
              "outlinewidth": 0,
              "ticks": ""
             }
            },
            "type": "scatterpolargl"
           }
          ],
          "scatterternary": [
           {
            "marker": {
             "colorbar": {
              "outlinewidth": 0,
              "ticks": ""
             }
            },
            "type": "scatterternary"
           }
          ],
          "surface": [
           {
            "colorbar": {
             "outlinewidth": 0,
             "ticks": ""
            },
            "colorscale": [
             [
              0,
              "#0d0887"
             ],
             [
              0.1111111111111111,
              "#46039f"
             ],
             [
              0.2222222222222222,
              "#7201a8"
             ],
             [
              0.3333333333333333,
              "#9c179e"
             ],
             [
              0.4444444444444444,
              "#bd3786"
             ],
             [
              0.5555555555555556,
              "#d8576b"
             ],
             [
              0.6666666666666666,
              "#ed7953"
             ],
             [
              0.7777777777777778,
              "#fb9f3a"
             ],
             [
              0.8888888888888888,
              "#fdca26"
             ],
             [
              1,
              "#f0f921"
             ]
            ],
            "type": "surface"
           }
          ],
          "table": [
           {
            "cells": {
             "fill": {
              "color": "#EBF0F8"
             },
             "line": {
              "color": "white"
             }
            },
            "header": {
             "fill": {
              "color": "#C8D4E3"
             },
             "line": {
              "color": "white"
             }
            },
            "type": "table"
           }
          ]
         },
         "layout": {
          "annotationdefaults": {
           "arrowcolor": "#2a3f5f",
           "arrowhead": 0,
           "arrowwidth": 1
          },
          "autotypenumbers": "strict",
          "coloraxis": {
           "colorbar": {
            "outlinewidth": 0,
            "ticks": ""
           }
          },
          "colorscale": {
           "diverging": [
            [
             0,
             "#8e0152"
            ],
            [
             0.1,
             "#c51b7d"
            ],
            [
             0.2,
             "#de77ae"
            ],
            [
             0.3,
             "#f1b6da"
            ],
            [
             0.4,
             "#fde0ef"
            ],
            [
             0.5,
             "#f7f7f7"
            ],
            [
             0.6,
             "#e6f5d0"
            ],
            [
             0.7,
             "#b8e186"
            ],
            [
             0.8,
             "#7fbc41"
            ],
            [
             0.9,
             "#4d9221"
            ],
            [
             1,
             "#276419"
            ]
           ],
           "sequential": [
            [
             0,
             "#0d0887"
            ],
            [
             0.1111111111111111,
             "#46039f"
            ],
            [
             0.2222222222222222,
             "#7201a8"
            ],
            [
             0.3333333333333333,
             "#9c179e"
            ],
            [
             0.4444444444444444,
             "#bd3786"
            ],
            [
             0.5555555555555556,
             "#d8576b"
            ],
            [
             0.6666666666666666,
             "#ed7953"
            ],
            [
             0.7777777777777778,
             "#fb9f3a"
            ],
            [
             0.8888888888888888,
             "#fdca26"
            ],
            [
             1,
             "#f0f921"
            ]
           ],
           "sequentialminus": [
            [
             0,
             "#0d0887"
            ],
            [
             0.1111111111111111,
             "#46039f"
            ],
            [
             0.2222222222222222,
             "#7201a8"
            ],
            [
             0.3333333333333333,
             "#9c179e"
            ],
            [
             0.4444444444444444,
             "#bd3786"
            ],
            [
             0.5555555555555556,
             "#d8576b"
            ],
            [
             0.6666666666666666,
             "#ed7953"
            ],
            [
             0.7777777777777778,
             "#fb9f3a"
            ],
            [
             0.8888888888888888,
             "#fdca26"
            ],
            [
             1,
             "#f0f921"
            ]
           ]
          },
          "colorway": [
           "#636efa",
           "#EF553B",
           "#00cc96",
           "#ab63fa",
           "#FFA15A",
           "#19d3f3",
           "#FF6692",
           "#B6E880",
           "#FF97FF",
           "#FECB52"
          ],
          "font": {
           "color": "#2a3f5f"
          },
          "geo": {
           "bgcolor": "white",
           "lakecolor": "white",
           "landcolor": "#E5ECF6",
           "showlakes": true,
           "showland": true,
           "subunitcolor": "white"
          },
          "hoverlabel": {
           "align": "left"
          },
          "hovermode": "closest",
          "mapbox": {
           "style": "light"
          },
          "paper_bgcolor": "white",
          "plot_bgcolor": "#E5ECF6",
          "polar": {
           "angularaxis": {
            "gridcolor": "white",
            "linecolor": "white",
            "ticks": ""
           },
           "bgcolor": "#E5ECF6",
           "radialaxis": {
            "gridcolor": "white",
            "linecolor": "white",
            "ticks": ""
           }
          },
          "scene": {
           "xaxis": {
            "backgroundcolor": "#E5ECF6",
            "gridcolor": "white",
            "gridwidth": 2,
            "linecolor": "white",
            "showbackground": true,
            "ticks": "",
            "zerolinecolor": "white"
           },
           "yaxis": {
            "backgroundcolor": "#E5ECF6",
            "gridcolor": "white",
            "gridwidth": 2,
            "linecolor": "white",
            "showbackground": true,
            "ticks": "",
            "zerolinecolor": "white"
           },
           "zaxis": {
            "backgroundcolor": "#E5ECF6",
            "gridcolor": "white",
            "gridwidth": 2,
            "linecolor": "white",
            "showbackground": true,
            "ticks": "",
            "zerolinecolor": "white"
           }
          },
          "shapedefaults": {
           "line": {
            "color": "#2a3f5f"
           }
          },
          "ternary": {
           "aaxis": {
            "gridcolor": "white",
            "linecolor": "white",
            "ticks": ""
           },
           "baxis": {
            "gridcolor": "white",
            "linecolor": "white",
            "ticks": ""
           },
           "bgcolor": "#E5ECF6",
           "caxis": {
            "gridcolor": "white",
            "linecolor": "white",
            "ticks": ""
           }
          },
          "title": {
           "x": 0.05
          },
          "xaxis": {
           "automargin": true,
           "gridcolor": "white",
           "linecolor": "white",
           "ticks": "",
           "title": {
            "standoff": 15
           },
           "zerolinecolor": "white",
           "zerolinewidth": 2
          },
          "yaxis": {
           "automargin": true,
           "gridcolor": "white",
           "linecolor": "white",
           "ticks": "",
           "title": {
            "standoff": 15
           },
           "zerolinecolor": "white",
           "zerolinewidth": 2
          }
         }
        },
        "title": {
         "text": "Compound Annual Growth vs. Time spent (Average investments per day)"
        },
        "xaxis": {
         "anchor": "y",
         "autorange": true,
         "domain": [
          0,
          1
         ],
         "range": [
          -1.2180252777223055,
          33.81856653686172
         ],
         "title": {
          "text": "sim1_avg_investments_per_day"
         },
         "type": "linear"
        },
        "yaxis": {
         "anchor": "x",
         "autorange": true,
         "domain": [
          0,
          1
         ],
         "range": [
          0.9843691526239206,
          1.1382310257170736
         ],
         "title": {
          "text": "sim1_CAGR"
         },
         "type": "linear"
        }
       }
      },
      "image/png": "[encoded data removed]",
      "text/html": [
       "<div>                            <div id=\"1d593c15-d80d-4868-be68-d70385a3ee10\" class=\"plotly-graph-div\" style=\"height:525px; width:100%;\"></div>            <script type=\"text/javascript\">                require([\"plotly\"], function(Plotly) {                    window.PLOTLYENV=window.PLOTLYENV || {};                                    if (document.getElementById(\"1d593c15-d80d-4868-be68-d70385a3ee10\")) {                    Plotly.newPlot(                        \"1d593c15-d80d-4868-be68-d70385a3ee10\",                        [{\"hovertemplate\":\"sim1_avg_investments_per_day=%{x}\\u003cbr\\u003esim1_CAGR=%{y}\\u003cbr\\u003esim1_growth_capital_4y=%{marker.size}\\u003cbr\\u003eprediction=%{text}\\u003cextra\\u003e\\u003c\\u002fextra\\u003e\",\"legendgroup\":\"\",\"marker\":{\"color\":\"#636efa\",\"size\":[1.1498458895152726,1.3466197385724221,1.1645865000916178,1.5431445645820265,1.0649494753660371,1.5568535209487182,1.5180568410151989,1.2085091978802383,1.0118859324584848],\"sizemode\":\"area\",\"sizeref\":0.0038921338023717956,\"symbol\":\"circle\"},\"mode\":\"markers+text\",\"name\":\"\",\"orientation\":\"v\",\"showlegend\":false,\"text\":[\"pred0_manual_cci\",\"pred1_manual_prev_g1\",\"pred2_manual_prev_g1_and_snp\",\"pred3_manual_gdp_and_fastd\",\"pred5_clf_10\",\"pred6_clf_best\",\"pred7_clf_best_rule_66\",\"pred8_clf_best_rule_78\",\"pred9_rf_best_rule_55\"],\"x\":[1.8668224299065421,16.526483050847457,21.91823899371069,31.49102428722281,5.2259696458684655,7.072383073496659,6.33939393939394,5.542394014962594,1.0],\"xaxis\":\"x\",\"y\":[1.035523381042123,1.077236955940904,1.0388263041107977,1.114555382053512,1.0158562361240082,1.1170225441725787,1.1099975196105012,1.0484856478847773,1.0029583296336853],\"yaxis\":\"y\",\"type\":\"scatter\",\"textposition\":\"top center\"}],                        {\"template\":{\"data\":{\"histogram2dcontour\":[{\"type\":\"histogram2dcontour\",\"colorbar\":{\"outlinewidth\":0,\"ticks\":\"\"},\"colorscale\":[[0.0,\"#0d0887\"],[0.1111111111111111,\"#46039f\"],[0.2222222222222222,\"#7201a8\"],[0.3333333333333333,\"#9c179e\"],[0.4444444444444444,\"#bd3786\"],[0.5555555555555556,\"#d8576b\"],[0.6666666666666666,\"#ed7953\"],[0.7777777777777778,\"#fb9f3a\"],[0.8888888888888888,\"#fdca26\"],[1.0,\"#f0f921\"]]}],\"choropleth\":[{\"type\":\"choropleth\",\"colorbar\":{\"outlinewidth\":0,\"ticks\":\"\"}}],\"histogram2d\":[{\"type\":\"histogram2d\",\"colorbar\":{\"outlinewidth\":0,\"ticks\":\"\"},\"colorscale\":[[0.0,\"#0d0887\"],[0.1111111111111111,\"#46039f\"],[0.2222222222222222,\"#7201a8\"],[0.3333333333333333,\"#9c179e\"],[0.4444444444444444,\"#bd3786\"],[0.5555555555555556,\"#d8576b\"],[0.6666666666666666,\"#ed7953\"],[0.7777777777777778,\"#fb9f3a\"],[0.8888888888888888,\"#fdca26\"],[1.0,\"#f0f921\"]]}],\"heatmap\":[{\"type\":\"heatmap\",\"colorbar\":{\"outlinewidth\":0,\"ticks\":\"\"},\"colorscale\":[[0.0,\"#0d0887\"],[0.1111111111111111,\"#46039f\"],[0.2222222222222222,\"#7201a8\"],[0.3333333333333333,\"#9c179e\"],[0.4444444444444444,\"#bd3786\"],[0.5555555555555556,\"#d8576b\"],[0.6666666666666666,\"#ed7953\"],[0.7777777777777778,\"#fb9f3a\"],[0.8888888888888888,\"#fdca26\"],[1.0,\"#f0f921\"]]}],\"heatmapgl\":[{\"type\":\"heatmapgl\",\"colorbar\":{\"outlinewidth\":0,\"ticks\":\"\"},\"colorscale\":[[0.0,\"#0d0887\"],[0.1111111111111111,\"#46039f\"],[0.2222222222222222,\"#7201a8\"],[0.3333333333333333,\"#9c179e\"],[0.4444444444444444,\"#bd3786\"],[0.5555555555555556,\"#d8576b\"],[0.6666666666666666,\"#ed7953\"],[0.7777777777777778,\"#fb9f3a\"],[0.8888888888888888,\"#fdca26\"],[1.0,\"#f0f921\"]]}],\"contourcarpet\":[{\"type\":\"contourcarpet\",\"colorbar\":{\"outlinewidth\":0,\"ticks\":\"\"}}],\"contour\":[{\"type\":\"contour\",\"colorbar\":{\"outlinewidth\":0,\"ticks\":\"\"},\"colorscale\":[[0.0,\"#0d0887\"],[0.1111111111111111,\"#46039f\"],[0.2222222222222222,\"#7201a8\"],[0.3333333333333333,\"#9c179e\"],[0.4444444444444444,\"#bd3786\"],[0.5555555555555556,\"#d8576b\"],[0.6666666666666666,\"#ed7953\"],[0.7777777777777778,\"#fb9f3a\"],[0.8888888888888888,\"#fdca26\"],[1.0,\"#f0f921\"]]}],\"surface\":[{\"type\":\"surface\",\"colorbar\":{\"outlinewidth\":0,\"ticks\":\"\"},\"colorscale\":[[0.0,\"#0d0887\"],[0.1111111111111111,\"#46039f\"],[0.2222222222222222,\"#7201a8\"],[0.3333333333333333,\"#9c179e\"],[0.4444444444444444,\"#bd3786\"],[0.5555555555555556,\"#d8576b\"],[0.6666666666666666,\"#ed7953\"],[0.7777777777777778,\"#fb9f3a\"],[0.8888888888888888,\"#fdca26\"],[1.0,\"#f0f921\"]]}],\"mesh3d\":[{\"type\":\"mesh3d\",\"colorbar\":{\"outlinewidth\":0,\"ticks\":\"\"}}],\"scatter\":[{\"fillpattern\":{\"fillmode\":\"overlay\",\"size\":10,\"solidity\":0.2},\"type\":\"scatter\"}],\"parcoords\":[{\"type\":\"parcoords\",\"line\":{\"colorbar\":{\"outlinewidth\":0,\"ticks\":\"\"}}}],\"scatterpolargl\":[{\"type\":\"scatterpolargl\",\"marker\":{\"colorbar\":{\"outlinewidth\":0,\"ticks\":\"\"}}}],\"bar\":[{\"error_x\":{\"color\":\"#2a3f5f\"},\"error_y\":{\"color\":\"#2a3f5f\"},\"marker\":{\"line\":{\"color\":\"#E5ECF6\",\"width\":0.5},\"pattern\":{\"fillmode\":\"overlay\",\"size\":10,\"solidity\":0.2}},\"type\":\"bar\"}],\"scattergeo\":[{\"type\":\"scattergeo\",\"marker\":{\"colorbar\":{\"outlinewidth\":0,\"ticks\":\"\"}}}],\"scatterpolar\":[{\"type\":\"scatterpolar\",\"marker\":{\"colorbar\":{\"outlinewidth\":0,\"ticks\":\"\"}}}],\"histogram\":[{\"marker\":{\"pattern\":{\"fillmode\":\"overlay\",\"size\":10,\"solidity\":0.2}},\"type\":\"histogram\"}],\"scattergl\":[{\"type\":\"scattergl\",\"marker\":{\"colorbar\":{\"outlinewidth\":0,\"ticks\":\"\"}}}],\"scatter3d\":[{\"type\":\"scatter3d\",\"line\":{\"colorbar\":{\"outlinewidth\":0,\"ticks\":\"\"}},\"marker\":{\"colorbar\":{\"outlinewidth\":0,\"ticks\":\"\"}}}],\"scattermapbox\":[{\"type\":\"scattermapbox\",\"marker\":{\"colorbar\":{\"outlinewidth\":0,\"ticks\":\"\"}}}],\"scatterternary\":[{\"type\":\"scatterternary\",\"marker\":{\"colorbar\":{\"outlinewidth\":0,\"ticks\":\"\"}}}],\"scattercarpet\":[{\"type\":\"scattercarpet\",\"marker\":{\"colorbar\":{\"outlinewidth\":0,\"ticks\":\"\"}}}],\"carpet\":[{\"aaxis\":{\"endlinecolor\":\"#2a3f5f\",\"gridcolor\":\"white\",\"linecolor\":\"white\",\"minorgridcolor\":\"white\",\"startlinecolor\":\"#2a3f5f\"},\"baxis\":{\"endlinecolor\":\"#2a3f5f\",\"gridcolor\":\"white\",\"linecolor\":\"white\",\"minorgridcolor\":\"white\",\"startlinecolor\":\"#2a3f5f\"},\"type\":\"carpet\"}],\"table\":[{\"cells\":{\"fill\":{\"color\":\"#EBF0F8\"},\"line\":{\"color\":\"white\"}},\"header\":{\"fill\":{\"color\":\"#C8D4E3\"},\"line\":{\"color\":\"white\"}},\"type\":\"table\"}],\"barpolar\":[{\"marker\":{\"line\":{\"color\":\"#E5ECF6\",\"width\":0.5},\"pattern\":{\"fillmode\":\"overlay\",\"size\":10,\"solidity\":0.2}},\"type\":\"barpolar\"}],\"pie\":[{\"automargin\":true,\"type\":\"pie\"}]},\"layout\":{\"autotypenumbers\":\"strict\",\"colorway\":[\"#636efa\",\"#EF553B\",\"#00cc96\",\"#ab63fa\",\"#FFA15A\",\"#19d3f3\",\"#FF6692\",\"#B6E880\",\"#FF97FF\",\"#FECB52\"],\"font\":{\"color\":\"#2a3f5f\"},\"hovermode\":\"closest\",\"hoverlabel\":{\"align\":\"left\"},\"paper_bgcolor\":\"white\",\"plot_bgcolor\":\"#E5ECF6\",\"polar\":{\"bgcolor\":\"#E5ECF6\",\"angularaxis\":{\"gridcolor\":\"white\",\"linecolor\":\"white\",\"ticks\":\"\"},\"radialaxis\":{\"gridcolor\":\"white\",\"linecolor\":\"white\",\"ticks\":\"\"}},\"ternary\":{\"bgcolor\":\"#E5ECF6\",\"aaxis\":{\"gridcolor\":\"white\",\"linecolor\":\"white\",\"ticks\":\"\"},\"baxis\":{\"gridcolor\":\"white\",\"linecolor\":\"white\",\"ticks\":\"\"},\"caxis\":{\"gridcolor\":\"white\",\"linecolor\":\"white\",\"ticks\":\"\"}},\"coloraxis\":{\"colorbar\":{\"outlinewidth\":0,\"ticks\":\"\"}},\"colorscale\":{\"sequential\":[[0.0,\"#0d0887\"],[0.1111111111111111,\"#46039f\"],[0.2222222222222222,\"#7201a8\"],[0.3333333333333333,\"#9c179e\"],[0.4444444444444444,\"#bd3786\"],[0.5555555555555556,\"#d8576b\"],[0.6666666666666666,\"#ed7953\"],[0.7777777777777778,\"#fb9f3a\"],[0.8888888888888888,\"#fdca26\"],[1.0,\"#f0f921\"]],\"sequentialminus\":[[0.0,\"#0d0887\"],[0.1111111111111111,\"#46039f\"],[0.2222222222222222,\"#7201a8\"],[0.3333333333333333,\"#9c179e\"],[0.4444444444444444,\"#bd3786\"],[0.5555555555555556,\"#d8576b\"],[0.6666666666666666,\"#ed7953\"],[0.7777777777777778,\"#fb9f3a\"],[0.8888888888888888,\"#fdca26\"],[1.0,\"#f0f921\"]],\"diverging\":[[0,\"#8e0152\"],[0.1,\"#c51b7d\"],[0.2,\"#de77ae\"],[0.3,\"#f1b6da\"],[0.4,\"#fde0ef\"],[0.5,\"#f7f7f7\"],[0.6,\"#e6f5d0\"],[0.7,\"#b8e186\"],[0.8,\"#7fbc41\"],[0.9,\"#4d9221\"],[1,\"#276419\"]]},\"xaxis\":{\"gridcolor\":\"white\",\"linecolor\":\"white\",\"ticks\":\"\",\"title\":{\"standoff\":15},\"zerolinecolor\":\"white\",\"automargin\":true,\"zerolinewidth\":2},\"yaxis\":{\"gridcolor\":\"white\",\"linecolor\":\"white\",\"ticks\":\"\",\"title\":{\"standoff\":15},\"zerolinecolor\":\"white\",\"automargin\":true,\"zerolinewidth\":2},\"scene\":{\"xaxis\":{\"backgroundcolor\":\"#E5ECF6\",\"gridcolor\":\"white\",\"linecolor\":\"white\",\"showbackground\":true,\"ticks\":\"\",\"zerolinecolor\":\"white\",\"gridwidth\":2},\"yaxis\":{\"backgroundcolor\":\"#E5ECF6\",\"gridcolor\":\"white\",\"linecolor\":\"white\",\"showbackground\":true,\"ticks\":\"\",\"zerolinecolor\":\"white\",\"gridwidth\":2},\"zaxis\":{\"backgroundcolor\":\"#E5ECF6\",\"gridcolor\":\"white\",\"linecolor\":\"white\",\"showbackground\":true,\"ticks\":\"\",\"zerolinecolor\":\"white\",\"gridwidth\":2}},\"shapedefaults\":{\"line\":{\"color\":\"#2a3f5f\"}},\"annotationdefaults\":{\"arrowcolor\":\"#2a3f5f\",\"arrowhead\":0,\"arrowwidth\":1},\"geo\":{\"bgcolor\":\"white\",\"landcolor\":\"#E5ECF6\",\"subunitcolor\":\"white\",\"showland\":true,\"showlakes\":true,\"lakecolor\":\"white\"},\"title\":{\"x\":0.05},\"mapbox\":{\"style\":\"light\"}}},\"xaxis\":{\"anchor\":\"y\",\"domain\":[0.0,1.0],\"title\":{\"text\":\"sim1_avg_investments_per_day\"}},\"yaxis\":{\"anchor\":\"x\",\"domain\":[0.0,1.0],\"title\":{\"text\":\"sim1_CAGR\"}},\"legend\":{\"tracegroupgap\":0,\"itemsizing\":\"constant\"},\"title\":{\"text\":\"Compound Annual Growth vs. Time spent (Average investments per day)\"}},                        {\"responsive\": true}                    ).then(function(){\n",
       "                            \n",
       "var gd = document.getElementById('1d593c15-d80d-4868-be68-d70385a3ee10');\n",
       "var x = new MutationObserver(function (mutations, observer) {{\n",
       "        var display = window.getComputedStyle(gd).display;\n",
       "        if (!display || display === 'none') {{\n",
       "            console.log([gd, 'removed!']);\n",
       "            Plotly.purge(gd);\n",
       "            observer.disconnect();\n",
       "        }}\n",
       "}});\n",
       "\n",
       "// Listen for the removal of the full notebook cells\n",
       "var notebookContainer = gd.closest('#notebook-container');\n",
       "if (notebookContainer) {{\n",
       "    x.observe(notebookContainer, {childList: true});\n",
       "}}\n",
       "\n",
       "// Listen for the clearing of the current output cell\n",
       "var outputEl = gd.closest('.output');\n",
       "if (outputEl) {{\n",
       "    x.observe(outputEl, {childList: true});\n",
       "}}\n",
       "\n",
       "                        })                };                });            </script>        </div>"
      ]
     },
     "metadata": {},
     "output_type": "display_data"
    }
   ],
   "source": [
    "# Create the scatter plot\n",
    "fig = px.scatter(\n",
    "    df_sim1_results.dropna(),\n",
    "    x='sim1_avg_investments_per_day',\n",
    "    y='sim1_CAGR',\n",
    "    size='sim1_growth_capital_4y',  # Use the 'size' parameter for sim1_CAGR\n",
    "    text='prediction',\n",
    "    title='Compound Annual Growth vs. Time spent (Average investments per day)',\n",
    "    labels={'sim1_capital': 'Initial Capital Requirement', 'growth_capital_4y': '4-Year Capital Growth'}\n",
    ")\n",
    "\n",
    "# Update the layout to improve readability of the annotations\n",
    "fig.update_traces(textposition='top center')\n",
    "\n",
    "# Show the plot\n",
    "fig.show()"
   ]
  },
  {
   "cell_type": "code",
   "execution_count": null,
   "metadata": {},
   "outputs": [],
   "source": []
  }
 ],
 "metadata": {
  "colab": {
   "collapsed_sections": [
    "_Uu1B9NuqP8w"
   ],
   "provenance": []
  },
  "kernelspec": {
   "display_name": "Python 3 (ipykernel)",
   "language": "python",
   "name": "python3"
  },
  "language_info": {
   "codemirror_mode": {
    "name": "ipython",
    "version": 3
   },
   "file_extension": ".py",
   "mimetype": "text/x-python",
   "name": "python",
   "nbconvert_exporter": "python",
   "pygments_lexer": "ipython3",
   "version": "3.10.11"
  }
 },
 "nbformat": 4,
 "nbformat_minor": 4
}
