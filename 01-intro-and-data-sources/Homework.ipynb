{
 "cells": [
  {
   "cell_type": "code",
   "execution_count": 1,
   "id": "7dc8f2fa-4a40-4079-bffe-23cf6d402d25",
   "metadata": {},
   "outputs": [
    {
     "name": "stdout",
     "output_type": "stream",
     "text": [
      "Collecting yfinance\n",
      "  Downloading yfinance-0.2.38-py2.py3-none-any.whl.metadata (11 kB)\n",
      "Requirement already satisfied: pandas>=1.3.0 in c:\\users\\msofy\\appdata\\local\\programs\\python\\python310\\lib\\site-packages (from yfinance) (2.0.3)\n",
      "Requirement already satisfied: numpy>=1.16.5 in c:\\users\\msofy\\appdata\\local\\programs\\python\\python310\\lib\\site-packages (from yfinance) (1.26.4)\n",
      "Requirement already satisfied: requests>=2.31 in c:\\users\\msofy\\appdata\\local\\programs\\python\\python310\\lib\\site-packages (from yfinance) (2.31.0)\n",
      "Collecting multitasking>=0.0.7 (from yfinance)\n",
      "  Downloading multitasking-0.0.11-py3-none-any.whl.metadata (5.5 kB)\n",
      "Collecting lxml>=4.9.1 (from yfinance)\n",
      "  Downloading lxml-5.2.1-cp310-cp310-win_amd64.whl.metadata (3.5 kB)\n",
      "Collecting appdirs>=1.4.4 (from yfinance)\n",
      "  Downloading appdirs-1.4.4-py2.py3-none-any.whl.metadata (9.0 kB)\n",
      "Requirement already satisfied: pytz>=2022.5 in c:\\users\\msofy\\appdata\\local\\programs\\python\\python310\\lib\\site-packages (from yfinance) (2024.1)\n",
      "Collecting frozendict>=2.3.4 (from yfinance)\n",
      "  Downloading frozendict-2.4.2-cp310-cp310-win_amd64.whl.metadata (23 kB)\n",
      "Collecting peewee>=3.16.2 (from yfinance)\n",
      "  Downloading peewee-3.17.3.tar.gz (3.0 MB)\n",
      "     ---------------------------------------- 0.0/3.0 MB ? eta -:--:--\n",
      "     -- ------------------------------------- 0.2/3.0 MB 5.9 MB/s eta 0:00:01\n",
      "     ------ --------------------------------- 0.5/3.0 MB 5.6 MB/s eta 0:00:01\n",
      "     --------- ------------------------------ 0.7/3.0 MB 6.2 MB/s eta 0:00:01\n",
      "     --------- ------------------------------ 0.7/3.0 MB 4.5 MB/s eta 0:00:01\n",
      "     ----------------- ---------------------- 1.3/3.0 MB 5.7 MB/s eta 0:00:01\n",
      "     -------------------- ------------------- 1.5/3.0 MB 6.0 MB/s eta 0:00:01\n",
      "     ----------------------- ---------------- 1.8/3.0 MB 5.6 MB/s eta 0:00:01\n",
      "     ---------------------------- ----------- 2.1/3.0 MB 6.0 MB/s eta 0:00:01\n",
      "     ------------------------------ --------- 2.2/3.0 MB 5.5 MB/s eta 0:00:01\n",
      "     --------------------------------- ------ 2.4/3.0 MB 5.4 MB/s eta 0:00:01\n",
      "     ------------------------------------- -- 2.8/3.0 MB 5.7 MB/s eta 0:00:01\n",
      "     ---------------------------------------- 3.0/3.0 MB 5.5 MB/s eta 0:00:00\n",
      "  Installing build dependencies: started\n",
      "  Installing build dependencies: finished with status 'done'\n",
      "  Getting requirements to build wheel: started\n",
      "  Getting requirements to build wheel: finished with status 'done'\n",
      "  Preparing metadata (pyproject.toml): started\n",
      "  Preparing metadata (pyproject.toml): finished with status 'done'\n",
      "Requirement already satisfied: beautifulsoup4>=4.11.1 in c:\\users\\msofy\\appdata\\local\\programs\\python\\python310\\lib\\site-packages (from yfinance) (4.12.3)\n",
      "Collecting html5lib>=1.1 (from yfinance)\n",
      "  Downloading html5lib-1.1-py2.py3-none-any.whl.metadata (16 kB)\n",
      "Requirement already satisfied: soupsieve>1.2 in c:\\users\\msofy\\appdata\\local\\programs\\python\\python310\\lib\\site-packages (from beautifulsoup4>=4.11.1->yfinance) (2.5)\n",
      "Requirement already satisfied: six>=1.9 in c:\\users\\msofy\\appdata\\local\\programs\\python\\python310\\lib\\site-packages (from html5lib>=1.1->yfinance) (1.16.0)\n",
      "Requirement already satisfied: webencodings in c:\\users\\msofy\\appdata\\local\\programs\\python\\python310\\lib\\site-packages (from html5lib>=1.1->yfinance) (0.5.1)\n",
      "Requirement already satisfied: python-dateutil>=2.8.2 in c:\\users\\msofy\\appdata\\local\\programs\\python\\python310\\lib\\site-packages (from pandas>=1.3.0->yfinance) (2.9.0.post0)\n",
      "Requirement already satisfied: tzdata>=2022.1 in c:\\users\\msofy\\appdata\\local\\programs\\python\\python310\\lib\\site-packages (from pandas>=1.3.0->yfinance) (2024.1)\n",
      "Requirement already satisfied: charset-normalizer<4,>=2 in c:\\users\\msofy\\appdata\\local\\programs\\python\\python310\\lib\\site-packages (from requests>=2.31->yfinance) (3.3.2)\n",
      "Requirement already satisfied: idna<4,>=2.5 in c:\\users\\msofy\\appdata\\local\\programs\\python\\python310\\lib\\site-packages (from requests>=2.31->yfinance) (3.6)\n",
      "Requirement already satisfied: urllib3<3,>=1.21.1 in c:\\users\\msofy\\appdata\\local\\programs\\python\\python310\\lib\\site-packages (from requests>=2.31->yfinance) (2.2.1)\n",
      "Requirement already satisfied: certifi>=2017.4.17 in c:\\users\\msofy\\appdata\\local\\programs\\python\\python310\\lib\\site-packages (from requests>=2.31->yfinance) (2024.2.2)\n",
      "Downloading yfinance-0.2.38-py2.py3-none-any.whl (72 kB)\n",
      "   ---------------------------------------- 0.0/73.0 kB ? eta -:--:--\n",
      "   ---------------------------------------- 73.0/73.0 kB 4.2 MB/s eta 0:00:00\n",
      "Downloading appdirs-1.4.4-py2.py3-none-any.whl (9.6 kB)\n",
      "Downloading frozendict-2.4.2-cp310-cp310-win_amd64.whl (36 kB)\n",
      "Downloading html5lib-1.1-py2.py3-none-any.whl (112 kB)\n",
      "   ---------------------------------------- 0.0/112.2 kB ? eta -:--:--\n",
      "   ---------------------------------------- 112.2/112.2 kB ? eta 0:00:00\n",
      "Downloading lxml-5.2.1-cp310-cp310-win_amd64.whl (3.8 MB)\n",
      "   ---------------------------------------- 0.0/3.8 MB ? eta -:--:--\n",
      "   --- ------------------------------------ 0.3/3.8 MB 6.5 MB/s eta 0:00:01\n",
      "   ----- ---------------------------------- 0.5/3.8 MB 5.6 MB/s eta 0:00:01\n",
      "   -------- ------------------------------- 0.8/3.8 MB 6.1 MB/s eta 0:00:01\n",
      "   ----------- ---------------------------- 1.1/3.8 MB 5.9 MB/s eta 0:00:01\n",
      "   -------------- ------------------------- 1.4/3.8 MB 6.1 MB/s eta 0:00:01\n",
      "   ----------------- ---------------------- 1.7/3.8 MB 6.3 MB/s eta 0:00:01\n",
      "   -------------------- ------------------- 1.9/3.8 MB 6.1 MB/s eta 0:00:01\n",
      "   ----------------------- ---------------- 2.2/3.8 MB 5.9 MB/s eta 0:00:01\n",
      "   -------------------------- ------------- 2.5/3.8 MB 5.9 MB/s eta 0:00:01\n",
      "   ---------------------------- ----------- 2.7/3.8 MB 6.1 MB/s eta 0:00:01\n",
      "   ------------------------------ --------- 2.9/3.8 MB 5.9 MB/s eta 0:00:01\n",
      "   ------------------------------ --------- 2.9/3.8 MB 5.9 MB/s eta 0:00:01\n",
      "   ------------------------------ --------- 2.9/3.8 MB 5.9 MB/s eta 0:00:01\n",
      "   -------------------------------- ------- 3.1/3.8 MB 4.8 MB/s eta 0:00:01\n",
      "   --------------------------------- ------ 3.2/3.8 MB 4.6 MB/s eta 0:00:01\n",
      "   ------------------------------------ --- 3.5/3.8 MB 4.7 MB/s eta 0:00:01\n",
      "   ---------------------------------------  3.7/3.8 MB 4.7 MB/s eta 0:00:01\n",
      "   ---------------------------------------- 3.8/3.8 MB 4.7 MB/s eta 0:00:00\n",
      "Downloading multitasking-0.0.11-py3-none-any.whl (8.5 kB)\n",
      "Building wheels for collected packages: peewee\n",
      "  Building wheel for peewee (pyproject.toml): started\n",
      "  Building wheel for peewee (pyproject.toml): finished with status 'done'\n",
      "  Created wheel for peewee: filename=peewee-3.17.3-py3-none-any.whl size=138453 sha256=a7a2f5d8d6508e1d0ad15d5078a4f1fb685a07f463a1ed72adefc4b5722dd9d8\n",
      "  Stored in directory: c:\\users\\msofy\\appdata\\local\\pip\\cache\\wheels\\0d\\32\\b7\\cad9f818b37cf97df4c87a8308da86a433af81651d98f8d8aa\n",
      "Successfully built peewee\n",
      "Installing collected packages: peewee, multitasking, appdirs, lxml, html5lib, frozendict, yfinance\n",
      "Successfully installed appdirs-1.4.4 frozendict-2.4.2 html5lib-1.1 lxml-5.2.1 multitasking-0.0.11 peewee-3.17.3 yfinance-0.2.38\n"
     ]
    }
   ],
   "source": [
    "# install main library YFinance\n",
    "!pip install yfinance"
   ]
  },
  {
   "cell_type": "code",
   "execution_count": 3,
   "id": "6a8492ae-842c-4ac0-b20e-8f5915a83329",
   "metadata": {},
   "outputs": [
    {
     "name": "stdout",
     "output_type": "stream",
     "text": [
      "Collecting pandas-datareader\n",
      "  Downloading pandas_datareader-0.10.0-py3-none-any.whl.metadata (2.9 kB)\n",
      "Collecting plotly\n",
      "  Downloading plotly-5.21.0-py3-none-any.whl.metadata (7.1 kB)\n",
      "Collecting matplotlib\n",
      "  Downloading matplotlib-3.8.4-cp310-cp310-win_amd64.whl.metadata (5.9 kB)\n",
      "Requirement already satisfied: lxml in c:\\users\\msofy\\appdata\\local\\programs\\python\\python310\\lib\\site-packages (from pandas-datareader) (5.2.1)\n",
      "Requirement already satisfied: pandas>=0.23 in c:\\users\\msofy\\appdata\\local\\programs\\python\\python310\\lib\\site-packages (from pandas-datareader) (2.0.3)\n",
      "Requirement already satisfied: requests>=2.19.0 in c:\\users\\msofy\\appdata\\local\\programs\\python\\python310\\lib\\site-packages (from pandas-datareader) (2.31.0)\n",
      "Collecting tenacity>=6.2.0 (from plotly)\n",
      "  Using cached tenacity-8.2.3-py3-none-any.whl.metadata (1.0 kB)\n",
      "Requirement already satisfied: packaging in c:\\users\\msofy\\appdata\\local\\programs\\python\\python310\\lib\\site-packages (from plotly) (24.0)\n",
      "Collecting contourpy>=1.0.1 (from matplotlib)\n",
      "  Downloading contourpy-1.2.1-cp310-cp310-win_amd64.whl.metadata (5.8 kB)\n",
      "Collecting cycler>=0.10 (from matplotlib)\n",
      "  Downloading cycler-0.12.1-py3-none-any.whl.metadata (3.8 kB)\n",
      "Collecting fonttools>=4.22.0 (from matplotlib)\n",
      "  Downloading fonttools-4.51.0-cp310-cp310-win_amd64.whl.metadata (162 kB)\n",
      "     ---------------------------------------- 0.0/162.8 kB ? eta -:--:--\n",
      "     ------------------------------- ------ 133.1/162.8 kB 2.6 MB/s eta 0:00:01\n",
      "     -------------------------------------- 162.8/162.8 kB 3.2 MB/s eta 0:00:00\n",
      "Collecting kiwisolver>=1.3.1 (from matplotlib)\n",
      "  Downloading kiwisolver-1.4.5-cp310-cp310-win_amd64.whl.metadata (6.5 kB)\n",
      "Requirement already satisfied: numpy>=1.21 in c:\\users\\msofy\\appdata\\local\\programs\\python\\python310\\lib\\site-packages (from matplotlib) (1.26.4)\n",
      "Collecting pillow>=8 (from matplotlib)\n",
      "  Downloading pillow-10.3.0-cp310-cp310-win_amd64.whl.metadata (9.4 kB)\n",
      "Requirement already satisfied: pyparsing>=2.3.1 in c:\\users\\msofy\\appdata\\local\\programs\\python\\python310\\lib\\site-packages (from matplotlib) (3.1.2)\n",
      "Requirement already satisfied: python-dateutil>=2.7 in c:\\users\\msofy\\appdata\\local\\programs\\python\\python310\\lib\\site-packages (from matplotlib) (2.9.0.post0)\n",
      "Requirement already satisfied: pytz>=2020.1 in c:\\users\\msofy\\appdata\\local\\programs\\python\\python310\\lib\\site-packages (from pandas>=0.23->pandas-datareader) (2024.1)\n",
      "Requirement already satisfied: tzdata>=2022.1 in c:\\users\\msofy\\appdata\\local\\programs\\python\\python310\\lib\\site-packages (from pandas>=0.23->pandas-datareader) (2024.1)\n",
      "Requirement already satisfied: six>=1.5 in c:\\users\\msofy\\appdata\\local\\programs\\python\\python310\\lib\\site-packages (from python-dateutil>=2.7->matplotlib) (1.16.0)\n",
      "Requirement already satisfied: charset-normalizer<4,>=2 in c:\\users\\msofy\\appdata\\local\\programs\\python\\python310\\lib\\site-packages (from requests>=2.19.0->pandas-datareader) (3.3.2)\n",
      "Requirement already satisfied: idna<4,>=2.5 in c:\\users\\msofy\\appdata\\local\\programs\\python\\python310\\lib\\site-packages (from requests>=2.19.0->pandas-datareader) (3.6)\n",
      "Requirement already satisfied: urllib3<3,>=1.21.1 in c:\\users\\msofy\\appdata\\local\\programs\\python\\python310\\lib\\site-packages (from requests>=2.19.0->pandas-datareader) (2.2.1)\n",
      "Requirement already satisfied: certifi>=2017.4.17 in c:\\users\\msofy\\appdata\\local\\programs\\python\\python310\\lib\\site-packages (from requests>=2.19.0->pandas-datareader) (2024.2.2)\n",
      "Downloading pandas_datareader-0.10.0-py3-none-any.whl (109 kB)\n",
      "   ---------------------------------------- 0.0/109.5 kB ? eta -:--:--\n",
      "   ---------------------------------------- 109.5/109.5 kB ? eta 0:00:00\n",
      "Downloading plotly-5.21.0-py3-none-any.whl (15.7 MB)\n",
      "   ---------------------------------------- 0.0/15.7 MB ? eta -:--:--\n",
      "    --------------------------------------- 0.2/15.7 MB 4.7 MB/s eta 0:00:04\n",
      "    --------------------------------------- 0.4/15.7 MB 7.8 MB/s eta 0:00:02\n",
      "    --------------------------------------- 0.4/15.7 MB 7.8 MB/s eta 0:00:02\n",
      "   -- ------------------------------------- 0.9/15.7 MB 5.3 MB/s eta 0:00:03\n",
      "   --- ------------------------------------ 1.2/15.7 MB 5.9 MB/s eta 0:00:03\n",
      "   --- ------------------------------------ 1.5/15.7 MB 5.7 MB/s eta 0:00:03\n",
      "   ---- ----------------------------------- 1.7/15.7 MB 5.4 MB/s eta 0:00:03\n",
      "   ---- ----------------------------------- 1.9/15.7 MB 5.6 MB/s eta 0:00:03\n",
      "   ----- ---------------------------------- 2.2/15.7 MB 5.4 MB/s eta 0:00:03\n",
      "   ------ --------------------------------- 2.5/15.7 MB 5.5 MB/s eta 0:00:03\n",
      "   ------ --------------------------------- 2.5/15.7 MB 5.5 MB/s eta 0:00:03\n",
      "   ------- -------------------------------- 2.8/15.7 MB 5.1 MB/s eta 0:00:03\n",
      "   ------- -------------------------------- 3.1/15.7 MB 5.1 MB/s eta 0:00:03\n",
      "   -------- ------------------------------- 3.3/15.7 MB 5.3 MB/s eta 0:00:03\n",
      "   --------- ------------------------------ 3.6/15.7 MB 5.2 MB/s eta 0:00:03\n",
      "   --------- ------------------------------ 3.9/15.7 MB 5.2 MB/s eta 0:00:03\n",
      "   ---------- ----------------------------- 4.1/15.7 MB 5.2 MB/s eta 0:00:03\n",
      "   ----------- ---------------------------- 4.4/15.7 MB 5.3 MB/s eta 0:00:03\n",
      "   ----------- ---------------------------- 4.7/15.7 MB 5.3 MB/s eta 0:00:03\n",
      "   ------------ --------------------------- 4.9/15.7 MB 5.4 MB/s eta 0:00:03\n",
      "   ------------- -------------------------- 5.1/15.7 MB 5.4 MB/s eta 0:00:02\n",
      "   ------------- -------------------------- 5.4/15.7 MB 5.3 MB/s eta 0:00:02\n",
      "   -------------- ------------------------- 5.7/15.7 MB 5.4 MB/s eta 0:00:02\n",
      "   --------------- ------------------------ 5.9/15.7 MB 5.4 MB/s eta 0:00:02\n",
      "   --------------- ------------------------ 6.2/15.7 MB 5.5 MB/s eta 0:00:02\n",
      "   ---------------- ----------------------- 6.5/15.7 MB 5.4 MB/s eta 0:00:02\n",
      "   ----------------- ---------------------- 6.7/15.7 MB 5.4 MB/s eta 0:00:02\n",
      "   ----------------- ---------------------- 7.0/15.7 MB 5.5 MB/s eta 0:00:02\n",
      "   ------------------ --------------------- 7.2/15.7 MB 5.4 MB/s eta 0:00:02\n",
      "   ------------------- -------------------- 7.5/15.7 MB 5.4 MB/s eta 0:00:02\n",
      "   ------------------- -------------------- 7.7/15.7 MB 5.4 MB/s eta 0:00:02\n",
      "   -------------------- ------------------- 8.0/15.7 MB 5.4 MB/s eta 0:00:02\n",
      "   --------------------- ------------------ 8.3/15.7 MB 5.5 MB/s eta 0:00:02\n",
      "   --------------------- ------------------ 8.4/15.7 MB 5.5 MB/s eta 0:00:02\n",
      "   ---------------------- ----------------- 8.7/15.7 MB 5.4 MB/s eta 0:00:02\n",
      "   ---------------------- ----------------- 9.0/15.7 MB 5.4 MB/s eta 0:00:02\n",
      "   ----------------------- ---------------- 9.2/15.7 MB 5.4 MB/s eta 0:00:02\n",
      "   ------------------------ --------------- 9.5/15.7 MB 5.4 MB/s eta 0:00:02\n",
      "   ------------------------ --------------- 9.7/15.7 MB 5.4 MB/s eta 0:00:02\n",
      "   ------------------------- -------------- 9.9/15.7 MB 5.4 MB/s eta 0:00:02\n",
      "   ------------------------- -------------- 10.1/15.7 MB 5.4 MB/s eta 0:00:02\n",
      "   -------------------------- ------------- 10.5/15.7 MB 5.4 MB/s eta 0:00:01\n",
      "   --------------------------- ------------ 10.7/15.7 MB 5.6 MB/s eta 0:00:01\n",
      "   --------------------------- ------------ 10.9/15.7 MB 5.5 MB/s eta 0:00:01\n",
      "   ---------------------------- ----------- 11.1/15.7 MB 5.4 MB/s eta 0:00:01\n",
      "   ---------------------------- ----------- 11.2/15.7 MB 5.3 MB/s eta 0:00:01\n",
      "   ---------------------------- ----------- 11.3/15.7 MB 5.2 MB/s eta 0:00:01\n",
      "   ----------------------------- ---------- 11.5/15.7 MB 5.2 MB/s eta 0:00:01\n",
      "   ----------------------------- ---------- 11.7/15.7 MB 5.1 MB/s eta 0:00:01\n",
      "   ------------------------------ --------- 12.0/15.7 MB 5.2 MB/s eta 0:00:01\n",
      "   ------------------------------- -------- 12.2/15.7 MB 5.2 MB/s eta 0:00:01\n",
      "   ------------------------------- -------- 12.4/15.7 MB 5.1 MB/s eta 0:00:01\n",
      "   -------------------------------- ------- 12.6/15.7 MB 5.1 MB/s eta 0:00:01\n",
      "   -------------------------------- ------- 12.8/15.7 MB 5.2 MB/s eta 0:00:01\n",
      "   --------------------------------- ------ 13.1/15.7 MB 5.1 MB/s eta 0:00:01\n",
      "   --------------------------------- ------ 13.3/15.7 MB 5.2 MB/s eta 0:00:01\n",
      "   ---------------------------------- ----- 13.6/15.7 MB 5.1 MB/s eta 0:00:01\n",
      "   ----------------------------------- ---- 13.8/15.7 MB 5.2 MB/s eta 0:00:01\n",
      "   ----------------------------------- ---- 13.9/15.7 MB 5.1 MB/s eta 0:00:01\n",
      "   ------------------------------------ --- 14.2/15.7 MB 5.1 MB/s eta 0:00:01\n",
      "   ------------------------------------ --- 14.4/15.7 MB 5.1 MB/s eta 0:00:01\n",
      "   ------------------------------------- -- 14.7/15.7 MB 5.1 MB/s eta 0:00:01\n",
      "   -------------------------------------- - 15.0/15.7 MB 5.1 MB/s eta 0:00:01\n",
      "   -------------------------------------- - 15.3/15.7 MB 5.1 MB/s eta 0:00:01\n",
      "   ---------------------------------------  15.5/15.7 MB 5.1 MB/s eta 0:00:01\n",
      "   ---------------------------------------  15.7/15.7 MB 5.1 MB/s eta 0:00:01\n",
      "   ---------------------------------------- 15.7/15.7 MB 5.0 MB/s eta 0:00:00\n",
      "Downloading matplotlib-3.8.4-cp310-cp310-win_amd64.whl (7.7 MB)\n",
      "   ---------------------------------------- 0.0/7.7 MB ? eta -:--:--\n",
      "   - -------------------------------------- 0.3/7.7 MB 8.6 MB/s eta 0:00:01\n",
      "   -- ------------------------------------- 0.5/7.7 MB 8.3 MB/s eta 0:00:01\n",
      "   --- ------------------------------------ 0.7/7.7 MB 5.9 MB/s eta 0:00:02\n",
      "   ----- ---------------------------------- 1.0/7.7 MB 6.0 MB/s eta 0:00:02\n",
      "   ----- ---------------------------------- 1.1/7.7 MB 5.3 MB/s eta 0:00:02\n",
      "   ------- -------------------------------- 1.4/7.7 MB 5.4 MB/s eta 0:00:02\n",
      "   -------- ------------------------------- 1.7/7.7 MB 5.6 MB/s eta 0:00:02\n",
      "   --------- ------------------------------ 1.8/7.7 MB 5.1 MB/s eta 0:00:02\n",
      "   ---------- ----------------------------- 2.1/7.7 MB 5.0 MB/s eta 0:00:02\n",
      "   ------------ --------------------------- 2.4/7.7 MB 5.4 MB/s eta 0:00:01\n",
      "   ------------- -------------------------- 2.5/7.7 MB 5.2 MB/s eta 0:00:01\n",
      "   -------------- ------------------------- 2.8/7.7 MB 5.2 MB/s eta 0:00:01\n",
      "   --------------- ------------------------ 3.0/7.7 MB 5.3 MB/s eta 0:00:01\n",
      "   ---------------- ----------------------- 3.2/7.7 MB 5.1 MB/s eta 0:00:01\n",
      "   ------------------ --------------------- 3.5/7.7 MB 5.1 MB/s eta 0:00:01\n",
      "   ------------------- -------------------- 3.7/7.7 MB 5.1 MB/s eta 0:00:01\n",
      "   -------------------- ------------------- 3.9/7.7 MB 5.1 MB/s eta 0:00:01\n",
      "   --------------------- ------------------ 4.1/7.7 MB 5.1 MB/s eta 0:00:01\n",
      "   ---------------------- ----------------- 4.4/7.7 MB 5.1 MB/s eta 0:00:01\n",
      "   ------------------------ --------------- 4.6/7.7 MB 5.1 MB/s eta 0:00:01\n",
      "   ------------------------- -------------- 4.8/7.7 MB 5.0 MB/s eta 0:00:01\n",
      "   -------------------------- ------------- 5.1/7.7 MB 5.1 MB/s eta 0:00:01\n",
      "   ---------------------------- ----------- 5.4/7.7 MB 5.2 MB/s eta 0:00:01\n",
      "   ----------------------------- ---------- 5.7/7.7 MB 5.3 MB/s eta 0:00:01\n",
      "   ------------------------------ --------- 5.9/7.7 MB 5.3 MB/s eta 0:00:01\n",
      "   -------------------------------- ------- 6.2/7.7 MB 5.2 MB/s eta 0:00:01\n",
      "   --------------------------------- ------ 6.4/7.7 MB 5.2 MB/s eta 0:00:01\n",
      "   ----------------------------------- ---- 6.7/7.7 MB 5.3 MB/s eta 0:00:01\n",
      "   ----------------------------------- ---- 6.9/7.7 MB 5.2 MB/s eta 0:00:01\n",
      "   ------------------------------------ --- 7.0/7.7 MB 5.1 MB/s eta 0:00:01\n",
      "   ------------------------------------- -- 7.2/7.7 MB 5.1 MB/s eta 0:00:01\n",
      "   -------------------------------------- - 7.4/7.7 MB 5.1 MB/s eta 0:00:01\n",
      "   ---------------------------------------  7.6/7.7 MB 5.1 MB/s eta 0:00:01\n",
      "   ---------------------------------------- 7.7/7.7 MB 5.0 MB/s eta 0:00:00\n",
      "Downloading contourpy-1.2.1-cp310-cp310-win_amd64.whl (187 kB)\n",
      "   ---------------------------------------- 0.0/187.5 kB ? eta -:--:--\n",
      "   --------------------------------------- 187.5/187.5 kB 11.8 MB/s eta 0:00:00\n",
      "Downloading cycler-0.12.1-py3-none-any.whl (8.3 kB)\n",
      "Downloading fonttools-4.51.0-cp310-cp310-win_amd64.whl (2.2 MB)\n",
      "   ---------------------------------------- 0.0/2.2 MB ? eta -:--:--\n",
      "   ---- ----------------------------------- 0.3/2.2 MB 7.9 MB/s eta 0:00:01\n",
      "   --------- ------------------------------ 0.5/2.2 MB 6.3 MB/s eta 0:00:01\n",
      "   ------------ --------------------------- 0.7/2.2 MB 5.5 MB/s eta 0:00:01\n",
      "   ------------------ --------------------- 1.0/2.2 MB 5.7 MB/s eta 0:00:01\n",
      "   --------------------- ------------------ 1.2/2.2 MB 5.8 MB/s eta 0:00:01\n",
      "   --------------------------- ------------ 1.5/2.2 MB 5.6 MB/s eta 0:00:01\n",
      "   -------------------------------- ------- 1.8/2.2 MB 5.6 MB/s eta 0:00:01\n",
      "   ----------------------------------- ---- 2.0/2.2 MB 5.7 MB/s eta 0:00:01\n",
      "   ---------------------------------------  2.2/2.2 MB 5.5 MB/s eta 0:00:01\n",
      "   ---------------------------------------- 2.2/2.2 MB 5.2 MB/s eta 0:00:00\n",
      "Downloading kiwisolver-1.4.5-cp310-cp310-win_amd64.whl (56 kB)\n",
      "   ---------------------------------------- 0.0/56.1 kB ? eta -:--:--\n",
      "   ---------------------------------------- 56.1/56.1 kB ? eta 0:00:00\n",
      "Downloading pillow-10.3.0-cp310-cp310-win_amd64.whl (2.5 MB)\n",
      "   ---------------------------------------- 0.0/2.5 MB ? eta -:--:--\n",
      "   --- ------------------------------------ 0.2/2.5 MB 6.1 MB/s eta 0:00:01\n",
      "   --------- ------------------------------ 0.6/2.5 MB 7.2 MB/s eta 0:00:01\n",
      "   ------------ --------------------------- 0.8/2.5 MB 6.9 MB/s eta 0:00:01\n",
      "   ----------------- ---------------------- 1.1/2.5 MB 6.4 MB/s eta 0:00:01\n",
      "   ---------------------- ----------------- 1.4/2.5 MB 6.5 MB/s eta 0:00:01\n",
      "   -------------------------- ------------- 1.7/2.5 MB 6.3 MB/s eta 0:00:01\n",
      "   ------------------------------ --------- 1.9/2.5 MB 6.1 MB/s eta 0:00:01\n",
      "   --------------------------------- ------ 2.1/2.5 MB 5.9 MB/s eta 0:00:01\n",
      "   -------------------------------------- - 2.4/2.5 MB 5.9 MB/s eta 0:00:01\n",
      "   ---------------------------------------- 2.5/2.5 MB 6.0 MB/s eta 0:00:00\n",
      "Using cached tenacity-8.2.3-py3-none-any.whl (24 kB)\n",
      "Installing collected packages: tenacity, pillow, kiwisolver, fonttools, cycler, contourpy, plotly, matplotlib, pandas-datareader\n",
      "Successfully installed contourpy-1.2.1 cycler-0.12.1 fonttools-4.51.0 kiwisolver-1.4.5 matplotlib-3.8.4 pandas-datareader-0.10.0 pillow-10.3.0 plotly-5.21.0 tenacity-8.2.3\n"
     ]
    }
   ],
   "source": [
    "# install main library pandas-datareader,plotly, matplotlib\n",
    "!pip install pandas-datareader plotly matplotlib"
   ]
  },
  {
   "cell_type": "code",
   "execution_count": 34,
   "id": "9c60b03d-b79d-4411-b761-63b9fa19a2d2",
   "metadata": {},
   "outputs": [],
   "source": [
    "# IMPORTS\n",
    "import numpy as np\n",
    "import pandas as pd\n",
    "\n",
    "#Fin Data Sources\n",
    "import yfinance as yf\n",
    "import pandas_datareader as pdr\n",
    "\n",
    "#Data viz\n",
    "import plotly.graph_objs as go\n",
    "import plotly.express as px\n",
    "\n",
    "import time\n",
    "from datetime import date\n",
    "from datetime import datetime"
   ]
  },
  {
   "cell_type": "markdown",
   "id": "323d3867-55e7-46fb-832c-9ea93f608241",
   "metadata": {},
   "source": [
    "Question 1: [Macro] Average growth of GDP in 2023\n",
    "What is the average growth (in %) of GDP in 2023?"
   ]
  },
  {
   "cell_type": "code",
   "execution_count": 45,
   "id": "eb972a7d-7265-4662-91d6-6a7eb04ac793",
   "metadata": {},
   "outputs": [
    {
     "name": "stdout",
     "output_type": "stream",
     "text": [
      "<class 'pandas.core.frame.DataFrame'>\n",
      "RangeIndex: 8 entries, 0 to 7\n",
      "Data columns (total 2 columns):\n",
      " #   Column  Non-Null Count  Dtype         \n",
      "---  ------  --------------  -----         \n",
      " 0   DATE    8 non-null      datetime64[ns]\n",
      " 1   GDPC1   8 non-null      float64       \n",
      "dtypes: datetime64[ns](1), float64(1)\n",
      "memory usage: 256.0 bytes\n"
     ]
    }
   ],
   "source": [
    "start = date(year=2022, month=1, day=1)\n",
    "df = pdr.DataReader(\"GDPC1\", \"fred\", start=start)\n",
    "df.reset_index(inplace=True)\n",
    "df.info()"
   ]
  },
  {
   "cell_type": "code",
   "execution_count": 46,
   "id": "505eac80-efdb-4e0d-8121-743a73d5d3a3",
   "metadata": {},
   "outputs": [
    {
     "name": "stdout",
     "output_type": "stream",
     "text": [
      "Average Year to Year GDP Growth in 2023: 2.5%\n"
     ]
    }
   ],
   "source": [
    "df['gdp_growth_yoy'] = df.GDPC1/df.GDPC1.shift(4)-1\n",
    "df_2023 = df[df['DATE'].dt.year == 2023]\n",
    "average_gdpc1_us_yoy_2023 = round(df_2023['gdp_growth_yoy'].mean() * 100, 1)\n",
    "print(f\"Average Year to Year GDP Growth in 2023: {average_gdpc1_us_yoy_2023}%\")"
   ]
  },
  {
   "cell_type": "code",
   "execution_count": 86,
   "id": "5ceea9bc-d781-4a58-beca-4ed31f3d9833",
   "metadata": {},
   "outputs": [
    {
     "name": "stdout",
     "output_type": "stream",
     "text": [
      "Average GDP YoY growth rate in 2023: 2.5%\n"
     ]
    }
   ],
   "source": [
    "import pandas as pd\n",
    "import pandas_datareader as pdr\n",
    "\n",
    "# Download GDPC1 data from FRED\n",
    "gdpc1_data = pdr.get_data_fred('GDPC1')\n",
    "\n",
    "# Calculate year-over-year (YoY) growth rate\n",
    "gdpc1_data['YoY_growth'] = gdpc1_data['GDPC1'].pct_change(4) * 100\n",
    "\n",
    "# Filter data for 2023\n",
    "gdpc1_data_2023 = gdpc1_data[gdpc1_data.index.year == 2023]\n",
    "\n",
    "# Calculate the average YoY growth rate for 2023\n",
    "average_growth_2023 = gdpc1_data_2023['YoY_growth'].mean()\n",
    "\n",
    "# Round the result to one decimal point\n",
    "average_growth_2023 = round(average_growth_2023, 1)\n",
    "\n",
    "print(\"Average GDP YoY growth rate in 2023: {}%\".format(average_growth_2023))\n"
   ]
  },
  {
   "cell_type": "markdown",
   "id": "29d1dfd5-584a-48fc-9268-ca8cca6776be",
   "metadata": {},
   "source": [
    "Question 2. [Macro] Inverse \"Treasury Yield\"\n",
    "\n",
    "Find the min value of (dgs10-dgs2) after since year 2000 (2000-01-01) and write it down as an answer, round to 1 digit after the decimal point.\n",
    "\n",
    "Download DGS2 and DGS10 interest rates series (https://fred.stlouisfed.org/series/DGS2, https://fred.stlouisfed.org/series/DGS10). \n",
    "Join them together to one dataframe on date (you might need to read about pandas.DataFrame.join()), calculate the difference dgs10-dgs2 daily.\n",
    "\n",
    "(Additional: think about what does the \"inverted yield curve\" mean for the market and investors? \n",
    "do you see the same thing in your country/market of interest? Do you think it can be a good predictive feature for the models?)"
   ]
  },
  {
   "cell_type": "code",
   "execution_count": 52,
   "id": "50fba62b-bef7-4bbf-ab18-724815795855",
   "metadata": {},
   "outputs": [
    {
     "name": "stdout",
     "output_type": "stream",
     "text": [
      "            DGS2\n",
      "DATE            \n",
      "2000-01-03  6.38\n",
      "2000-01-04  6.30\n",
      "2000-01-05  6.38\n",
      "2000-01-06  6.35\n",
      "2000-01-07  6.31\n",
      "...          ...\n",
      "2024-04-12  4.88\n",
      "2024-04-15  4.93\n",
      "2024-04-16  4.97\n",
      "2024-04-17  4.93\n",
      "2024-04-18  4.98\n",
      "\n",
      "[6339 rows x 1 columns]\n",
      "            DGS10\n",
      "DATE             \n",
      "2000-01-03   6.58\n",
      "2000-01-04   6.49\n",
      "2000-01-05   6.62\n",
      "2000-01-06   6.57\n",
      "2000-01-07   6.52\n",
      "...           ...\n",
      "2024-04-12   4.50\n",
      "2024-04-15   4.63\n",
      "2024-04-16   4.67\n",
      "2024-04-17   4.59\n",
      "2024-04-18   4.64\n",
      "\n",
      "[6339 rows x 1 columns]\n"
     ]
    }
   ],
   "source": [
    "df_dgs2 = pdr.DataReader(\"DGS2\", \"fred\", start=date(year=2000, month=1, day=1))\n",
    "print(df_dgs2)\n",
    "df_dgs10 = pdr.DataReader(\"DGS10\", \"fred\", start=date(year=2000, month=1, day=1))\n",
    "print(df_dgs10)"
   ]
  },
  {
   "cell_type": "code",
   "execution_count": 54,
   "id": "5d823764-9819-4e0f-a648-1a80148c7593",
   "metadata": {},
   "outputs": [
    {
     "name": "stdout",
     "output_type": "stream",
     "text": [
      "            DGS2  DGS10  dgs10-dgs2\n",
      "DATE                               \n",
      "2000-01-03  6.38   6.58        0.20\n",
      "2000-01-04  6.30   6.49        0.19\n",
      "2000-01-05  6.38   6.62        0.24\n",
      "2000-01-06  6.35   6.57        0.22\n",
      "2000-01-07  6.31   6.52        0.21\n",
      "...          ...    ...         ...\n",
      "2024-04-12  4.88   4.50       -0.38\n",
      "2024-04-15  4.93   4.63       -0.30\n",
      "2024-04-16  4.97   4.67       -0.30\n",
      "2024-04-17  4.93   4.59       -0.34\n",
      "2024-04-18  4.98   4.64       -0.34\n",
      "\n",
      "[6339 rows x 3 columns]\n",
      "Min value of dgs -1.1\n"
     ]
    }
   ],
   "source": [
    "df_merge = df_dgs2.join(df_dgs10)\n",
    "df_merge['dgs10-dgs2'] = df_merge['DGS10']-df_merge['DGS2']\n",
    "print(df_merge)\n",
    "min_dgs = round(df_merge['dgs10-dgs2'].min(), 1)\n",
    "print('Min value of dgs', min_dgs)"
   ]
  },
  {
   "cell_type": "markdown",
   "id": "921197ed-0778-4809-a13f-bbb01d8d45ca",
   "metadata": {},
   "source": [
    "Question 3. [Index] Which Index is better recently?\n",
    "\n",
    "Compare S&P 500 and IPC Mexico indexes by the 5 year growth and write down the largest value as an answer (%)\n",
    "\n",
    "Download on Yahoo Finance two daily index prices for S&P 500 (^GSPC, https://finance.yahoo.com/quote/%5EGSPC/) and \n",
    "IPC Mexico (^MXX, https://finance.yahoo.com/quote/%5EMXX/). Compare 5Y growth for both (between 2019-04-09 and 2024-04-09). \n",
    "Select the higher growing index and write down the growth in % (closest integer %). \n",
    "E.g. if ratio end/start was 2.0925 (or growth of 109.25%), you need to write down 109 as your answer.\n",
    "\n",
    "(Additional: think of other indexes and try to download stats and compare the growth? \n",
    "Do create 10Y and 20Y growth stats. What is an average yearly growth rate (CAGR) for each of the indexes you select?)"
   ]
  },
  {
   "cell_type": "code",
   "execution_count": 55,
   "id": "9617c21f-d2d9-48f0-aefa-52294dc28828",
   "metadata": {},
   "outputs": [
    {
     "name": "stderr",
     "output_type": "stream",
     "text": [
      "[*********************100%%**********************]  1 of 1 completed\n",
      "[*********************100%%**********************]  1 of 1 completed"
     ]
    },
    {
     "name": "stdout",
     "output_type": "stream",
     "text": [
      "Better index recently: S&P 500\n",
      "5-year growth rate: 81%\n"
     ]
    },
    {
     "name": "stderr",
     "output_type": "stream",
     "text": [
      "\n"
     ]
    }
   ],
   "source": [
    "import yfinance as yf\n",
    "import numpy as np\n",
    "\n",
    "# Download historical data for S&P 500 (^GSPC)\n",
    "sp500_data = yf.download('^GSPC', start='2019-04-09', end='2024-04-09')['Adj Close']\n",
    "\n",
    "# Download historical data for IPC Mexico (^MXX)\n",
    "ipc_data = yf.download('^MXX', start='2019-04-09', end='2024-04-09')['Adj Close']\n",
    "\n",
    "# Calculate 5-year growth rates for both indexes\n",
    "sp500_growth = (sp500_data.iloc[-1] / sp500_data.iloc[0] - 1) * 100\n",
    "ipc_growth = (ipc_data.iloc[-1] / ipc_data.iloc[0] - 1) * 100\n",
    "\n",
    "# Determine which index has the higher growth rate\n",
    "better_index = 'S&P 500' if sp500_growth > ipc_growth else 'IPC Mexico'\n",
    "largest_growth = np.round(max(sp500_growth, ipc_growth))\n",
    "\n",
    "print(\"Better index recently: {}\".format(better_index))\n",
    "print(\"5-year growth rate: {}%\".format(int(largest_growth)))"
   ]
  },
  {
   "cell_type": "code",
   "execution_count": 62,
   "id": "cc1a9d52-9552-4dc2-b1ea-17d94a946a18",
   "metadata": {},
   "outputs": [
    {
     "name": "stderr",
     "output_type": "stream",
     "text": [
      "[*********************100%%**********************]  1 of 1 completed\n",
      "[*********************100%%**********************]  1 of 1 completed"
     ]
    },
    {
     "name": "stdout",
     "output_type": "stream",
     "text": [
      "The better performing index recently is: S&P 500\n",
      "The growth rate of the better performing index is: 125 %\n"
     ]
    },
    {
     "name": "stderr",
     "output_type": "stream",
     "text": [
      "\n"
     ]
    }
   ],
   "source": [
    "import yfinance as yf\n",
    "\n",
    "# Download S&P 500 (^GSPC) data from Yahoo Finance\n",
    "sp500_data = yf.download('^GSPC', start='2019-04-09', end='2024-04-09')\n",
    "\n",
    "# Download IPC Mexico (^MXX) data from Yahoo Finance\n",
    "ipc_data = yf.download('^MXX', start='2019-04-09', end='2024-04-09')\n",
    "\n",
    "# Calculate the growth rates over the past 5 years\n",
    "sp500_data['yoy_growth'] = (sp500_data['Adj Close']/sp500_data['Close'].shift(252)-1)\n",
    "sp500_growth = int(sp500_data['yoy_growth'].sum())\n",
    "ipc_data['yoy_growth'] = (ipc_data['Adj Close']/ipc_data['Close'].shift(252)-1)\n",
    "ipc_growth = int(ipc_data['yoy_growth'].sum())\n",
    "\n",
    "# Determine which index had the highest growth rate\n",
    "better_index = \"S&P 500\" if sp500_growth > ipc_growth else \"IPC Mexico\"\n",
    "higher_growth = round(sp500_growth) if sp500_growth > ipc_growth else round(ipc_growth)\n",
    "\n",
    "print(\"The better performing index recently is:\", better_index)\n",
    "print(\"The growth rate of the better performing index is:\", higher_growth, \"%\")"
   ]
  },
  {
   "cell_type": "markdown",
   "id": "73cc96a0-10a0-4172-932d-0e0618b92f41",
   "metadata": {},
   "source": [
    "Question 4. [Stocks OHLCV] 52-weeks range ratio (2023) for the selected stocks\n",
    "\n",
    "Find the largest range ratio [=(max-min)/max] of Adj.Close prices in 2023\n",
    "\n",
    "Download the 2023 daily OHLCV data on Yahoo Finance for top6 stocks on earnings (https://companiesmarketcap.com/most-profitable-companies/): \n",
    "2222.SR,BRK-B, AAPL, MSFT, GOOG, JPM.\n",
    "\n",
    "Here is the example data you should see in Pandas for \"2222.SR\": https://finance.yahoo.com/quote/2222.SR/history\n",
    "\n",
    "Calculate maximum-minimim \"Adj.Close\" price for each stock and divide it by the maximum \"Adj.Close\" value. \n",
    "Round the result to two decimal places (e.g. 0.1575 will be 0.16)\n",
    "\n",
    "(Additional: why this may be important for your research?)"
   ]
  },
  {
   "cell_type": "code",
   "execution_count": 63,
   "id": "66220103-5fda-4af3-a5c8-1cdda5b5c960",
   "metadata": {},
   "outputs": [
    {
     "name": "stderr",
     "output_type": "stream",
     "text": [
      "[*********************100%%**********************]  1 of 1 completed\n",
      "[*********************100%%**********************]  1 of 1 completed\n",
      "[*********************100%%**********************]  1 of 1 completed\n",
      "[*********************100%%**********************]  1 of 1 completed\n",
      "[*********************100%%**********************]  1 of 1 completed\n",
      "[*********************100%%**********************]  1 of 1 completed"
     ]
    },
    {
     "name": "stdout",
     "output_type": "stream",
     "text": [
      "Stock with the largest 52-week range ratio: MSFT\n",
      "52-week range ratio: 0.42\n"
     ]
    },
    {
     "name": "stderr",
     "output_type": "stream",
     "text": [
      "\n"
     ]
    }
   ],
   "source": [
    "import yfinance as yf\n",
    "\n",
    "# Define the ticker symbols for the selected stocks\n",
    "ticker_symbols = ['2222.SR', 'BRK-B', 'AAPL', 'MSFT', 'GOOG', 'JPM']\n",
    "\n",
    "# Dictionary to store the maximum and minimum adjusted close prices for each stock\n",
    "stock_data = {}\n",
    "\n",
    "# Download 2023 daily OHLCV data for each stock\n",
    "for symbol in ticker_symbols:\n",
    "    stock = yf.download(symbol, start='2023-01-01', end='2023-12-31')\n",
    "    stock_data[symbol] = stock['Adj Close']\n",
    "\n",
    "# Calculate the maximum and minimum adjusted close prices for each stock\n",
    "max_min_ratios = {}\n",
    "for symbol, data in stock_data.items():\n",
    "    max_price = data.max()\n",
    "    min_price = data.min()\n",
    "    max_min_ratio = (max_price - min_price) / max_price\n",
    "    max_min_ratios[symbol] = round(max_min_ratio, 2)\n",
    "\n",
    "# Find the stock with the largest range ratio\n",
    "max_range_stock = max(max_min_ratios, key=max_min_ratios.get)\n",
    "max_range_ratio = max_min_ratios[max_range_stock]\n",
    "\n",
    "print(\"Stock with the largest 52-week range ratio:\", max_range_stock)\n",
    "print(\"52-week range ratio:\", max_range_ratio)"
   ]
  },
  {
   "cell_type": "markdown",
   "id": "cd9e5cb5-ff00-4bed-a92c-fa5b92f1d7aa",
   "metadata": {},
   "source": [
    "Question 5. [Stocks] Dividend Yield\n",
    "\n",
    "Find the largest dividend yield for the same set of stocks\n",
    "\n",
    "Use the same list of companies (2222.SR,BRK-B, AAPL, MSFT, GOOG, JPM) and download all dividends paid in 2023. \n",
    "You can use get_actions() method or .dividends field in yfinance library (https://github.com/ranaroussi/yfinance?tab=readme-ov-file#quick-start)\n",
    "\n",
    "Sum up all dividends paid in 2023 per company and divide each value by the closing price (Adj.Close) at the last trading day of the year.\n",
    "\n",
    "Find the maximum value in % and round to 1 digit after the decimal point. \n",
    "(E.g., if you obtained $1.25 dividends paid and the end year stock price is $100, the dividend yield is 1.25% -- and your answer should be equal to 1.3)"
   ]
  },
  {
   "cell_type": "code",
   "execution_count": 87,
   "id": "048cc828-e6fe-4b63-8f26-70f0c4d4e18d",
   "metadata": {},
   "outputs": [
    {
     "name": "stdout",
     "output_type": "stream",
     "text": [
      "Stock with the largest dividend yield: 2222.SR\n",
      "Largest dividend yield: 2.8 %\n"
     ]
    }
   ],
   "source": [
    "import yfinance as yf\n",
    "\n",
    "# Define the ticker symbols for the selected stocks\n",
    "ticker_symbols = ['2222.SR', 'BRK-B', 'AAPL', 'MSFT', 'GOOG', 'JPM']\n",
    "\n",
    "# Dictionary to store the total dividends paid and closing prices for each stock\n",
    "dividend_yield_data = {}\n",
    "\n",
    "# Download all dividends paid in 2023 and closing prices for each stock\n",
    "for symbol in ticker_symbols:\n",
    "    stock = yf.Ticker(symbol)\n",
    "    \n",
    "    # Get dividends paid in 2023\n",
    "    dividends = stock.dividends.loc['2023']\n",
    "    total_dividends = dividends.sum()\n",
    "    \n",
    "    # Get closing price (Adj. Close) at the last trading day of the year\n",
    "    try:\n",
    "        last_trading_day = stock.history(start='2023-12-01', end='2023-12-31')['Close'].iloc[-1]\n",
    "        \n",
    "        # Calculate dividend yield\n",
    "        dividend_yield = (total_dividends / last_trading_day) * 100\n",
    "        \n",
    "        # Store dividend yield in the dictionary\n",
    "        dividend_yield_data[symbol] = dividend_yield\n",
    "    \n",
    "    except IndexError:\n",
    "        print(\"No data available for {} on 2023-12-31\".format(symbol))\n",
    "\n",
    "# Find the largest dividend yield\n",
    "max_dividend_yield_symbol = max(dividend_yield_data, key=dividend_yield_data.get)\n",
    "max_dividend_yield = dividend_yield_data[max_dividend_yield_symbol]\n",
    "\n",
    "print(\"Stock with the largest dividend yield:\", max_dividend_yield_symbol)\n",
    "print(\"Largest dividend yield:\", round(max_dividend_yield, 1), \"%\")\n"
   ]
  },
  {
   "cell_type": "markdown",
   "id": "1fae685c-9057-4faa-a833-06592a3ff888",
   "metadata": {},
   "source": [
    "Question 6. [Exploratory] Investigate new metrics\n",
    "\n",
    "Free text answer\n",
    "\n",
    "Download and explore a few additional metrics or time series that might be valuable for your project and write down why (briefly)."
   ]
  },
  {
   "cell_type": "code",
   "execution_count": 31,
   "id": "9c0c8e19-5226-473f-8bb2-4a145c9ba269",
   "metadata": {},
   "outputs": [
    {
     "name": "stdout",
     "output_type": "stream",
     "text": [
      "Market Capitalization: 1905000054784\n",
      "Price to Earnings Ratio (P/E Ratio): 24.85323\n",
      "Price to Book Ratio (P/B Ratio): 43.687653\n",
      "Dividend Yield: 0.0002\n",
      "Return on Equity (ROE): 0.91458\n",
      "Debt to Equity Ratio: 25.725\n",
      "Sector: Technology\n",
      "Industry: Semiconductors\n"
     ]
    }
   ],
   "source": [
    "import yfinance as yf\n",
    "\n",
    "# Download Nvidia stock data\n",
    "nvidia = yf.Ticker(\"NVDA\")\n",
    "\n",
    "# Get historical price data\n",
    "price_data = nvidia.history(period=\"1y\")\n",
    "\n",
    "# Get market capitalization\n",
    "market_cap = nvidia.info['marketCap']\n",
    "\n",
    "# Get financial metrics\n",
    "pe_ratio = nvidia.info['forwardPE']\n",
    "pb_ratio = nvidia.info['priceToBook']\n",
    "dividend_yield = nvidia.info['dividendYield']\n",
    "roe = nvidia.info['returnOnEquity']\n",
    "de_ratio = nvidia.info['debtToEquity']\n",
    "\n",
    "# Print the metrics\n",
    "print(\"Market Capitalization:\", market_cap)\n",
    "print(\"Price to Earnings Ratio (P/E Ratio):\", pe_ratio)\n",
    "print(\"Price to Book Ratio (P/B Ratio):\", pb_ratio)\n",
    "print(\"Dividend Yield:\", dividend_yield)\n",
    "print(\"Return on Equity (ROE):\", roe)\n",
    "print(\"Debt to Equity Ratio:\", de_ratio)\n",
    "\n",
    "# Get sector and industry data\n",
    "sector = nvidia.info['sector']\n",
    "industry = nvidia.info['industry']\n",
    "\n",
    "print(\"Sector:\", sector)\n",
    "print(\"Industry:\", industry)\n",
    "\n",
    "# Get sentiment analysis data (if available)\n",
    "# Example: news_sentiment = nvidia.info['sentiment']"
   ]
  },
  {
   "cell_type": "code",
   "execution_count": 28,
   "id": "dc6e0c21-e90f-42c7-a266-f8f34a81583d",
   "metadata": {},
   "outputs": [
    {
     "name": "stderr",
     "output_type": "stream",
     "text": [
      "[*********************100%%**********************]  1 of 1 completed\n",
      "[*********************100%%**********************]  1 of 1 completed\n"
     ]
    },
    {
     "name": "stdout",
     "output_type": "stream",
     "text": [
      "NVDA Volatility: 0.034160707503229505\n",
      "NVDA Average Trading Volume: 46418459.54274354\n"
     ]
    },
    {
     "name": "stderr",
     "output_type": "stream",
     "text": [
      "[*********************100%%**********************]  1 of 1 completed"
     ]
    },
    {
     "name": "stdout",
     "output_type": "stream",
     "text": [
      "             Adj Close    Short_MA     Long_MA  Signal\n",
      "Date                                                  \n",
      "2020-12-24  129.639221  132.987663  106.436422       1\n",
      "2020-12-28  128.703857  132.774977  106.779898       1\n",
      "2020-12-29  129.135345  132.602539  107.180896       1\n",
      "2020-12-30  131.155731  132.533096  107.565995       1\n",
      "2020-12-31  130.250320  132.416071  107.964569       1\n"
     ]
    },
    {
     "name": "stderr",
     "output_type": "stream",
     "text": [
      "\n"
     ]
    }
   ],
   "source": [
    "import pandas as pd\n",
    "import yfinance as yf\n",
    "\n",
    "# Example 1: Stock Price Volatility\n",
    "def calculate_volatility(symbol):\n",
    "    # Download historical data\n",
    "    stock_data = yf.download(symbol, start=\"2020-01-01\", end=\"2024-01-01\")\n",
    "    # Calculate daily returns\n",
    "    stock_data['Returns'] = stock_data['Adj Close'].pct_change()\n",
    "    # Calculate volatility (standard deviation of returns)\n",
    "    volatility = stock_data['Returns'].std()\n",
    "    return volatility\n",
    "\n",
    "# Example usage\n",
    "volatility = calculate_volatility(\"NVDA\")\n",
    "print(\"NVDA Volatility:\", volatility)\n",
    "\n",
    "# Example 2: Trading Volume\n",
    "def average_trading_volume(symbol):\n",
    "    # Download historical data\n",
    "    stock_data = yf.download(symbol, start=\"2020-01-01\", end=\"2024-01-01\")\n",
    "    # Calculate average trading volume\n",
    "    avg_volume = stock_data['Volume'].mean()\n",
    "    return avg_volume\n",
    "\n",
    "# Example usage\n",
    "avg_volume = average_trading_volume(\"NVDA\")\n",
    "print(\"NVDA Average Trading Volume:\", avg_volume)\n",
    "\n",
    "# Example 3: Moving Averages\n",
    "def moving_average_crossover(symbol, short_window=50, long_window=200):\n",
    "    # Download historical data\n",
    "    stock_data = yf.download(symbol, start=\"2020-01-01\", end=\"2021-01-01\")\n",
    "    # Calculate short and long moving averages\n",
    "    stock_data['Short_MA'] = stock_data['Adj Close'].rolling(window=short_window).mean()\n",
    "    stock_data['Long_MA'] = stock_data['Adj Close'].rolling(window=long_window).mean()\n",
    "    # Check for crossover\n",
    "    stock_data['Signal'] = 0\n",
    "    stock_data.loc[stock_data['Short_MA'] > stock_data['Long_MA'], 'Signal'] = 1\n",
    "    stock_data.loc[stock_data['Short_MA'] < stock_data['Long_MA'], 'Signal'] = -1\n",
    "    return stock_data\n",
    "\n",
    "# Example usage\n",
    "ma_crossover_data = moving_average_crossover(\"NVDA\")\n",
    "print(ma_crossover_data[['Adj Close', 'Short_MA', 'Long_MA', 'Signal']].tail())"
   ]
  },
  {
   "cell_type": "code",
   "execution_count": null,
   "id": "c8a9fac2-a96c-4a79-8ec6-2aaddda43a71",
   "metadata": {},
   "outputs": [],
   "source": [
    "# Example 4: Market Breadth Indicators\n",
    "def market_breadth(symbol):\n",
    "    # Download historical data of S&P 500 components\n",
    "    sp500_components = pd.read_csv('https://r2.datahub.io/clt989dvv0003l708h2jgh5ef/main/raw/data/constituents.csv')\n",
    "    symbols = sp500_components['Symbol'].tolist()\n",
    "    # Download historical data for each component\n",
    "    breadth_data = pd.DataFrame()\n",
    "    for sym in symbols:\n",
    "        stock_data = yf.download(sym, start=\"2020-01-01\", end=\"2021-01-01\")\n",
    "        breadth_data[sym] = stock_data['Adj Close']\n",
    "    # Calculate advancing and declining issues\n",
    "    breadth_data['Advancing'] = (breadth_data.iloc[-1] > breadth_data.iloc[0]).sum()\n",
    "    breadth_data['Declining'] = (breadth_data.iloc[-1] < breadth_data.iloc[0]).sum()\n",
    "    return breadth_data[['Advancing', 'Declining']]\n",
    "\n",
    "# Example usage\n",
    "market_breadth_data = market_breadth(\"^GSPC\")\n",
    "print(\"Market Breadth:\", market_breadth_data)"
   ]
  },
  {
   "cell_type": "markdown",
   "id": "2ffdbb69-fc42-489b-b59a-3df05c97ef9a",
   "metadata": {},
   "source": [
    "Question 7. [Exploratory] Time-driven strategy description around earnings releases\n",
    "\n",
    "Free text answer\n",
    "\n",
    "Explore earning dates for the whole month of April - e.g. using YahooFinance earnings calendar (https://finance.yahoo.com/calendar/earnings?from=2024-04-21&to=2024-04-27&day=2024-04-23). \n",
    "Compare with the previous closed earnings (e.g., recent dates with full data https://finance.yahoo.com/calendar/earnings?from=2024-04-07&to=2024-04-13&day=2024-04-08).\n",
    "\n",
    "Describe an analytical strategy/idea (you're not required to implement it) to select a subset companies of interest based on the future events data."
   ]
  }
 ],
 "metadata": {
  "kernelspec": {
   "display_name": "Python 3 (ipykernel)",
   "language": "python",
   "name": "python3"
  },
  "language_info": {
   "codemirror_mode": {
    "name": "ipython",
    "version": 3
   },
   "file_extension": ".py",
   "mimetype": "text/x-python",
   "name": "python",
   "nbconvert_exporter": "python",
   "pygments_lexer": "ipython3",
   "version": "3.10.11"
  }
 },
 "nbformat": 4,
 "nbformat_minor": 5
}
